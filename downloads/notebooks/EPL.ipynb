{
 "cells": [
  {
   "cell_type": "markdown",
   "id": "b5405032",
   "metadata": {},
   "source": [
    "The goal of this project is to predict the winner of a English Premier League match using machine learning. In a previous project, we web-scrapped the relevant data for EPL matches. The project can be found [here](https://apurba-saha.github.io/web-scrapping-data-for-english-premier-league-football-matches). The web-scrapped data was saved into a file named \"matches.csv\". We directly use this file to import the data and build a machine learning model to predict the winner of a match."
   ]
  },
  {
   "cell_type": "code",
   "execution_count": 2,
   "id": "546fa310",
   "metadata": {
    "executionInfo": {
     "elapsed": 1065,
     "status": "ok",
     "timestamp": 1671250841759,
     "user": {
      "displayName": "Apurba Saha",
      "userId": "15169800888831502649"
     },
     "user_tz": 420
    },
    "id": "79a35253"
   },
   "outputs": [],
   "source": [
    "import pandas as pd\n",
    "import numpy as np\n",
    "import matplotlib.pyplot as plt\n",
    "import seaborn as sns\n",
    "%matplotlib inline"
   ]
  },
  {
   "cell_type": "code",
   "execution_count": 3,
   "id": "54f25fe9",
   "metadata": {
    "executionInfo": {
     "elapsed": 357,
     "status": "ok",
     "timestamp": 1671250842113,
     "user": {
      "displayName": "Apurba Saha",
      "userId": "15169800888831502649"
     },
     "user_tz": 420
    },
    "id": "038970df"
   },
   "outputs": [],
   "source": [
    "match_df = pd.read_csv(\"matches.csv\", index_col=0)"
   ]
  },
  {
   "cell_type": "markdown",
   "id": "6b10b057",
   "metadata": {
    "id": "6bb754d7"
   },
   "source": [
    "# Exploratory Data Analysis"
   ]
  },
  {
   "cell_type": "code",
   "execution_count": 4,
   "id": "da69790b",
   "metadata": {
    "colab": {
     "base_uri": "https://localhost:8080/",
     "height": 235
    },
    "executionInfo": {
     "elapsed": 16,
     "status": "ok",
     "timestamp": 1671250842114,
     "user": {
      "displayName": "Apurba Saha",
      "userId": "15169800888831502649"
     },
     "user_tz": 420
    },
    "id": "913a5b2e",
    "outputId": "cd4d5ad7-8934-4137-e42f-fcd951d190f4"
   },
   "outputs": [
    {
     "data": {
      "text/html": [
       "\n",
       "  <div id=\"df-0de21cf7-b445-4ee7-adb5-1e18115423da\">\n",
       "    <div class=\"colab-df-container\">\n",
       "      <div>\n",
       "<style scoped>\n",
       "    .dataframe tbody tr th:only-of-type {\n",
       "        vertical-align: middle;\n",
       "    }\n",
       "\n",
       "    .dataframe tbody tr th {\n",
       "        vertical-align: top;\n",
       "    }\n",
       "\n",
       "    .dataframe thead th {\n",
       "        text-align: right;\n",
       "    }\n",
       "</style>\n",
       "<table border=\"1\" class=\"dataframe\">\n",
       "  <thead>\n",
       "    <tr style=\"text-align: right;\">\n",
       "      <th></th>\n",
       "      <th>date</th>\n",
       "      <th>time</th>\n",
       "      <th>comp</th>\n",
       "      <th>round</th>\n",
       "      <th>day</th>\n",
       "      <th>venue</th>\n",
       "      <th>result</th>\n",
       "      <th>gf</th>\n",
       "      <th>ga</th>\n",
       "      <th>opponent</th>\n",
       "      <th>...</th>\n",
       "      <th>match report</th>\n",
       "      <th>notes</th>\n",
       "      <th>sh</th>\n",
       "      <th>sot</th>\n",
       "      <th>dist</th>\n",
       "      <th>fk</th>\n",
       "      <th>pk</th>\n",
       "      <th>pkatt</th>\n",
       "      <th>season</th>\n",
       "      <th>team</th>\n",
       "    </tr>\n",
       "  </thead>\n",
       "  <tbody>\n",
       "    <tr>\n",
       "      <th>1</th>\n",
       "      <td>2021-08-15</td>\n",
       "      <td>16:30</td>\n",
       "      <td>Premier League</td>\n",
       "      <td>Matchweek 1</td>\n",
       "      <td>Sun</td>\n",
       "      <td>Away</td>\n",
       "      <td>L</td>\n",
       "      <td>0</td>\n",
       "      <td>1</td>\n",
       "      <td>Tottenham</td>\n",
       "      <td>...</td>\n",
       "      <td>Match Report</td>\n",
       "      <td>NaN</td>\n",
       "      <td>18.0</td>\n",
       "      <td>4.0</td>\n",
       "      <td>17.3</td>\n",
       "      <td>1.0</td>\n",
       "      <td>0.0</td>\n",
       "      <td>0.0</td>\n",
       "      <td>2022</td>\n",
       "      <td>Manchester City</td>\n",
       "    </tr>\n",
       "    <tr>\n",
       "      <th>2</th>\n",
       "      <td>2021-08-21</td>\n",
       "      <td>15:00</td>\n",
       "      <td>Premier League</td>\n",
       "      <td>Matchweek 2</td>\n",
       "      <td>Sat</td>\n",
       "      <td>Home</td>\n",
       "      <td>W</td>\n",
       "      <td>5</td>\n",
       "      <td>0</td>\n",
       "      <td>Norwich City</td>\n",
       "      <td>...</td>\n",
       "      <td>Match Report</td>\n",
       "      <td>NaN</td>\n",
       "      <td>16.0</td>\n",
       "      <td>4.0</td>\n",
       "      <td>18.5</td>\n",
       "      <td>1.0</td>\n",
       "      <td>0.0</td>\n",
       "      <td>0.0</td>\n",
       "      <td>2022</td>\n",
       "      <td>Manchester City</td>\n",
       "    </tr>\n",
       "    <tr>\n",
       "      <th>3</th>\n",
       "      <td>2021-08-28</td>\n",
       "      <td>12:30</td>\n",
       "      <td>Premier League</td>\n",
       "      <td>Matchweek 3</td>\n",
       "      <td>Sat</td>\n",
       "      <td>Home</td>\n",
       "      <td>W</td>\n",
       "      <td>5</td>\n",
       "      <td>0</td>\n",
       "      <td>Arsenal</td>\n",
       "      <td>...</td>\n",
       "      <td>Match Report</td>\n",
       "      <td>NaN</td>\n",
       "      <td>25.0</td>\n",
       "      <td>10.0</td>\n",
       "      <td>14.8</td>\n",
       "      <td>0.0</td>\n",
       "      <td>0.0</td>\n",
       "      <td>0.0</td>\n",
       "      <td>2022</td>\n",
       "      <td>Manchester City</td>\n",
       "    </tr>\n",
       "    <tr>\n",
       "      <th>4</th>\n",
       "      <td>2021-09-11</td>\n",
       "      <td>15:00</td>\n",
       "      <td>Premier League</td>\n",
       "      <td>Matchweek 4</td>\n",
       "      <td>Sat</td>\n",
       "      <td>Away</td>\n",
       "      <td>W</td>\n",
       "      <td>1</td>\n",
       "      <td>0</td>\n",
       "      <td>Leicester City</td>\n",
       "      <td>...</td>\n",
       "      <td>Match Report</td>\n",
       "      <td>NaN</td>\n",
       "      <td>25.0</td>\n",
       "      <td>8.0</td>\n",
       "      <td>14.3</td>\n",
       "      <td>0.0</td>\n",
       "      <td>0.0</td>\n",
       "      <td>0.0</td>\n",
       "      <td>2022</td>\n",
       "      <td>Manchester City</td>\n",
       "    </tr>\n",
       "    <tr>\n",
       "      <th>6</th>\n",
       "      <td>2021-09-18</td>\n",
       "      <td>15:00</td>\n",
       "      <td>Premier League</td>\n",
       "      <td>Matchweek 5</td>\n",
       "      <td>Sat</td>\n",
       "      <td>Home</td>\n",
       "      <td>D</td>\n",
       "      <td>0</td>\n",
       "      <td>0</td>\n",
       "      <td>Southampton</td>\n",
       "      <td>...</td>\n",
       "      <td>Match Report</td>\n",
       "      <td>NaN</td>\n",
       "      <td>16.0</td>\n",
       "      <td>1.0</td>\n",
       "      <td>16.4</td>\n",
       "      <td>1.0</td>\n",
       "      <td>0.0</td>\n",
       "      <td>0.0</td>\n",
       "      <td>2022</td>\n",
       "      <td>Manchester City</td>\n",
       "    </tr>\n",
       "  </tbody>\n",
       "</table>\n",
       "<p>5 rows × 27 columns</p>\n",
       "</div>\n",
       "      <button class=\"colab-df-convert\" onclick=\"convertToInteractive('df-0de21cf7-b445-4ee7-adb5-1e18115423da')\"\n",
       "              title=\"Convert this dataframe to an interactive table.\"\n",
       "              style=\"display:none;\">\n",
       "        \n",
       "  <svg xmlns=\"http://www.w3.org/2000/svg\" height=\"24px\"viewBox=\"0 0 24 24\"\n",
       "       width=\"24px\">\n",
       "    <path d=\"M0 0h24v24H0V0z\" fill=\"none\"/>\n",
       "    <path d=\"M18.56 5.44l.94 2.06.94-2.06 2.06-.94-2.06-.94-.94-2.06-.94 2.06-2.06.94zm-11 1L8.5 8.5l.94-2.06 2.06-.94-2.06-.94L8.5 2.5l-.94 2.06-2.06.94zm10 10l.94 2.06.94-2.06 2.06-.94-2.06-.94-.94-2.06-.94 2.06-2.06.94z\"/><path d=\"M17.41 7.96l-1.37-1.37c-.4-.4-.92-.59-1.43-.59-.52 0-1.04.2-1.43.59L10.3 9.45l-7.72 7.72c-.78.78-.78 2.05 0 2.83L4 21.41c.39.39.9.59 1.41.59.51 0 1.02-.2 1.41-.59l7.78-7.78 2.81-2.81c.8-.78.8-2.07 0-2.86zM5.41 20L4 18.59l7.72-7.72 1.47 1.35L5.41 20z\"/>\n",
       "  </svg>\n",
       "      </button>\n",
       "      \n",
       "  <style>\n",
       "    .colab-df-container {\n",
       "      display:flex;\n",
       "      flex-wrap:wrap;\n",
       "      gap: 12px;\n",
       "    }\n",
       "\n",
       "    .colab-df-convert {\n",
       "      background-color: #E8F0FE;\n",
       "      border: none;\n",
       "      border-radius: 50%;\n",
       "      cursor: pointer;\n",
       "      display: none;\n",
       "      fill: #1967D2;\n",
       "      height: 32px;\n",
       "      padding: 0 0 0 0;\n",
       "      width: 32px;\n",
       "    }\n",
       "\n",
       "    .colab-df-convert:hover {\n",
       "      background-color: #E2EBFA;\n",
       "      box-shadow: 0px 1px 2px rgba(60, 64, 67, 0.3), 0px 1px 3px 1px rgba(60, 64, 67, 0.15);\n",
       "      fill: #174EA6;\n",
       "    }\n",
       "\n",
       "    [theme=dark] .colab-df-convert {\n",
       "      background-color: #3B4455;\n",
       "      fill: #D2E3FC;\n",
       "    }\n",
       "\n",
       "    [theme=dark] .colab-df-convert:hover {\n",
       "      background-color: #434B5C;\n",
       "      box-shadow: 0px 1px 3px 1px rgba(0, 0, 0, 0.15);\n",
       "      filter: drop-shadow(0px 1px 2px rgba(0, 0, 0, 0.3));\n",
       "      fill: #FFFFFF;\n",
       "    }\n",
       "  </style>\n",
       "\n",
       "      <script>\n",
       "        const buttonEl =\n",
       "          document.querySelector('#df-0de21cf7-b445-4ee7-adb5-1e18115423da button.colab-df-convert');\n",
       "        buttonEl.style.display =\n",
       "          google.colab.kernel.accessAllowed ? 'block' : 'none';\n",
       "\n",
       "        async function convertToInteractive(key) {\n",
       "          const element = document.querySelector('#df-0de21cf7-b445-4ee7-adb5-1e18115423da');\n",
       "          const dataTable =\n",
       "            await google.colab.kernel.invokeFunction('convertToInteractive',\n",
       "                                                     [key], {});\n",
       "          if (!dataTable) return;\n",
       "\n",
       "          const docLinkHtml = 'Like what you see? Visit the ' +\n",
       "            '<a target=\"_blank\" href=https://colab.research.google.com/notebooks/data_table.ipynb>data table notebook</a>'\n",
       "            + ' to learn more about interactive tables.';\n",
       "          element.innerHTML = '';\n",
       "          dataTable['output_type'] = 'display_data';\n",
       "          await google.colab.output.renderOutput(dataTable, element);\n",
       "          const docLink = document.createElement('div');\n",
       "          docLink.innerHTML = docLinkHtml;\n",
       "          element.appendChild(docLink);\n",
       "        }\n",
       "      </script>\n",
       "    </div>\n",
       "  </div>\n",
       "  "
      ],
      "text/plain": [
       "         date   time            comp        round  day venue result  gf  ga  \\\n",
       "1  2021-08-15  16:30  Premier League  Matchweek 1  Sun  Away      L   0   1   \n",
       "2  2021-08-21  15:00  Premier League  Matchweek 2  Sat  Home      W   5   0   \n",
       "3  2021-08-28  12:30  Premier League  Matchweek 3  Sat  Home      W   5   0   \n",
       "4  2021-09-11  15:00  Premier League  Matchweek 4  Sat  Away      W   1   0   \n",
       "6  2021-09-18  15:00  Premier League  Matchweek 5  Sat  Home      D   0   0   \n",
       "\n",
       "         opponent  ...  match report  notes    sh   sot  dist   fk   pk pkatt  \\\n",
       "1       Tottenham  ...  Match Report    NaN  18.0   4.0  17.3  1.0  0.0   0.0   \n",
       "2    Norwich City  ...  Match Report    NaN  16.0   4.0  18.5  1.0  0.0   0.0   \n",
       "3         Arsenal  ...  Match Report    NaN  25.0  10.0  14.8  0.0  0.0   0.0   \n",
       "4  Leicester City  ...  Match Report    NaN  25.0   8.0  14.3  0.0  0.0   0.0   \n",
       "6     Southampton  ...  Match Report    NaN  16.0   1.0  16.4  1.0  0.0   0.0   \n",
       "\n",
       "   season             team  \n",
       "1    2022  Manchester City  \n",
       "2    2022  Manchester City  \n",
       "3    2022  Manchester City  \n",
       "4    2022  Manchester City  \n",
       "6    2022  Manchester City  \n",
       "\n",
       "[5 rows x 27 columns]"
      ]
     },
     "execution_count": 4,
     "metadata": {},
     "output_type": "execute_result"
    }
   ],
   "source": [
    "match_df.head()"
   ]
  },
  {
   "cell_type": "code",
   "execution_count": 5,
   "id": "5868a342",
   "metadata": {
    "colab": {
     "base_uri": "https://localhost:8080/",
     "height": 235
    },
    "executionInfo": {
     "elapsed": 15,
     "status": "ok",
     "timestamp": 1671250842114,
     "user": {
      "displayName": "Apurba Saha",
      "userId": "15169800888831502649"
     },
     "user_tz": 420
    },
    "id": "ce060f25",
    "outputId": "62a0dc49-bec0-4362-db65-55bf17452ca2"
   },
   "outputs": [
    {
     "data": {
      "text/html": [
       "\n",
       "  <div id=\"df-84cc185a-99ad-4734-8366-20d077e22e90\">\n",
       "    <div class=\"colab-df-container\">\n",
       "      <div>\n",
       "<style scoped>\n",
       "    .dataframe tbody tr th:only-of-type {\n",
       "        vertical-align: middle;\n",
       "    }\n",
       "\n",
       "    .dataframe tbody tr th {\n",
       "        vertical-align: top;\n",
       "    }\n",
       "\n",
       "    .dataframe thead th {\n",
       "        text-align: right;\n",
       "    }\n",
       "</style>\n",
       "<table border=\"1\" class=\"dataframe\">\n",
       "  <thead>\n",
       "    <tr style=\"text-align: right;\">\n",
       "      <th></th>\n",
       "      <th>date</th>\n",
       "      <th>time</th>\n",
       "      <th>comp</th>\n",
       "      <th>round</th>\n",
       "      <th>day</th>\n",
       "      <th>venue</th>\n",
       "      <th>result</th>\n",
       "      <th>gf</th>\n",
       "      <th>ga</th>\n",
       "      <th>opponent</th>\n",
       "      <th>...</th>\n",
       "      <th>match report</th>\n",
       "      <th>notes</th>\n",
       "      <th>sh</th>\n",
       "      <th>sot</th>\n",
       "      <th>dist</th>\n",
       "      <th>fk</th>\n",
       "      <th>pk</th>\n",
       "      <th>pkatt</th>\n",
       "      <th>season</th>\n",
       "      <th>team</th>\n",
       "    </tr>\n",
       "  </thead>\n",
       "  <tbody>\n",
       "    <tr>\n",
       "      <th>36</th>\n",
       "      <td>2018-04-14</td>\n",
       "      <td>15:00</td>\n",
       "      <td>Premier League</td>\n",
       "      <td>Matchweek 34</td>\n",
       "      <td>Sat</td>\n",
       "      <td>Away</td>\n",
       "      <td>L</td>\n",
       "      <td>0</td>\n",
       "      <td>1</td>\n",
       "      <td>Huddersfield</td>\n",
       "      <td>...</td>\n",
       "      <td>Match Report</td>\n",
       "      <td>NaN</td>\n",
       "      <td>4.0</td>\n",
       "      <td>2.0</td>\n",
       "      <td>18.9</td>\n",
       "      <td>NaN</td>\n",
       "      <td>0.0</td>\n",
       "      <td>0.0</td>\n",
       "      <td>2018</td>\n",
       "      <td>Norwich City</td>\n",
       "    </tr>\n",
       "    <tr>\n",
       "      <th>37</th>\n",
       "      <td>2018-04-21</td>\n",
       "      <td>15:00</td>\n",
       "      <td>Premier League</td>\n",
       "      <td>Matchweek 35</td>\n",
       "      <td>Sat</td>\n",
       "      <td>Home</td>\n",
       "      <td>D</td>\n",
       "      <td>0</td>\n",
       "      <td>0</td>\n",
       "      <td>Crystal Palace</td>\n",
       "      <td>...</td>\n",
       "      <td>Match Report</td>\n",
       "      <td>NaN</td>\n",
       "      <td>14.0</td>\n",
       "      <td>4.0</td>\n",
       "      <td>17.5</td>\n",
       "      <td>NaN</td>\n",
       "      <td>0.0</td>\n",
       "      <td>0.0</td>\n",
       "      <td>2018</td>\n",
       "      <td>Norwich City</td>\n",
       "    </tr>\n",
       "    <tr>\n",
       "      <th>38</th>\n",
       "      <td>2018-04-30</td>\n",
       "      <td>20:00</td>\n",
       "      <td>Premier League</td>\n",
       "      <td>Matchweek 36</td>\n",
       "      <td>Mon</td>\n",
       "      <td>Away</td>\n",
       "      <td>L</td>\n",
       "      <td>0</td>\n",
       "      <td>2</td>\n",
       "      <td>Tottenham</td>\n",
       "      <td>...</td>\n",
       "      <td>Match Report</td>\n",
       "      <td>NaN</td>\n",
       "      <td>13.0</td>\n",
       "      <td>5.0</td>\n",
       "      <td>15.2</td>\n",
       "      <td>NaN</td>\n",
       "      <td>0.0</td>\n",
       "      <td>0.0</td>\n",
       "      <td>2018</td>\n",
       "      <td>Norwich City</td>\n",
       "    </tr>\n",
       "    <tr>\n",
       "      <th>39</th>\n",
       "      <td>2018-05-05</td>\n",
       "      <td>15:00</td>\n",
       "      <td>Premier League</td>\n",
       "      <td>Matchweek 37</td>\n",
       "      <td>Sat</td>\n",
       "      <td>Home</td>\n",
       "      <td>W</td>\n",
       "      <td>2</td>\n",
       "      <td>1</td>\n",
       "      <td>Newcastle Utd</td>\n",
       "      <td>...</td>\n",
       "      <td>Match Report</td>\n",
       "      <td>NaN</td>\n",
       "      <td>10.0</td>\n",
       "      <td>7.0</td>\n",
       "      <td>15.7</td>\n",
       "      <td>NaN</td>\n",
       "      <td>0.0</td>\n",
       "      <td>1.0</td>\n",
       "      <td>2018</td>\n",
       "      <td>Norwich City</td>\n",
       "    </tr>\n",
       "    <tr>\n",
       "      <th>40</th>\n",
       "      <td>2018-05-13</td>\n",
       "      <td>15:00</td>\n",
       "      <td>Premier League</td>\n",
       "      <td>Matchweek 38</td>\n",
       "      <td>Sun</td>\n",
       "      <td>Away</td>\n",
       "      <td>L</td>\n",
       "      <td>0</td>\n",
       "      <td>1</td>\n",
       "      <td>Manchester Utd</td>\n",
       "      <td>...</td>\n",
       "      <td>Match Report</td>\n",
       "      <td>NaN</td>\n",
       "      <td>7.0</td>\n",
       "      <td>3.0</td>\n",
       "      <td>16.3</td>\n",
       "      <td>NaN</td>\n",
       "      <td>0.0</td>\n",
       "      <td>0.0</td>\n",
       "      <td>2018</td>\n",
       "      <td>Norwich City</td>\n",
       "    </tr>\n",
       "  </tbody>\n",
       "</table>\n",
       "<p>5 rows × 27 columns</p>\n",
       "</div>\n",
       "      <button class=\"colab-df-convert\" onclick=\"convertToInteractive('df-84cc185a-99ad-4734-8366-20d077e22e90')\"\n",
       "              title=\"Convert this dataframe to an interactive table.\"\n",
       "              style=\"display:none;\">\n",
       "        \n",
       "  <svg xmlns=\"http://www.w3.org/2000/svg\" height=\"24px\"viewBox=\"0 0 24 24\"\n",
       "       width=\"24px\">\n",
       "    <path d=\"M0 0h24v24H0V0z\" fill=\"none\"/>\n",
       "    <path d=\"M18.56 5.44l.94 2.06.94-2.06 2.06-.94-2.06-.94-.94-2.06-.94 2.06-2.06.94zm-11 1L8.5 8.5l.94-2.06 2.06-.94-2.06-.94L8.5 2.5l-.94 2.06-2.06.94zm10 10l.94 2.06.94-2.06 2.06-.94-2.06-.94-.94-2.06-.94 2.06-2.06.94z\"/><path d=\"M17.41 7.96l-1.37-1.37c-.4-.4-.92-.59-1.43-.59-.52 0-1.04.2-1.43.59L10.3 9.45l-7.72 7.72c-.78.78-.78 2.05 0 2.83L4 21.41c.39.39.9.59 1.41.59.51 0 1.02-.2 1.41-.59l7.78-7.78 2.81-2.81c.8-.78.8-2.07 0-2.86zM5.41 20L4 18.59l7.72-7.72 1.47 1.35L5.41 20z\"/>\n",
       "  </svg>\n",
       "      </button>\n",
       "      \n",
       "  <style>\n",
       "    .colab-df-container {\n",
       "      display:flex;\n",
       "      flex-wrap:wrap;\n",
       "      gap: 12px;\n",
       "    }\n",
       "\n",
       "    .colab-df-convert {\n",
       "      background-color: #E8F0FE;\n",
       "      border: none;\n",
       "      border-radius: 50%;\n",
       "      cursor: pointer;\n",
       "      display: none;\n",
       "      fill: #1967D2;\n",
       "      height: 32px;\n",
       "      padding: 0 0 0 0;\n",
       "      width: 32px;\n",
       "    }\n",
       "\n",
       "    .colab-df-convert:hover {\n",
       "      background-color: #E2EBFA;\n",
       "      box-shadow: 0px 1px 2px rgba(60, 64, 67, 0.3), 0px 1px 3px 1px rgba(60, 64, 67, 0.15);\n",
       "      fill: #174EA6;\n",
       "    }\n",
       "\n",
       "    [theme=dark] .colab-df-convert {\n",
       "      background-color: #3B4455;\n",
       "      fill: #D2E3FC;\n",
       "    }\n",
       "\n",
       "    [theme=dark] .colab-df-convert:hover {\n",
       "      background-color: #434B5C;\n",
       "      box-shadow: 0px 1px 3px 1px rgba(0, 0, 0, 0.15);\n",
       "      filter: drop-shadow(0px 1px 2px rgba(0, 0, 0, 0.3));\n",
       "      fill: #FFFFFF;\n",
       "    }\n",
       "  </style>\n",
       "\n",
       "      <script>\n",
       "        const buttonEl =\n",
       "          document.querySelector('#df-84cc185a-99ad-4734-8366-20d077e22e90 button.colab-df-convert');\n",
       "        buttonEl.style.display =\n",
       "          google.colab.kernel.accessAllowed ? 'block' : 'none';\n",
       "\n",
       "        async function convertToInteractive(key) {\n",
       "          const element = document.querySelector('#df-84cc185a-99ad-4734-8366-20d077e22e90');\n",
       "          const dataTable =\n",
       "            await google.colab.kernel.invokeFunction('convertToInteractive',\n",
       "                                                     [key], {});\n",
       "          if (!dataTable) return;\n",
       "\n",
       "          const docLinkHtml = 'Like what you see? Visit the ' +\n",
       "            '<a target=\"_blank\" href=https://colab.research.google.com/notebooks/data_table.ipynb>data table notebook</a>'\n",
       "            + ' to learn more about interactive tables.';\n",
       "          element.innerHTML = '';\n",
       "          dataTable['output_type'] = 'display_data';\n",
       "          await google.colab.output.renderOutput(dataTable, element);\n",
       "          const docLink = document.createElement('div');\n",
       "          docLink.innerHTML = docLinkHtml;\n",
       "          element.appendChild(docLink);\n",
       "        }\n",
       "      </script>\n",
       "    </div>\n",
       "  </div>\n",
       "  "
      ],
      "text/plain": [
       "          date   time            comp         round  day venue result  gf  ga  \\\n",
       "36  2018-04-14  15:00  Premier League  Matchweek 34  Sat  Away      L   0   1   \n",
       "37  2018-04-21  15:00  Premier League  Matchweek 35  Sat  Home      D   0   0   \n",
       "38  2018-04-30  20:00  Premier League  Matchweek 36  Mon  Away      L   0   2   \n",
       "39  2018-05-05  15:00  Premier League  Matchweek 37  Sat  Home      W   2   1   \n",
       "40  2018-05-13  15:00  Premier League  Matchweek 38  Sun  Away      L   0   1   \n",
       "\n",
       "          opponent  ...  match report  notes    sh  sot  dist  fk   pk pkatt  \\\n",
       "36    Huddersfield  ...  Match Report    NaN   4.0  2.0  18.9 NaN  0.0   0.0   \n",
       "37  Crystal Palace  ...  Match Report    NaN  14.0  4.0  17.5 NaN  0.0   0.0   \n",
       "38       Tottenham  ...  Match Report    NaN  13.0  5.0  15.2 NaN  0.0   0.0   \n",
       "39   Newcastle Utd  ...  Match Report    NaN  10.0  7.0  15.7 NaN  0.0   1.0   \n",
       "40  Manchester Utd  ...  Match Report    NaN   7.0  3.0  16.3 NaN  0.0   0.0   \n",
       "\n",
       "    season          team  \n",
       "36    2018  Norwich City  \n",
       "37    2018  Norwich City  \n",
       "38    2018  Norwich City  \n",
       "39    2018  Norwich City  \n",
       "40    2018  Norwich City  \n",
       "\n",
       "[5 rows x 27 columns]"
      ]
     },
     "execution_count": 5,
     "metadata": {},
     "output_type": "execute_result"
    }
   ],
   "source": [
    "match_df.tail()"
   ]
  },
  {
   "cell_type": "code",
   "execution_count": 6,
   "id": "802d1906",
   "metadata": {
    "colab": {
     "base_uri": "https://localhost:8080/"
    },
    "executionInfo": {
     "elapsed": 14,
     "status": "ok",
     "timestamp": 1671250842114,
     "user": {
      "displayName": "Apurba Saha",
      "userId": "15169800888831502649"
     },
     "user_tz": 420
    },
    "id": "dbcfbb69",
    "outputId": "5ddfcabc-ebc6-47cd-dff6-433906e6e255"
   },
   "outputs": [
    {
     "data": {
      "text/plain": [
       "(3458, 27)"
      ]
     },
     "execution_count": 6,
     "metadata": {},
     "output_type": "execute_result"
    }
   ],
   "source": [
    "match_df.shape"
   ]
  },
  {
   "cell_type": "markdown",
   "id": "f0b34fe8",
   "metadata": {
    "id": "1dac8045"
   },
   "source": [
    "As we can notice, the index labels are not correct. Currently, it represents the match number of each season. We are not interested in that. So, we reset the index and drop the exiting column 0 which was infered as index column while reading data."
   ]
  },
  {
   "cell_type": "code",
   "execution_count": 7,
   "id": "158b20d4",
   "metadata": {
    "executionInfo": {
     "elapsed": 28,
     "status": "ok",
     "timestamp": 1671250842337,
     "user": {
      "displayName": "Apurba Saha",
      "userId": "15169800888831502649"
     },
     "user_tz": 420
    },
    "id": "7cc07682"
   },
   "outputs": [],
   "source": [
    "match_df.reset_index(drop=True, inplace=True)"
   ]
  },
  {
   "cell_type": "code",
   "execution_count": 8,
   "id": "812256e3",
   "metadata": {
    "colab": {
     "base_uri": "https://localhost:8080/",
     "height": 235
    },
    "executionInfo": {
     "elapsed": 27,
     "status": "ok",
     "timestamp": 1671250842337,
     "user": {
      "displayName": "Apurba Saha",
      "userId": "15169800888831502649"
     },
     "user_tz": 420
    },
    "id": "7597bd9a",
    "outputId": "1833b876-a72f-43e9-c1b7-5797380b5e51"
   },
   "outputs": [
    {
     "data": {
      "text/html": [
       "\n",
       "  <div id=\"df-66d68ce8-ba4a-4e67-a642-fba41490edca\">\n",
       "    <div class=\"colab-df-container\">\n",
       "      <div>\n",
       "<style scoped>\n",
       "    .dataframe tbody tr th:only-of-type {\n",
       "        vertical-align: middle;\n",
       "    }\n",
       "\n",
       "    .dataframe tbody tr th {\n",
       "        vertical-align: top;\n",
       "    }\n",
       "\n",
       "    .dataframe thead th {\n",
       "        text-align: right;\n",
       "    }\n",
       "</style>\n",
       "<table border=\"1\" class=\"dataframe\">\n",
       "  <thead>\n",
       "    <tr style=\"text-align: right;\">\n",
       "      <th></th>\n",
       "      <th>date</th>\n",
       "      <th>time</th>\n",
       "      <th>comp</th>\n",
       "      <th>round</th>\n",
       "      <th>day</th>\n",
       "      <th>venue</th>\n",
       "      <th>result</th>\n",
       "      <th>gf</th>\n",
       "      <th>ga</th>\n",
       "      <th>opponent</th>\n",
       "      <th>...</th>\n",
       "      <th>match report</th>\n",
       "      <th>notes</th>\n",
       "      <th>sh</th>\n",
       "      <th>sot</th>\n",
       "      <th>dist</th>\n",
       "      <th>fk</th>\n",
       "      <th>pk</th>\n",
       "      <th>pkatt</th>\n",
       "      <th>season</th>\n",
       "      <th>team</th>\n",
       "    </tr>\n",
       "  </thead>\n",
       "  <tbody>\n",
       "    <tr>\n",
       "      <th>0</th>\n",
       "      <td>2021-08-15</td>\n",
       "      <td>16:30</td>\n",
       "      <td>Premier League</td>\n",
       "      <td>Matchweek 1</td>\n",
       "      <td>Sun</td>\n",
       "      <td>Away</td>\n",
       "      <td>L</td>\n",
       "      <td>0</td>\n",
       "      <td>1</td>\n",
       "      <td>Tottenham</td>\n",
       "      <td>...</td>\n",
       "      <td>Match Report</td>\n",
       "      <td>NaN</td>\n",
       "      <td>18.0</td>\n",
       "      <td>4.0</td>\n",
       "      <td>17.3</td>\n",
       "      <td>1.0</td>\n",
       "      <td>0.0</td>\n",
       "      <td>0.0</td>\n",
       "      <td>2022</td>\n",
       "      <td>Manchester City</td>\n",
       "    </tr>\n",
       "    <tr>\n",
       "      <th>1</th>\n",
       "      <td>2021-08-21</td>\n",
       "      <td>15:00</td>\n",
       "      <td>Premier League</td>\n",
       "      <td>Matchweek 2</td>\n",
       "      <td>Sat</td>\n",
       "      <td>Home</td>\n",
       "      <td>W</td>\n",
       "      <td>5</td>\n",
       "      <td>0</td>\n",
       "      <td>Norwich City</td>\n",
       "      <td>...</td>\n",
       "      <td>Match Report</td>\n",
       "      <td>NaN</td>\n",
       "      <td>16.0</td>\n",
       "      <td>4.0</td>\n",
       "      <td>18.5</td>\n",
       "      <td>1.0</td>\n",
       "      <td>0.0</td>\n",
       "      <td>0.0</td>\n",
       "      <td>2022</td>\n",
       "      <td>Manchester City</td>\n",
       "    </tr>\n",
       "    <tr>\n",
       "      <th>2</th>\n",
       "      <td>2021-08-28</td>\n",
       "      <td>12:30</td>\n",
       "      <td>Premier League</td>\n",
       "      <td>Matchweek 3</td>\n",
       "      <td>Sat</td>\n",
       "      <td>Home</td>\n",
       "      <td>W</td>\n",
       "      <td>5</td>\n",
       "      <td>0</td>\n",
       "      <td>Arsenal</td>\n",
       "      <td>...</td>\n",
       "      <td>Match Report</td>\n",
       "      <td>NaN</td>\n",
       "      <td>25.0</td>\n",
       "      <td>10.0</td>\n",
       "      <td>14.8</td>\n",
       "      <td>0.0</td>\n",
       "      <td>0.0</td>\n",
       "      <td>0.0</td>\n",
       "      <td>2022</td>\n",
       "      <td>Manchester City</td>\n",
       "    </tr>\n",
       "    <tr>\n",
       "      <th>3</th>\n",
       "      <td>2021-09-11</td>\n",
       "      <td>15:00</td>\n",
       "      <td>Premier League</td>\n",
       "      <td>Matchweek 4</td>\n",
       "      <td>Sat</td>\n",
       "      <td>Away</td>\n",
       "      <td>W</td>\n",
       "      <td>1</td>\n",
       "      <td>0</td>\n",
       "      <td>Leicester City</td>\n",
       "      <td>...</td>\n",
       "      <td>Match Report</td>\n",
       "      <td>NaN</td>\n",
       "      <td>25.0</td>\n",
       "      <td>8.0</td>\n",
       "      <td>14.3</td>\n",
       "      <td>0.0</td>\n",
       "      <td>0.0</td>\n",
       "      <td>0.0</td>\n",
       "      <td>2022</td>\n",
       "      <td>Manchester City</td>\n",
       "    </tr>\n",
       "    <tr>\n",
       "      <th>4</th>\n",
       "      <td>2021-09-18</td>\n",
       "      <td>15:00</td>\n",
       "      <td>Premier League</td>\n",
       "      <td>Matchweek 5</td>\n",
       "      <td>Sat</td>\n",
       "      <td>Home</td>\n",
       "      <td>D</td>\n",
       "      <td>0</td>\n",
       "      <td>0</td>\n",
       "      <td>Southampton</td>\n",
       "      <td>...</td>\n",
       "      <td>Match Report</td>\n",
       "      <td>NaN</td>\n",
       "      <td>16.0</td>\n",
       "      <td>1.0</td>\n",
       "      <td>16.4</td>\n",
       "      <td>1.0</td>\n",
       "      <td>0.0</td>\n",
       "      <td>0.0</td>\n",
       "      <td>2022</td>\n",
       "      <td>Manchester City</td>\n",
       "    </tr>\n",
       "  </tbody>\n",
       "</table>\n",
       "<p>5 rows × 27 columns</p>\n",
       "</div>\n",
       "      <button class=\"colab-df-convert\" onclick=\"convertToInteractive('df-66d68ce8-ba4a-4e67-a642-fba41490edca')\"\n",
       "              title=\"Convert this dataframe to an interactive table.\"\n",
       "              style=\"display:none;\">\n",
       "        \n",
       "  <svg xmlns=\"http://www.w3.org/2000/svg\" height=\"24px\"viewBox=\"0 0 24 24\"\n",
       "       width=\"24px\">\n",
       "    <path d=\"M0 0h24v24H0V0z\" fill=\"none\"/>\n",
       "    <path d=\"M18.56 5.44l.94 2.06.94-2.06 2.06-.94-2.06-.94-.94-2.06-.94 2.06-2.06.94zm-11 1L8.5 8.5l.94-2.06 2.06-.94-2.06-.94L8.5 2.5l-.94 2.06-2.06.94zm10 10l.94 2.06.94-2.06 2.06-.94-2.06-.94-.94-2.06-.94 2.06-2.06.94z\"/><path d=\"M17.41 7.96l-1.37-1.37c-.4-.4-.92-.59-1.43-.59-.52 0-1.04.2-1.43.59L10.3 9.45l-7.72 7.72c-.78.78-.78 2.05 0 2.83L4 21.41c.39.39.9.59 1.41.59.51 0 1.02-.2 1.41-.59l7.78-7.78 2.81-2.81c.8-.78.8-2.07 0-2.86zM5.41 20L4 18.59l7.72-7.72 1.47 1.35L5.41 20z\"/>\n",
       "  </svg>\n",
       "      </button>\n",
       "      \n",
       "  <style>\n",
       "    .colab-df-container {\n",
       "      display:flex;\n",
       "      flex-wrap:wrap;\n",
       "      gap: 12px;\n",
       "    }\n",
       "\n",
       "    .colab-df-convert {\n",
       "      background-color: #E8F0FE;\n",
       "      border: none;\n",
       "      border-radius: 50%;\n",
       "      cursor: pointer;\n",
       "      display: none;\n",
       "      fill: #1967D2;\n",
       "      height: 32px;\n",
       "      padding: 0 0 0 0;\n",
       "      width: 32px;\n",
       "    }\n",
       "\n",
       "    .colab-df-convert:hover {\n",
       "      background-color: #E2EBFA;\n",
       "      box-shadow: 0px 1px 2px rgba(60, 64, 67, 0.3), 0px 1px 3px 1px rgba(60, 64, 67, 0.15);\n",
       "      fill: #174EA6;\n",
       "    }\n",
       "\n",
       "    [theme=dark] .colab-df-convert {\n",
       "      background-color: #3B4455;\n",
       "      fill: #D2E3FC;\n",
       "    }\n",
       "\n",
       "    [theme=dark] .colab-df-convert:hover {\n",
       "      background-color: #434B5C;\n",
       "      box-shadow: 0px 1px 3px 1px rgba(0, 0, 0, 0.15);\n",
       "      filter: drop-shadow(0px 1px 2px rgba(0, 0, 0, 0.3));\n",
       "      fill: #FFFFFF;\n",
       "    }\n",
       "  </style>\n",
       "\n",
       "      <script>\n",
       "        const buttonEl =\n",
       "          document.querySelector('#df-66d68ce8-ba4a-4e67-a642-fba41490edca button.colab-df-convert');\n",
       "        buttonEl.style.display =\n",
       "          google.colab.kernel.accessAllowed ? 'block' : 'none';\n",
       "\n",
       "        async function convertToInteractive(key) {\n",
       "          const element = document.querySelector('#df-66d68ce8-ba4a-4e67-a642-fba41490edca');\n",
       "          const dataTable =\n",
       "            await google.colab.kernel.invokeFunction('convertToInteractive',\n",
       "                                                     [key], {});\n",
       "          if (!dataTable) return;\n",
       "\n",
       "          const docLinkHtml = 'Like what you see? Visit the ' +\n",
       "            '<a target=\"_blank\" href=https://colab.research.google.com/notebooks/data_table.ipynb>data table notebook</a>'\n",
       "            + ' to learn more about interactive tables.';\n",
       "          element.innerHTML = '';\n",
       "          dataTable['output_type'] = 'display_data';\n",
       "          await google.colab.output.renderOutput(dataTable, element);\n",
       "          const docLink = document.createElement('div');\n",
       "          docLink.innerHTML = docLinkHtml;\n",
       "          element.appendChild(docLink);\n",
       "        }\n",
       "      </script>\n",
       "    </div>\n",
       "  </div>\n",
       "  "
      ],
      "text/plain": [
       "         date   time            comp        round  day venue result  gf  ga  \\\n",
       "0  2021-08-15  16:30  Premier League  Matchweek 1  Sun  Away      L   0   1   \n",
       "1  2021-08-21  15:00  Premier League  Matchweek 2  Sat  Home      W   5   0   \n",
       "2  2021-08-28  12:30  Premier League  Matchweek 3  Sat  Home      W   5   0   \n",
       "3  2021-09-11  15:00  Premier League  Matchweek 4  Sat  Away      W   1   0   \n",
       "4  2021-09-18  15:00  Premier League  Matchweek 5  Sat  Home      D   0   0   \n",
       "\n",
       "         opponent  ...  match report  notes    sh   sot  dist   fk   pk pkatt  \\\n",
       "0       Tottenham  ...  Match Report    NaN  18.0   4.0  17.3  1.0  0.0   0.0   \n",
       "1    Norwich City  ...  Match Report    NaN  16.0   4.0  18.5  1.0  0.0   0.0   \n",
       "2         Arsenal  ...  Match Report    NaN  25.0  10.0  14.8  0.0  0.0   0.0   \n",
       "3  Leicester City  ...  Match Report    NaN  25.0   8.0  14.3  0.0  0.0   0.0   \n",
       "4     Southampton  ...  Match Report    NaN  16.0   1.0  16.4  1.0  0.0   0.0   \n",
       "\n",
       "   season             team  \n",
       "0    2022  Manchester City  \n",
       "1    2022  Manchester City  \n",
       "2    2022  Manchester City  \n",
       "3    2022  Manchester City  \n",
       "4    2022  Manchester City  \n",
       "\n",
       "[5 rows x 27 columns]"
      ]
     },
     "execution_count": 8,
     "metadata": {},
     "output_type": "execute_result"
    }
   ],
   "source": [
    "match_df.head()"
   ]
  },
  {
   "cell_type": "code",
   "execution_count": 9,
   "id": "2ef271ad",
   "metadata": {
    "colab": {
     "base_uri": "https://localhost:8080/",
     "height": 235
    },
    "executionInfo": {
     "elapsed": 27,
     "status": "ok",
     "timestamp": 1671250842338,
     "user": {
      "displayName": "Apurba Saha",
      "userId": "15169800888831502649"
     },
     "user_tz": 420
    },
    "id": "a6f814ab",
    "outputId": "83633387-644b-4730-dcda-3ba7935e1bb2",
    "scrolled": true
   },
   "outputs": [
    {
     "data": {
      "text/html": [
       "\n",
       "  <div id=\"df-d750a14f-0cbe-401e-8059-45e96f10d589\">\n",
       "    <div class=\"colab-df-container\">\n",
       "      <div>\n",
       "<style scoped>\n",
       "    .dataframe tbody tr th:only-of-type {\n",
       "        vertical-align: middle;\n",
       "    }\n",
       "\n",
       "    .dataframe tbody tr th {\n",
       "        vertical-align: top;\n",
       "    }\n",
       "\n",
       "    .dataframe thead th {\n",
       "        text-align: right;\n",
       "    }\n",
       "</style>\n",
       "<table border=\"1\" class=\"dataframe\">\n",
       "  <thead>\n",
       "    <tr style=\"text-align: right;\">\n",
       "      <th></th>\n",
       "      <th>date</th>\n",
       "      <th>time</th>\n",
       "      <th>comp</th>\n",
       "      <th>round</th>\n",
       "      <th>day</th>\n",
       "      <th>venue</th>\n",
       "      <th>result</th>\n",
       "      <th>gf</th>\n",
       "      <th>ga</th>\n",
       "      <th>opponent</th>\n",
       "      <th>...</th>\n",
       "      <th>match report</th>\n",
       "      <th>notes</th>\n",
       "      <th>sh</th>\n",
       "      <th>sot</th>\n",
       "      <th>dist</th>\n",
       "      <th>fk</th>\n",
       "      <th>pk</th>\n",
       "      <th>pkatt</th>\n",
       "      <th>season</th>\n",
       "      <th>team</th>\n",
       "    </tr>\n",
       "  </thead>\n",
       "  <tbody>\n",
       "    <tr>\n",
       "      <th>3453</th>\n",
       "      <td>2018-04-14</td>\n",
       "      <td>15:00</td>\n",
       "      <td>Premier League</td>\n",
       "      <td>Matchweek 34</td>\n",
       "      <td>Sat</td>\n",
       "      <td>Away</td>\n",
       "      <td>L</td>\n",
       "      <td>0</td>\n",
       "      <td>1</td>\n",
       "      <td>Huddersfield</td>\n",
       "      <td>...</td>\n",
       "      <td>Match Report</td>\n",
       "      <td>NaN</td>\n",
       "      <td>4.0</td>\n",
       "      <td>2.0</td>\n",
       "      <td>18.9</td>\n",
       "      <td>NaN</td>\n",
       "      <td>0.0</td>\n",
       "      <td>0.0</td>\n",
       "      <td>2018</td>\n",
       "      <td>Norwich City</td>\n",
       "    </tr>\n",
       "    <tr>\n",
       "      <th>3454</th>\n",
       "      <td>2018-04-21</td>\n",
       "      <td>15:00</td>\n",
       "      <td>Premier League</td>\n",
       "      <td>Matchweek 35</td>\n",
       "      <td>Sat</td>\n",
       "      <td>Home</td>\n",
       "      <td>D</td>\n",
       "      <td>0</td>\n",
       "      <td>0</td>\n",
       "      <td>Crystal Palace</td>\n",
       "      <td>...</td>\n",
       "      <td>Match Report</td>\n",
       "      <td>NaN</td>\n",
       "      <td>14.0</td>\n",
       "      <td>4.0</td>\n",
       "      <td>17.5</td>\n",
       "      <td>NaN</td>\n",
       "      <td>0.0</td>\n",
       "      <td>0.0</td>\n",
       "      <td>2018</td>\n",
       "      <td>Norwich City</td>\n",
       "    </tr>\n",
       "    <tr>\n",
       "      <th>3455</th>\n",
       "      <td>2018-04-30</td>\n",
       "      <td>20:00</td>\n",
       "      <td>Premier League</td>\n",
       "      <td>Matchweek 36</td>\n",
       "      <td>Mon</td>\n",
       "      <td>Away</td>\n",
       "      <td>L</td>\n",
       "      <td>0</td>\n",
       "      <td>2</td>\n",
       "      <td>Tottenham</td>\n",
       "      <td>...</td>\n",
       "      <td>Match Report</td>\n",
       "      <td>NaN</td>\n",
       "      <td>13.0</td>\n",
       "      <td>5.0</td>\n",
       "      <td>15.2</td>\n",
       "      <td>NaN</td>\n",
       "      <td>0.0</td>\n",
       "      <td>0.0</td>\n",
       "      <td>2018</td>\n",
       "      <td>Norwich City</td>\n",
       "    </tr>\n",
       "    <tr>\n",
       "      <th>3456</th>\n",
       "      <td>2018-05-05</td>\n",
       "      <td>15:00</td>\n",
       "      <td>Premier League</td>\n",
       "      <td>Matchweek 37</td>\n",
       "      <td>Sat</td>\n",
       "      <td>Home</td>\n",
       "      <td>W</td>\n",
       "      <td>2</td>\n",
       "      <td>1</td>\n",
       "      <td>Newcastle Utd</td>\n",
       "      <td>...</td>\n",
       "      <td>Match Report</td>\n",
       "      <td>NaN</td>\n",
       "      <td>10.0</td>\n",
       "      <td>7.0</td>\n",
       "      <td>15.7</td>\n",
       "      <td>NaN</td>\n",
       "      <td>0.0</td>\n",
       "      <td>1.0</td>\n",
       "      <td>2018</td>\n",
       "      <td>Norwich City</td>\n",
       "    </tr>\n",
       "    <tr>\n",
       "      <th>3457</th>\n",
       "      <td>2018-05-13</td>\n",
       "      <td>15:00</td>\n",
       "      <td>Premier League</td>\n",
       "      <td>Matchweek 38</td>\n",
       "      <td>Sun</td>\n",
       "      <td>Away</td>\n",
       "      <td>L</td>\n",
       "      <td>0</td>\n",
       "      <td>1</td>\n",
       "      <td>Manchester Utd</td>\n",
       "      <td>...</td>\n",
       "      <td>Match Report</td>\n",
       "      <td>NaN</td>\n",
       "      <td>7.0</td>\n",
       "      <td>3.0</td>\n",
       "      <td>16.3</td>\n",
       "      <td>NaN</td>\n",
       "      <td>0.0</td>\n",
       "      <td>0.0</td>\n",
       "      <td>2018</td>\n",
       "      <td>Norwich City</td>\n",
       "    </tr>\n",
       "  </tbody>\n",
       "</table>\n",
       "<p>5 rows × 27 columns</p>\n",
       "</div>\n",
       "      <button class=\"colab-df-convert\" onclick=\"convertToInteractive('df-d750a14f-0cbe-401e-8059-45e96f10d589')\"\n",
       "              title=\"Convert this dataframe to an interactive table.\"\n",
       "              style=\"display:none;\">\n",
       "        \n",
       "  <svg xmlns=\"http://www.w3.org/2000/svg\" height=\"24px\"viewBox=\"0 0 24 24\"\n",
       "       width=\"24px\">\n",
       "    <path d=\"M0 0h24v24H0V0z\" fill=\"none\"/>\n",
       "    <path d=\"M18.56 5.44l.94 2.06.94-2.06 2.06-.94-2.06-.94-.94-2.06-.94 2.06-2.06.94zm-11 1L8.5 8.5l.94-2.06 2.06-.94-2.06-.94L8.5 2.5l-.94 2.06-2.06.94zm10 10l.94 2.06.94-2.06 2.06-.94-2.06-.94-.94-2.06-.94 2.06-2.06.94z\"/><path d=\"M17.41 7.96l-1.37-1.37c-.4-.4-.92-.59-1.43-.59-.52 0-1.04.2-1.43.59L10.3 9.45l-7.72 7.72c-.78.78-.78 2.05 0 2.83L4 21.41c.39.39.9.59 1.41.59.51 0 1.02-.2 1.41-.59l7.78-7.78 2.81-2.81c.8-.78.8-2.07 0-2.86zM5.41 20L4 18.59l7.72-7.72 1.47 1.35L5.41 20z\"/>\n",
       "  </svg>\n",
       "      </button>\n",
       "      \n",
       "  <style>\n",
       "    .colab-df-container {\n",
       "      display:flex;\n",
       "      flex-wrap:wrap;\n",
       "      gap: 12px;\n",
       "    }\n",
       "\n",
       "    .colab-df-convert {\n",
       "      background-color: #E8F0FE;\n",
       "      border: none;\n",
       "      border-radius: 50%;\n",
       "      cursor: pointer;\n",
       "      display: none;\n",
       "      fill: #1967D2;\n",
       "      height: 32px;\n",
       "      padding: 0 0 0 0;\n",
       "      width: 32px;\n",
       "    }\n",
       "\n",
       "    .colab-df-convert:hover {\n",
       "      background-color: #E2EBFA;\n",
       "      box-shadow: 0px 1px 2px rgba(60, 64, 67, 0.3), 0px 1px 3px 1px rgba(60, 64, 67, 0.15);\n",
       "      fill: #174EA6;\n",
       "    }\n",
       "\n",
       "    [theme=dark] .colab-df-convert {\n",
       "      background-color: #3B4455;\n",
       "      fill: #D2E3FC;\n",
       "    }\n",
       "\n",
       "    [theme=dark] .colab-df-convert:hover {\n",
       "      background-color: #434B5C;\n",
       "      box-shadow: 0px 1px 3px 1px rgba(0, 0, 0, 0.15);\n",
       "      filter: drop-shadow(0px 1px 2px rgba(0, 0, 0, 0.3));\n",
       "      fill: #FFFFFF;\n",
       "    }\n",
       "  </style>\n",
       "\n",
       "      <script>\n",
       "        const buttonEl =\n",
       "          document.querySelector('#df-d750a14f-0cbe-401e-8059-45e96f10d589 button.colab-df-convert');\n",
       "        buttonEl.style.display =\n",
       "          google.colab.kernel.accessAllowed ? 'block' : 'none';\n",
       "\n",
       "        async function convertToInteractive(key) {\n",
       "          const element = document.querySelector('#df-d750a14f-0cbe-401e-8059-45e96f10d589');\n",
       "          const dataTable =\n",
       "            await google.colab.kernel.invokeFunction('convertToInteractive',\n",
       "                                                     [key], {});\n",
       "          if (!dataTable) return;\n",
       "\n",
       "          const docLinkHtml = 'Like what you see? Visit the ' +\n",
       "            '<a target=\"_blank\" href=https://colab.research.google.com/notebooks/data_table.ipynb>data table notebook</a>'\n",
       "            + ' to learn more about interactive tables.';\n",
       "          element.innerHTML = '';\n",
       "          dataTable['output_type'] = 'display_data';\n",
       "          await google.colab.output.renderOutput(dataTable, element);\n",
       "          const docLink = document.createElement('div');\n",
       "          docLink.innerHTML = docLinkHtml;\n",
       "          element.appendChild(docLink);\n",
       "        }\n",
       "      </script>\n",
       "    </div>\n",
       "  </div>\n",
       "  "
      ],
      "text/plain": [
       "            date   time            comp         round  day venue result  gf  \\\n",
       "3453  2018-04-14  15:00  Premier League  Matchweek 34  Sat  Away      L   0   \n",
       "3454  2018-04-21  15:00  Premier League  Matchweek 35  Sat  Home      D   0   \n",
       "3455  2018-04-30  20:00  Premier League  Matchweek 36  Mon  Away      L   0   \n",
       "3456  2018-05-05  15:00  Premier League  Matchweek 37  Sat  Home      W   2   \n",
       "3457  2018-05-13  15:00  Premier League  Matchweek 38  Sun  Away      L   0   \n",
       "\n",
       "      ga        opponent  ...  match report  notes    sh  sot  dist  fk   pk  \\\n",
       "3453   1    Huddersfield  ...  Match Report    NaN   4.0  2.0  18.9 NaN  0.0   \n",
       "3454   0  Crystal Palace  ...  Match Report    NaN  14.0  4.0  17.5 NaN  0.0   \n",
       "3455   2       Tottenham  ...  Match Report    NaN  13.0  5.0  15.2 NaN  0.0   \n",
       "3456   1   Newcastle Utd  ...  Match Report    NaN  10.0  7.0  15.7 NaN  0.0   \n",
       "3457   1  Manchester Utd  ...  Match Report    NaN   7.0  3.0  16.3 NaN  0.0   \n",
       "\n",
       "     pkatt  season          team  \n",
       "3453   0.0    2018  Norwich City  \n",
       "3454   0.0    2018  Norwich City  \n",
       "3455   0.0    2018  Norwich City  \n",
       "3456   1.0    2018  Norwich City  \n",
       "3457   0.0    2018  Norwich City  \n",
       "\n",
       "[5 rows x 27 columns]"
      ]
     },
     "execution_count": 9,
     "metadata": {},
     "output_type": "execute_result"
    }
   ],
   "source": [
    "match_df.tail()"
   ]
  },
  {
   "cell_type": "markdown",
   "id": "4380fa95",
   "metadata": {
    "id": "cf98ff64"
   },
   "source": [
    "As our goal is to make prediction for winners, we enough data for each time. It is not the case that the same 20 teams contest with each other in every season. It operates on a system of promotion and relegation with the English Football League (EFL). However, in this project, we only want to make predictions for those teams, which regularly participate in each season. For these teams, we will have enough data to make accurate prediction "
   ]
  },
  {
   "cell_type": "code",
   "execution_count": 10,
   "id": "8e8a1b91",
   "metadata": {
    "colab": {
     "base_uri": "https://localhost:8080/",
     "height": 708
    },
    "executionInfo": {
     "elapsed": 26,
     "status": "ok",
     "timestamp": 1671250842338,
     "user": {
      "displayName": "Apurba Saha",
      "userId": "15169800888831502649"
     },
     "user_tz": 420
    },
    "id": "1c1c0ce1",
    "outputId": "a78ec27c-3ed8-4839-df3c-85e14cc96143"
   },
   "outputs": [
    {
     "data": {
      "text/html": [
       "\n",
       "  <div id=\"df-d08a1332-78db-4604-91eb-f8af13e67015\">\n",
       "    <div class=\"colab-df-container\">\n",
       "      <div>\n",
       "<style scoped>\n",
       "    .dataframe tbody tr th:only-of-type {\n",
       "        vertical-align: middle;\n",
       "    }\n",
       "\n",
       "    .dataframe tbody tr th {\n",
       "        vertical-align: top;\n",
       "    }\n",
       "\n",
       "    .dataframe thead th {\n",
       "        text-align: right;\n",
       "    }\n",
       "</style>\n",
       "<table border=\"1\" class=\"dataframe\">\n",
       "  <thead>\n",
       "    <tr style=\"text-align: right;\">\n",
       "      <th>season</th>\n",
       "      <th>2018</th>\n",
       "      <th>2019</th>\n",
       "      <th>2020</th>\n",
       "      <th>2021</th>\n",
       "      <th>2022</th>\n",
       "    </tr>\n",
       "    <tr>\n",
       "      <th>team</th>\n",
       "      <th></th>\n",
       "      <th></th>\n",
       "      <th></th>\n",
       "      <th></th>\n",
       "      <th></th>\n",
       "    </tr>\n",
       "  </thead>\n",
       "  <tbody>\n",
       "    <tr>\n",
       "      <th>Arsenal</th>\n",
       "      <td>38.0</td>\n",
       "      <td>38.0</td>\n",
       "      <td>38.0</td>\n",
       "      <td>38.0</td>\n",
       "      <td>38.0</td>\n",
       "    </tr>\n",
       "    <tr>\n",
       "      <th>Aston Villa</th>\n",
       "      <td>38.0</td>\n",
       "      <td>NaN</td>\n",
       "      <td>38.0</td>\n",
       "      <td>38.0</td>\n",
       "      <td>38.0</td>\n",
       "    </tr>\n",
       "    <tr>\n",
       "      <th>Brentford</th>\n",
       "      <td>38.0</td>\n",
       "      <td>NaN</td>\n",
       "      <td>NaN</td>\n",
       "      <td>NaN</td>\n",
       "      <td>38.0</td>\n",
       "    </tr>\n",
       "    <tr>\n",
       "      <th>Brighton</th>\n",
       "      <td>38.0</td>\n",
       "      <td>38.0</td>\n",
       "      <td>38.0</td>\n",
       "      <td>38.0</td>\n",
       "      <td>38.0</td>\n",
       "    </tr>\n",
       "    <tr>\n",
       "      <th>Burnley</th>\n",
       "      <td>38.0</td>\n",
       "      <td>38.0</td>\n",
       "      <td>38.0</td>\n",
       "      <td>38.0</td>\n",
       "      <td>38.0</td>\n",
       "    </tr>\n",
       "    <tr>\n",
       "      <th>Chelsea</th>\n",
       "      <td>38.0</td>\n",
       "      <td>38.0</td>\n",
       "      <td>38.0</td>\n",
       "      <td>38.0</td>\n",
       "      <td>38.0</td>\n",
       "    </tr>\n",
       "    <tr>\n",
       "      <th>Crystal Palace</th>\n",
       "      <td>38.0</td>\n",
       "      <td>38.0</td>\n",
       "      <td>38.0</td>\n",
       "      <td>38.0</td>\n",
       "      <td>38.0</td>\n",
       "    </tr>\n",
       "    <tr>\n",
       "      <th>Everton</th>\n",
       "      <td>38.0</td>\n",
       "      <td>38.0</td>\n",
       "      <td>38.0</td>\n",
       "      <td>38.0</td>\n",
       "      <td>38.0</td>\n",
       "    </tr>\n",
       "    <tr>\n",
       "      <th>Leeds United</th>\n",
       "      <td>38.0</td>\n",
       "      <td>NaN</td>\n",
       "      <td>NaN</td>\n",
       "      <td>38.0</td>\n",
       "      <td>38.0</td>\n",
       "    </tr>\n",
       "    <tr>\n",
       "      <th>Leicester City</th>\n",
       "      <td>38.0</td>\n",
       "      <td>38.0</td>\n",
       "      <td>38.0</td>\n",
       "      <td>38.0</td>\n",
       "      <td>38.0</td>\n",
       "    </tr>\n",
       "    <tr>\n",
       "      <th>Liverpool</th>\n",
       "      <td>38.0</td>\n",
       "      <td>38.0</td>\n",
       "      <td>38.0</td>\n",
       "      <td>38.0</td>\n",
       "      <td>38.0</td>\n",
       "    </tr>\n",
       "    <tr>\n",
       "      <th>Manchester City</th>\n",
       "      <td>38.0</td>\n",
       "      <td>38.0</td>\n",
       "      <td>38.0</td>\n",
       "      <td>38.0</td>\n",
       "      <td>38.0</td>\n",
       "    </tr>\n",
       "    <tr>\n",
       "      <th>Manchester Utd</th>\n",
       "      <td>38.0</td>\n",
       "      <td>38.0</td>\n",
       "      <td>38.0</td>\n",
       "      <td>38.0</td>\n",
       "      <td>38.0</td>\n",
       "    </tr>\n",
       "    <tr>\n",
       "      <th>Newcastle Utd</th>\n",
       "      <td>38.0</td>\n",
       "      <td>38.0</td>\n",
       "      <td>38.0</td>\n",
       "      <td>38.0</td>\n",
       "      <td>38.0</td>\n",
       "    </tr>\n",
       "    <tr>\n",
       "      <th>Norwich City</th>\n",
       "      <td>38.0</td>\n",
       "      <td>NaN</td>\n",
       "      <td>38.0</td>\n",
       "      <td>NaN</td>\n",
       "      <td>38.0</td>\n",
       "    </tr>\n",
       "    <tr>\n",
       "      <th>Southampton</th>\n",
       "      <td>38.0</td>\n",
       "      <td>38.0</td>\n",
       "      <td>38.0</td>\n",
       "      <td>38.0</td>\n",
       "      <td>38.0</td>\n",
       "    </tr>\n",
       "    <tr>\n",
       "      <th>Tottenham</th>\n",
       "      <td>38.0</td>\n",
       "      <td>38.0</td>\n",
       "      <td>38.0</td>\n",
       "      <td>38.0</td>\n",
       "      <td>38.0</td>\n",
       "    </tr>\n",
       "    <tr>\n",
       "      <th>Watford</th>\n",
       "      <td>38.0</td>\n",
       "      <td>38.0</td>\n",
       "      <td>38.0</td>\n",
       "      <td>NaN</td>\n",
       "      <td>38.0</td>\n",
       "    </tr>\n",
       "    <tr>\n",
       "      <th>West Ham</th>\n",
       "      <td>38.0</td>\n",
       "      <td>38.0</td>\n",
       "      <td>38.0</td>\n",
       "      <td>38.0</td>\n",
       "      <td>38.0</td>\n",
       "    </tr>\n",
       "    <tr>\n",
       "      <th>Wolves</th>\n",
       "      <td>38.0</td>\n",
       "      <td>38.0</td>\n",
       "      <td>38.0</td>\n",
       "      <td>38.0</td>\n",
       "      <td>38.0</td>\n",
       "    </tr>\n",
       "  </tbody>\n",
       "</table>\n",
       "</div>\n",
       "      <button class=\"colab-df-convert\" onclick=\"convertToInteractive('df-d08a1332-78db-4604-91eb-f8af13e67015')\"\n",
       "              title=\"Convert this dataframe to an interactive table.\"\n",
       "              style=\"display:none;\">\n",
       "        \n",
       "  <svg xmlns=\"http://www.w3.org/2000/svg\" height=\"24px\"viewBox=\"0 0 24 24\"\n",
       "       width=\"24px\">\n",
       "    <path d=\"M0 0h24v24H0V0z\" fill=\"none\"/>\n",
       "    <path d=\"M18.56 5.44l.94 2.06.94-2.06 2.06-.94-2.06-.94-.94-2.06-.94 2.06-2.06.94zm-11 1L8.5 8.5l.94-2.06 2.06-.94-2.06-.94L8.5 2.5l-.94 2.06-2.06.94zm10 10l.94 2.06.94-2.06 2.06-.94-2.06-.94-.94-2.06-.94 2.06-2.06.94z\"/><path d=\"M17.41 7.96l-1.37-1.37c-.4-.4-.92-.59-1.43-.59-.52 0-1.04.2-1.43.59L10.3 9.45l-7.72 7.72c-.78.78-.78 2.05 0 2.83L4 21.41c.39.39.9.59 1.41.59.51 0 1.02-.2 1.41-.59l7.78-7.78 2.81-2.81c.8-.78.8-2.07 0-2.86zM5.41 20L4 18.59l7.72-7.72 1.47 1.35L5.41 20z\"/>\n",
       "  </svg>\n",
       "      </button>\n",
       "      \n",
       "  <style>\n",
       "    .colab-df-container {\n",
       "      display:flex;\n",
       "      flex-wrap:wrap;\n",
       "      gap: 12px;\n",
       "    }\n",
       "\n",
       "    .colab-df-convert {\n",
       "      background-color: #E8F0FE;\n",
       "      border: none;\n",
       "      border-radius: 50%;\n",
       "      cursor: pointer;\n",
       "      display: none;\n",
       "      fill: #1967D2;\n",
       "      height: 32px;\n",
       "      padding: 0 0 0 0;\n",
       "      width: 32px;\n",
       "    }\n",
       "\n",
       "    .colab-df-convert:hover {\n",
       "      background-color: #E2EBFA;\n",
       "      box-shadow: 0px 1px 2px rgba(60, 64, 67, 0.3), 0px 1px 3px 1px rgba(60, 64, 67, 0.15);\n",
       "      fill: #174EA6;\n",
       "    }\n",
       "\n",
       "    [theme=dark] .colab-df-convert {\n",
       "      background-color: #3B4455;\n",
       "      fill: #D2E3FC;\n",
       "    }\n",
       "\n",
       "    [theme=dark] .colab-df-convert:hover {\n",
       "      background-color: #434B5C;\n",
       "      box-shadow: 0px 1px 3px 1px rgba(0, 0, 0, 0.15);\n",
       "      filter: drop-shadow(0px 1px 2px rgba(0, 0, 0, 0.3));\n",
       "      fill: #FFFFFF;\n",
       "    }\n",
       "  </style>\n",
       "\n",
       "      <script>\n",
       "        const buttonEl =\n",
       "          document.querySelector('#df-d08a1332-78db-4604-91eb-f8af13e67015 button.colab-df-convert');\n",
       "        buttonEl.style.display =\n",
       "          google.colab.kernel.accessAllowed ? 'block' : 'none';\n",
       "\n",
       "        async function convertToInteractive(key) {\n",
       "          const element = document.querySelector('#df-d08a1332-78db-4604-91eb-f8af13e67015');\n",
       "          const dataTable =\n",
       "            await google.colab.kernel.invokeFunction('convertToInteractive',\n",
       "                                                     [key], {});\n",
       "          if (!dataTable) return;\n",
       "\n",
       "          const docLinkHtml = 'Like what you see? Visit the ' +\n",
       "            '<a target=\"_blank\" href=https://colab.research.google.com/notebooks/data_table.ipynb>data table notebook</a>'\n",
       "            + ' to learn more about interactive tables.';\n",
       "          element.innerHTML = '';\n",
       "          dataTable['output_type'] = 'display_data';\n",
       "          await google.colab.output.renderOutput(dataTable, element);\n",
       "          const docLink = document.createElement('div');\n",
       "          docLink.innerHTML = docLinkHtml;\n",
       "          element.appendChild(docLink);\n",
       "        }\n",
       "      </script>\n",
       "    </div>\n",
       "  </div>\n",
       "  "
      ],
      "text/plain": [
       "season           2018  2019  2020  2021  2022\n",
       "team                                         \n",
       "Arsenal          38.0  38.0  38.0  38.0  38.0\n",
       "Aston Villa      38.0   NaN  38.0  38.0  38.0\n",
       "Brentford        38.0   NaN   NaN   NaN  38.0\n",
       "Brighton         38.0  38.0  38.0  38.0  38.0\n",
       "Burnley          38.0  38.0  38.0  38.0  38.0\n",
       "Chelsea          38.0  38.0  38.0  38.0  38.0\n",
       "Crystal Palace   38.0  38.0  38.0  38.0  38.0\n",
       "Everton          38.0  38.0  38.0  38.0  38.0\n",
       "Leeds United     38.0   NaN   NaN  38.0  38.0\n",
       "Leicester City   38.0  38.0  38.0  38.0  38.0\n",
       "Liverpool        38.0  38.0  38.0  38.0  38.0\n",
       "Manchester City  38.0  38.0  38.0  38.0  38.0\n",
       "Manchester Utd   38.0  38.0  38.0  38.0  38.0\n",
       "Newcastle Utd    38.0  38.0  38.0  38.0  38.0\n",
       "Norwich City     38.0   NaN  38.0   NaN  38.0\n",
       "Southampton      38.0  38.0  38.0  38.0  38.0\n",
       "Tottenham        38.0  38.0  38.0  38.0  38.0\n",
       "Watford          38.0  38.0  38.0   NaN  38.0\n",
       "West Ham         38.0  38.0  38.0  38.0  38.0\n",
       "Wolves           38.0  38.0  38.0  38.0  38.0"
      ]
     },
     "execution_count": 10,
     "metadata": {},
     "output_type": "execute_result"
    }
   ],
   "source": [
    "match_df.groupby([\"team\", \"season\"])[\"date\"].count().unstack()"
   ]
  },
  {
   "cell_type": "markdown",
   "id": "f47977b5",
   "metadata": {
    "id": "df1e99e9"
   },
   "source": [
    "As we can observe, there are 5 teams in these dataset, who didn't play each season. We can delete the data for these teams from our dataset."
   ]
  },
  {
   "cell_type": "code",
   "execution_count": 11,
   "id": "5f36d0a7",
   "metadata": {
    "executionInfo": {
     "elapsed": 26,
     "status": "ok",
     "timestamp": 1671250842339,
     "user": {
      "displayName": "Apurba Saha",
      "userId": "15169800888831502649"
     },
     "user_tz": 420
    },
    "id": "c42736f0"
   },
   "outputs": [],
   "source": [
    "all_season_teams = match_df.groupby([\"team\", \"season\"])[\"date\"].count().unstack().dropna().index.to_list()\n",
    "all_season_teams.remove('Wolves')"
   ]
  },
  {
   "cell_type": "code",
   "execution_count": 12,
   "id": "3c37f242",
   "metadata": {
    "executionInfo": {
     "elapsed": 26,
     "status": "ok",
     "timestamp": 1671250842339,
     "user": {
      "displayName": "Apurba Saha",
      "userId": "15169800888831502649"
     },
     "user_tz": 420
    },
    "id": "32feb703"
   },
   "outputs": [],
   "source": [
    "match_df = match_df[match_df[\"team\"].isin(all_season_teams) & match_df[\"opponent\"].isin(all_season_teams)]"
   ]
  },
  {
   "cell_type": "code",
   "execution_count": 13,
   "id": "8407ee8b",
   "metadata": {
    "colab": {
     "base_uri": "https://localhost:8080/"
    },
    "executionInfo": {
     "elapsed": 26,
     "status": "ok",
     "timestamp": 1671250842339,
     "user": {
      "displayName": "Apurba Saha",
      "userId": "15169800888831502649"
     },
     "user_tz": 420
    },
    "id": "00d38602",
    "outputId": "b4fa649b-2331-4735-ed0a-2f64249fef87"
   },
   "outputs": [
    {
     "name": "stdout",
     "output_type": "stream",
     "text": [
      "<class 'pandas.core.frame.DataFrame'>\n",
      "Int64Index: 1820 entries, 0 to 3380\n",
      "Data columns (total 27 columns):\n",
      " #   Column        Non-Null Count  Dtype  \n",
      "---  ------        --------------  -----  \n",
      " 0   date          1820 non-null   object \n",
      " 1   time          1820 non-null   object \n",
      " 2   comp          1820 non-null   object \n",
      " 3   round         1820 non-null   object \n",
      " 4   day           1820 non-null   object \n",
      " 5   venue         1820 non-null   object \n",
      " 6   result        1820 non-null   object \n",
      " 7   gf            1820 non-null   int64  \n",
      " 8   ga            1820 non-null   int64  \n",
      " 9   opponent      1820 non-null   object \n",
      " 10  xg            1820 non-null   float64\n",
      " 11  xga           1820 non-null   float64\n",
      " 12  poss          1820 non-null   float64\n",
      " 13  attendance    1406 non-null   float64\n",
      " 14  captain       1820 non-null   object \n",
      " 15  formation     1820 non-null   object \n",
      " 16  referee       1820 non-null   object \n",
      " 17  match report  1820 non-null   object \n",
      " 18  notes         0 non-null      float64\n",
      " 19  sh            1820 non-null   float64\n",
      " 20  sot           1820 non-null   float64\n",
      " 21  dist          1819 non-null   float64\n",
      " 22  fk            1742 non-null   float64\n",
      " 23  pk            1820 non-null   float64\n",
      " 24  pkatt         1820 non-null   float64\n",
      " 25  season        1820 non-null   int64  \n",
      " 26  team          1820 non-null   object \n",
      "dtypes: float64(11), int64(3), object(13)\n",
      "memory usage: 398.1+ KB\n"
     ]
    }
   ],
   "source": [
    "match_df.info()"
   ]
  },
  {
   "cell_type": "markdown",
   "id": "e6d50bdf",
   "metadata": {
    "id": "e5ba748a"
   },
   "source": [
    "As we can observe, there are some missing values for four columns: attendance, notes, dist, fk. The column 'notes' has no values in it. We can safely drop this column. For other columns, we need to take a more deep look to handle the missing data. Moreover, the datatype of 'date' column needs to be converted to a datetime object. The format of values in the 'time' column needs to be corrected. "
   ]
  },
  {
   "cell_type": "code",
   "execution_count": 14,
   "id": "9ec62ce5",
   "metadata": {
    "colab": {
     "base_uri": "https://localhost:8080/"
    },
    "executionInfo": {
     "elapsed": 21,
     "status": "ok",
     "timestamp": 1671250842340,
     "user": {
      "displayName": "Apurba Saha",
      "userId": "15169800888831502649"
     },
     "user_tz": 420
    },
    "id": "6f96262e",
    "outputId": "3d74a044-144e-4256-81e5-10a7929ef74e"
   },
   "outputs": [
    {
     "name": "stderr",
     "output_type": "stream",
     "text": [
      "/usr/local/lib/python3.8/dist-packages/pandas/core/frame.py:4906: SettingWithCopyWarning: \n",
      "A value is trying to be set on a copy of a slice from a DataFrame\n",
      "\n",
      "See the caveats in the documentation: https://pandas.pydata.org/pandas-docs/stable/user_guide/indexing.html#returning-a-view-versus-a-copy\n",
      "  return super().drop(\n"
     ]
    }
   ],
   "source": [
    "match_df.drop('notes', axis=1, inplace=True)"
   ]
  },
  {
   "cell_type": "code",
   "execution_count": 15,
   "id": "bd0acba1",
   "metadata": {
    "colab": {
     "base_uri": "https://localhost:8080/"
    },
    "executionInfo": {
     "elapsed": 18,
     "status": "ok",
     "timestamp": 1671250842340,
     "user": {
      "displayName": "Apurba Saha",
      "userId": "15169800888831502649"
     },
     "user_tz": 420
    },
    "id": "49073fd7",
    "outputId": "bd29eef6-da7e-401d-8db8-5ac513a9de83"
   },
   "outputs": [
    {
     "name": "stderr",
     "output_type": "stream",
     "text": [
      "<ipython-input-15-88fa29fedc93>:1: SettingWithCopyWarning: \n",
      "A value is trying to be set on a copy of a slice from a DataFrame.\n",
      "Try using .loc[row_indexer,col_indexer] = value instead\n",
      "\n",
      "See the caveats in the documentation: https://pandas.pydata.org/pandas-docs/stable/user_guide/indexing.html#returning-a-view-versus-a-copy\n",
      "  match_df['hour'] = match_df['time'].str.replace(r':.+', \"\", regex=True).astype(int)\n"
     ]
    }
   ],
   "source": [
    "match_df['hour'] = match_df['time'].str.replace(r':.+', \"\", regex=True).astype(int)\n",
    "match_df.drop('time', axis=1, inplace=True)"
   ]
  },
  {
   "cell_type": "code",
   "execution_count": 16,
   "id": "e4a1ed01",
   "metadata": {
    "colab": {
     "base_uri": "https://localhost:8080/"
    },
    "executionInfo": {
     "elapsed": 15,
     "status": "ok",
     "timestamp": 1671250842340,
     "user": {
      "displayName": "Apurba Saha",
      "userId": "15169800888831502649"
     },
     "user_tz": 420
    },
    "id": "f4288755",
    "outputId": "8323dd3a-38f1-4321-dbf3-bc362d5177f1"
   },
   "outputs": [
    {
     "name": "stderr",
     "output_type": "stream",
     "text": [
      "<ipython-input-16-1ebb7af4446e>:1: SettingWithCopyWarning: \n",
      "A value is trying to be set on a copy of a slice from a DataFrame.\n",
      "Try using .loc[row_indexer,col_indexer] = value instead\n",
      "\n",
      "See the caveats in the documentation: https://pandas.pydata.org/pandas-docs/stable/user_guide/indexing.html#returning-a-view-versus-a-copy\n",
      "  match_df['date'] = pd.to_datetime(match_df['date'])\n"
     ]
    }
   ],
   "source": [
    "match_df['date'] = pd.to_datetime(match_df['date'])"
   ]
  },
  {
   "cell_type": "markdown",
   "id": "afbda2fe",
   "metadata": {
    "id": "lpWvDUIuOlR_"
   },
   "source": [
    "Now let's analyze the missing data. As we observed during the exploratory data analysis, there are some missing values for three columns: attendance, dist, fk. As only one data is missing from the 'dist' column, it is probably missing completely at random. As the 'dist' column had some outliers, we can replace the missing value with the median value of the 'dist' column. We will do that later in the feature engineering stage. Now let's focus on the other two columns. A lot of data are missing. This can't happen at random. Let's find the source of the missing data"
   ]
  },
  {
   "cell_type": "code",
   "execution_count": 17,
   "id": "248364ef",
   "metadata": {
    "colab": {
     "base_uri": "https://localhost:8080/"
    },
    "executionInfo": {
     "elapsed": 351,
     "status": "ok",
     "timestamp": 1671250842678,
     "user": {
      "displayName": "Apurba Saha",
      "userId": "15169800888831502649"
     },
     "user_tz": 420
    },
    "id": "yiuVenxwPGxR",
    "outputId": "14a48094-c514-41a1-d685-8fbd512cdd0d"
   },
   "outputs": [
    {
     "name": "stderr",
     "output_type": "stream",
     "text": [
      "<ipython-input-17-f8e5e056f8b3>:1: SettingWithCopyWarning: \n",
      "A value is trying to be set on a copy of a slice from a DataFrame.\n",
      "Try using .loc[row_indexer,col_indexer] = value instead\n",
      "\n",
      "See the caveats in the documentation: https://pandas.pydata.org/pandas-docs/stable/user_guide/indexing.html#returning-a-view-versus-a-copy\n",
      "  match_df[\"fk_Null\"] = np.where(match_df[\"fk\"].isnull(), 1, 0)\n",
      "<ipython-input-17-f8e5e056f8b3>:2: SettingWithCopyWarning: \n",
      "A value is trying to be set on a copy of a slice from a DataFrame.\n",
      "Try using .loc[row_indexer,col_indexer] = value instead\n",
      "\n",
      "See the caveats in the documentation: https://pandas.pydata.org/pandas-docs/stable/user_guide/indexing.html#returning-a-view-versus-a-copy\n",
      "  match_df[\"attendance_Null\"] = np.where(match_df[\"attendance\"].isnull(), 1, 0)\n"
     ]
    }
   ],
   "source": [
    "match_df[\"fk_Null\"] = np.where(match_df[\"fk\"].isnull(), 1, 0)\n",
    "match_df[\"attendance_Null\"] = np.where(match_df[\"attendance\"].isnull(), 1, 0)"
   ]
  },
  {
   "cell_type": "code",
   "execution_count": 18,
   "id": "a3f58f18",
   "metadata": {
    "colab": {
     "base_uri": "https://localhost:8080/",
     "height": 237
    },
    "executionInfo": {
     "elapsed": 20,
     "status": "ok",
     "timestamp": 1671250842679,
     "user": {
      "displayName": "Apurba Saha",
      "userId": "15169800888831502649"
     },
     "user_tz": 420
    },
    "id": "oP5YA0OAXaJ6",
    "outputId": "5ad63e7a-e547-4e08-ad55-c468fe622e22"
   },
   "outputs": [
    {
     "data": {
      "text/html": [
       "\n",
       "  <div id=\"df-6f5ca45b-a369-4720-9eb4-8b72a04fc0b9\">\n",
       "    <div class=\"colab-df-container\">\n",
       "      <div>\n",
       "<style scoped>\n",
       "    .dataframe tbody tr th:only-of-type {\n",
       "        vertical-align: middle;\n",
       "    }\n",
       "\n",
       "    .dataframe tbody tr th {\n",
       "        vertical-align: top;\n",
       "    }\n",
       "\n",
       "    .dataframe thead th {\n",
       "        text-align: right;\n",
       "    }\n",
       "</style>\n",
       "<table border=\"1\" class=\"dataframe\">\n",
       "  <thead>\n",
       "    <tr style=\"text-align: right;\">\n",
       "      <th></th>\n",
       "      <th>fk_Null</th>\n",
       "      <th>attendance_Null</th>\n",
       "    </tr>\n",
       "    <tr>\n",
       "      <th>season</th>\n",
       "      <th></th>\n",
       "      <th></th>\n",
       "    </tr>\n",
       "  </thead>\n",
       "  <tbody>\n",
       "    <tr>\n",
       "      <th>2018</th>\n",
       "      <td>78</td>\n",
       "      <td>0</td>\n",
       "    </tr>\n",
       "    <tr>\n",
       "      <th>2019</th>\n",
       "      <td>0</td>\n",
       "      <td>0</td>\n",
       "    </tr>\n",
       "    <tr>\n",
       "      <th>2020</th>\n",
       "      <td>0</td>\n",
       "      <td>82</td>\n",
       "    </tr>\n",
       "    <tr>\n",
       "      <th>2021</th>\n",
       "      <td>0</td>\n",
       "      <td>332</td>\n",
       "    </tr>\n",
       "    <tr>\n",
       "      <th>2022</th>\n",
       "      <td>0</td>\n",
       "      <td>0</td>\n",
       "    </tr>\n",
       "  </tbody>\n",
       "</table>\n",
       "</div>\n",
       "      <button class=\"colab-df-convert\" onclick=\"convertToInteractive('df-6f5ca45b-a369-4720-9eb4-8b72a04fc0b9')\"\n",
       "              title=\"Convert this dataframe to an interactive table.\"\n",
       "              style=\"display:none;\">\n",
       "        \n",
       "  <svg xmlns=\"http://www.w3.org/2000/svg\" height=\"24px\"viewBox=\"0 0 24 24\"\n",
       "       width=\"24px\">\n",
       "    <path d=\"M0 0h24v24H0V0z\" fill=\"none\"/>\n",
       "    <path d=\"M18.56 5.44l.94 2.06.94-2.06 2.06-.94-2.06-.94-.94-2.06-.94 2.06-2.06.94zm-11 1L8.5 8.5l.94-2.06 2.06-.94-2.06-.94L8.5 2.5l-.94 2.06-2.06.94zm10 10l.94 2.06.94-2.06 2.06-.94-2.06-.94-.94-2.06-.94 2.06-2.06.94z\"/><path d=\"M17.41 7.96l-1.37-1.37c-.4-.4-.92-.59-1.43-.59-.52 0-1.04.2-1.43.59L10.3 9.45l-7.72 7.72c-.78.78-.78 2.05 0 2.83L4 21.41c.39.39.9.59 1.41.59.51 0 1.02-.2 1.41-.59l7.78-7.78 2.81-2.81c.8-.78.8-2.07 0-2.86zM5.41 20L4 18.59l7.72-7.72 1.47 1.35L5.41 20z\"/>\n",
       "  </svg>\n",
       "      </button>\n",
       "      \n",
       "  <style>\n",
       "    .colab-df-container {\n",
       "      display:flex;\n",
       "      flex-wrap:wrap;\n",
       "      gap: 12px;\n",
       "    }\n",
       "\n",
       "    .colab-df-convert {\n",
       "      background-color: #E8F0FE;\n",
       "      border: none;\n",
       "      border-radius: 50%;\n",
       "      cursor: pointer;\n",
       "      display: none;\n",
       "      fill: #1967D2;\n",
       "      height: 32px;\n",
       "      padding: 0 0 0 0;\n",
       "      width: 32px;\n",
       "    }\n",
       "\n",
       "    .colab-df-convert:hover {\n",
       "      background-color: #E2EBFA;\n",
       "      box-shadow: 0px 1px 2px rgba(60, 64, 67, 0.3), 0px 1px 3px 1px rgba(60, 64, 67, 0.15);\n",
       "      fill: #174EA6;\n",
       "    }\n",
       "\n",
       "    [theme=dark] .colab-df-convert {\n",
       "      background-color: #3B4455;\n",
       "      fill: #D2E3FC;\n",
       "    }\n",
       "\n",
       "    [theme=dark] .colab-df-convert:hover {\n",
       "      background-color: #434B5C;\n",
       "      box-shadow: 0px 1px 3px 1px rgba(0, 0, 0, 0.15);\n",
       "      filter: drop-shadow(0px 1px 2px rgba(0, 0, 0, 0.3));\n",
       "      fill: #FFFFFF;\n",
       "    }\n",
       "  </style>\n",
       "\n",
       "      <script>\n",
       "        const buttonEl =\n",
       "          document.querySelector('#df-6f5ca45b-a369-4720-9eb4-8b72a04fc0b9 button.colab-df-convert');\n",
       "        buttonEl.style.display =\n",
       "          google.colab.kernel.accessAllowed ? 'block' : 'none';\n",
       "\n",
       "        async function convertToInteractive(key) {\n",
       "          const element = document.querySelector('#df-6f5ca45b-a369-4720-9eb4-8b72a04fc0b9');\n",
       "          const dataTable =\n",
       "            await google.colab.kernel.invokeFunction('convertToInteractive',\n",
       "                                                     [key], {});\n",
       "          if (!dataTable) return;\n",
       "\n",
       "          const docLinkHtml = 'Like what you see? Visit the ' +\n",
       "            '<a target=\"_blank\" href=https://colab.research.google.com/notebooks/data_table.ipynb>data table notebook</a>'\n",
       "            + ' to learn more about interactive tables.';\n",
       "          element.innerHTML = '';\n",
       "          dataTable['output_type'] = 'display_data';\n",
       "          await google.colab.output.renderOutput(dataTable, element);\n",
       "          const docLink = document.createElement('div');\n",
       "          docLink.innerHTML = docLinkHtml;\n",
       "          element.appendChild(docLink);\n",
       "        }\n",
       "      </script>\n",
       "    </div>\n",
       "  </div>\n",
       "  "
      ],
      "text/plain": [
       "        fk_Null  attendance_Null\n",
       "season                          \n",
       "2018         78                0\n",
       "2019          0                0\n",
       "2020          0               82\n",
       "2021          0              332\n",
       "2022          0                0"
      ]
     },
     "execution_count": 18,
     "metadata": {},
     "output_type": "execute_result"
    }
   ],
   "source": [
    "match_df.groupby([\"season\"])[[\"fk_Null\", \"attendance_Null\"]].sum()"
   ]
  },
  {
   "cell_type": "markdown",
   "id": "1b02f349",
   "metadata": {
    "id": "3DfTA3bGXkHd"
   },
   "source": [
    "As we can notice, all the missing data in the column 'fk' comes from the match records for season 2018. A similar pattern is observed for the 'attendance' column. There may be some problem with the data collection. For this reason, we again web-scrap the match data for 2018, 2020, and 2021."
   ]
  },
  {
   "cell_type": "code",
   "execution_count": 19,
   "id": "deff1bb7",
   "metadata": {
    "executionInfo": {
     "elapsed": 19,
     "status": "ok",
     "timestamp": 1671250842679,
     "user": {
      "displayName": "Apurba Saha",
      "userId": "15169800888831502649"
     },
     "user_tz": 420
    },
    "id": "uxf3kWpuXf1m"
   },
   "outputs": [],
   "source": [
    "match_df.drop([\"fk_Null\", \"attendance_Null\"], axis=1, inplace=True)"
   ]
  },
  {
   "cell_type": "code",
   "execution_count": 20,
   "id": "010681f3",
   "metadata": {
    "colab": {
     "base_uri": "https://localhost:8080/",
     "height": 235
    },
    "executionInfo": {
     "elapsed": 20,
     "status": "ok",
     "timestamp": 1671250842680,
     "user": {
      "displayName": "Apurba Saha",
      "userId": "15169800888831502649"
     },
     "user_tz": 420
    },
    "id": "hSUILJSEXuwk",
    "outputId": "fc523035-9e81-4a90-d15a-6070b183f30c"
   },
   "outputs": [
    {
     "data": {
      "text/html": [
       "\n",
       "  <div id=\"df-0e3942b6-49e1-4d1d-a5da-78824a73fd54\">\n",
       "    <div class=\"colab-df-container\">\n",
       "      <div>\n",
       "<style scoped>\n",
       "    .dataframe tbody tr th:only-of-type {\n",
       "        vertical-align: middle;\n",
       "    }\n",
       "\n",
       "    .dataframe tbody tr th {\n",
       "        vertical-align: top;\n",
       "    }\n",
       "\n",
       "    .dataframe thead th {\n",
       "        text-align: right;\n",
       "    }\n",
       "</style>\n",
       "<table border=\"1\" class=\"dataframe\">\n",
       "  <thead>\n",
       "    <tr style=\"text-align: right;\">\n",
       "      <th></th>\n",
       "      <th>date</th>\n",
       "      <th>time</th>\n",
       "      <th>comp</th>\n",
       "      <th>round</th>\n",
       "      <th>day</th>\n",
       "      <th>venue</th>\n",
       "      <th>result</th>\n",
       "      <th>gf</th>\n",
       "      <th>ga</th>\n",
       "      <th>opponent</th>\n",
       "      <th>...</th>\n",
       "      <th>match report</th>\n",
       "      <th>notes</th>\n",
       "      <th>sh</th>\n",
       "      <th>sot</th>\n",
       "      <th>dist</th>\n",
       "      <th>fk</th>\n",
       "      <th>pk</th>\n",
       "      <th>pkatt</th>\n",
       "      <th>season</th>\n",
       "      <th>team</th>\n",
       "    </tr>\n",
       "  </thead>\n",
       "  <tbody>\n",
       "    <tr>\n",
       "      <th>0</th>\n",
       "      <td>2017-08-12</td>\n",
       "      <td>17:30</td>\n",
       "      <td>Premier League</td>\n",
       "      <td>Matchweek 1</td>\n",
       "      <td>Sat</td>\n",
       "      <td>Away</td>\n",
       "      <td>W</td>\n",
       "      <td>2</td>\n",
       "      <td>0</td>\n",
       "      <td>Brighton</td>\n",
       "      <td>...</td>\n",
       "      <td>Match Report</td>\n",
       "      <td>NaN</td>\n",
       "      <td>14.0</td>\n",
       "      <td>4.0</td>\n",
       "      <td>19.5</td>\n",
       "      <td>2.0</td>\n",
       "      <td>0</td>\n",
       "      <td>0</td>\n",
       "      <td>2022</td>\n",
       "      <td>Manchester City</td>\n",
       "    </tr>\n",
       "    <tr>\n",
       "      <th>1</th>\n",
       "      <td>2017-08-21</td>\n",
       "      <td>20:00</td>\n",
       "      <td>Premier League</td>\n",
       "      <td>Matchweek 2</td>\n",
       "      <td>Mon</td>\n",
       "      <td>Home</td>\n",
       "      <td>D</td>\n",
       "      <td>1</td>\n",
       "      <td>1</td>\n",
       "      <td>Everton</td>\n",
       "      <td>...</td>\n",
       "      <td>Match Report</td>\n",
       "      <td>NaN</td>\n",
       "      <td>19.0</td>\n",
       "      <td>6.0</td>\n",
       "      <td>20.0</td>\n",
       "      <td>1.0</td>\n",
       "      <td>0</td>\n",
       "      <td>0</td>\n",
       "      <td>2022</td>\n",
       "      <td>Manchester City</td>\n",
       "    </tr>\n",
       "    <tr>\n",
       "      <th>2</th>\n",
       "      <td>2017-08-26</td>\n",
       "      <td>12:30</td>\n",
       "      <td>Premier League</td>\n",
       "      <td>Matchweek 3</td>\n",
       "      <td>Sat</td>\n",
       "      <td>Away</td>\n",
       "      <td>W</td>\n",
       "      <td>2</td>\n",
       "      <td>1</td>\n",
       "      <td>Bournemouth</td>\n",
       "      <td>...</td>\n",
       "      <td>Match Report</td>\n",
       "      <td>NaN</td>\n",
       "      <td>19.0</td>\n",
       "      <td>8.0</td>\n",
       "      <td>16.2</td>\n",
       "      <td>1.0</td>\n",
       "      <td>0</td>\n",
       "      <td>0</td>\n",
       "      <td>2022</td>\n",
       "      <td>Manchester City</td>\n",
       "    </tr>\n",
       "    <tr>\n",
       "      <th>3</th>\n",
       "      <td>2017-09-09</td>\n",
       "      <td>12:30</td>\n",
       "      <td>Premier League</td>\n",
       "      <td>Matchweek 4</td>\n",
       "      <td>Sat</td>\n",
       "      <td>Home</td>\n",
       "      <td>W</td>\n",
       "      <td>5</td>\n",
       "      <td>0</td>\n",
       "      <td>Liverpool</td>\n",
       "      <td>...</td>\n",
       "      <td>Match Report</td>\n",
       "      <td>NaN</td>\n",
       "      <td>13.0</td>\n",
       "      <td>10.0</td>\n",
       "      <td>14.0</td>\n",
       "      <td>0.0</td>\n",
       "      <td>0</td>\n",
       "      <td>0</td>\n",
       "      <td>2022</td>\n",
       "      <td>Manchester City</td>\n",
       "    </tr>\n",
       "    <tr>\n",
       "      <th>5</th>\n",
       "      <td>2017-09-16</td>\n",
       "      <td>15:00</td>\n",
       "      <td>Premier League</td>\n",
       "      <td>Matchweek 5</td>\n",
       "      <td>Sat</td>\n",
       "      <td>Away</td>\n",
       "      <td>W</td>\n",
       "      <td>6</td>\n",
       "      <td>0</td>\n",
       "      <td>Watford</td>\n",
       "      <td>...</td>\n",
       "      <td>Match Report</td>\n",
       "      <td>NaN</td>\n",
       "      <td>27.0</td>\n",
       "      <td>9.0</td>\n",
       "      <td>17.2</td>\n",
       "      <td>0.0</td>\n",
       "      <td>1</td>\n",
       "      <td>1</td>\n",
       "      <td>2022</td>\n",
       "      <td>Manchester City</td>\n",
       "    </tr>\n",
       "  </tbody>\n",
       "</table>\n",
       "<p>5 rows × 27 columns</p>\n",
       "</div>\n",
       "      <button class=\"colab-df-convert\" onclick=\"convertToInteractive('df-0e3942b6-49e1-4d1d-a5da-78824a73fd54')\"\n",
       "              title=\"Convert this dataframe to an interactive table.\"\n",
       "              style=\"display:none;\">\n",
       "        \n",
       "  <svg xmlns=\"http://www.w3.org/2000/svg\" height=\"24px\"viewBox=\"0 0 24 24\"\n",
       "       width=\"24px\">\n",
       "    <path d=\"M0 0h24v24H0V0z\" fill=\"none\"/>\n",
       "    <path d=\"M18.56 5.44l.94 2.06.94-2.06 2.06-.94-2.06-.94-.94-2.06-.94 2.06-2.06.94zm-11 1L8.5 8.5l.94-2.06 2.06-.94-2.06-.94L8.5 2.5l-.94 2.06-2.06.94zm10 10l.94 2.06.94-2.06 2.06-.94-2.06-.94-.94-2.06-.94 2.06-2.06.94z\"/><path d=\"M17.41 7.96l-1.37-1.37c-.4-.4-.92-.59-1.43-.59-.52 0-1.04.2-1.43.59L10.3 9.45l-7.72 7.72c-.78.78-.78 2.05 0 2.83L4 21.41c.39.39.9.59 1.41.59.51 0 1.02-.2 1.41-.59l7.78-7.78 2.81-2.81c.8-.78.8-2.07 0-2.86zM5.41 20L4 18.59l7.72-7.72 1.47 1.35L5.41 20z\"/>\n",
       "  </svg>\n",
       "      </button>\n",
       "      \n",
       "  <style>\n",
       "    .colab-df-container {\n",
       "      display:flex;\n",
       "      flex-wrap:wrap;\n",
       "      gap: 12px;\n",
       "    }\n",
       "\n",
       "    .colab-df-convert {\n",
       "      background-color: #E8F0FE;\n",
       "      border: none;\n",
       "      border-radius: 50%;\n",
       "      cursor: pointer;\n",
       "      display: none;\n",
       "      fill: #1967D2;\n",
       "      height: 32px;\n",
       "      padding: 0 0 0 0;\n",
       "      width: 32px;\n",
       "    }\n",
       "\n",
       "    .colab-df-convert:hover {\n",
       "      background-color: #E2EBFA;\n",
       "      box-shadow: 0px 1px 2px rgba(60, 64, 67, 0.3), 0px 1px 3px 1px rgba(60, 64, 67, 0.15);\n",
       "      fill: #174EA6;\n",
       "    }\n",
       "\n",
       "    [theme=dark] .colab-df-convert {\n",
       "      background-color: #3B4455;\n",
       "      fill: #D2E3FC;\n",
       "    }\n",
       "\n",
       "    [theme=dark] .colab-df-convert:hover {\n",
       "      background-color: #434B5C;\n",
       "      box-shadow: 0px 1px 3px 1px rgba(0, 0, 0, 0.15);\n",
       "      filter: drop-shadow(0px 1px 2px rgba(0, 0, 0, 0.3));\n",
       "      fill: #FFFFFF;\n",
       "    }\n",
       "  </style>\n",
       "\n",
       "      <script>\n",
       "        const buttonEl =\n",
       "          document.querySelector('#df-0e3942b6-49e1-4d1d-a5da-78824a73fd54 button.colab-df-convert');\n",
       "        buttonEl.style.display =\n",
       "          google.colab.kernel.accessAllowed ? 'block' : 'none';\n",
       "\n",
       "        async function convertToInteractive(key) {\n",
       "          const element = document.querySelector('#df-0e3942b6-49e1-4d1d-a5da-78824a73fd54');\n",
       "          const dataTable =\n",
       "            await google.colab.kernel.invokeFunction('convertToInteractive',\n",
       "                                                     [key], {});\n",
       "          if (!dataTable) return;\n",
       "\n",
       "          const docLinkHtml = 'Like what you see? Visit the ' +\n",
       "            '<a target=\"_blank\" href=https://colab.research.google.com/notebooks/data_table.ipynb>data table notebook</a>'\n",
       "            + ' to learn more about interactive tables.';\n",
       "          element.innerHTML = '';\n",
       "          dataTable['output_type'] = 'display_data';\n",
       "          await google.colab.output.renderOutput(dataTable, element);\n",
       "          const docLink = document.createElement('div');\n",
       "          docLink.innerHTML = docLinkHtml;\n",
       "          element.appendChild(docLink);\n",
       "        }\n",
       "      </script>\n",
       "    </div>\n",
       "  </div>\n",
       "  "
      ],
      "text/plain": [
       "         date   time            comp        round  day venue result  gf  ga  \\\n",
       "0  2017-08-12  17:30  Premier League  Matchweek 1  Sat  Away      W   2   0   \n",
       "1  2017-08-21  20:00  Premier League  Matchweek 2  Mon  Home      D   1   1   \n",
       "2  2017-08-26  12:30  Premier League  Matchweek 3  Sat  Away      W   2   1   \n",
       "3  2017-09-09  12:30  Premier League  Matchweek 4  Sat  Home      W   5   0   \n",
       "5  2017-09-16  15:00  Premier League  Matchweek 5  Sat  Away      W   6   0   \n",
       "\n",
       "      opponent  ...  match report  notes    sh   sot  dist   fk pk pkatt  \\\n",
       "0     Brighton  ...  Match Report    NaN  14.0   4.0  19.5  2.0  0     0   \n",
       "1      Everton  ...  Match Report    NaN  19.0   6.0  20.0  1.0  0     0   \n",
       "2  Bournemouth  ...  Match Report    NaN  19.0   8.0  16.2  1.0  0     0   \n",
       "3    Liverpool  ...  Match Report    NaN  13.0  10.0  14.0  0.0  0     0   \n",
       "5      Watford  ...  Match Report    NaN  27.0   9.0  17.2  0.0  1     1   \n",
       "\n",
       "   season             team  \n",
       "0    2022  Manchester City  \n",
       "1    2022  Manchester City  \n",
       "2    2022  Manchester City  \n",
       "3    2022  Manchester City  \n",
       "5    2022  Manchester City  \n",
       "\n",
       "[5 rows x 27 columns]"
      ]
     },
     "execution_count": 20,
     "metadata": {},
     "output_type": "execute_result"
    }
   ],
   "source": [
    "season18 = pd.read_csv(\"matches18.csv\", index_col=0)\n",
    "season18.head()"
   ]
  },
  {
   "cell_type": "code",
   "execution_count": 21,
   "id": "aa5e9f0a",
   "metadata": {
    "colab": {
     "base_uri": "https://localhost:8080/"
    },
    "executionInfo": {
     "elapsed": 19,
     "status": "ok",
     "timestamp": 1671250842680,
     "user": {
      "displayName": "Apurba Saha",
      "userId": "15169800888831502649"
     },
     "user_tz": 420
    },
    "id": "pOcKJugXXzIl",
    "outputId": "8295932d-4d2d-4620-b601-6b9b37db3aa5"
   },
   "outputs": [
    {
     "data": {
      "text/plain": [
       "0"
      ]
     },
     "execution_count": 21,
     "metadata": {},
     "output_type": "execute_result"
    }
   ],
   "source": [
    "season18[\"fk\"].isnull().sum()"
   ]
  },
  {
   "cell_type": "markdown",
   "id": "40eef043",
   "metadata": {
    "id": "MXR9eXotX4Z2"
   },
   "source": [
    "As we can observe, this dataset has no missing value in the 'fk' column. So, we can replace the missing values of 'fk' column in 'match_df' using the values from this dataset"
   ]
  },
  {
   "cell_type": "code",
   "execution_count": 22,
   "id": "3cf2215d",
   "metadata": {
    "colab": {
     "base_uri": "https://localhost:8080/"
    },
    "executionInfo": {
     "elapsed": 16,
     "status": "ok",
     "timestamp": 1671250842680,
     "user": {
      "displayName": "Apurba Saha",
      "userId": "15169800888831502649"
     },
     "user_tz": 420
    },
    "id": "t9nwctWqX0xO",
    "outputId": "5ebede5c-00c0-4ecb-e07b-e6545cdab7b2"
   },
   "outputs": [
    {
     "data": {
      "text/plain": [
       "0"
      ]
     },
     "execution_count": 22,
     "metadata": {},
     "output_type": "execute_result"
    }
   ],
   "source": [
    "season18 = season18[season18[\"team\"].isin(all_season_teams) & season18[\"opponent\"].isin(all_season_teams)]\n",
    "match_df.loc[match_df['season']==2018, 'fk'] = season18['fk'].to_list()\n",
    "match_df['fk'].isnull().sum()"
   ]
  },
  {
   "cell_type": "markdown",
   "id": "a39ef90b",
   "metadata": {
    "id": "v9o3t5oeYZyU"
   },
   "source": [
    "Now let's focus on the 'attendance' column. It is noticeable that the data is missing for season 2020 and 2021. This missing values can directly be attributed to the COVID-19 restrictions imposed by the UK government. Therefore, no actual data exists for correcting these missing values. Thus we need to impute the missing values for this column later in the feature engineering stage"
   ]
  },
  {
   "cell_type": "markdown",
   "id": "ba19d10b",
   "metadata": {
    "id": "jsKjsIUvZIaN"
   },
   "source": [
    "Now let's observe the statistics of category variables"
   ]
  },
  {
   "cell_type": "code",
   "execution_count": 23,
   "id": "2791bb54",
   "metadata": {
    "colab": {
     "base_uri": "https://localhost:8080/",
     "height": 175
    },
    "executionInfo": {
     "elapsed": 15,
     "status": "ok",
     "timestamp": 1671250842681,
     "user": {
      "displayName": "Apurba Saha",
      "userId": "15169800888831502649"
     },
     "user_tz": 420
    },
    "id": "Mv9l-Ea6Y9Ge",
    "outputId": "9c396c76-450a-4d29-e069-24000e9854b8"
   },
   "outputs": [
    {
     "data": {
      "text/html": [
       "\n",
       "  <div id=\"df-2432e46e-a5cd-41bc-a942-ae692e31dbb7\">\n",
       "    <div class=\"colab-df-container\">\n",
       "      <div>\n",
       "<style scoped>\n",
       "    .dataframe tbody tr th:only-of-type {\n",
       "        vertical-align: middle;\n",
       "    }\n",
       "\n",
       "    .dataframe tbody tr th {\n",
       "        vertical-align: top;\n",
       "    }\n",
       "\n",
       "    .dataframe thead th {\n",
       "        text-align: right;\n",
       "    }\n",
       "</style>\n",
       "<table border=\"1\" class=\"dataframe\">\n",
       "  <thead>\n",
       "    <tr style=\"text-align: right;\">\n",
       "      <th></th>\n",
       "      <th>comp</th>\n",
       "      <th>round</th>\n",
       "      <th>day</th>\n",
       "      <th>venue</th>\n",
       "      <th>result</th>\n",
       "      <th>opponent</th>\n",
       "      <th>captain</th>\n",
       "      <th>formation</th>\n",
       "      <th>referee</th>\n",
       "      <th>match report</th>\n",
       "      <th>team</th>\n",
       "    </tr>\n",
       "  </thead>\n",
       "  <tbody>\n",
       "    <tr>\n",
       "      <th>count</th>\n",
       "      <td>1820</td>\n",
       "      <td>1820</td>\n",
       "      <td>1820</td>\n",
       "      <td>1820</td>\n",
       "      <td>1820</td>\n",
       "      <td>1820</td>\n",
       "      <td>1820</td>\n",
       "      <td>1820</td>\n",
       "      <td>1820</td>\n",
       "      <td>1820</td>\n",
       "      <td>1820</td>\n",
       "    </tr>\n",
       "    <tr>\n",
       "      <th>unique</th>\n",
       "      <td>1</td>\n",
       "      <td>38</td>\n",
       "      <td>7</td>\n",
       "      <td>2</td>\n",
       "      <td>3</td>\n",
       "      <td>14</td>\n",
       "      <td>106</td>\n",
       "      <td>19</td>\n",
       "      <td>29</td>\n",
       "      <td>1</td>\n",
       "      <td>14</td>\n",
       "    </tr>\n",
       "    <tr>\n",
       "      <th>top</th>\n",
       "      <td>Premier League</td>\n",
       "      <td>Matchweek 10</td>\n",
       "      <td>Sat</td>\n",
       "      <td>Away</td>\n",
       "      <td>L</td>\n",
       "      <td>Tottenham</td>\n",
       "      <td>Hugo Lloris</td>\n",
       "      <td>4-2-3-1</td>\n",
       "      <td>Anthony Taylor</td>\n",
       "      <td>Match Report</td>\n",
       "      <td>Manchester City</td>\n",
       "    </tr>\n",
       "    <tr>\n",
       "      <th>freq</th>\n",
       "      <td>1820</td>\n",
       "      <td>52</td>\n",
       "      <td>782</td>\n",
       "      <td>910</td>\n",
       "      <td>693</td>\n",
       "      <td>130</td>\n",
       "      <td>115</td>\n",
       "      <td>427</td>\n",
       "      <td>166</td>\n",
       "      <td>1820</td>\n",
       "      <td>130</td>\n",
       "    </tr>\n",
       "  </tbody>\n",
       "</table>\n",
       "</div>\n",
       "      <button class=\"colab-df-convert\" onclick=\"convertToInteractive('df-2432e46e-a5cd-41bc-a942-ae692e31dbb7')\"\n",
       "              title=\"Convert this dataframe to an interactive table.\"\n",
       "              style=\"display:none;\">\n",
       "        \n",
       "  <svg xmlns=\"http://www.w3.org/2000/svg\" height=\"24px\"viewBox=\"0 0 24 24\"\n",
       "       width=\"24px\">\n",
       "    <path d=\"M0 0h24v24H0V0z\" fill=\"none\"/>\n",
       "    <path d=\"M18.56 5.44l.94 2.06.94-2.06 2.06-.94-2.06-.94-.94-2.06-.94 2.06-2.06.94zm-11 1L8.5 8.5l.94-2.06 2.06-.94-2.06-.94L8.5 2.5l-.94 2.06-2.06.94zm10 10l.94 2.06.94-2.06 2.06-.94-2.06-.94-.94-2.06-.94 2.06-2.06.94z\"/><path d=\"M17.41 7.96l-1.37-1.37c-.4-.4-.92-.59-1.43-.59-.52 0-1.04.2-1.43.59L10.3 9.45l-7.72 7.72c-.78.78-.78 2.05 0 2.83L4 21.41c.39.39.9.59 1.41.59.51 0 1.02-.2 1.41-.59l7.78-7.78 2.81-2.81c.8-.78.8-2.07 0-2.86zM5.41 20L4 18.59l7.72-7.72 1.47 1.35L5.41 20z\"/>\n",
       "  </svg>\n",
       "      </button>\n",
       "      \n",
       "  <style>\n",
       "    .colab-df-container {\n",
       "      display:flex;\n",
       "      flex-wrap:wrap;\n",
       "      gap: 12px;\n",
       "    }\n",
       "\n",
       "    .colab-df-convert {\n",
       "      background-color: #E8F0FE;\n",
       "      border: none;\n",
       "      border-radius: 50%;\n",
       "      cursor: pointer;\n",
       "      display: none;\n",
       "      fill: #1967D2;\n",
       "      height: 32px;\n",
       "      padding: 0 0 0 0;\n",
       "      width: 32px;\n",
       "    }\n",
       "\n",
       "    .colab-df-convert:hover {\n",
       "      background-color: #E2EBFA;\n",
       "      box-shadow: 0px 1px 2px rgba(60, 64, 67, 0.3), 0px 1px 3px 1px rgba(60, 64, 67, 0.15);\n",
       "      fill: #174EA6;\n",
       "    }\n",
       "\n",
       "    [theme=dark] .colab-df-convert {\n",
       "      background-color: #3B4455;\n",
       "      fill: #D2E3FC;\n",
       "    }\n",
       "\n",
       "    [theme=dark] .colab-df-convert:hover {\n",
       "      background-color: #434B5C;\n",
       "      box-shadow: 0px 1px 3px 1px rgba(0, 0, 0, 0.15);\n",
       "      filter: drop-shadow(0px 1px 2px rgba(0, 0, 0, 0.3));\n",
       "      fill: #FFFFFF;\n",
       "    }\n",
       "  </style>\n",
       "\n",
       "      <script>\n",
       "        const buttonEl =\n",
       "          document.querySelector('#df-2432e46e-a5cd-41bc-a942-ae692e31dbb7 button.colab-df-convert');\n",
       "        buttonEl.style.display =\n",
       "          google.colab.kernel.accessAllowed ? 'block' : 'none';\n",
       "\n",
       "        async function convertToInteractive(key) {\n",
       "          const element = document.querySelector('#df-2432e46e-a5cd-41bc-a942-ae692e31dbb7');\n",
       "          const dataTable =\n",
       "            await google.colab.kernel.invokeFunction('convertToInteractive',\n",
       "                                                     [key], {});\n",
       "          if (!dataTable) return;\n",
       "\n",
       "          const docLinkHtml = 'Like what you see? Visit the ' +\n",
       "            '<a target=\"_blank\" href=https://colab.research.google.com/notebooks/data_table.ipynb>data table notebook</a>'\n",
       "            + ' to learn more about interactive tables.';\n",
       "          element.innerHTML = '';\n",
       "          dataTable['output_type'] = 'display_data';\n",
       "          await google.colab.output.renderOutput(dataTable, element);\n",
       "          const docLink = document.createElement('div');\n",
       "          docLink.innerHTML = docLinkHtml;\n",
       "          element.appendChild(docLink);\n",
       "        }\n",
       "      </script>\n",
       "    </div>\n",
       "  </div>\n",
       "  "
      ],
      "text/plain": [
       "                  comp         round   day venue result   opponent  \\\n",
       "count             1820          1820  1820  1820   1820       1820   \n",
       "unique               1            38     7     2      3         14   \n",
       "top     Premier League  Matchweek 10   Sat  Away      L  Tottenham   \n",
       "freq              1820            52   782   910    693        130   \n",
       "\n",
       "            captain formation         referee  match report             team  \n",
       "count          1820      1820            1820          1820             1820  \n",
       "unique          106        19              29             1               14  \n",
       "top     Hugo Lloris   4-2-3-1  Anthony Taylor  Match Report  Manchester City  \n",
       "freq            115       427             166          1820              130  "
      ]
     },
     "execution_count": 23,
     "metadata": {},
     "output_type": "execute_result"
    }
   ],
   "source": [
    "match_df.describe(include='O')"
   ]
  },
  {
   "cell_type": "markdown",
   "id": "9eb06025",
   "metadata": {
    "id": "9a38d9c5"
   },
   "source": [
    "As we can observe, the column 'comp' and 'match report' has only one unique category. So, these columns won't add any valuable information in the prediction process. Moreover, the features 'referee' and 'captain' are not generalizable. It is highly liklely that a new referee or captain can be found in the test dataset, which may hurt the performance of machine learning algorithm. We can safely drop these columns. Other categorical columns need to be encoded properly in the feature engineering stage."
   ]
  },
  {
   "cell_type": "code",
   "execution_count": 24,
   "id": "b9067d44",
   "metadata": {
    "executionInfo": {
     "elapsed": 14,
     "status": "ok",
     "timestamp": 1671250842681,
     "user": {
      "displayName": "Apurba Saha",
      "userId": "15169800888831502649"
     },
     "user_tz": 420
    },
    "id": "TX5ntNZ2ZWuW"
   },
   "outputs": [],
   "source": [
    "match_df.drop(['comp', 'match report', 'referee', 'captain'], axis=1, inplace=True)"
   ]
  },
  {
   "cell_type": "code",
   "execution_count": 25,
   "id": "972a3b86",
   "metadata": {
    "colab": {
     "base_uri": "https://localhost:8080/",
     "height": 235
    },
    "executionInfo": {
     "elapsed": 11,
     "status": "ok",
     "timestamp": 1671250843068,
     "user": {
      "displayName": "Apurba Saha",
      "userId": "15169800888831502649"
     },
     "user_tz": 420
    },
    "id": "887076ee",
    "outputId": "a52e6c69-6559-45f2-b0e7-6ff86c75ddc7"
   },
   "outputs": [
    {
     "data": {
      "text/html": [
       "\n",
       "  <div id=\"df-9e03b50d-5169-468a-ae0d-964c8595bab5\">\n",
       "    <div class=\"colab-df-container\">\n",
       "      <div>\n",
       "<style scoped>\n",
       "    .dataframe tbody tr th:only-of-type {\n",
       "        vertical-align: middle;\n",
       "    }\n",
       "\n",
       "    .dataframe tbody tr th {\n",
       "        vertical-align: top;\n",
       "    }\n",
       "\n",
       "    .dataframe thead th {\n",
       "        text-align: right;\n",
       "    }\n",
       "</style>\n",
       "<table border=\"1\" class=\"dataframe\">\n",
       "  <thead>\n",
       "    <tr style=\"text-align: right;\">\n",
       "      <th></th>\n",
       "      <th>date</th>\n",
       "      <th>round</th>\n",
       "      <th>day</th>\n",
       "      <th>venue</th>\n",
       "      <th>result</th>\n",
       "      <th>gf</th>\n",
       "      <th>ga</th>\n",
       "      <th>opponent</th>\n",
       "      <th>xg</th>\n",
       "      <th>xga</th>\n",
       "      <th>...</th>\n",
       "      <th>formation</th>\n",
       "      <th>sh</th>\n",
       "      <th>sot</th>\n",
       "      <th>dist</th>\n",
       "      <th>fk</th>\n",
       "      <th>pk</th>\n",
       "      <th>pkatt</th>\n",
       "      <th>season</th>\n",
       "      <th>team</th>\n",
       "      <th>hour</th>\n",
       "    </tr>\n",
       "  </thead>\n",
       "  <tbody>\n",
       "    <tr>\n",
       "      <th>0</th>\n",
       "      <td>2021-08-15</td>\n",
       "      <td>Matchweek 1</td>\n",
       "      <td>Sun</td>\n",
       "      <td>Away</td>\n",
       "      <td>L</td>\n",
       "      <td>0</td>\n",
       "      <td>1</td>\n",
       "      <td>Tottenham</td>\n",
       "      <td>2.0</td>\n",
       "      <td>1.0</td>\n",
       "      <td>...</td>\n",
       "      <td>4-3-3</td>\n",
       "      <td>18.0</td>\n",
       "      <td>4.0</td>\n",
       "      <td>17.3</td>\n",
       "      <td>1.0</td>\n",
       "      <td>0.0</td>\n",
       "      <td>0.0</td>\n",
       "      <td>2022</td>\n",
       "      <td>Manchester City</td>\n",
       "      <td>16</td>\n",
       "    </tr>\n",
       "    <tr>\n",
       "      <th>2</th>\n",
       "      <td>2021-08-28</td>\n",
       "      <td>Matchweek 3</td>\n",
       "      <td>Sat</td>\n",
       "      <td>Home</td>\n",
       "      <td>W</td>\n",
       "      <td>5</td>\n",
       "      <td>0</td>\n",
       "      <td>Arsenal</td>\n",
       "      <td>4.0</td>\n",
       "      <td>0.2</td>\n",
       "      <td>...</td>\n",
       "      <td>4-3-3</td>\n",
       "      <td>25.0</td>\n",
       "      <td>10.0</td>\n",
       "      <td>14.8</td>\n",
       "      <td>0.0</td>\n",
       "      <td>0.0</td>\n",
       "      <td>0.0</td>\n",
       "      <td>2022</td>\n",
       "      <td>Manchester City</td>\n",
       "      <td>12</td>\n",
       "    </tr>\n",
       "    <tr>\n",
       "      <th>3</th>\n",
       "      <td>2021-09-11</td>\n",
       "      <td>Matchweek 4</td>\n",
       "      <td>Sat</td>\n",
       "      <td>Away</td>\n",
       "      <td>W</td>\n",
       "      <td>1</td>\n",
       "      <td>0</td>\n",
       "      <td>Leicester City</td>\n",
       "      <td>3.3</td>\n",
       "      <td>0.6</td>\n",
       "      <td>...</td>\n",
       "      <td>4-3-3</td>\n",
       "      <td>25.0</td>\n",
       "      <td>8.0</td>\n",
       "      <td>14.3</td>\n",
       "      <td>0.0</td>\n",
       "      <td>0.0</td>\n",
       "      <td>0.0</td>\n",
       "      <td>2022</td>\n",
       "      <td>Manchester City</td>\n",
       "      <td>15</td>\n",
       "    </tr>\n",
       "    <tr>\n",
       "      <th>4</th>\n",
       "      <td>2021-09-18</td>\n",
       "      <td>Matchweek 5</td>\n",
       "      <td>Sat</td>\n",
       "      <td>Home</td>\n",
       "      <td>D</td>\n",
       "      <td>0</td>\n",
       "      <td>0</td>\n",
       "      <td>Southampton</td>\n",
       "      <td>1.2</td>\n",
       "      <td>0.5</td>\n",
       "      <td>...</td>\n",
       "      <td>4-3-3</td>\n",
       "      <td>16.0</td>\n",
       "      <td>1.0</td>\n",
       "      <td>16.4</td>\n",
       "      <td>1.0</td>\n",
       "      <td>0.0</td>\n",
       "      <td>0.0</td>\n",
       "      <td>2022</td>\n",
       "      <td>Manchester City</td>\n",
       "      <td>15</td>\n",
       "    </tr>\n",
       "    <tr>\n",
       "      <th>5</th>\n",
       "      <td>2021-09-25</td>\n",
       "      <td>Matchweek 6</td>\n",
       "      <td>Sat</td>\n",
       "      <td>Away</td>\n",
       "      <td>W</td>\n",
       "      <td>1</td>\n",
       "      <td>0</td>\n",
       "      <td>Chelsea</td>\n",
       "      <td>1.4</td>\n",
       "      <td>0.2</td>\n",
       "      <td>...</td>\n",
       "      <td>4-3-3</td>\n",
       "      <td>15.0</td>\n",
       "      <td>3.0</td>\n",
       "      <td>17.1</td>\n",
       "      <td>0.0</td>\n",
       "      <td>0.0</td>\n",
       "      <td>0.0</td>\n",
       "      <td>2022</td>\n",
       "      <td>Manchester City</td>\n",
       "      <td>12</td>\n",
       "    </tr>\n",
       "  </tbody>\n",
       "</table>\n",
       "<p>5 rows × 22 columns</p>\n",
       "</div>\n",
       "      <button class=\"colab-df-convert\" onclick=\"convertToInteractive('df-9e03b50d-5169-468a-ae0d-964c8595bab5')\"\n",
       "              title=\"Convert this dataframe to an interactive table.\"\n",
       "              style=\"display:none;\">\n",
       "        \n",
       "  <svg xmlns=\"http://www.w3.org/2000/svg\" height=\"24px\"viewBox=\"0 0 24 24\"\n",
       "       width=\"24px\">\n",
       "    <path d=\"M0 0h24v24H0V0z\" fill=\"none\"/>\n",
       "    <path d=\"M18.56 5.44l.94 2.06.94-2.06 2.06-.94-2.06-.94-.94-2.06-.94 2.06-2.06.94zm-11 1L8.5 8.5l.94-2.06 2.06-.94-2.06-.94L8.5 2.5l-.94 2.06-2.06.94zm10 10l.94 2.06.94-2.06 2.06-.94-2.06-.94-.94-2.06-.94 2.06-2.06.94z\"/><path d=\"M17.41 7.96l-1.37-1.37c-.4-.4-.92-.59-1.43-.59-.52 0-1.04.2-1.43.59L10.3 9.45l-7.72 7.72c-.78.78-.78 2.05 0 2.83L4 21.41c.39.39.9.59 1.41.59.51 0 1.02-.2 1.41-.59l7.78-7.78 2.81-2.81c.8-.78.8-2.07 0-2.86zM5.41 20L4 18.59l7.72-7.72 1.47 1.35L5.41 20z\"/>\n",
       "  </svg>\n",
       "      </button>\n",
       "      \n",
       "  <style>\n",
       "    .colab-df-container {\n",
       "      display:flex;\n",
       "      flex-wrap:wrap;\n",
       "      gap: 12px;\n",
       "    }\n",
       "\n",
       "    .colab-df-convert {\n",
       "      background-color: #E8F0FE;\n",
       "      border: none;\n",
       "      border-radius: 50%;\n",
       "      cursor: pointer;\n",
       "      display: none;\n",
       "      fill: #1967D2;\n",
       "      height: 32px;\n",
       "      padding: 0 0 0 0;\n",
       "      width: 32px;\n",
       "    }\n",
       "\n",
       "    .colab-df-convert:hover {\n",
       "      background-color: #E2EBFA;\n",
       "      box-shadow: 0px 1px 2px rgba(60, 64, 67, 0.3), 0px 1px 3px 1px rgba(60, 64, 67, 0.15);\n",
       "      fill: #174EA6;\n",
       "    }\n",
       "\n",
       "    [theme=dark] .colab-df-convert {\n",
       "      background-color: #3B4455;\n",
       "      fill: #D2E3FC;\n",
       "    }\n",
       "\n",
       "    [theme=dark] .colab-df-convert:hover {\n",
       "      background-color: #434B5C;\n",
       "      box-shadow: 0px 1px 3px 1px rgba(0, 0, 0, 0.15);\n",
       "      filter: drop-shadow(0px 1px 2px rgba(0, 0, 0, 0.3));\n",
       "      fill: #FFFFFF;\n",
       "    }\n",
       "  </style>\n",
       "\n",
       "      <script>\n",
       "        const buttonEl =\n",
       "          document.querySelector('#df-9e03b50d-5169-468a-ae0d-964c8595bab5 button.colab-df-convert');\n",
       "        buttonEl.style.display =\n",
       "          google.colab.kernel.accessAllowed ? 'block' : 'none';\n",
       "\n",
       "        async function convertToInteractive(key) {\n",
       "          const element = document.querySelector('#df-9e03b50d-5169-468a-ae0d-964c8595bab5');\n",
       "          const dataTable =\n",
       "            await google.colab.kernel.invokeFunction('convertToInteractive',\n",
       "                                                     [key], {});\n",
       "          if (!dataTable) return;\n",
       "\n",
       "          const docLinkHtml = 'Like what you see? Visit the ' +\n",
       "            '<a target=\"_blank\" href=https://colab.research.google.com/notebooks/data_table.ipynb>data table notebook</a>'\n",
       "            + ' to learn more about interactive tables.';\n",
       "          element.innerHTML = '';\n",
       "          dataTable['output_type'] = 'display_data';\n",
       "          await google.colab.output.renderOutput(dataTable, element);\n",
       "          const docLink = document.createElement('div');\n",
       "          docLink.innerHTML = docLinkHtml;\n",
       "          element.appendChild(docLink);\n",
       "        }\n",
       "      </script>\n",
       "    </div>\n",
       "  </div>\n",
       "  "
      ],
      "text/plain": [
       "        date        round  day venue result  gf  ga        opponent   xg  xga  \\\n",
       "0 2021-08-15  Matchweek 1  Sun  Away      L   0   1       Tottenham  2.0  1.0   \n",
       "2 2021-08-28  Matchweek 3  Sat  Home      W   5   0         Arsenal  4.0  0.2   \n",
       "3 2021-09-11  Matchweek 4  Sat  Away      W   1   0  Leicester City  3.3  0.6   \n",
       "4 2021-09-18  Matchweek 5  Sat  Home      D   0   0     Southampton  1.2  0.5   \n",
       "5 2021-09-25  Matchweek 6  Sat  Away      W   1   0         Chelsea  1.4  0.2   \n",
       "\n",
       "   ...  formation    sh   sot  dist   fk   pk  pkatt  season             team  \\\n",
       "0  ...      4-3-3  18.0   4.0  17.3  1.0  0.0    0.0    2022  Manchester City   \n",
       "2  ...      4-3-3  25.0  10.0  14.8  0.0  0.0    0.0    2022  Manchester City   \n",
       "3  ...      4-3-3  25.0   8.0  14.3  0.0  0.0    0.0    2022  Manchester City   \n",
       "4  ...      4-3-3  16.0   1.0  16.4  1.0  0.0    0.0    2022  Manchester City   \n",
       "5  ...      4-3-3  15.0   3.0  17.1  0.0  0.0    0.0    2022  Manchester City   \n",
       "\n",
       "   hour  \n",
       "0    16  \n",
       "2    12  \n",
       "3    15  \n",
       "4    15  \n",
       "5    12  \n",
       "\n",
       "[5 rows x 22 columns]"
      ]
     },
     "execution_count": 25,
     "metadata": {},
     "output_type": "execute_result"
    }
   ],
   "source": [
    "match_df.head()"
   ]
  },
  {
   "cell_type": "markdown",
   "id": "61f1d6d5",
   "metadata": {
    "id": "-88PO45AaP0r"
   },
   "source": [
    "It's time to perform exploratory data analysis on numerical variables"
   ]
  },
  {
   "cell_type": "code",
   "execution_count": 26,
   "id": "cea6bcf0",
   "metadata": {
    "colab": {
     "base_uri": "https://localhost:8080/",
     "height": 364
    },
    "executionInfo": {
     "elapsed": 11,
     "status": "ok",
     "timestamp": 1671250843069,
     "user": {
      "displayName": "Apurba Saha",
      "userId": "15169800888831502649"
     },
     "user_tz": 420
    },
    "id": "52a71a59",
    "outputId": "2e5f50a4-5c52-4ff4-c7f0-6d1af0652e89"
   },
   "outputs": [
    {
     "data": {
      "text/html": [
       "\n",
       "  <div id=\"df-350f3d76-cabb-452e-afb4-cd39f51c179b\">\n",
       "    <div class=\"colab-df-container\">\n",
       "      <div>\n",
       "<style scoped>\n",
       "    .dataframe tbody tr th:only-of-type {\n",
       "        vertical-align: middle;\n",
       "    }\n",
       "\n",
       "    .dataframe tbody tr th {\n",
       "        vertical-align: top;\n",
       "    }\n",
       "\n",
       "    .dataframe thead th {\n",
       "        text-align: right;\n",
       "    }\n",
       "</style>\n",
       "<table border=\"1\" class=\"dataframe\">\n",
       "  <thead>\n",
       "    <tr style=\"text-align: right;\">\n",
       "      <th></th>\n",
       "      <th>gf</th>\n",
       "      <th>ga</th>\n",
       "      <th>xg</th>\n",
       "      <th>xga</th>\n",
       "      <th>poss</th>\n",
       "      <th>attendance</th>\n",
       "      <th>sh</th>\n",
       "      <th>sot</th>\n",
       "      <th>dist</th>\n",
       "      <th>fk</th>\n",
       "      <th>pk</th>\n",
       "      <th>pkatt</th>\n",
       "      <th>season</th>\n",
       "      <th>hour</th>\n",
       "    </tr>\n",
       "  </thead>\n",
       "  <tbody>\n",
       "    <tr>\n",
       "      <th>count</th>\n",
       "      <td>1820.000000</td>\n",
       "      <td>1820.000000</td>\n",
       "      <td>1820.000000</td>\n",
       "      <td>1820.000000</td>\n",
       "      <td>1820.000000</td>\n",
       "      <td>1406.000000</td>\n",
       "      <td>1820.000000</td>\n",
       "      <td>1820.000000</td>\n",
       "      <td>1819.000000</td>\n",
       "      <td>1820.000000</td>\n",
       "      <td>1820.000000</td>\n",
       "      <td>1820.000000</td>\n",
       "      <td>1820.000000</td>\n",
       "      <td>1820.000000</td>\n",
       "    </tr>\n",
       "    <tr>\n",
       "      <th>mean</th>\n",
       "      <td>1.414835</td>\n",
       "      <td>1.414835</td>\n",
       "      <td>1.350989</td>\n",
       "      <td>1.350989</td>\n",
       "      <td>50.001648</td>\n",
       "      <td>43946.085349</td>\n",
       "      <td>12.280220</td>\n",
       "      <td>4.110989</td>\n",
       "      <td>17.683837</td>\n",
       "      <td>0.456044</td>\n",
       "      <td>0.106593</td>\n",
       "      <td>0.136813</td>\n",
       "      <td>2020.000000</td>\n",
       "      <td>16.169231</td>\n",
       "    </tr>\n",
       "    <tr>\n",
       "      <th>std</th>\n",
       "      <td>1.266518</td>\n",
       "      <td>1.266518</td>\n",
       "      <td>0.806021</td>\n",
       "      <td>0.806021</td>\n",
       "      <td>13.375718</td>\n",
       "      <td>16739.265305</td>\n",
       "      <td>5.564213</td>\n",
       "      <td>2.442025</td>\n",
       "      <td>3.146458</td>\n",
       "      <td>0.670383</td>\n",
       "      <td>0.327686</td>\n",
       "      <td>0.365449</td>\n",
       "      <td>1.414602</td>\n",
       "      <td>2.534412</td>\n",
       "    </tr>\n",
       "    <tr>\n",
       "      <th>min</th>\n",
       "      <td>0.000000</td>\n",
       "      <td>0.000000</td>\n",
       "      <td>0.000000</td>\n",
       "      <td>0.000000</td>\n",
       "      <td>18.000000</td>\n",
       "      <td>2000.000000</td>\n",
       "      <td>0.000000</td>\n",
       "      <td>0.000000</td>\n",
       "      <td>5.300000</td>\n",
       "      <td>0.000000</td>\n",
       "      <td>0.000000</td>\n",
       "      <td>0.000000</td>\n",
       "      <td>2018.000000</td>\n",
       "      <td>12.000000</td>\n",
       "    </tr>\n",
       "    <tr>\n",
       "      <th>25%</th>\n",
       "      <td>0.000000</td>\n",
       "      <td>0.000000</td>\n",
       "      <td>0.800000</td>\n",
       "      <td>0.800000</td>\n",
       "      <td>39.000000</td>\n",
       "      <td>30665.250000</td>\n",
       "      <td>8.000000</td>\n",
       "      <td>2.000000</td>\n",
       "      <td>15.600000</td>\n",
       "      <td>0.000000</td>\n",
       "      <td>0.000000</td>\n",
       "      <td>0.000000</td>\n",
       "      <td>2019.000000</td>\n",
       "      <td>15.000000</td>\n",
       "    </tr>\n",
       "    <tr>\n",
       "      <th>50%</th>\n",
       "      <td>1.000000</td>\n",
       "      <td>1.000000</td>\n",
       "      <td>1.200000</td>\n",
       "      <td>1.200000</td>\n",
       "      <td>50.000000</td>\n",
       "      <td>41219.000000</td>\n",
       "      <td>12.000000</td>\n",
       "      <td>4.000000</td>\n",
       "      <td>17.600000</td>\n",
       "      <td>0.000000</td>\n",
       "      <td>0.000000</td>\n",
       "      <td>0.000000</td>\n",
       "      <td>2020.000000</td>\n",
       "      <td>16.000000</td>\n",
       "    </tr>\n",
       "    <tr>\n",
       "      <th>75%</th>\n",
       "      <td>2.000000</td>\n",
       "      <td>2.000000</td>\n",
       "      <td>1.800000</td>\n",
       "      <td>1.800000</td>\n",
       "      <td>61.000000</td>\n",
       "      <td>56903.500000</td>\n",
       "      <td>16.000000</td>\n",
       "      <td>6.000000</td>\n",
       "      <td>19.500000</td>\n",
       "      <td>1.000000</td>\n",
       "      <td>0.000000</td>\n",
       "      <td>0.000000</td>\n",
       "      <td>2021.000000</td>\n",
       "      <td>19.000000</td>\n",
       "    </tr>\n",
       "    <tr>\n",
       "      <th>max</th>\n",
       "      <td>9.000000</td>\n",
       "      <td>9.000000</td>\n",
       "      <td>4.700000</td>\n",
       "      <td>4.700000</td>\n",
       "      <td>82.000000</td>\n",
       "      <td>83222.000000</td>\n",
       "      <td>36.000000</td>\n",
       "      <td>14.000000</td>\n",
       "      <td>35.000000</td>\n",
       "      <td>4.000000</td>\n",
       "      <td>3.000000</td>\n",
       "      <td>3.000000</td>\n",
       "      <td>2022.000000</td>\n",
       "      <td>20.000000</td>\n",
       "    </tr>\n",
       "  </tbody>\n",
       "</table>\n",
       "</div>\n",
       "      <button class=\"colab-df-convert\" onclick=\"convertToInteractive('df-350f3d76-cabb-452e-afb4-cd39f51c179b')\"\n",
       "              title=\"Convert this dataframe to an interactive table.\"\n",
       "              style=\"display:none;\">\n",
       "        \n",
       "  <svg xmlns=\"http://www.w3.org/2000/svg\" height=\"24px\"viewBox=\"0 0 24 24\"\n",
       "       width=\"24px\">\n",
       "    <path d=\"M0 0h24v24H0V0z\" fill=\"none\"/>\n",
       "    <path d=\"M18.56 5.44l.94 2.06.94-2.06 2.06-.94-2.06-.94-.94-2.06-.94 2.06-2.06.94zm-11 1L8.5 8.5l.94-2.06 2.06-.94-2.06-.94L8.5 2.5l-.94 2.06-2.06.94zm10 10l.94 2.06.94-2.06 2.06-.94-2.06-.94-.94-2.06-.94 2.06-2.06.94z\"/><path d=\"M17.41 7.96l-1.37-1.37c-.4-.4-.92-.59-1.43-.59-.52 0-1.04.2-1.43.59L10.3 9.45l-7.72 7.72c-.78.78-.78 2.05 0 2.83L4 21.41c.39.39.9.59 1.41.59.51 0 1.02-.2 1.41-.59l7.78-7.78 2.81-2.81c.8-.78.8-2.07 0-2.86zM5.41 20L4 18.59l7.72-7.72 1.47 1.35L5.41 20z\"/>\n",
       "  </svg>\n",
       "      </button>\n",
       "      \n",
       "  <style>\n",
       "    .colab-df-container {\n",
       "      display:flex;\n",
       "      flex-wrap:wrap;\n",
       "      gap: 12px;\n",
       "    }\n",
       "\n",
       "    .colab-df-convert {\n",
       "      background-color: #E8F0FE;\n",
       "      border: none;\n",
       "      border-radius: 50%;\n",
       "      cursor: pointer;\n",
       "      display: none;\n",
       "      fill: #1967D2;\n",
       "      height: 32px;\n",
       "      padding: 0 0 0 0;\n",
       "      width: 32px;\n",
       "    }\n",
       "\n",
       "    .colab-df-convert:hover {\n",
       "      background-color: #E2EBFA;\n",
       "      box-shadow: 0px 1px 2px rgba(60, 64, 67, 0.3), 0px 1px 3px 1px rgba(60, 64, 67, 0.15);\n",
       "      fill: #174EA6;\n",
       "    }\n",
       "\n",
       "    [theme=dark] .colab-df-convert {\n",
       "      background-color: #3B4455;\n",
       "      fill: #D2E3FC;\n",
       "    }\n",
       "\n",
       "    [theme=dark] .colab-df-convert:hover {\n",
       "      background-color: #434B5C;\n",
       "      box-shadow: 0px 1px 3px 1px rgba(0, 0, 0, 0.15);\n",
       "      filter: drop-shadow(0px 1px 2px rgba(0, 0, 0, 0.3));\n",
       "      fill: #FFFFFF;\n",
       "    }\n",
       "  </style>\n",
       "\n",
       "      <script>\n",
       "        const buttonEl =\n",
       "          document.querySelector('#df-350f3d76-cabb-452e-afb4-cd39f51c179b button.colab-df-convert');\n",
       "        buttonEl.style.display =\n",
       "          google.colab.kernel.accessAllowed ? 'block' : 'none';\n",
       "\n",
       "        async function convertToInteractive(key) {\n",
       "          const element = document.querySelector('#df-350f3d76-cabb-452e-afb4-cd39f51c179b');\n",
       "          const dataTable =\n",
       "            await google.colab.kernel.invokeFunction('convertToInteractive',\n",
       "                                                     [key], {});\n",
       "          if (!dataTable) return;\n",
       "\n",
       "          const docLinkHtml = 'Like what you see? Visit the ' +\n",
       "            '<a target=\"_blank\" href=https://colab.research.google.com/notebooks/data_table.ipynb>data table notebook</a>'\n",
       "            + ' to learn more about interactive tables.';\n",
       "          element.innerHTML = '';\n",
       "          dataTable['output_type'] = 'display_data';\n",
       "          await google.colab.output.renderOutput(dataTable, element);\n",
       "          const docLink = document.createElement('div');\n",
       "          docLink.innerHTML = docLinkHtml;\n",
       "          element.appendChild(docLink);\n",
       "        }\n",
       "      </script>\n",
       "    </div>\n",
       "  </div>\n",
       "  "
      ],
      "text/plain": [
       "                gf           ga           xg          xga         poss  \\\n",
       "count  1820.000000  1820.000000  1820.000000  1820.000000  1820.000000   \n",
       "mean      1.414835     1.414835     1.350989     1.350989    50.001648   \n",
       "std       1.266518     1.266518     0.806021     0.806021    13.375718   \n",
       "min       0.000000     0.000000     0.000000     0.000000    18.000000   \n",
       "25%       0.000000     0.000000     0.800000     0.800000    39.000000   \n",
       "50%       1.000000     1.000000     1.200000     1.200000    50.000000   \n",
       "75%       2.000000     2.000000     1.800000     1.800000    61.000000   \n",
       "max       9.000000     9.000000     4.700000     4.700000    82.000000   \n",
       "\n",
       "         attendance           sh          sot         dist           fk  \\\n",
       "count   1406.000000  1820.000000  1820.000000  1819.000000  1820.000000   \n",
       "mean   43946.085349    12.280220     4.110989    17.683837     0.456044   \n",
       "std    16739.265305     5.564213     2.442025     3.146458     0.670383   \n",
       "min     2000.000000     0.000000     0.000000     5.300000     0.000000   \n",
       "25%    30665.250000     8.000000     2.000000    15.600000     0.000000   \n",
       "50%    41219.000000    12.000000     4.000000    17.600000     0.000000   \n",
       "75%    56903.500000    16.000000     6.000000    19.500000     1.000000   \n",
       "max    83222.000000    36.000000    14.000000    35.000000     4.000000   \n",
       "\n",
       "                pk        pkatt       season         hour  \n",
       "count  1820.000000  1820.000000  1820.000000  1820.000000  \n",
       "mean      0.106593     0.136813  2020.000000    16.169231  \n",
       "std       0.327686     0.365449     1.414602     2.534412  \n",
       "min       0.000000     0.000000  2018.000000    12.000000  \n",
       "25%       0.000000     0.000000  2019.000000    15.000000  \n",
       "50%       0.000000     0.000000  2020.000000    16.000000  \n",
       "75%       0.000000     0.000000  2021.000000    19.000000  \n",
       "max       3.000000     3.000000  2022.000000    20.000000  "
      ]
     },
     "execution_count": 26,
     "metadata": {},
     "output_type": "execute_result"
    }
   ],
   "source": [
    "match_df.describe(exclude=['O', 'datetime64'])"
   ]
  },
  {
   "cell_type": "code",
   "execution_count": 27,
   "id": "155c1569",
   "metadata": {
    "colab": {
     "base_uri": "https://localhost:8080/"
    },
    "executionInfo": {
     "elapsed": 10,
     "status": "ok",
     "timestamp": 1671250843069,
     "user": {
      "displayName": "Apurba Saha",
      "userId": "15169800888831502649"
     },
     "user_tz": 420
    },
    "id": "70975797",
    "outputId": "02db169c-2edf-44df-aa85-59b6c9d7fcec"
   },
   "outputs": [
    {
     "data": {
      "text/plain": [
       "['gf',\n",
       " 'ga',\n",
       " 'xg',\n",
       " 'xga',\n",
       " 'poss',\n",
       " 'attendance',\n",
       " 'sh',\n",
       " 'sot',\n",
       " 'dist',\n",
       " 'fk',\n",
       " 'pk',\n",
       " 'pkatt',\n",
       " 'season',\n",
       " 'hour']"
      ]
     },
     "execution_count": 27,
     "metadata": {},
     "output_type": "execute_result"
    }
   ],
   "source": [
    "numerical_columns = match_df.select_dtypes(include=np.number).columns.tolist()\n",
    "numerical_columns"
   ]
  },
  {
   "cell_type": "code",
   "execution_count": 28,
   "id": "0b0d9a79",
   "metadata": {
    "colab": {
     "base_uri": "https://localhost:8080/",
     "height": 1000
    },
    "executionInfo": {
     "elapsed": 1905,
     "status": "ok",
     "timestamp": 1671250844966,
     "user": {
      "displayName": "Apurba Saha",
      "userId": "15169800888831502649"
     },
     "user_tz": 420
    },
    "id": "0c6b515b",
    "outputId": "328d203f-0211-4281-eb00-c1d52160c794"
   },
   "outputs": [
    {
     "name": "stderr",
     "output_type": "stream",
     "text": [
      "/usr/local/lib/python3.8/dist-packages/seaborn/_decorators.py:36: FutureWarning: Pass the following variable as a keyword arg: x. From version 0.12, the only valid positional argument will be `data`, and passing other arguments without an explicit keyword will result in an error or misinterpretation.\n",
      "  warnings.warn(\n",
      "/usr/local/lib/python3.8/dist-packages/seaborn/_decorators.py:36: FutureWarning: Pass the following variable as a keyword arg: x. From version 0.12, the only valid positional argument will be `data`, and passing other arguments without an explicit keyword will result in an error or misinterpretation.\n",
      "  warnings.warn(\n",
      "/usr/local/lib/python3.8/dist-packages/seaborn/_decorators.py:36: FutureWarning: Pass the following variable as a keyword arg: x. From version 0.12, the only valid positional argument will be `data`, and passing other arguments without an explicit keyword will result in an error or misinterpretation.\n",
      "  warnings.warn(\n",
      "/usr/local/lib/python3.8/dist-packages/seaborn/_decorators.py:36: FutureWarning: Pass the following variable as a keyword arg: x. From version 0.12, the only valid positional argument will be `data`, and passing other arguments without an explicit keyword will result in an error or misinterpretation.\n",
      "  warnings.warn(\n",
      "/usr/local/lib/python3.8/dist-packages/seaborn/_decorators.py:36: FutureWarning: Pass the following variable as a keyword arg: x. From version 0.12, the only valid positional argument will be `data`, and passing other arguments without an explicit keyword will result in an error or misinterpretation.\n",
      "  warnings.warn(\n",
      "/usr/local/lib/python3.8/dist-packages/seaborn/_decorators.py:36: FutureWarning: Pass the following variable as a keyword arg: x. From version 0.12, the only valid positional argument will be `data`, and passing other arguments without an explicit keyword will result in an error or misinterpretation.\n",
      "  warnings.warn(\n",
      "/usr/local/lib/python3.8/dist-packages/seaborn/_decorators.py:36: FutureWarning: Pass the following variable as a keyword arg: x. From version 0.12, the only valid positional argument will be `data`, and passing other arguments without an explicit keyword will result in an error or misinterpretation.\n",
      "  warnings.warn(\n",
      "/usr/local/lib/python3.8/dist-packages/seaborn/_decorators.py:36: FutureWarning: Pass the following variable as a keyword arg: x. From version 0.12, the only valid positional argument will be `data`, and passing other arguments without an explicit keyword will result in an error or misinterpretation.\n",
      "  warnings.warn(\n",
      "/usr/local/lib/python3.8/dist-packages/seaborn/_decorators.py:36: FutureWarning: Pass the following variable as a keyword arg: x. From version 0.12, the only valid positional argument will be `data`, and passing other arguments without an explicit keyword will result in an error or misinterpretation.\n",
      "  warnings.warn(\n",
      "/usr/local/lib/python3.8/dist-packages/seaborn/_decorators.py:36: FutureWarning: Pass the following variable as a keyword arg: x. From version 0.12, the only valid positional argument will be `data`, and passing other arguments without an explicit keyword will result in an error or misinterpretation.\n",
      "  warnings.warn(\n",
      "/usr/local/lib/python3.8/dist-packages/seaborn/_decorators.py:36: FutureWarning: Pass the following variable as a keyword arg: x. From version 0.12, the only valid positional argument will be `data`, and passing other arguments without an explicit keyword will result in an error or misinterpretation.\n",
      "  warnings.warn(\n",
      "/usr/local/lib/python3.8/dist-packages/seaborn/_decorators.py:36: FutureWarning: Pass the following variable as a keyword arg: x. From version 0.12, the only valid positional argument will be `data`, and passing other arguments without an explicit keyword will result in an error or misinterpretation.\n",
      "  warnings.warn(\n",
      "/usr/local/lib/python3.8/dist-packages/seaborn/_decorators.py:36: FutureWarning: Pass the following variable as a keyword arg: x. From version 0.12, the only valid positional argument will be `data`, and passing other arguments without an explicit keyword will result in an error or misinterpretation.\n",
      "  warnings.warn(\n",
      "/usr/local/lib/python3.8/dist-packages/seaborn/_decorators.py:36: FutureWarning: Pass the following variable as a keyword arg: x. From version 0.12, the only valid positional argument will be `data`, and passing other arguments without an explicit keyword will result in an error or misinterpretation.\n",
      "  warnings.warn(\n"
     ]
    },
    {
     "data": {
      "image/png": "[encoded data removed]",
      "text/plain": [
       "<Figure size 720x1800 with 14 Axes>"
      ]
     },
     "metadata": {
      "needs_background": "light"
     },
     "output_type": "display_data"
    }
   ],
   "source": [
    "nrow = 7\n",
    "ncol = 2\n",
    "index = 0\n",
    "fig, axs = plt.subplots(nrow, ncol, figsize = (10,25))\n",
    "for i in range(nrow):\n",
    "    for j in range(ncol):\n",
    "        label = numerical_columns[index]\n",
    "        sns.boxplot(match_df[label], ax=axs[i][j]).set_title(label)\n",
    "        index += 1       \n",
    "fig.tight_layout()\n",
    "plt.show()"
   ]
  },
  {
   "cell_type": "code",
   "execution_count": 29,
   "id": "410e46b8",
   "metadata": {
    "colab": {
     "base_uri": "https://localhost:8080/",
     "height": 1000
    },
    "executionInfo": {
     "elapsed": 3116,
     "status": "ok",
     "timestamp": 1671250848077,
     "user": {
      "displayName": "Apurba Saha",
      "userId": "15169800888831502649"
     },
     "user_tz": 420
    },
    "id": "ad44ae97",
    "outputId": "1e2fc473-e3eb-4ffe-c74c-b197c9ec7575"
   },
   "outputs": [
    {
     "data": {
      "image/png": "[encoded data removed]",
      "text/plain": [
       "<Figure size 720x1800 with 14 Axes>"
      ]
     },
     "metadata": {
      "needs_background": "light"
     },
     "output_type": "display_data"
    }
   ],
   "source": [
    "nrow = 7\n",
    "ncol = 2\n",
    "index = 0\n",
    "fig, axs = plt.subplots(nrow, ncol, figsize = (10,25))\n",
    "for i in range(nrow):\n",
    "    for j in range(ncol):\n",
    "        label = numerical_columns[index]\n",
    "        sns.histplot(match_df[label], ax=axs[i][j]).set_title(label)\n",
    "        index += 1       \n",
    "fig.tight_layout()\n",
    "plt.show()"
   ]
  },
  {
   "cell_type": "markdown",
   "id": "8fbf0316",
   "metadata": {
    "id": "b3bb1643"
   },
   "source": [
    "From the boxplots and histograms, it is clear that outliers are present in the dataset. But as these data are collected from actual matches, and there was no data collection error, we cannot just remove the outliers. Instead, we need to use a classification algorithm that is not sensitive to outliers."
   ]
  },
  {
   "cell_type": "code",
   "execution_count": 30,
   "id": "46cd2e5e",
   "metadata": {
    "colab": {
     "base_uri": "https://localhost:8080/"
    },
    "executionInfo": {
     "elapsed": 47,
     "status": "ok",
     "timestamp": 1671250848078,
     "user": {
      "displayName": "Apurba Saha",
      "userId": "15169800888831502649"
     },
     "user_tz": 420
    },
    "id": "eb876ddb",
    "outputId": "ed9aa5e5-7e6c-4f26-d650-e21f3d7f034f"
   },
   "outputs": [
    {
     "data": {
      "text/plain": [
       "Index(['date', 'round', 'day', 'venue', 'result', 'gf', 'ga', 'opponent', 'xg',\n",
       "       'xga', 'poss', 'attendance', 'formation', 'sh', 'sot', 'dist', 'fk',\n",
       "       'pk', 'pkatt', 'season', 'team', 'hour'],\n",
       "      dtype='object')"
      ]
     },
     "execution_count": 30,
     "metadata": {},
     "output_type": "execute_result"
    }
   ],
   "source": [
    "match_df.columns"
   ]
  },
  {
   "cell_type": "markdown",
   "id": "ac7a0b50",
   "metadata": {
    "id": "eb086c73"
   },
   "source": [
    "Before moving to the feature engineering step, let's split the dataset into training and test data."
   ]
  },
  {
   "cell_type": "code",
   "execution_count": 31,
   "id": "fbc6552d",
   "metadata": {
    "colab": {
     "base_uri": "https://localhost:8080/"
    },
    "executionInfo": {
     "elapsed": 42,
     "status": "ok",
     "timestamp": 1671250848080,
     "user": {
      "displayName": "Apurba Saha",
      "userId": "15169800888831502649"
     },
     "user_tz": 420
    },
    "id": "5fb1bb3e",
    "outputId": "626ed1e5-c254-48c9-d7c3-d05ef53db3cd",
    "scrolled": true
   },
   "outputs": [
    {
     "data": {
      "text/plain": [
       "season\n",
       "2018    364\n",
       "2019    364\n",
       "2020    364\n",
       "2021    364\n",
       "2022    364\n",
       "Name: date, dtype: int64"
      ]
     },
     "execution_count": 31,
     "metadata": {},
     "output_type": "execute_result"
    }
   ],
   "source": [
    "match_df.groupby([\"season\"])['date'].count()"
   ]
  },
  {
   "cell_type": "markdown",
   "id": "dab53c69",
   "metadata": {
    "id": "af667732"
   },
   "source": [
    "We reserve the match records for season 2022 as the test data. All other seasons are included in the training dataset"
   ]
  },
  {
   "cell_type": "code",
   "execution_count": 32,
   "id": "bb7a76e2",
   "metadata": {
    "executionInfo": {
     "elapsed": 39,
     "status": "ok",
     "timestamp": 1671250848080,
     "user": {
      "displayName": "Apurba Saha",
      "userId": "15169800888831502649"
     },
     "user_tz": 420
    },
    "id": "50a5bb49"
   },
   "outputs": [],
   "source": [
    "train_data = match_df[match_df[\"season\"] != 2022]\n",
    "test_data = match_df[match_df[\"season\"] == 2022]"
   ]
  },
  {
   "cell_type": "code",
   "execution_count": 33,
   "id": "0309e17a",
   "metadata": {
    "colab": {
     "base_uri": "https://localhost:8080/"
    },
    "executionInfo": {
     "elapsed": 40,
     "status": "ok",
     "timestamp": 1671250848081,
     "user": {
      "displayName": "Apurba Saha",
      "userId": "15169800888831502649"
     },
     "user_tz": 420
    },
    "id": "ba041fee",
    "outputId": "41cf44a0-4615-4506-e5e7-e69b649f18c5",
    "scrolled": true
   },
   "outputs": [
    {
     "name": "stdout",
     "output_type": "stream",
     "text": [
      "(1456, 22)\n",
      "(364, 22)\n"
     ]
    }
   ],
   "source": [
    "train_data.reset_index(drop=True, inplace=True)\n",
    "test_data.reset_index(drop=True, inplace=True)\n",
    "print(train_data.shape)\n",
    "print(test_data.shape)"
   ]
  },
  {
   "cell_type": "code",
   "execution_count": 34,
   "id": "ecf02aaf",
   "metadata": {
    "colab": {
     "base_uri": "https://localhost:8080/",
     "height": 235
    },
    "executionInfo": {
     "elapsed": 38,
     "status": "ok",
     "timestamp": 1671250848081,
     "user": {
      "displayName": "Apurba Saha",
      "userId": "15169800888831502649"
     },
     "user_tz": 420
    },
    "id": "6fd8c262",
    "outputId": "41f1430e-706a-4acd-8772-dadff00f542a",
    "scrolled": true
   },
   "outputs": [
    {
     "data": {
      "text/html": [
       "\n",
       "  <div id=\"df-cc963d9b-eb2f-443f-bfe6-81122df87f26\">\n",
       "    <div class=\"colab-df-container\">\n",
       "      <div>\n",
       "<style scoped>\n",
       "    .dataframe tbody tr th:only-of-type {\n",
       "        vertical-align: middle;\n",
       "    }\n",
       "\n",
       "    .dataframe tbody tr th {\n",
       "        vertical-align: top;\n",
       "    }\n",
       "\n",
       "    .dataframe thead th {\n",
       "        text-align: right;\n",
       "    }\n",
       "</style>\n",
       "<table border=\"1\" class=\"dataframe\">\n",
       "  <thead>\n",
       "    <tr style=\"text-align: right;\">\n",
       "      <th></th>\n",
       "      <th>date</th>\n",
       "      <th>round</th>\n",
       "      <th>day</th>\n",
       "      <th>venue</th>\n",
       "      <th>result</th>\n",
       "      <th>gf</th>\n",
       "      <th>ga</th>\n",
       "      <th>opponent</th>\n",
       "      <th>xg</th>\n",
       "      <th>xga</th>\n",
       "      <th>...</th>\n",
       "      <th>formation</th>\n",
       "      <th>sh</th>\n",
       "      <th>sot</th>\n",
       "      <th>dist</th>\n",
       "      <th>fk</th>\n",
       "      <th>pk</th>\n",
       "      <th>pkatt</th>\n",
       "      <th>season</th>\n",
       "      <th>team</th>\n",
       "      <th>hour</th>\n",
       "    </tr>\n",
       "  </thead>\n",
       "  <tbody>\n",
       "    <tr>\n",
       "      <th>0</th>\n",
       "      <td>2020-09-27</td>\n",
       "      <td>Matchweek 3</td>\n",
       "      <td>Sun</td>\n",
       "      <td>Home</td>\n",
       "      <td>L</td>\n",
       "      <td>2</td>\n",
       "      <td>5</td>\n",
       "      <td>Leicester City</td>\n",
       "      <td>0.9</td>\n",
       "      <td>2.9</td>\n",
       "      <td>...</td>\n",
       "      <td>4-2-3-1</td>\n",
       "      <td>16.0</td>\n",
       "      <td>5.0</td>\n",
       "      <td>19.8</td>\n",
       "      <td>1.0</td>\n",
       "      <td>0.0</td>\n",
       "      <td>0.0</td>\n",
       "      <td>2021</td>\n",
       "      <td>Manchester City</td>\n",
       "      <td>16</td>\n",
       "    </tr>\n",
       "    <tr>\n",
       "      <th>1</th>\n",
       "      <td>2020-10-17</td>\n",
       "      <td>Matchweek 5</td>\n",
       "      <td>Sat</td>\n",
       "      <td>Home</td>\n",
       "      <td>W</td>\n",
       "      <td>1</td>\n",
       "      <td>0</td>\n",
       "      <td>Arsenal</td>\n",
       "      <td>1.3</td>\n",
       "      <td>0.9</td>\n",
       "      <td>...</td>\n",
       "      <td>3-1-4-2</td>\n",
       "      <td>13.0</td>\n",
       "      <td>5.0</td>\n",
       "      <td>17.7</td>\n",
       "      <td>0.0</td>\n",
       "      <td>0.0</td>\n",
       "      <td>0.0</td>\n",
       "      <td>2021</td>\n",
       "      <td>Manchester City</td>\n",
       "      <td>17</td>\n",
       "    </tr>\n",
       "    <tr>\n",
       "      <th>2</th>\n",
       "      <td>2020-10-24</td>\n",
       "      <td>Matchweek 6</td>\n",
       "      <td>Sat</td>\n",
       "      <td>Away</td>\n",
       "      <td>D</td>\n",
       "      <td>1</td>\n",
       "      <td>1</td>\n",
       "      <td>West Ham</td>\n",
       "      <td>1.0</td>\n",
       "      <td>0.3</td>\n",
       "      <td>...</td>\n",
       "      <td>4-3-3</td>\n",
       "      <td>14.0</td>\n",
       "      <td>7.0</td>\n",
       "      <td>20.9</td>\n",
       "      <td>1.0</td>\n",
       "      <td>0.0</td>\n",
       "      <td>0.0</td>\n",
       "      <td>2021</td>\n",
       "      <td>Manchester City</td>\n",
       "      <td>12</td>\n",
       "    </tr>\n",
       "    <tr>\n",
       "      <th>3</th>\n",
       "      <td>2020-11-08</td>\n",
       "      <td>Matchweek 8</td>\n",
       "      <td>Sun</td>\n",
       "      <td>Home</td>\n",
       "      <td>D</td>\n",
       "      <td>1</td>\n",
       "      <td>1</td>\n",
       "      <td>Liverpool</td>\n",
       "      <td>1.4</td>\n",
       "      <td>1.2</td>\n",
       "      <td>...</td>\n",
       "      <td>4-2-3-1</td>\n",
       "      <td>6.0</td>\n",
       "      <td>2.0</td>\n",
       "      <td>20.6</td>\n",
       "      <td>0.0</td>\n",
       "      <td>0.0</td>\n",
       "      <td>1.0</td>\n",
       "      <td>2021</td>\n",
       "      <td>Manchester City</td>\n",
       "      <td>16</td>\n",
       "    </tr>\n",
       "    <tr>\n",
       "      <th>4</th>\n",
       "      <td>2020-11-21</td>\n",
       "      <td>Matchweek 9</td>\n",
       "      <td>Sat</td>\n",
       "      <td>Away</td>\n",
       "      <td>L</td>\n",
       "      <td>0</td>\n",
       "      <td>2</td>\n",
       "      <td>Tottenham</td>\n",
       "      <td>1.4</td>\n",
       "      <td>0.7</td>\n",
       "      <td>...</td>\n",
       "      <td>4-3-3</td>\n",
       "      <td>22.0</td>\n",
       "      <td>5.0</td>\n",
       "      <td>16.0</td>\n",
       "      <td>0.0</td>\n",
       "      <td>0.0</td>\n",
       "      <td>0.0</td>\n",
       "      <td>2021</td>\n",
       "      <td>Manchester City</td>\n",
       "      <td>17</td>\n",
       "    </tr>\n",
       "  </tbody>\n",
       "</table>\n",
       "<p>5 rows × 22 columns</p>\n",
       "</div>\n",
       "      <button class=\"colab-df-convert\" onclick=\"convertToInteractive('df-cc963d9b-eb2f-443f-bfe6-81122df87f26')\"\n",
       "              title=\"Convert this dataframe to an interactive table.\"\n",
       "              style=\"display:none;\">\n",
       "        \n",
       "  <svg xmlns=\"http://www.w3.org/2000/svg\" height=\"24px\"viewBox=\"0 0 24 24\"\n",
       "       width=\"24px\">\n",
       "    <path d=\"M0 0h24v24H0V0z\" fill=\"none\"/>\n",
       "    <path d=\"M18.56 5.44l.94 2.06.94-2.06 2.06-.94-2.06-.94-.94-2.06-.94 2.06-2.06.94zm-11 1L8.5 8.5l.94-2.06 2.06-.94-2.06-.94L8.5 2.5l-.94 2.06-2.06.94zm10 10l.94 2.06.94-2.06 2.06-.94-2.06-.94-.94-2.06-.94 2.06-2.06.94z\"/><path d=\"M17.41 7.96l-1.37-1.37c-.4-.4-.92-.59-1.43-.59-.52 0-1.04.2-1.43.59L10.3 9.45l-7.72 7.72c-.78.78-.78 2.05 0 2.83L4 21.41c.39.39.9.59 1.41.59.51 0 1.02-.2 1.41-.59l7.78-7.78 2.81-2.81c.8-.78.8-2.07 0-2.86zM5.41 20L4 18.59l7.72-7.72 1.47 1.35L5.41 20z\"/>\n",
       "  </svg>\n",
       "      </button>\n",
       "      \n",
       "  <style>\n",
       "    .colab-df-container {\n",
       "      display:flex;\n",
       "      flex-wrap:wrap;\n",
       "      gap: 12px;\n",
       "    }\n",
       "\n",
       "    .colab-df-convert {\n",
       "      background-color: #E8F0FE;\n",
       "      border: none;\n",
       "      border-radius: 50%;\n",
       "      cursor: pointer;\n",
       "      display: none;\n",
       "      fill: #1967D2;\n",
       "      height: 32px;\n",
       "      padding: 0 0 0 0;\n",
       "      width: 32px;\n",
       "    }\n",
       "\n",
       "    .colab-df-convert:hover {\n",
       "      background-color: #E2EBFA;\n",
       "      box-shadow: 0px 1px 2px rgba(60, 64, 67, 0.3), 0px 1px 3px 1px rgba(60, 64, 67, 0.15);\n",
       "      fill: #174EA6;\n",
       "    }\n",
       "\n",
       "    [theme=dark] .colab-df-convert {\n",
       "      background-color: #3B4455;\n",
       "      fill: #D2E3FC;\n",
       "    }\n",
       "\n",
       "    [theme=dark] .colab-df-convert:hover {\n",
       "      background-color: #434B5C;\n",
       "      box-shadow: 0px 1px 3px 1px rgba(0, 0, 0, 0.15);\n",
       "      filter: drop-shadow(0px 1px 2px rgba(0, 0, 0, 0.3));\n",
       "      fill: #FFFFFF;\n",
       "    }\n",
       "  </style>\n",
       "\n",
       "      <script>\n",
       "        const buttonEl =\n",
       "          document.querySelector('#df-cc963d9b-eb2f-443f-bfe6-81122df87f26 button.colab-df-convert');\n",
       "        buttonEl.style.display =\n",
       "          google.colab.kernel.accessAllowed ? 'block' : 'none';\n",
       "\n",
       "        async function convertToInteractive(key) {\n",
       "          const element = document.querySelector('#df-cc963d9b-eb2f-443f-bfe6-81122df87f26');\n",
       "          const dataTable =\n",
       "            await google.colab.kernel.invokeFunction('convertToInteractive',\n",
       "                                                     [key], {});\n",
       "          if (!dataTable) return;\n",
       "\n",
       "          const docLinkHtml = 'Like what you see? Visit the ' +\n",
       "            '<a target=\"_blank\" href=https://colab.research.google.com/notebooks/data_table.ipynb>data table notebook</a>'\n",
       "            + ' to learn more about interactive tables.';\n",
       "          element.innerHTML = '';\n",
       "          dataTable['output_type'] = 'display_data';\n",
       "          await google.colab.output.renderOutput(dataTable, element);\n",
       "          const docLink = document.createElement('div');\n",
       "          docLink.innerHTML = docLinkHtml;\n",
       "          element.appendChild(docLink);\n",
       "        }\n",
       "      </script>\n",
       "    </div>\n",
       "  </div>\n",
       "  "
      ],
      "text/plain": [
       "        date        round  day venue result  gf  ga        opponent   xg  xga  \\\n",
       "0 2020-09-27  Matchweek 3  Sun  Home      L   2   5  Leicester City  0.9  2.9   \n",
       "1 2020-10-17  Matchweek 5  Sat  Home      W   1   0         Arsenal  1.3  0.9   \n",
       "2 2020-10-24  Matchweek 6  Sat  Away      D   1   1        West Ham  1.0  0.3   \n",
       "3 2020-11-08  Matchweek 8  Sun  Home      D   1   1       Liverpool  1.4  1.2   \n",
       "4 2020-11-21  Matchweek 9  Sat  Away      L   0   2       Tottenham  1.4  0.7   \n",
       "\n",
       "   ...  formation    sh  sot  dist   fk   pk  pkatt  season             team  \\\n",
       "0  ...    4-2-3-1  16.0  5.0  19.8  1.0  0.0    0.0    2021  Manchester City   \n",
       "1  ...    3-1-4-2  13.0  5.0  17.7  0.0  0.0    0.0    2021  Manchester City   \n",
       "2  ...      4-3-3  14.0  7.0  20.9  1.0  0.0    0.0    2021  Manchester City   \n",
       "3  ...    4-2-3-1   6.0  2.0  20.6  0.0  0.0    1.0    2021  Manchester City   \n",
       "4  ...      4-3-3  22.0  5.0  16.0  0.0  0.0    0.0    2021  Manchester City   \n",
       "\n",
       "   hour  \n",
       "0    16  \n",
       "1    17  \n",
       "2    12  \n",
       "3    16  \n",
       "4    17  \n",
       "\n",
       "[5 rows x 22 columns]"
      ]
     },
     "execution_count": 34,
     "metadata": {},
     "output_type": "execute_result"
    }
   ],
   "source": [
    "train_data.head()"
   ]
  },
  {
   "cell_type": "markdown",
   "id": "23553b81",
   "metadata": {
    "id": "07a0ab85"
   },
   "source": [
    "# Feature Engineering"
   ]
  },
  {
   "cell_type": "markdown",
   "id": "7ca414c9",
   "metadata": {
    "id": "12bde40e"
   },
   "source": [
    "Now let's focus on the 'attendance' column. It is noticeable that the data is missing for season 2020 and 2021. This missing values can directly be attributed to the COVID-19 restrictions imposed by the UK government. Therefore, no actual data exists for correcting these missing values. However, we can estimate the match attendance for these missing values based on prior data. For that purpose, we try to build a regression model. Before that, we need encode the categorical variables."
   ]
  },
  {
   "cell_type": "code",
   "execution_count": 35,
   "id": "f008b354",
   "metadata": {
    "colab": {
     "base_uri": "https://localhost:8080/"
    },
    "executionInfo": {
     "elapsed": 38,
     "status": "ok",
     "timestamp": 1671250848082,
     "user": {
      "displayName": "Apurba Saha",
      "userId": "15169800888831502649"
     },
     "user_tz": 420
    },
    "id": "8a423b2d",
    "outputId": "8a751b76-5b72-4cb0-9ef3-1285cfef9721"
   },
   "outputs": [
    {
     "data": {
      "text/plain": [
       "['round', 'day', 'venue', 'result', 'opponent', 'formation', 'team']"
      ]
     },
     "execution_count": 35,
     "metadata": {},
     "output_type": "execute_result"
    }
   ],
   "source": [
    "categorical_columns = train_data.select_dtypes(include=\"O\").columns.tolist()\n",
    "categorical_columns"
   ]
  },
  {
   "cell_type": "code",
   "execution_count": 36,
   "id": "f89d659f",
   "metadata": {
    "colab": {
     "base_uri": "https://localhost:8080/"
    },
    "executionInfo": {
     "elapsed": 37,
     "status": "ok",
     "timestamp": 1671250848083,
     "user": {
      "displayName": "Apurba Saha",
      "userId": "15169800888831502649"
     },
     "user_tz": 420
    },
    "id": "19479452",
    "outputId": "5062cffc-8c12-4d16-b471-05b3ca687b84",
    "scrolled": false
   },
   "outputs": [
    {
     "data": {
      "text/plain": [
       "array(['Matchweek 3', 'Matchweek 5', 'Matchweek 6', 'Matchweek 8',\n",
       "       'Matchweek 9', 'Matchweek 10', 'Matchweek 12', 'Matchweek 14',\n",
       "       'Matchweek 15', 'Matchweek 17', 'Matchweek 18', 'Matchweek 19',\n",
       "       'Matchweek 22', 'Matchweek 23', 'Matchweek 24', 'Matchweek 16',\n",
       "       'Matchweek 25', 'Matchweek 26', 'Matchweek 27', 'Matchweek 33',\n",
       "       'Matchweek 30', 'Matchweek 34', 'Matchweek 35', 'Matchweek 36',\n",
       "       'Matchweek 37', 'Matchweek 38', 'Matchweek 2', 'Matchweek 7',\n",
       "       'Matchweek 13', 'Matchweek 20', 'Matchweek 21', 'Matchweek 29',\n",
       "       'Matchweek 1', 'Matchweek 4', 'Matchweek 31', 'Matchweek 32',\n",
       "       'Matchweek 11', 'Matchweek 28'], dtype=object)"
      ]
     },
     "execution_count": 36,
     "metadata": {},
     "output_type": "execute_result"
    }
   ],
   "source": [
    "train_data[\"round\"].unique()"
   ]
  },
  {
   "cell_type": "markdown",
   "id": "431e78f7",
   "metadata": {
    "id": "aba213cd"
   },
   "source": [
    "As we can observe, the matchweek number is the only valuable information in this column. Thus, we can created a new column named \"MatchWeek\" and fill that column with the matchweek number corresponding to each match. After that, we can drop this column. We need to do the same for X_test"
   ]
  },
  {
   "cell_type": "code",
   "execution_count": 37,
   "id": "899de373",
   "metadata": {
    "colab": {
     "base_uri": "https://localhost:8080/"
    },
    "executionInfo": {
     "elapsed": 35,
     "status": "ok",
     "timestamp": 1671250848083,
     "user": {
      "displayName": "Apurba Saha",
      "userId": "15169800888831502649"
     },
     "user_tz": 420
    },
    "id": "bac197d3",
    "outputId": "c669b992-570b-4227-9fae-8f55ab37f0b8"
   },
   "outputs": [
    {
     "name": "stderr",
     "output_type": "stream",
     "text": [
      "<ipython-input-37-343085114d01>:1: SettingWithCopyWarning: \n",
      "A value is trying to be set on a copy of a slice from a DataFrame.\n",
      "Try using .loc[row_indexer,col_indexer] = value instead\n",
      "\n",
      "See the caveats in the documentation: https://pandas.pydata.org/pandas-docs/stable/user_guide/indexing.html#returning-a-view-versus-a-copy\n",
      "  train_data[\"match_week\"] = train_data[\"round\"].str.split().str[1].astype(int)\n"
     ]
    }
   ],
   "source": [
    "train_data[\"match_week\"] = train_data[\"round\"].str.split().str[1].astype(int)"
   ]
  },
  {
   "cell_type": "code",
   "execution_count": 38,
   "id": "a217d8e1",
   "metadata": {
    "colab": {
     "base_uri": "https://localhost:8080/",
     "height": 235
    },
    "executionInfo": {
     "elapsed": 34,
     "status": "ok",
     "timestamp": 1671250848084,
     "user": {
      "displayName": "Apurba Saha",
      "userId": "15169800888831502649"
     },
     "user_tz": 420
    },
    "id": "b95eea69",
    "outputId": "803265ad-a24e-4650-cace-e653bdc6bdde",
    "scrolled": true
   },
   "outputs": [
    {
     "data": {
      "text/html": [
       "\n",
       "  <div id=\"df-1b103b37-be64-469c-9880-760b263a34d4\">\n",
       "    <div class=\"colab-df-container\">\n",
       "      <div>\n",
       "<style scoped>\n",
       "    .dataframe tbody tr th:only-of-type {\n",
       "        vertical-align: middle;\n",
       "    }\n",
       "\n",
       "    .dataframe tbody tr th {\n",
       "        vertical-align: top;\n",
       "    }\n",
       "\n",
       "    .dataframe thead th {\n",
       "        text-align: right;\n",
       "    }\n",
       "</style>\n",
       "<table border=\"1\" class=\"dataframe\">\n",
       "  <thead>\n",
       "    <tr style=\"text-align: right;\">\n",
       "      <th></th>\n",
       "      <th>date</th>\n",
       "      <th>round</th>\n",
       "      <th>day</th>\n",
       "      <th>venue</th>\n",
       "      <th>result</th>\n",
       "      <th>gf</th>\n",
       "      <th>ga</th>\n",
       "      <th>opponent</th>\n",
       "      <th>xg</th>\n",
       "      <th>xga</th>\n",
       "      <th>...</th>\n",
       "      <th>sh</th>\n",
       "      <th>sot</th>\n",
       "      <th>dist</th>\n",
       "      <th>fk</th>\n",
       "      <th>pk</th>\n",
       "      <th>pkatt</th>\n",
       "      <th>season</th>\n",
       "      <th>team</th>\n",
       "      <th>hour</th>\n",
       "      <th>match_week</th>\n",
       "    </tr>\n",
       "  </thead>\n",
       "  <tbody>\n",
       "    <tr>\n",
       "      <th>0</th>\n",
       "      <td>2020-09-27</td>\n",
       "      <td>Matchweek 3</td>\n",
       "      <td>Sun</td>\n",
       "      <td>Home</td>\n",
       "      <td>L</td>\n",
       "      <td>2</td>\n",
       "      <td>5</td>\n",
       "      <td>Leicester City</td>\n",
       "      <td>0.9</td>\n",
       "      <td>2.9</td>\n",
       "      <td>...</td>\n",
       "      <td>16.0</td>\n",
       "      <td>5.0</td>\n",
       "      <td>19.8</td>\n",
       "      <td>1.0</td>\n",
       "      <td>0.0</td>\n",
       "      <td>0.0</td>\n",
       "      <td>2021</td>\n",
       "      <td>Manchester City</td>\n",
       "      <td>16</td>\n",
       "      <td>3</td>\n",
       "    </tr>\n",
       "    <tr>\n",
       "      <th>1</th>\n",
       "      <td>2020-10-17</td>\n",
       "      <td>Matchweek 5</td>\n",
       "      <td>Sat</td>\n",
       "      <td>Home</td>\n",
       "      <td>W</td>\n",
       "      <td>1</td>\n",
       "      <td>0</td>\n",
       "      <td>Arsenal</td>\n",
       "      <td>1.3</td>\n",
       "      <td>0.9</td>\n",
       "      <td>...</td>\n",
       "      <td>13.0</td>\n",
       "      <td>5.0</td>\n",
       "      <td>17.7</td>\n",
       "      <td>0.0</td>\n",
       "      <td>0.0</td>\n",
       "      <td>0.0</td>\n",
       "      <td>2021</td>\n",
       "      <td>Manchester City</td>\n",
       "      <td>17</td>\n",
       "      <td>5</td>\n",
       "    </tr>\n",
       "    <tr>\n",
       "      <th>2</th>\n",
       "      <td>2020-10-24</td>\n",
       "      <td>Matchweek 6</td>\n",
       "      <td>Sat</td>\n",
       "      <td>Away</td>\n",
       "      <td>D</td>\n",
       "      <td>1</td>\n",
       "      <td>1</td>\n",
       "      <td>West Ham</td>\n",
       "      <td>1.0</td>\n",
       "      <td>0.3</td>\n",
       "      <td>...</td>\n",
       "      <td>14.0</td>\n",
       "      <td>7.0</td>\n",
       "      <td>20.9</td>\n",
       "      <td>1.0</td>\n",
       "      <td>0.0</td>\n",
       "      <td>0.0</td>\n",
       "      <td>2021</td>\n",
       "      <td>Manchester City</td>\n",
       "      <td>12</td>\n",
       "      <td>6</td>\n",
       "    </tr>\n",
       "    <tr>\n",
       "      <th>3</th>\n",
       "      <td>2020-11-08</td>\n",
       "      <td>Matchweek 8</td>\n",
       "      <td>Sun</td>\n",
       "      <td>Home</td>\n",
       "      <td>D</td>\n",
       "      <td>1</td>\n",
       "      <td>1</td>\n",
       "      <td>Liverpool</td>\n",
       "      <td>1.4</td>\n",
       "      <td>1.2</td>\n",
       "      <td>...</td>\n",
       "      <td>6.0</td>\n",
       "      <td>2.0</td>\n",
       "      <td>20.6</td>\n",
       "      <td>0.0</td>\n",
       "      <td>0.0</td>\n",
       "      <td>1.0</td>\n",
       "      <td>2021</td>\n",
       "      <td>Manchester City</td>\n",
       "      <td>16</td>\n",
       "      <td>8</td>\n",
       "    </tr>\n",
       "    <tr>\n",
       "      <th>4</th>\n",
       "      <td>2020-11-21</td>\n",
       "      <td>Matchweek 9</td>\n",
       "      <td>Sat</td>\n",
       "      <td>Away</td>\n",
       "      <td>L</td>\n",
       "      <td>0</td>\n",
       "      <td>2</td>\n",
       "      <td>Tottenham</td>\n",
       "      <td>1.4</td>\n",
       "      <td>0.7</td>\n",
       "      <td>...</td>\n",
       "      <td>22.0</td>\n",
       "      <td>5.0</td>\n",
       "      <td>16.0</td>\n",
       "      <td>0.0</td>\n",
       "      <td>0.0</td>\n",
       "      <td>0.0</td>\n",
       "      <td>2021</td>\n",
       "      <td>Manchester City</td>\n",
       "      <td>17</td>\n",
       "      <td>9</td>\n",
       "    </tr>\n",
       "  </tbody>\n",
       "</table>\n",
       "<p>5 rows × 23 columns</p>\n",
       "</div>\n",
       "      <button class=\"colab-df-convert\" onclick=\"convertToInteractive('df-1b103b37-be64-469c-9880-760b263a34d4')\"\n",
       "              title=\"Convert this dataframe to an interactive table.\"\n",
       "              style=\"display:none;\">\n",
       "        \n",
       "  <svg xmlns=\"http://www.w3.org/2000/svg\" height=\"24px\"viewBox=\"0 0 24 24\"\n",
       "       width=\"24px\">\n",
       "    <path d=\"M0 0h24v24H0V0z\" fill=\"none\"/>\n",
       "    <path d=\"M18.56 5.44l.94 2.06.94-2.06 2.06-.94-2.06-.94-.94-2.06-.94 2.06-2.06.94zm-11 1L8.5 8.5l.94-2.06 2.06-.94-2.06-.94L8.5 2.5l-.94 2.06-2.06.94zm10 10l.94 2.06.94-2.06 2.06-.94-2.06-.94-.94-2.06-.94 2.06-2.06.94z\"/><path d=\"M17.41 7.96l-1.37-1.37c-.4-.4-.92-.59-1.43-.59-.52 0-1.04.2-1.43.59L10.3 9.45l-7.72 7.72c-.78.78-.78 2.05 0 2.83L4 21.41c.39.39.9.59 1.41.59.51 0 1.02-.2 1.41-.59l7.78-7.78 2.81-2.81c.8-.78.8-2.07 0-2.86zM5.41 20L4 18.59l7.72-7.72 1.47 1.35L5.41 20z\"/>\n",
       "  </svg>\n",
       "      </button>\n",
       "      \n",
       "  <style>\n",
       "    .colab-df-container {\n",
       "      display:flex;\n",
       "      flex-wrap:wrap;\n",
       "      gap: 12px;\n",
       "    }\n",
       "\n",
       "    .colab-df-convert {\n",
       "      background-color: #E8F0FE;\n",
       "      border: none;\n",
       "      border-radius: 50%;\n",
       "      cursor: pointer;\n",
       "      display: none;\n",
       "      fill: #1967D2;\n",
       "      height: 32px;\n",
       "      padding: 0 0 0 0;\n",
       "      width: 32px;\n",
       "    }\n",
       "\n",
       "    .colab-df-convert:hover {\n",
       "      background-color: #E2EBFA;\n",
       "      box-shadow: 0px 1px 2px rgba(60, 64, 67, 0.3), 0px 1px 3px 1px rgba(60, 64, 67, 0.15);\n",
       "      fill: #174EA6;\n",
       "    }\n",
       "\n",
       "    [theme=dark] .colab-df-convert {\n",
       "      background-color: #3B4455;\n",
       "      fill: #D2E3FC;\n",
       "    }\n",
       "\n",
       "    [theme=dark] .colab-df-convert:hover {\n",
       "      background-color: #434B5C;\n",
       "      box-shadow: 0px 1px 3px 1px rgba(0, 0, 0, 0.15);\n",
       "      filter: drop-shadow(0px 1px 2px rgba(0, 0, 0, 0.3));\n",
       "      fill: #FFFFFF;\n",
       "    }\n",
       "  </style>\n",
       "\n",
       "      <script>\n",
       "        const buttonEl =\n",
       "          document.querySelector('#df-1b103b37-be64-469c-9880-760b263a34d4 button.colab-df-convert');\n",
       "        buttonEl.style.display =\n",
       "          google.colab.kernel.accessAllowed ? 'block' : 'none';\n",
       "\n",
       "        async function convertToInteractive(key) {\n",
       "          const element = document.querySelector('#df-1b103b37-be64-469c-9880-760b263a34d4');\n",
       "          const dataTable =\n",
       "            await google.colab.kernel.invokeFunction('convertToInteractive',\n",
       "                                                     [key], {});\n",
       "          if (!dataTable) return;\n",
       "\n",
       "          const docLinkHtml = 'Like what you see? Visit the ' +\n",
       "            '<a target=\"_blank\" href=https://colab.research.google.com/notebooks/data_table.ipynb>data table notebook</a>'\n",
       "            + ' to learn more about interactive tables.';\n",
       "          element.innerHTML = '';\n",
       "          dataTable['output_type'] = 'display_data';\n",
       "          await google.colab.output.renderOutput(dataTable, element);\n",
       "          const docLink = document.createElement('div');\n",
       "          docLink.innerHTML = docLinkHtml;\n",
       "          element.appendChild(docLink);\n",
       "        }\n",
       "      </script>\n",
       "    </div>\n",
       "  </div>\n",
       "  "
      ],
      "text/plain": [
       "        date        round  day venue result  gf  ga        opponent   xg  xga  \\\n",
       "0 2020-09-27  Matchweek 3  Sun  Home      L   2   5  Leicester City  0.9  2.9   \n",
       "1 2020-10-17  Matchweek 5  Sat  Home      W   1   0         Arsenal  1.3  0.9   \n",
       "2 2020-10-24  Matchweek 6  Sat  Away      D   1   1        West Ham  1.0  0.3   \n",
       "3 2020-11-08  Matchweek 8  Sun  Home      D   1   1       Liverpool  1.4  1.2   \n",
       "4 2020-11-21  Matchweek 9  Sat  Away      L   0   2       Tottenham  1.4  0.7   \n",
       "\n",
       "   ...    sh  sot  dist   fk   pk  pkatt  season             team  hour  \\\n",
       "0  ...  16.0  5.0  19.8  1.0  0.0    0.0    2021  Manchester City    16   \n",
       "1  ...  13.0  5.0  17.7  0.0  0.0    0.0    2021  Manchester City    17   \n",
       "2  ...  14.0  7.0  20.9  1.0  0.0    0.0    2021  Manchester City    12   \n",
       "3  ...   6.0  2.0  20.6  0.0  0.0    1.0    2021  Manchester City    16   \n",
       "4  ...  22.0  5.0  16.0  0.0  0.0    0.0    2021  Manchester City    17   \n",
       "\n",
       "   match_week  \n",
       "0           3  \n",
       "1           5  \n",
       "2           6  \n",
       "3           8  \n",
       "4           9  \n",
       "\n",
       "[5 rows x 23 columns]"
      ]
     },
     "execution_count": 38,
     "metadata": {},
     "output_type": "execute_result"
    }
   ],
   "source": [
    "train_data.head()"
   ]
  },
  {
   "cell_type": "code",
   "execution_count": 39,
   "id": "37f7a3d6",
   "metadata": {
    "colab": {
     "base_uri": "https://localhost:8080/"
    },
    "executionInfo": {
     "elapsed": 257,
     "status": "ok",
     "timestamp": 1671250848308,
     "user": {
      "displayName": "Apurba Saha",
      "userId": "15169800888831502649"
     },
     "user_tz": 420
    },
    "id": "7f878059",
    "outputId": "0a2e57b1-fc93-40f4-c610-191c1379cbd5"
   },
   "outputs": [
    {
     "data": {
      "text/plain": [
       "array(['Sun', 'Sat', 'Wed', 'Fri', 'Tue', 'Mon', 'Thu'], dtype=object)"
      ]
     },
     "execution_count": 39,
     "metadata": {},
     "output_type": "execute_result"
    }
   ],
   "source": [
    "train_data[\"day\"].unique()"
   ]
  },
  {
   "cell_type": "markdown",
   "id": "7063d426",
   "metadata": {
    "id": "41523557"
   },
   "source": [
    "This column tells us about the day of each match. We can assign each day of the week an unique number"
   ]
  },
  {
   "cell_type": "code",
   "execution_count": 40,
   "id": "3adc327c",
   "metadata": {
    "colab": {
     "base_uri": "https://localhost:8080/"
    },
    "executionInfo": {
     "elapsed": 33,
     "status": "ok",
     "timestamp": 1671250848309,
     "user": {
      "displayName": "Apurba Saha",
      "userId": "15169800888831502649"
     },
     "user_tz": 420
    },
    "id": "6eefb9f0",
    "outputId": "943036ee-9c83-4689-bf1a-25765305b722"
   },
   "outputs": [
    {
     "name": "stderr",
     "output_type": "stream",
     "text": [
      "<ipython-input-40-1b7b79f95047>:1: SettingWithCopyWarning: \n",
      "A value is trying to be set on a copy of a slice from a DataFrame.\n",
      "Try using .loc[row_indexer,col_indexer] = value instead\n",
      "\n",
      "See the caveats in the documentation: https://pandas.pydata.org/pandas-docs/stable/user_guide/indexing.html#returning-a-view-versus-a-copy\n",
      "  train_data[\"dayofweek\"] = train_data[\"date\"].dt.dayofweek\n"
     ]
    }
   ],
   "source": [
    "train_data[\"dayofweek\"] = train_data[\"date\"].dt.dayofweek"
   ]
  },
  {
   "cell_type": "code",
   "execution_count": 41,
   "id": "08053c21",
   "metadata": {
    "colab": {
     "base_uri": "https://localhost:8080/",
     "height": 235
    },
    "executionInfo": {
     "elapsed": 29,
     "status": "ok",
     "timestamp": 1671250848309,
     "user": {
      "displayName": "Apurba Saha",
      "userId": "15169800888831502649"
     },
     "user_tz": 420
    },
    "id": "2563669a",
    "outputId": "31930bff-b685-436c-b839-e3b26efd0cd4",
    "scrolled": true
   },
   "outputs": [
    {
     "data": {
      "text/html": [
       "\n",
       "  <div id=\"df-a896f9b4-aa44-4824-bb5e-8e7184e0ac10\">\n",
       "    <div class=\"colab-df-container\">\n",
       "      <div>\n",
       "<style scoped>\n",
       "    .dataframe tbody tr th:only-of-type {\n",
       "        vertical-align: middle;\n",
       "    }\n",
       "\n",
       "    .dataframe tbody tr th {\n",
       "        vertical-align: top;\n",
       "    }\n",
       "\n",
       "    .dataframe thead th {\n",
       "        text-align: right;\n",
       "    }\n",
       "</style>\n",
       "<table border=\"1\" class=\"dataframe\">\n",
       "  <thead>\n",
       "    <tr style=\"text-align: right;\">\n",
       "      <th></th>\n",
       "      <th>date</th>\n",
       "      <th>round</th>\n",
       "      <th>day</th>\n",
       "      <th>venue</th>\n",
       "      <th>result</th>\n",
       "      <th>gf</th>\n",
       "      <th>ga</th>\n",
       "      <th>opponent</th>\n",
       "      <th>xg</th>\n",
       "      <th>xga</th>\n",
       "      <th>...</th>\n",
       "      <th>sot</th>\n",
       "      <th>dist</th>\n",
       "      <th>fk</th>\n",
       "      <th>pk</th>\n",
       "      <th>pkatt</th>\n",
       "      <th>season</th>\n",
       "      <th>team</th>\n",
       "      <th>hour</th>\n",
       "      <th>match_week</th>\n",
       "      <th>dayofweek</th>\n",
       "    </tr>\n",
       "  </thead>\n",
       "  <tbody>\n",
       "    <tr>\n",
       "      <th>0</th>\n",
       "      <td>2020-09-27</td>\n",
       "      <td>Matchweek 3</td>\n",
       "      <td>Sun</td>\n",
       "      <td>Home</td>\n",
       "      <td>L</td>\n",
       "      <td>2</td>\n",
       "      <td>5</td>\n",
       "      <td>Leicester City</td>\n",
       "      <td>0.9</td>\n",
       "      <td>2.9</td>\n",
       "      <td>...</td>\n",
       "      <td>5.0</td>\n",
       "      <td>19.8</td>\n",
       "      <td>1.0</td>\n",
       "      <td>0.0</td>\n",
       "      <td>0.0</td>\n",
       "      <td>2021</td>\n",
       "      <td>Manchester City</td>\n",
       "      <td>16</td>\n",
       "      <td>3</td>\n",
       "      <td>6</td>\n",
       "    </tr>\n",
       "    <tr>\n",
       "      <th>1</th>\n",
       "      <td>2020-10-17</td>\n",
       "      <td>Matchweek 5</td>\n",
       "      <td>Sat</td>\n",
       "      <td>Home</td>\n",
       "      <td>W</td>\n",
       "      <td>1</td>\n",
       "      <td>0</td>\n",
       "      <td>Arsenal</td>\n",
       "      <td>1.3</td>\n",
       "      <td>0.9</td>\n",
       "      <td>...</td>\n",
       "      <td>5.0</td>\n",
       "      <td>17.7</td>\n",
       "      <td>0.0</td>\n",
       "      <td>0.0</td>\n",
       "      <td>0.0</td>\n",
       "      <td>2021</td>\n",
       "      <td>Manchester City</td>\n",
       "      <td>17</td>\n",
       "      <td>5</td>\n",
       "      <td>5</td>\n",
       "    </tr>\n",
       "    <tr>\n",
       "      <th>2</th>\n",
       "      <td>2020-10-24</td>\n",
       "      <td>Matchweek 6</td>\n",
       "      <td>Sat</td>\n",
       "      <td>Away</td>\n",
       "      <td>D</td>\n",
       "      <td>1</td>\n",
       "      <td>1</td>\n",
       "      <td>West Ham</td>\n",
       "      <td>1.0</td>\n",
       "      <td>0.3</td>\n",
       "      <td>...</td>\n",
       "      <td>7.0</td>\n",
       "      <td>20.9</td>\n",
       "      <td>1.0</td>\n",
       "      <td>0.0</td>\n",
       "      <td>0.0</td>\n",
       "      <td>2021</td>\n",
       "      <td>Manchester City</td>\n",
       "      <td>12</td>\n",
       "      <td>6</td>\n",
       "      <td>5</td>\n",
       "    </tr>\n",
       "    <tr>\n",
       "      <th>3</th>\n",
       "      <td>2020-11-08</td>\n",
       "      <td>Matchweek 8</td>\n",
       "      <td>Sun</td>\n",
       "      <td>Home</td>\n",
       "      <td>D</td>\n",
       "      <td>1</td>\n",
       "      <td>1</td>\n",
       "      <td>Liverpool</td>\n",
       "      <td>1.4</td>\n",
       "      <td>1.2</td>\n",
       "      <td>...</td>\n",
       "      <td>2.0</td>\n",
       "      <td>20.6</td>\n",
       "      <td>0.0</td>\n",
       "      <td>0.0</td>\n",
       "      <td>1.0</td>\n",
       "      <td>2021</td>\n",
       "      <td>Manchester City</td>\n",
       "      <td>16</td>\n",
       "      <td>8</td>\n",
       "      <td>6</td>\n",
       "    </tr>\n",
       "    <tr>\n",
       "      <th>4</th>\n",
       "      <td>2020-11-21</td>\n",
       "      <td>Matchweek 9</td>\n",
       "      <td>Sat</td>\n",
       "      <td>Away</td>\n",
       "      <td>L</td>\n",
       "      <td>0</td>\n",
       "      <td>2</td>\n",
       "      <td>Tottenham</td>\n",
       "      <td>1.4</td>\n",
       "      <td>0.7</td>\n",
       "      <td>...</td>\n",
       "      <td>5.0</td>\n",
       "      <td>16.0</td>\n",
       "      <td>0.0</td>\n",
       "      <td>0.0</td>\n",
       "      <td>0.0</td>\n",
       "      <td>2021</td>\n",
       "      <td>Manchester City</td>\n",
       "      <td>17</td>\n",
       "      <td>9</td>\n",
       "      <td>5</td>\n",
       "    </tr>\n",
       "  </tbody>\n",
       "</table>\n",
       "<p>5 rows × 24 columns</p>\n",
       "</div>\n",
       "      <button class=\"colab-df-convert\" onclick=\"convertToInteractive('df-a896f9b4-aa44-4824-bb5e-8e7184e0ac10')\"\n",
       "              title=\"Convert this dataframe to an interactive table.\"\n",
       "              style=\"display:none;\">\n",
       "        \n",
       "  <svg xmlns=\"http://www.w3.org/2000/svg\" height=\"24px\"viewBox=\"0 0 24 24\"\n",
       "       width=\"24px\">\n",
       "    <path d=\"M0 0h24v24H0V0z\" fill=\"none\"/>\n",
       "    <path d=\"M18.56 5.44l.94 2.06.94-2.06 2.06-.94-2.06-.94-.94-2.06-.94 2.06-2.06.94zm-11 1L8.5 8.5l.94-2.06 2.06-.94-2.06-.94L8.5 2.5l-.94 2.06-2.06.94zm10 10l.94 2.06.94-2.06 2.06-.94-2.06-.94-.94-2.06-.94 2.06-2.06.94z\"/><path d=\"M17.41 7.96l-1.37-1.37c-.4-.4-.92-.59-1.43-.59-.52 0-1.04.2-1.43.59L10.3 9.45l-7.72 7.72c-.78.78-.78 2.05 0 2.83L4 21.41c.39.39.9.59 1.41.59.51 0 1.02-.2 1.41-.59l7.78-7.78 2.81-2.81c.8-.78.8-2.07 0-2.86zM5.41 20L4 18.59l7.72-7.72 1.47 1.35L5.41 20z\"/>\n",
       "  </svg>\n",
       "      </button>\n",
       "      \n",
       "  <style>\n",
       "    .colab-df-container {\n",
       "      display:flex;\n",
       "      flex-wrap:wrap;\n",
       "      gap: 12px;\n",
       "    }\n",
       "\n",
       "    .colab-df-convert {\n",
       "      background-color: #E8F0FE;\n",
       "      border: none;\n",
       "      border-radius: 50%;\n",
       "      cursor: pointer;\n",
       "      display: none;\n",
       "      fill: #1967D2;\n",
       "      height: 32px;\n",
       "      padding: 0 0 0 0;\n",
       "      width: 32px;\n",
       "    }\n",
       "\n",
       "    .colab-df-convert:hover {\n",
       "      background-color: #E2EBFA;\n",
       "      box-shadow: 0px 1px 2px rgba(60, 64, 67, 0.3), 0px 1px 3px 1px rgba(60, 64, 67, 0.15);\n",
       "      fill: #174EA6;\n",
       "    }\n",
       "\n",
       "    [theme=dark] .colab-df-convert {\n",
       "      background-color: #3B4455;\n",
       "      fill: #D2E3FC;\n",
       "    }\n",
       "\n",
       "    [theme=dark] .colab-df-convert:hover {\n",
       "      background-color: #434B5C;\n",
       "      box-shadow: 0px 1px 3px 1px rgba(0, 0, 0, 0.15);\n",
       "      filter: drop-shadow(0px 1px 2px rgba(0, 0, 0, 0.3));\n",
       "      fill: #FFFFFF;\n",
       "    }\n",
       "  </style>\n",
       "\n",
       "      <script>\n",
       "        const buttonEl =\n",
       "          document.querySelector('#df-a896f9b4-aa44-4824-bb5e-8e7184e0ac10 button.colab-df-convert');\n",
       "        buttonEl.style.display =\n",
       "          google.colab.kernel.accessAllowed ? 'block' : 'none';\n",
       "\n",
       "        async function convertToInteractive(key) {\n",
       "          const element = document.querySelector('#df-a896f9b4-aa44-4824-bb5e-8e7184e0ac10');\n",
       "          const dataTable =\n",
       "            await google.colab.kernel.invokeFunction('convertToInteractive',\n",
       "                                                     [key], {});\n",
       "          if (!dataTable) return;\n",
       "\n",
       "          const docLinkHtml = 'Like what you see? Visit the ' +\n",
       "            '<a target=\"_blank\" href=https://colab.research.google.com/notebooks/data_table.ipynb>data table notebook</a>'\n",
       "            + ' to learn more about interactive tables.';\n",
       "          element.innerHTML = '';\n",
       "          dataTable['output_type'] = 'display_data';\n",
       "          await google.colab.output.renderOutput(dataTable, element);\n",
       "          const docLink = document.createElement('div');\n",
       "          docLink.innerHTML = docLinkHtml;\n",
       "          element.appendChild(docLink);\n",
       "        }\n",
       "      </script>\n",
       "    </div>\n",
       "  </div>\n",
       "  "
      ],
      "text/plain": [
       "        date        round  day venue result  gf  ga        opponent   xg  xga  \\\n",
       "0 2020-09-27  Matchweek 3  Sun  Home      L   2   5  Leicester City  0.9  2.9   \n",
       "1 2020-10-17  Matchweek 5  Sat  Home      W   1   0         Arsenal  1.3  0.9   \n",
       "2 2020-10-24  Matchweek 6  Sat  Away      D   1   1        West Ham  1.0  0.3   \n",
       "3 2020-11-08  Matchweek 8  Sun  Home      D   1   1       Liverpool  1.4  1.2   \n",
       "4 2020-11-21  Matchweek 9  Sat  Away      L   0   2       Tottenham  1.4  0.7   \n",
       "\n",
       "   ...  sot  dist   fk   pk  pkatt  season             team  hour  match_week  \\\n",
       "0  ...  5.0  19.8  1.0  0.0    0.0    2021  Manchester City    16           3   \n",
       "1  ...  5.0  17.7  0.0  0.0    0.0    2021  Manchester City    17           5   \n",
       "2  ...  7.0  20.9  1.0  0.0    0.0    2021  Manchester City    12           6   \n",
       "3  ...  2.0  20.6  0.0  0.0    1.0    2021  Manchester City    16           8   \n",
       "4  ...  5.0  16.0  0.0  0.0    0.0    2021  Manchester City    17           9   \n",
       "\n",
       "   dayofweek  \n",
       "0          6  \n",
       "1          5  \n",
       "2          5  \n",
       "3          6  \n",
       "4          5  \n",
       "\n",
       "[5 rows x 24 columns]"
      ]
     },
     "execution_count": 41,
     "metadata": {},
     "output_type": "execute_result"
    }
   ],
   "source": [
    "train_data.head()"
   ]
  },
  {
   "cell_type": "markdown",
   "id": "b8e637d9",
   "metadata": {
    "id": "1b3e9b64"
   },
   "source": [
    "However, it is still not the right way to encode days of the week if we want to use the data to train machine learning models! In reality, Saturday is closer to Monday than Wednesday. Encoding days of the week as numbers changes the sense of data.  We don’t want to lose the information about the circular nature of weeks and the actual distance between the days. Therefore, we can encode the day of week feature as “points” on a circle: 0° = Monday, 51.5° = Tuesday, etc.\n",
    "\n",
    "There is one problem. We know that it is a circle, but for a machine learning model, the difference between Sunday and Monday is 308.5° instead of 51.5°. That is wrong.\n",
    "\n",
    "To solve the problem we have to calculate the cosinus and sinus values of the degree. We need both because both functions produce duplicate outputs for difference inputs, but when we use them together we get unique pairs of values:"
   ]
  },
  {
   "cell_type": "code",
   "execution_count": 42,
   "id": "ca44d456",
   "metadata": {
    "colab": {
     "base_uri": "https://localhost:8080/"
    },
    "executionInfo": {
     "elapsed": 26,
     "status": "ok",
     "timestamp": 1671250848309,
     "user": {
      "displayName": "Apurba Saha",
      "userId": "15169800888831502649"
     },
     "user_tz": 420
    },
    "id": "2d903255",
    "outputId": "a9ff93f2-826e-4aab-bb69-23a6c5ab3e69"
   },
   "outputs": [
    {
     "name": "stderr",
     "output_type": "stream",
     "text": [
      "<ipython-input-42-c0df836840e7>:1: SettingWithCopyWarning: \n",
      "A value is trying to be set on a copy of a slice from a DataFrame.\n",
      "Try using .loc[row_indexer,col_indexer] = value instead\n",
      "\n",
      "See the caveats in the documentation: https://pandas.pydata.org/pandas-docs/stable/user_guide/indexing.html#returning-a-view-versus-a-copy\n",
      "  train_data['day_sin'] = np.sin(train_data['dayofweek'] * (2 * np.pi / 7))\n",
      "<ipython-input-42-c0df836840e7>:2: SettingWithCopyWarning: \n",
      "A value is trying to be set on a copy of a slice from a DataFrame.\n",
      "Try using .loc[row_indexer,col_indexer] = value instead\n",
      "\n",
      "See the caveats in the documentation: https://pandas.pydata.org/pandas-docs/stable/user_guide/indexing.html#returning-a-view-versus-a-copy\n",
      "  train_data['day_cos'] = np.cos(train_data['dayofweek'] * (2 * np.pi / 7))\n"
     ]
    }
   ],
   "source": [
    "train_data['day_sin'] = np.sin(train_data['dayofweek'] * (2 * np.pi / 7))\n",
    "train_data['day_cos'] = np.cos(train_data['dayofweek'] * (2 * np.pi / 7))"
   ]
  },
  {
   "cell_type": "code",
   "execution_count": 43,
   "id": "d6906e6b",
   "metadata": {
    "colab": {
     "base_uri": "https://localhost:8080/"
    },
    "executionInfo": {
     "elapsed": 20,
     "status": "ok",
     "timestamp": 1671250848310,
     "user": {
      "displayName": "Apurba Saha",
      "userId": "15169800888831502649"
     },
     "user_tz": 420
    },
    "id": "8bfe3e4b",
    "outputId": "5f390aa9-8f49-4198-ec0c-1575946b34ba"
   },
   "outputs": [
    {
     "name": "stderr",
     "output_type": "stream",
     "text": [
      "/usr/local/lib/python3.8/dist-packages/pandas/core/frame.py:4906: SettingWithCopyWarning: \n",
      "A value is trying to be set on a copy of a slice from a DataFrame\n",
      "\n",
      "See the caveats in the documentation: https://pandas.pydata.org/pandas-docs/stable/user_guide/indexing.html#returning-a-view-versus-a-copy\n",
      "  return super().drop(\n"
     ]
    }
   ],
   "source": [
    "train_data.drop(\"dayofweek\", axis=1, inplace=True)"
   ]
  },
  {
   "cell_type": "code",
   "execution_count": 44,
   "id": "53c6b0e7",
   "metadata": {
    "colab": {
     "base_uri": "https://localhost:8080/"
    },
    "executionInfo": {
     "elapsed": 16,
     "status": "ok",
     "timestamp": 1671250848310,
     "user": {
      "displayName": "Apurba Saha",
      "userId": "15169800888831502649"
     },
     "user_tz": 420
    },
    "id": "066bff0f",
    "outputId": "316899d9-2b68-415a-c972-612eb23e0ac3"
   },
   "outputs": [
    {
     "data": {
      "text/plain": [
       "array(['Home', 'Away'], dtype=object)"
      ]
     },
     "execution_count": 44,
     "metadata": {},
     "output_type": "execute_result"
    }
   ],
   "source": [
    "train_data[\"venue\"].unique()"
   ]
  },
  {
   "cell_type": "markdown",
   "id": "625d2c09",
   "metadata": {
    "id": "5b512c19"
   },
   "source": [
    "As there are only two unique values and there is no sense of order in this column, we can use one-hot encoding to encode the venue type"
   ]
  },
  {
   "cell_type": "code",
   "execution_count": 45,
   "id": "de341a7e",
   "metadata": {
    "executionInfo": {
     "elapsed": 12,
     "status": "ok",
     "timestamp": 1671250848310,
     "user": {
      "displayName": "Apurba Saha",
      "userId": "15169800888831502649"
     },
     "user_tz": 420
    },
    "id": "9c4ae74b"
   },
   "outputs": [],
   "source": [
    "train_data = pd.get_dummies(train_data, columns=[\"venue\"], drop_first=True)"
   ]
  },
  {
   "cell_type": "code",
   "execution_count": 46,
   "id": "21c68385",
   "metadata": {
    "colab": {
     "base_uri": "https://localhost:8080/",
     "height": 235
    },
    "executionInfo": {
     "elapsed": 12,
     "status": "ok",
     "timestamp": 1671250848311,
     "user": {
      "displayName": "Apurba Saha",
      "userId": "15169800888831502649"
     },
     "user_tz": 420
    },
    "id": "bcca05e1",
    "outputId": "eaad4c4e-92a6-4966-c658-9fad13fc7ac1"
   },
   "outputs": [
    {
     "data": {
      "text/html": [
       "\n",
       "  <div id=\"df-4ae39ae7-85dc-4f2a-bc05-e130de40db95\">\n",
       "    <div class=\"colab-df-container\">\n",
       "      <div>\n",
       "<style scoped>\n",
       "    .dataframe tbody tr th:only-of-type {\n",
       "        vertical-align: middle;\n",
       "    }\n",
       "\n",
       "    .dataframe tbody tr th {\n",
       "        vertical-align: top;\n",
       "    }\n",
       "\n",
       "    .dataframe thead th {\n",
       "        text-align: right;\n",
       "    }\n",
       "</style>\n",
       "<table border=\"1\" class=\"dataframe\">\n",
       "  <thead>\n",
       "    <tr style=\"text-align: right;\">\n",
       "      <th></th>\n",
       "      <th>date</th>\n",
       "      <th>round</th>\n",
       "      <th>day</th>\n",
       "      <th>result</th>\n",
       "      <th>gf</th>\n",
       "      <th>ga</th>\n",
       "      <th>opponent</th>\n",
       "      <th>xg</th>\n",
       "      <th>xga</th>\n",
       "      <th>poss</th>\n",
       "      <th>...</th>\n",
       "      <th>fk</th>\n",
       "      <th>pk</th>\n",
       "      <th>pkatt</th>\n",
       "      <th>season</th>\n",
       "      <th>team</th>\n",
       "      <th>hour</th>\n",
       "      <th>match_week</th>\n",
       "      <th>day_sin</th>\n",
       "      <th>day_cos</th>\n",
       "      <th>venue_Home</th>\n",
       "    </tr>\n",
       "  </thead>\n",
       "  <tbody>\n",
       "    <tr>\n",
       "      <th>0</th>\n",
       "      <td>2020-09-27</td>\n",
       "      <td>Matchweek 3</td>\n",
       "      <td>Sun</td>\n",
       "      <td>L</td>\n",
       "      <td>2</td>\n",
       "      <td>5</td>\n",
       "      <td>Leicester City</td>\n",
       "      <td>0.9</td>\n",
       "      <td>2.9</td>\n",
       "      <td>72.0</td>\n",
       "      <td>...</td>\n",
       "      <td>1.0</td>\n",
       "      <td>0.0</td>\n",
       "      <td>0.0</td>\n",
       "      <td>2021</td>\n",
       "      <td>Manchester City</td>\n",
       "      <td>16</td>\n",
       "      <td>3</td>\n",
       "      <td>-0.781831</td>\n",
       "      <td>0.623490</td>\n",
       "      <td>1</td>\n",
       "    </tr>\n",
       "    <tr>\n",
       "      <th>1</th>\n",
       "      <td>2020-10-17</td>\n",
       "      <td>Matchweek 5</td>\n",
       "      <td>Sat</td>\n",
       "      <td>W</td>\n",
       "      <td>1</td>\n",
       "      <td>0</td>\n",
       "      <td>Arsenal</td>\n",
       "      <td>1.3</td>\n",
       "      <td>0.9</td>\n",
       "      <td>58.0</td>\n",
       "      <td>...</td>\n",
       "      <td>0.0</td>\n",
       "      <td>0.0</td>\n",
       "      <td>0.0</td>\n",
       "      <td>2021</td>\n",
       "      <td>Manchester City</td>\n",
       "      <td>17</td>\n",
       "      <td>5</td>\n",
       "      <td>-0.974928</td>\n",
       "      <td>-0.222521</td>\n",
       "      <td>1</td>\n",
       "    </tr>\n",
       "    <tr>\n",
       "      <th>2</th>\n",
       "      <td>2020-10-24</td>\n",
       "      <td>Matchweek 6</td>\n",
       "      <td>Sat</td>\n",
       "      <td>D</td>\n",
       "      <td>1</td>\n",
       "      <td>1</td>\n",
       "      <td>West Ham</td>\n",
       "      <td>1.0</td>\n",
       "      <td>0.3</td>\n",
       "      <td>69.0</td>\n",
       "      <td>...</td>\n",
       "      <td>1.0</td>\n",
       "      <td>0.0</td>\n",
       "      <td>0.0</td>\n",
       "      <td>2021</td>\n",
       "      <td>Manchester City</td>\n",
       "      <td>12</td>\n",
       "      <td>6</td>\n",
       "      <td>-0.974928</td>\n",
       "      <td>-0.222521</td>\n",
       "      <td>0</td>\n",
       "    </tr>\n",
       "    <tr>\n",
       "      <th>3</th>\n",
       "      <td>2020-11-08</td>\n",
       "      <td>Matchweek 8</td>\n",
       "      <td>Sun</td>\n",
       "      <td>D</td>\n",
       "      <td>1</td>\n",
       "      <td>1</td>\n",
       "      <td>Liverpool</td>\n",
       "      <td>1.4</td>\n",
       "      <td>1.2</td>\n",
       "      <td>54.0</td>\n",
       "      <td>...</td>\n",
       "      <td>0.0</td>\n",
       "      <td>0.0</td>\n",
       "      <td>1.0</td>\n",
       "      <td>2021</td>\n",
       "      <td>Manchester City</td>\n",
       "      <td>16</td>\n",
       "      <td>8</td>\n",
       "      <td>-0.781831</td>\n",
       "      <td>0.623490</td>\n",
       "      <td>1</td>\n",
       "    </tr>\n",
       "    <tr>\n",
       "      <th>4</th>\n",
       "      <td>2020-11-21</td>\n",
       "      <td>Matchweek 9</td>\n",
       "      <td>Sat</td>\n",
       "      <td>L</td>\n",
       "      <td>0</td>\n",
       "      <td>2</td>\n",
       "      <td>Tottenham</td>\n",
       "      <td>1.4</td>\n",
       "      <td>0.7</td>\n",
       "      <td>66.0</td>\n",
       "      <td>...</td>\n",
       "      <td>0.0</td>\n",
       "      <td>0.0</td>\n",
       "      <td>0.0</td>\n",
       "      <td>2021</td>\n",
       "      <td>Manchester City</td>\n",
       "      <td>17</td>\n",
       "      <td>9</td>\n",
       "      <td>-0.974928</td>\n",
       "      <td>-0.222521</td>\n",
       "      <td>0</td>\n",
       "    </tr>\n",
       "  </tbody>\n",
       "</table>\n",
       "<p>5 rows × 25 columns</p>\n",
       "</div>\n",
       "      <button class=\"colab-df-convert\" onclick=\"convertToInteractive('df-4ae39ae7-85dc-4f2a-bc05-e130de40db95')\"\n",
       "              title=\"Convert this dataframe to an interactive table.\"\n",
       "              style=\"display:none;\">\n",
       "        \n",
       "  <svg xmlns=\"http://www.w3.org/2000/svg\" height=\"24px\"viewBox=\"0 0 24 24\"\n",
       "       width=\"24px\">\n",
       "    <path d=\"M0 0h24v24H0V0z\" fill=\"none\"/>\n",
       "    <path d=\"M18.56 5.44l.94 2.06.94-2.06 2.06-.94-2.06-.94-.94-2.06-.94 2.06-2.06.94zm-11 1L8.5 8.5l.94-2.06 2.06-.94-2.06-.94L8.5 2.5l-.94 2.06-2.06.94zm10 10l.94 2.06.94-2.06 2.06-.94-2.06-.94-.94-2.06-.94 2.06-2.06.94z\"/><path d=\"M17.41 7.96l-1.37-1.37c-.4-.4-.92-.59-1.43-.59-.52 0-1.04.2-1.43.59L10.3 9.45l-7.72 7.72c-.78.78-.78 2.05 0 2.83L4 21.41c.39.39.9.59 1.41.59.51 0 1.02-.2 1.41-.59l7.78-7.78 2.81-2.81c.8-.78.8-2.07 0-2.86zM5.41 20L4 18.59l7.72-7.72 1.47 1.35L5.41 20z\"/>\n",
       "  </svg>\n",
       "      </button>\n",
       "      \n",
       "  <style>\n",
       "    .colab-df-container {\n",
       "      display:flex;\n",
       "      flex-wrap:wrap;\n",
       "      gap: 12px;\n",
       "    }\n",
       "\n",
       "    .colab-df-convert {\n",
       "      background-color: #E8F0FE;\n",
       "      border: none;\n",
       "      border-radius: 50%;\n",
       "      cursor: pointer;\n",
       "      display: none;\n",
       "      fill: #1967D2;\n",
       "      height: 32px;\n",
       "      padding: 0 0 0 0;\n",
       "      width: 32px;\n",
       "    }\n",
       "\n",
       "    .colab-df-convert:hover {\n",
       "      background-color: #E2EBFA;\n",
       "      box-shadow: 0px 1px 2px rgba(60, 64, 67, 0.3), 0px 1px 3px 1px rgba(60, 64, 67, 0.15);\n",
       "      fill: #174EA6;\n",
       "    }\n",
       "\n",
       "    [theme=dark] .colab-df-convert {\n",
       "      background-color: #3B4455;\n",
       "      fill: #D2E3FC;\n",
       "    }\n",
       "\n",
       "    [theme=dark] .colab-df-convert:hover {\n",
       "      background-color: #434B5C;\n",
       "      box-shadow: 0px 1px 3px 1px rgba(0, 0, 0, 0.15);\n",
       "      filter: drop-shadow(0px 1px 2px rgba(0, 0, 0, 0.3));\n",
       "      fill: #FFFFFF;\n",
       "    }\n",
       "  </style>\n",
       "\n",
       "      <script>\n",
       "        const buttonEl =\n",
       "          document.querySelector('#df-4ae39ae7-85dc-4f2a-bc05-e130de40db95 button.colab-df-convert');\n",
       "        buttonEl.style.display =\n",
       "          google.colab.kernel.accessAllowed ? 'block' : 'none';\n",
       "\n",
       "        async function convertToInteractive(key) {\n",
       "          const element = document.querySelector('#df-4ae39ae7-85dc-4f2a-bc05-e130de40db95');\n",
       "          const dataTable =\n",
       "            await google.colab.kernel.invokeFunction('convertToInteractive',\n",
       "                                                     [key], {});\n",
       "          if (!dataTable) return;\n",
       "\n",
       "          const docLinkHtml = 'Like what you see? Visit the ' +\n",
       "            '<a target=\"_blank\" href=https://colab.research.google.com/notebooks/data_table.ipynb>data table notebook</a>'\n",
       "            + ' to learn more about interactive tables.';\n",
       "          element.innerHTML = '';\n",
       "          dataTable['output_type'] = 'display_data';\n",
       "          await google.colab.output.renderOutput(dataTable, element);\n",
       "          const docLink = document.createElement('div');\n",
       "          docLink.innerHTML = docLinkHtml;\n",
       "          element.appendChild(docLink);\n",
       "        }\n",
       "      </script>\n",
       "    </div>\n",
       "  </div>\n",
       "  "
      ],
      "text/plain": [
       "        date        round  day result  gf  ga        opponent   xg  xga  poss  \\\n",
       "0 2020-09-27  Matchweek 3  Sun      L   2   5  Leicester City  0.9  2.9  72.0   \n",
       "1 2020-10-17  Matchweek 5  Sat      W   1   0         Arsenal  1.3  0.9  58.0   \n",
       "2 2020-10-24  Matchweek 6  Sat      D   1   1        West Ham  1.0  0.3  69.0   \n",
       "3 2020-11-08  Matchweek 8  Sun      D   1   1       Liverpool  1.4  1.2  54.0   \n",
       "4 2020-11-21  Matchweek 9  Sat      L   0   2       Tottenham  1.4  0.7  66.0   \n",
       "\n",
       "   ...   fk   pk  pkatt  season             team  hour  match_week   day_sin  \\\n",
       "0  ...  1.0  0.0    0.0    2021  Manchester City    16           3 -0.781831   \n",
       "1  ...  0.0  0.0    0.0    2021  Manchester City    17           5 -0.974928   \n",
       "2  ...  1.0  0.0    0.0    2021  Manchester City    12           6 -0.974928   \n",
       "3  ...  0.0  0.0    1.0    2021  Manchester City    16           8 -0.781831   \n",
       "4  ...  0.0  0.0    0.0    2021  Manchester City    17           9 -0.974928   \n",
       "\n",
       "    day_cos venue_Home  \n",
       "0  0.623490          1  \n",
       "1 -0.222521          1  \n",
       "2 -0.222521          0  \n",
       "3  0.623490          1  \n",
       "4 -0.222521          0  \n",
       "\n",
       "[5 rows x 25 columns]"
      ]
     },
     "execution_count": 46,
     "metadata": {},
     "output_type": "execute_result"
    }
   ],
   "source": [
    "train_data.head()"
   ]
  },
  {
   "cell_type": "code",
   "execution_count": 47,
   "id": "f4ad6469",
   "metadata": {
    "colab": {
     "base_uri": "https://localhost:8080/"
    },
    "executionInfo": {
     "elapsed": 4172,
     "status": "ok",
     "timestamp": 1671250852472,
     "user": {
      "displayName": "Apurba Saha",
      "userId": "15169800888831502649"
     },
     "user_tz": 420
    },
    "id": "YslKvOowhl_g",
    "outputId": "7a297ae8-49bc-4412-9ee2-12e942f1acb1"
   },
   "outputs": [
    {
     "name": "stdout",
     "output_type": "stream",
     "text": [
      "Looking in indexes: https://pypi.org/simple, https://us-python.pkg.dev/colab-wheels/public/simple/\n",
      "Collecting category_encoders\n",
      "  Downloading category_encoders-2.5.1.post0-py2.py3-none-any.whl (72 kB)\n",
      "\u001b[K     |████████████████████████████████| 72 kB 814 kB/s \n",
      "\u001b[?25hRequirement already satisfied: patsy>=0.5.1 in /usr/local/lib/python3.8/dist-packages (from category_encoders) (0.5.3)\n",
      "Requirement already satisfied: pandas>=1.0.5 in /usr/local/lib/python3.8/dist-packages (from category_encoders) (1.3.5)\n",
      "Requirement already satisfied: scikit-learn>=0.20.0 in /usr/local/lib/python3.8/dist-packages (from category_encoders) (1.0.2)\n",
      "Requirement already satisfied: statsmodels>=0.9.0 in /usr/local/lib/python3.8/dist-packages (from category_encoders) (0.12.2)\n",
      "Requirement already satisfied: scipy>=1.0.0 in /usr/local/lib/python3.8/dist-packages (from category_encoders) (1.7.3)\n",
      "Requirement already satisfied: numpy>=1.14.0 in /usr/local/lib/python3.8/dist-packages (from category_encoders) (1.21.6)\n",
      "Requirement already satisfied: python-dateutil>=2.7.3 in /usr/local/lib/python3.8/dist-packages (from pandas>=1.0.5->category_encoders) (2.8.2)\n",
      "Requirement already satisfied: pytz>=2017.3 in /usr/local/lib/python3.8/dist-packages (from pandas>=1.0.5->category_encoders) (2022.6)\n",
      "Requirement already satisfied: six in /usr/local/lib/python3.8/dist-packages (from patsy>=0.5.1->category_encoders) (1.15.0)\n",
      "Requirement already satisfied: threadpoolctl>=2.0.0 in /usr/local/lib/python3.8/dist-packages (from scikit-learn>=0.20.0->category_encoders) (3.1.0)\n",
      "Requirement already satisfied: joblib>=0.11 in /usr/local/lib/python3.8/dist-packages (from scikit-learn>=0.20.0->category_encoders) (1.2.0)\n",
      "Installing collected packages: category-encoders\n",
      "Successfully installed category-encoders-2.5.1.post0\n"
     ]
    }
   ],
   "source": [
    "!pip install category_encoders"
   ]
  },
  {
   "cell_type": "code",
   "execution_count": 48,
   "id": "847389d1",
   "metadata": {
    "executionInfo": {
     "elapsed": 499,
     "status": "ok",
     "timestamp": 1671250852965,
     "user": {
      "displayName": "Apurba Saha",
      "userId": "15169800888831502649"
     },
     "user_tz": 420
    },
    "id": "7fe23c3b"
   },
   "outputs": [],
   "source": [
    "from category_encoders.hashing import HashingEncoder"
   ]
  },
  {
   "cell_type": "code",
   "execution_count": 49,
   "id": "f3e4a031",
   "metadata": {
    "colab": {
     "base_uri": "https://localhost:8080/"
    },
    "executionInfo": {
     "elapsed": 11,
     "status": "ok",
     "timestamp": 1671250852965,
     "user": {
      "displayName": "Apurba Saha",
      "userId": "15169800888831502649"
     },
     "user_tz": 420
    },
    "id": "846eeb8e",
    "outputId": "f346d2e9-7315-4362-934d-bc70d7120c1f"
   },
   "outputs": [
    {
     "data": {
      "text/plain": [
       "array(['Leicester City', 'Arsenal', 'West Ham', 'Liverpool', 'Tottenham',\n",
       "       'Burnley', 'Manchester Utd', 'Southampton', 'Newcastle Utd',\n",
       "       'Chelsea', 'Brighton', 'Crystal Palace', 'Everton',\n",
       "       'Manchester City'], dtype=object)"
      ]
     },
     "execution_count": 49,
     "metadata": {},
     "output_type": "execute_result"
    }
   ],
   "source": [
    "train_data[\"opponent\"].unique()"
   ]
  },
  {
   "cell_type": "code",
   "execution_count": 50,
   "id": "644bc8fb",
   "metadata": {
    "colab": {
     "base_uri": "https://localhost:8080/"
    },
    "executionInfo": {
     "elapsed": 8,
     "status": "ok",
     "timestamp": 1671250852966,
     "user": {
      "displayName": "Apurba Saha",
      "userId": "15169800888831502649"
     },
     "user_tz": 420
    },
    "id": "372b4028",
    "outputId": "688eff9b-bc62-44d2-ff50-9a891a19fa3a"
   },
   "outputs": [
    {
     "data": {
      "text/plain": [
       "array(['Manchester City', 'Liverpool', 'Chelsea', 'Tottenham', 'Arsenal',\n",
       "       'Manchester Utd', 'West Ham', 'Leicester City', 'Brighton',\n",
       "       'Newcastle Utd', 'Crystal Palace', 'Southampton', 'Everton',\n",
       "       'Burnley'], dtype=object)"
      ]
     },
     "execution_count": 50,
     "metadata": {},
     "output_type": "execute_result"
    }
   ],
   "source": [
    "train_data[\"team\"].unique()"
   ]
  },
  {
   "cell_type": "code",
   "execution_count": 51,
   "id": "9723dcbd",
   "metadata": {
    "executionInfo": {
     "elapsed": 5,
     "status": "ok",
     "timestamp": 1671250852966,
     "user": {
      "displayName": "Apurba Saha",
      "userId": "15169800888831502649"
     },
     "user_tz": 420
    },
    "id": "785f7a05"
   },
   "outputs": [],
   "source": [
    "def hash_encode(col, hash_size=8):\n",
    "    ec = HashingEncoder([col], n_components=hash_size)\n",
    "    ec.fit(train_data)\n",
    "    return ec"
   ]
  },
  {
   "cell_type": "code",
   "execution_count": 52,
   "id": "bab39565",
   "metadata": {
    "executionInfo": {
     "elapsed": 1954,
     "status": "ok",
     "timestamp": 1671250854916,
     "user": {
      "displayName": "Apurba Saha",
      "userId": "15169800888831502649"
     },
     "user_tz": 420
    },
    "id": "ae8dd42b"
   },
   "outputs": [],
   "source": [
    "transformed_opponent = hash_encode(\"opponent\", 5).transform(train_data)\n",
    "transformed_team = hash_encode(\"team\", 5).transform(train_data)"
   ]
  },
  {
   "cell_type": "code",
   "execution_count": 53,
   "id": "2b43942a",
   "metadata": {
    "executionInfo": {
     "elapsed": 29,
     "status": "ok",
     "timestamp": 1671250854916,
     "user": {
      "displayName": "Apurba Saha",
      "userId": "15169800888831502649"
     },
     "user_tz": 420
    },
    "id": "0e8bec85"
   },
   "outputs": [],
   "source": [
    "name_map = lambda x: {\"col_0\": x+\"_0\", \"col_1\": x+\"_1\", \"col_2\": x+\"_2\", \"col_3\": x+\"_3\", \"col_4\": x+\"_4\"}"
   ]
  },
  {
   "cell_type": "code",
   "execution_count": 54,
   "id": "3ed19481",
   "metadata": {
    "executionInfo": {
     "elapsed": 28,
     "status": "ok",
     "timestamp": 1671250854916,
     "user": {
      "displayName": "Apurba Saha",
      "userId": "15169800888831502649"
     },
     "user_tz": 420
    },
    "id": "dce65aba"
   },
   "outputs": [],
   "source": [
    "opponent_map = name_map(\"opponent\")\n",
    "team_map = name_map(\"team\")"
   ]
  },
  {
   "cell_type": "code",
   "execution_count": 55,
   "id": "41beda9c",
   "metadata": {
    "executionInfo": {
     "elapsed": 28,
     "status": "ok",
     "timestamp": 1671250854917,
     "user": {
      "displayName": "Apurba Saha",
      "userId": "15169800888831502649"
     },
     "user_tz": 420
    },
    "id": "93f3c782"
   },
   "outputs": [],
   "source": [
    "transformed_opponent.rename(opponent_map, axis=1, inplace=True)\n",
    "transformed_team.rename(team_map, axis=1, inplace=True)"
   ]
  },
  {
   "cell_type": "code",
   "execution_count": 56,
   "id": "8f976ef0",
   "metadata": {
    "executionInfo": {
     "elapsed": 28,
     "status": "ok",
     "timestamp": 1671250854917,
     "user": {
      "displayName": "Apurba Saha",
      "userId": "15169800888831502649"
     },
     "user_tz": 420
    },
    "id": "2a36c89f"
   },
   "outputs": [],
   "source": [
    "train_data = pd.concat([train_data, transformed_opponent[['opponent_0', 'opponent_1', 'opponent_2', 'opponent_3', 'opponent_4']]], axis=1)\n",
    "train_data = pd.concat([train_data, transformed_team[['team_0', 'team_1', 'team_2', 'team_3', 'team_4']]], axis=1)"
   ]
  },
  {
   "cell_type": "code",
   "execution_count": 57,
   "id": "54e1c3b8",
   "metadata": {
    "colab": {
     "base_uri": "https://localhost:8080/"
    },
    "executionInfo": {
     "elapsed": 28,
     "status": "ok",
     "timestamp": 1671250854917,
     "user": {
      "displayName": "Apurba Saha",
      "userId": "15169800888831502649"
     },
     "user_tz": 420
    },
    "id": "3f0fa3b5",
    "outputId": "80ba5036-8cc4-44cd-a222-8d371c32a414",
    "scrolled": true
   },
   "outputs": [
    {
     "data": {
      "text/plain": [
       "Index(['date', 'round', 'day', 'result', 'gf', 'ga', 'opponent', 'xg', 'xga',\n",
       "       'poss', 'attendance', 'formation', 'sh', 'sot', 'dist', 'fk', 'pk',\n",
       "       'pkatt', 'season', 'team', 'hour', 'match_week', 'day_sin', 'day_cos',\n",
       "       'venue_Home', 'opponent_0', 'opponent_1', 'opponent_2', 'opponent_3',\n",
       "       'opponent_4', 'team_0', 'team_1', 'team_2', 'team_3', 'team_4'],\n",
       "      dtype='object')"
      ]
     },
     "execution_count": 57,
     "metadata": {},
     "output_type": "execute_result"
    }
   ],
   "source": [
    "train_data.columns"
   ]
  },
  {
   "cell_type": "code",
   "execution_count": 58,
   "id": "91bc68bb",
   "metadata": {
    "colab": {
     "base_uri": "https://localhost:8080/",
     "height": 366
    },
    "executionInfo": {
     "elapsed": 20,
     "status": "ok",
     "timestamp": 1671250854918,
     "user": {
      "displayName": "Apurba Saha",
      "userId": "15169800888831502649"
     },
     "user_tz": 420
    },
    "id": "af3c98f6",
    "outputId": "84ea3871-ca28-4523-e7bb-2b1719b6ddf6"
   },
   "outputs": [
    {
     "data": {
      "text/html": [
       "\n",
       "  <div id=\"df-54aab849-4d19-4517-b703-add4e2c9a13d\">\n",
       "    <div class=\"colab-df-container\">\n",
       "      <div>\n",
       "<style scoped>\n",
       "    .dataframe tbody tr th:only-of-type {\n",
       "        vertical-align: middle;\n",
       "    }\n",
       "\n",
       "    .dataframe tbody tr th {\n",
       "        vertical-align: top;\n",
       "    }\n",
       "\n",
       "    .dataframe thead th {\n",
       "        text-align: right;\n",
       "    }\n",
       "</style>\n",
       "<table border=\"1\" class=\"dataframe\">\n",
       "  <thead>\n",
       "    <tr style=\"text-align: right;\">\n",
       "      <th></th>\n",
       "      <th>date</th>\n",
       "      <th>round</th>\n",
       "      <th>day</th>\n",
       "      <th>result</th>\n",
       "      <th>gf</th>\n",
       "      <th>ga</th>\n",
       "      <th>opponent</th>\n",
       "      <th>xg</th>\n",
       "      <th>xga</th>\n",
       "      <th>poss</th>\n",
       "      <th>...</th>\n",
       "      <th>opponent_0</th>\n",
       "      <th>opponent_1</th>\n",
       "      <th>opponent_2</th>\n",
       "      <th>opponent_3</th>\n",
       "      <th>opponent_4</th>\n",
       "      <th>team_0</th>\n",
       "      <th>team_1</th>\n",
       "      <th>team_2</th>\n",
       "      <th>team_3</th>\n",
       "      <th>team_4</th>\n",
       "    </tr>\n",
       "  </thead>\n",
       "  <tbody>\n",
       "    <tr>\n",
       "      <th>0</th>\n",
       "      <td>2020-09-27</td>\n",
       "      <td>Matchweek 3</td>\n",
       "      <td>Sun</td>\n",
       "      <td>L</td>\n",
       "      <td>2</td>\n",
       "      <td>5</td>\n",
       "      <td>Leicester City</td>\n",
       "      <td>0.9</td>\n",
       "      <td>2.9</td>\n",
       "      <td>72.0</td>\n",
       "      <td>...</td>\n",
       "      <td>3</td>\n",
       "      <td>1</td>\n",
       "      <td>1</td>\n",
       "      <td>0</td>\n",
       "      <td>1</td>\n",
       "      <td>3</td>\n",
       "      <td>1</td>\n",
       "      <td>1</td>\n",
       "      <td>0</td>\n",
       "      <td>1</td>\n",
       "    </tr>\n",
       "    <tr>\n",
       "      <th>1</th>\n",
       "      <td>2020-10-17</td>\n",
       "      <td>Matchweek 5</td>\n",
       "      <td>Sat</td>\n",
       "      <td>W</td>\n",
       "      <td>1</td>\n",
       "      <td>0</td>\n",
       "      <td>Arsenal</td>\n",
       "      <td>1.3</td>\n",
       "      <td>0.9</td>\n",
       "      <td>58.0</td>\n",
       "      <td>...</td>\n",
       "      <td>1</td>\n",
       "      <td>1</td>\n",
       "      <td>2</td>\n",
       "      <td>0</td>\n",
       "      <td>2</td>\n",
       "      <td>1</td>\n",
       "      <td>1</td>\n",
       "      <td>2</td>\n",
       "      <td>0</td>\n",
       "      <td>2</td>\n",
       "    </tr>\n",
       "    <tr>\n",
       "      <th>2</th>\n",
       "      <td>2020-10-24</td>\n",
       "      <td>Matchweek 6</td>\n",
       "      <td>Sat</td>\n",
       "      <td>D</td>\n",
       "      <td>1</td>\n",
       "      <td>1</td>\n",
       "      <td>West Ham</td>\n",
       "      <td>1.0</td>\n",
       "      <td>0.3</td>\n",
       "      <td>69.0</td>\n",
       "      <td>...</td>\n",
       "      <td>2</td>\n",
       "      <td>2</td>\n",
       "      <td>1</td>\n",
       "      <td>1</td>\n",
       "      <td>0</td>\n",
       "      <td>2</td>\n",
       "      <td>2</td>\n",
       "      <td>1</td>\n",
       "      <td>1</td>\n",
       "      <td>0</td>\n",
       "    </tr>\n",
       "    <tr>\n",
       "      <th>3</th>\n",
       "      <td>2020-11-08</td>\n",
       "      <td>Matchweek 8</td>\n",
       "      <td>Sun</td>\n",
       "      <td>D</td>\n",
       "      <td>1</td>\n",
       "      <td>1</td>\n",
       "      <td>Liverpool</td>\n",
       "      <td>1.4</td>\n",
       "      <td>1.2</td>\n",
       "      <td>54.0</td>\n",
       "      <td>...</td>\n",
       "      <td>4</td>\n",
       "      <td>1</td>\n",
       "      <td>1</td>\n",
       "      <td>0</td>\n",
       "      <td>0</td>\n",
       "      <td>4</td>\n",
       "      <td>1</td>\n",
       "      <td>1</td>\n",
       "      <td>0</td>\n",
       "      <td>0</td>\n",
       "    </tr>\n",
       "    <tr>\n",
       "      <th>4</th>\n",
       "      <td>2020-11-21</td>\n",
       "      <td>Matchweek 9</td>\n",
       "      <td>Sat</td>\n",
       "      <td>L</td>\n",
       "      <td>0</td>\n",
       "      <td>2</td>\n",
       "      <td>Tottenham</td>\n",
       "      <td>1.4</td>\n",
       "      <td>0.7</td>\n",
       "      <td>66.0</td>\n",
       "      <td>...</td>\n",
       "      <td>2</td>\n",
       "      <td>0</td>\n",
       "      <td>1</td>\n",
       "      <td>1</td>\n",
       "      <td>2</td>\n",
       "      <td>2</td>\n",
       "      <td>0</td>\n",
       "      <td>1</td>\n",
       "      <td>1</td>\n",
       "      <td>2</td>\n",
       "    </tr>\n",
       "  </tbody>\n",
       "</table>\n",
       "<p>5 rows × 35 columns</p>\n",
       "</div>\n",
       "      <button class=\"colab-df-convert\" onclick=\"convertToInteractive('df-54aab849-4d19-4517-b703-add4e2c9a13d')\"\n",
       "              title=\"Convert this dataframe to an interactive table.\"\n",
       "              style=\"display:none;\">\n",
       "        \n",
       "  <svg xmlns=\"http://www.w3.org/2000/svg\" height=\"24px\"viewBox=\"0 0 24 24\"\n",
       "       width=\"24px\">\n",
       "    <path d=\"M0 0h24v24H0V0z\" fill=\"none\"/>\n",
       "    <path d=\"M18.56 5.44l.94 2.06.94-2.06 2.06-.94-2.06-.94-.94-2.06-.94 2.06-2.06.94zm-11 1L8.5 8.5l.94-2.06 2.06-.94-2.06-.94L8.5 2.5l-.94 2.06-2.06.94zm10 10l.94 2.06.94-2.06 2.06-.94-2.06-.94-.94-2.06-.94 2.06-2.06.94z\"/><path d=\"M17.41 7.96l-1.37-1.37c-.4-.4-.92-.59-1.43-.59-.52 0-1.04.2-1.43.59L10.3 9.45l-7.72 7.72c-.78.78-.78 2.05 0 2.83L4 21.41c.39.39.9.59 1.41.59.51 0 1.02-.2 1.41-.59l7.78-7.78 2.81-2.81c.8-.78.8-2.07 0-2.86zM5.41 20L4 18.59l7.72-7.72 1.47 1.35L5.41 20z\"/>\n",
       "  </svg>\n",
       "      </button>\n",
       "      \n",
       "  <style>\n",
       "    .colab-df-container {\n",
       "      display:flex;\n",
       "      flex-wrap:wrap;\n",
       "      gap: 12px;\n",
       "    }\n",
       "\n",
       "    .colab-df-convert {\n",
       "      background-color: #E8F0FE;\n",
       "      border: none;\n",
       "      border-radius: 50%;\n",
       "      cursor: pointer;\n",
       "      display: none;\n",
       "      fill: #1967D2;\n",
       "      height: 32px;\n",
       "      padding: 0 0 0 0;\n",
       "      width: 32px;\n",
       "    }\n",
       "\n",
       "    .colab-df-convert:hover {\n",
       "      background-color: #E2EBFA;\n",
       "      box-shadow: 0px 1px 2px rgba(60, 64, 67, 0.3), 0px 1px 3px 1px rgba(60, 64, 67, 0.15);\n",
       "      fill: #174EA6;\n",
       "    }\n",
       "\n",
       "    [theme=dark] .colab-df-convert {\n",
       "      background-color: #3B4455;\n",
       "      fill: #D2E3FC;\n",
       "    }\n",
       "\n",
       "    [theme=dark] .colab-df-convert:hover {\n",
       "      background-color: #434B5C;\n",
       "      box-shadow: 0px 1px 3px 1px rgba(0, 0, 0, 0.15);\n",
       "      filter: drop-shadow(0px 1px 2px rgba(0, 0, 0, 0.3));\n",
       "      fill: #FFFFFF;\n",
       "    }\n",
       "  </style>\n",
       "\n",
       "      <script>\n",
       "        const buttonEl =\n",
       "          document.querySelector('#df-54aab849-4d19-4517-b703-add4e2c9a13d button.colab-df-convert');\n",
       "        buttonEl.style.display =\n",
       "          google.colab.kernel.accessAllowed ? 'block' : 'none';\n",
       "\n",
       "        async function convertToInteractive(key) {\n",
       "          const element = document.querySelector('#df-54aab849-4d19-4517-b703-add4e2c9a13d');\n",
       "          const dataTable =\n",
       "            await google.colab.kernel.invokeFunction('convertToInteractive',\n",
       "                                                     [key], {});\n",
       "          if (!dataTable) return;\n",
       "\n",
       "          const docLinkHtml = 'Like what you see? Visit the ' +\n",
       "            '<a target=\"_blank\" href=https://colab.research.google.com/notebooks/data_table.ipynb>data table notebook</a>'\n",
       "            + ' to learn more about interactive tables.';\n",
       "          element.innerHTML = '';\n",
       "          dataTable['output_type'] = 'display_data';\n",
       "          await google.colab.output.renderOutput(dataTable, element);\n",
       "          const docLink = document.createElement('div');\n",
       "          docLink.innerHTML = docLinkHtml;\n",
       "          element.appendChild(docLink);\n",
       "        }\n",
       "      </script>\n",
       "    </div>\n",
       "  </div>\n",
       "  "
      ],
      "text/plain": [
       "        date        round  day result  gf  ga        opponent   xg  xga  poss  \\\n",
       "0 2020-09-27  Matchweek 3  Sun      L   2   5  Leicester City  0.9  2.9  72.0   \n",
       "1 2020-10-17  Matchweek 5  Sat      W   1   0         Arsenal  1.3  0.9  58.0   \n",
       "2 2020-10-24  Matchweek 6  Sat      D   1   1        West Ham  1.0  0.3  69.0   \n",
       "3 2020-11-08  Matchweek 8  Sun      D   1   1       Liverpool  1.4  1.2  54.0   \n",
       "4 2020-11-21  Matchweek 9  Sat      L   0   2       Tottenham  1.4  0.7  66.0   \n",
       "\n",
       "   ...  opponent_0 opponent_1  opponent_2  opponent_3  opponent_4  team_0  \\\n",
       "0  ...           3          1           1           0           1       3   \n",
       "1  ...           1          1           2           0           2       1   \n",
       "2  ...           2          2           1           1           0       2   \n",
       "3  ...           4          1           1           0           0       4   \n",
       "4  ...           2          0           1           1           2       2   \n",
       "\n",
       "   team_1  team_2  team_3 team_4  \n",
       "0       1       1       0      1  \n",
       "1       1       2       0      2  \n",
       "2       2       1       1      0  \n",
       "3       1       1       0      0  \n",
       "4       0       1       1      2  \n",
       "\n",
       "[5 rows x 35 columns]"
      ]
     },
     "execution_count": 58,
     "metadata": {},
     "output_type": "execute_result"
    }
   ],
   "source": [
    "train_data.head()"
   ]
  },
  {
   "cell_type": "code",
   "execution_count": 59,
   "id": "177729ea",
   "metadata": {
    "colab": {
     "base_uri": "https://localhost:8080/"
    },
    "executionInfo": {
     "elapsed": 17,
     "status": "ok",
     "timestamp": 1671250854918,
     "user": {
      "displayName": "Apurba Saha",
      "userId": "15169800888831502649"
     },
     "user_tz": 420
    },
    "id": "5762d25c",
    "outputId": "67dbf360-9b77-48c6-b8fc-75aec9dbf335"
   },
   "outputs": [
    {
     "data": {
      "text/plain": [
       "array(['4-2-3-1', '3-1-4-2', '4-3-3', '3-4-3◆', '4-4-1-1', '4-3-1-2',\n",
       "       '4-4-2', '4-2-2-2', '3-4-3', '3-4-1-2', '4-1-2-1-2◆', '5-4-1',\n",
       "       '4-1-4-1', '3-5-2', '3-5-1-1', '5-3-2', '4-3-2-1', '4-5-1',\n",
       "       '4-1-3-2'], dtype=object)"
      ]
     },
     "execution_count": 59,
     "metadata": {},
     "output_type": "execute_result"
    }
   ],
   "source": [
    "train_data[\"formation\"].unique()"
   ]
  },
  {
   "cell_type": "markdown",
   "id": "69edaebc",
   "metadata": {
    "id": "5b013182"
   },
   "source": [
    "We can observe there are some non-numeric characters. We need to remove this characters. Moreover, we can extract the number of defenders, midfielders, and strikers from this column. "
   ]
  },
  {
   "cell_type": "code",
   "execution_count": 60,
   "id": "c5bee371",
   "metadata": {
    "executionInfo": {
     "elapsed": 12,
     "status": "ok",
     "timestamp": 1671250854918,
     "user": {
      "displayName": "Apurba Saha",
      "userId": "15169800888831502649"
     },
     "user_tz": 420
    },
    "id": "1dd8d226"
   },
   "outputs": [],
   "source": [
    "train_data[\"formation\"] = train_data[\"formation\"].str.replace(\"◆\", \"\")"
   ]
  },
  {
   "cell_type": "code",
   "execution_count": 61,
   "id": "1cdec58d",
   "metadata": {
    "executionInfo": {
     "elapsed": 13,
     "status": "ok",
     "timestamp": 1671250854919,
     "user": {
      "displayName": "Apurba Saha",
      "userId": "15169800888831502649"
     },
     "user_tz": 420
    },
    "id": "f5602362"
   },
   "outputs": [],
   "source": [
    "train_data[\"num_defender\"] = train_data[\"formation\"].str.split(pat=\"-\").str[0].astype(int)"
   ]
  },
  {
   "cell_type": "code",
   "execution_count": 62,
   "id": "998d0887",
   "metadata": {
    "executionInfo": {
     "elapsed": 12,
     "status": "ok",
     "timestamp": 1671250854919,
     "user": {
      "displayName": "Apurba Saha",
      "userId": "15169800888831502649"
     },
     "user_tz": 420
    },
    "id": "75d3200b"
   },
   "outputs": [],
   "source": [
    "train_data[\"num_striker\"] = train_data[\"formation\"].str.split(pat=\"-\").str[-1].astype(int)"
   ]
  },
  {
   "cell_type": "code",
   "execution_count": 63,
   "id": "ec3eb86e",
   "metadata": {
    "executionInfo": {
     "elapsed": 12,
     "status": "ok",
     "timestamp": 1671250854919,
     "user": {
      "displayName": "Apurba Saha",
      "userId": "15169800888831502649"
     },
     "user_tz": 420
    },
    "id": "1df0b2ca"
   },
   "outputs": [],
   "source": [
    "offensive_midfield_mapper = lambda x: x[4] if len(x) == 7 else 0\n",
    "center_midfield_mapper = lambda x: x[2] if len(x) == 5 else 0"
   ]
  },
  {
   "cell_type": "code",
   "execution_count": 64,
   "id": "8689d30e",
   "metadata": {
    "executionInfo": {
     "elapsed": 299,
     "status": "ok",
     "timestamp": 1671250855206,
     "user": {
      "displayName": "Apurba Saha",
      "userId": "15169800888831502649"
     },
     "user_tz": 420
    },
    "id": "4fdc79ca"
   },
   "outputs": [],
   "source": [
    "train_data[\"offensive_midfielder\"] = train_data[\"formation\"].apply(offensive_midfield_mapper).astype(int)"
   ]
  },
  {
   "cell_type": "code",
   "execution_count": 65,
   "id": "2b7791bd",
   "metadata": {
    "executionInfo": {
     "elapsed": 39,
     "status": "ok",
     "timestamp": 1671250855207,
     "user": {
      "displayName": "Apurba Saha",
      "userId": "15169800888831502649"
     },
     "user_tz": 420
    },
    "id": "c0000fb7"
   },
   "outputs": [],
   "source": [
    "train_data[\"center_midfielder\"] = train_data[\"formation\"].apply(center_midfield_mapper).astype(int)"
   ]
  },
  {
   "cell_type": "code",
   "execution_count": 66,
   "id": "5025f53b",
   "metadata": {
    "colab": {
     "base_uri": "https://localhost:8080/",
     "height": 386
    },
    "executionInfo": {
     "elapsed": 38,
     "status": "ok",
     "timestamp": 1671250855207,
     "user": {
      "displayName": "Apurba Saha",
      "userId": "15169800888831502649"
     },
     "user_tz": 420
    },
    "id": "c6ae1a98",
    "outputId": "7361fe1c-0a03-490f-9300-59e951dba7b7"
   },
   "outputs": [
    {
     "data": {
      "text/html": [
       "\n",
       "  <div id=\"df-b5279d1c-182e-4426-9d0b-8fa3c24da20c\">\n",
       "    <div class=\"colab-df-container\">\n",
       "      <div>\n",
       "<style scoped>\n",
       "    .dataframe tbody tr th:only-of-type {\n",
       "        vertical-align: middle;\n",
       "    }\n",
       "\n",
       "    .dataframe tbody tr th {\n",
       "        vertical-align: top;\n",
       "    }\n",
       "\n",
       "    .dataframe thead th {\n",
       "        text-align: right;\n",
       "    }\n",
       "</style>\n",
       "<table border=\"1\" class=\"dataframe\">\n",
       "  <thead>\n",
       "    <tr style=\"text-align: right;\">\n",
       "      <th></th>\n",
       "      <th>date</th>\n",
       "      <th>round</th>\n",
       "      <th>day</th>\n",
       "      <th>result</th>\n",
       "      <th>gf</th>\n",
       "      <th>ga</th>\n",
       "      <th>opponent</th>\n",
       "      <th>xg</th>\n",
       "      <th>xga</th>\n",
       "      <th>poss</th>\n",
       "      <th>...</th>\n",
       "      <th>opponent_4</th>\n",
       "      <th>team_0</th>\n",
       "      <th>team_1</th>\n",
       "      <th>team_2</th>\n",
       "      <th>team_3</th>\n",
       "      <th>team_4</th>\n",
       "      <th>num_defender</th>\n",
       "      <th>num_striker</th>\n",
       "      <th>offensive_midfielder</th>\n",
       "      <th>center_midfielder</th>\n",
       "    </tr>\n",
       "  </thead>\n",
       "  <tbody>\n",
       "    <tr>\n",
       "      <th>0</th>\n",
       "      <td>2020-09-27</td>\n",
       "      <td>Matchweek 3</td>\n",
       "      <td>Sun</td>\n",
       "      <td>L</td>\n",
       "      <td>2</td>\n",
       "      <td>5</td>\n",
       "      <td>Leicester City</td>\n",
       "      <td>0.9</td>\n",
       "      <td>2.9</td>\n",
       "      <td>72.0</td>\n",
       "      <td>...</td>\n",
       "      <td>1</td>\n",
       "      <td>3</td>\n",
       "      <td>1</td>\n",
       "      <td>1</td>\n",
       "      <td>0</td>\n",
       "      <td>1</td>\n",
       "      <td>4</td>\n",
       "      <td>1</td>\n",
       "      <td>3</td>\n",
       "      <td>0</td>\n",
       "    </tr>\n",
       "    <tr>\n",
       "      <th>1</th>\n",
       "      <td>2020-10-17</td>\n",
       "      <td>Matchweek 5</td>\n",
       "      <td>Sat</td>\n",
       "      <td>W</td>\n",
       "      <td>1</td>\n",
       "      <td>0</td>\n",
       "      <td>Arsenal</td>\n",
       "      <td>1.3</td>\n",
       "      <td>0.9</td>\n",
       "      <td>58.0</td>\n",
       "      <td>...</td>\n",
       "      <td>2</td>\n",
       "      <td>1</td>\n",
       "      <td>1</td>\n",
       "      <td>2</td>\n",
       "      <td>0</td>\n",
       "      <td>2</td>\n",
       "      <td>3</td>\n",
       "      <td>2</td>\n",
       "      <td>4</td>\n",
       "      <td>0</td>\n",
       "    </tr>\n",
       "    <tr>\n",
       "      <th>2</th>\n",
       "      <td>2020-10-24</td>\n",
       "      <td>Matchweek 6</td>\n",
       "      <td>Sat</td>\n",
       "      <td>D</td>\n",
       "      <td>1</td>\n",
       "      <td>1</td>\n",
       "      <td>West Ham</td>\n",
       "      <td>1.0</td>\n",
       "      <td>0.3</td>\n",
       "      <td>69.0</td>\n",
       "      <td>...</td>\n",
       "      <td>0</td>\n",
       "      <td>2</td>\n",
       "      <td>2</td>\n",
       "      <td>1</td>\n",
       "      <td>1</td>\n",
       "      <td>0</td>\n",
       "      <td>4</td>\n",
       "      <td>3</td>\n",
       "      <td>0</td>\n",
       "      <td>3</td>\n",
       "    </tr>\n",
       "    <tr>\n",
       "      <th>3</th>\n",
       "      <td>2020-11-08</td>\n",
       "      <td>Matchweek 8</td>\n",
       "      <td>Sun</td>\n",
       "      <td>D</td>\n",
       "      <td>1</td>\n",
       "      <td>1</td>\n",
       "      <td>Liverpool</td>\n",
       "      <td>1.4</td>\n",
       "      <td>1.2</td>\n",
       "      <td>54.0</td>\n",
       "      <td>...</td>\n",
       "      <td>0</td>\n",
       "      <td>4</td>\n",
       "      <td>1</td>\n",
       "      <td>1</td>\n",
       "      <td>0</td>\n",
       "      <td>0</td>\n",
       "      <td>4</td>\n",
       "      <td>1</td>\n",
       "      <td>3</td>\n",
       "      <td>0</td>\n",
       "    </tr>\n",
       "    <tr>\n",
       "      <th>4</th>\n",
       "      <td>2020-11-21</td>\n",
       "      <td>Matchweek 9</td>\n",
       "      <td>Sat</td>\n",
       "      <td>L</td>\n",
       "      <td>0</td>\n",
       "      <td>2</td>\n",
       "      <td>Tottenham</td>\n",
       "      <td>1.4</td>\n",
       "      <td>0.7</td>\n",
       "      <td>66.0</td>\n",
       "      <td>...</td>\n",
       "      <td>2</td>\n",
       "      <td>2</td>\n",
       "      <td>0</td>\n",
       "      <td>1</td>\n",
       "      <td>1</td>\n",
       "      <td>2</td>\n",
       "      <td>4</td>\n",
       "      <td>3</td>\n",
       "      <td>0</td>\n",
       "      <td>3</td>\n",
       "    </tr>\n",
       "  </tbody>\n",
       "</table>\n",
       "<p>5 rows × 39 columns</p>\n",
       "</div>\n",
       "      <button class=\"colab-df-convert\" onclick=\"convertToInteractive('df-b5279d1c-182e-4426-9d0b-8fa3c24da20c')\"\n",
       "              title=\"Convert this dataframe to an interactive table.\"\n",
       "              style=\"display:none;\">\n",
       "        \n",
       "  <svg xmlns=\"http://www.w3.org/2000/svg\" height=\"24px\"viewBox=\"0 0 24 24\"\n",
       "       width=\"24px\">\n",
       "    <path d=\"M0 0h24v24H0V0z\" fill=\"none\"/>\n",
       "    <path d=\"M18.56 5.44l.94 2.06.94-2.06 2.06-.94-2.06-.94-.94-2.06-.94 2.06-2.06.94zm-11 1L8.5 8.5l.94-2.06 2.06-.94-2.06-.94L8.5 2.5l-.94 2.06-2.06.94zm10 10l.94 2.06.94-2.06 2.06-.94-2.06-.94-.94-2.06-.94 2.06-2.06.94z\"/><path d=\"M17.41 7.96l-1.37-1.37c-.4-.4-.92-.59-1.43-.59-.52 0-1.04.2-1.43.59L10.3 9.45l-7.72 7.72c-.78.78-.78 2.05 0 2.83L4 21.41c.39.39.9.59 1.41.59.51 0 1.02-.2 1.41-.59l7.78-7.78 2.81-2.81c.8-.78.8-2.07 0-2.86zM5.41 20L4 18.59l7.72-7.72 1.47 1.35L5.41 20z\"/>\n",
       "  </svg>\n",
       "      </button>\n",
       "      \n",
       "  <style>\n",
       "    .colab-df-container {\n",
       "      display:flex;\n",
       "      flex-wrap:wrap;\n",
       "      gap: 12px;\n",
       "    }\n",
       "\n",
       "    .colab-df-convert {\n",
       "      background-color: #E8F0FE;\n",
       "      border: none;\n",
       "      border-radius: 50%;\n",
       "      cursor: pointer;\n",
       "      display: none;\n",
       "      fill: #1967D2;\n",
       "      height: 32px;\n",
       "      padding: 0 0 0 0;\n",
       "      width: 32px;\n",
       "    }\n",
       "\n",
       "    .colab-df-convert:hover {\n",
       "      background-color: #E2EBFA;\n",
       "      box-shadow: 0px 1px 2px rgba(60, 64, 67, 0.3), 0px 1px 3px 1px rgba(60, 64, 67, 0.15);\n",
       "      fill: #174EA6;\n",
       "    }\n",
       "\n",
       "    [theme=dark] .colab-df-convert {\n",
       "      background-color: #3B4455;\n",
       "      fill: #D2E3FC;\n",
       "    }\n",
       "\n",
       "    [theme=dark] .colab-df-convert:hover {\n",
       "      background-color: #434B5C;\n",
       "      box-shadow: 0px 1px 3px 1px rgba(0, 0, 0, 0.15);\n",
       "      filter: drop-shadow(0px 1px 2px rgba(0, 0, 0, 0.3));\n",
       "      fill: #FFFFFF;\n",
       "    }\n",
       "  </style>\n",
       "\n",
       "      <script>\n",
       "        const buttonEl =\n",
       "          document.querySelector('#df-b5279d1c-182e-4426-9d0b-8fa3c24da20c button.colab-df-convert');\n",
       "        buttonEl.style.display =\n",
       "          google.colab.kernel.accessAllowed ? 'block' : 'none';\n",
       "\n",
       "        async function convertToInteractive(key) {\n",
       "          const element = document.querySelector('#df-b5279d1c-182e-4426-9d0b-8fa3c24da20c');\n",
       "          const dataTable =\n",
       "            await google.colab.kernel.invokeFunction('convertToInteractive',\n",
       "                                                     [key], {});\n",
       "          if (!dataTable) return;\n",
       "\n",
       "          const docLinkHtml = 'Like what you see? Visit the ' +\n",
       "            '<a target=\"_blank\" href=https://colab.research.google.com/notebooks/data_table.ipynb>data table notebook</a>'\n",
       "            + ' to learn more about interactive tables.';\n",
       "          element.innerHTML = '';\n",
       "          dataTable['output_type'] = 'display_data';\n",
       "          await google.colab.output.renderOutput(dataTable, element);\n",
       "          const docLink = document.createElement('div');\n",
       "          docLink.innerHTML = docLinkHtml;\n",
       "          element.appendChild(docLink);\n",
       "        }\n",
       "      </script>\n",
       "    </div>\n",
       "  </div>\n",
       "  "
      ],
      "text/plain": [
       "        date        round  day result  gf  ga        opponent   xg  xga  poss  \\\n",
       "0 2020-09-27  Matchweek 3  Sun      L   2   5  Leicester City  0.9  2.9  72.0   \n",
       "1 2020-10-17  Matchweek 5  Sat      W   1   0         Arsenal  1.3  0.9  58.0   \n",
       "2 2020-10-24  Matchweek 6  Sat      D   1   1        West Ham  1.0  0.3  69.0   \n",
       "3 2020-11-08  Matchweek 8  Sun      D   1   1       Liverpool  1.4  1.2  54.0   \n",
       "4 2020-11-21  Matchweek 9  Sat      L   0   2       Tottenham  1.4  0.7  66.0   \n",
       "\n",
       "   ...  opponent_4 team_0  team_1  team_2  team_3  team_4  num_defender  \\\n",
       "0  ...           1      3       1       1       0       1             4   \n",
       "1  ...           2      1       1       2       0       2             3   \n",
       "2  ...           0      2       2       1       1       0             4   \n",
       "3  ...           0      4       1       1       0       0             4   \n",
       "4  ...           2      2       0       1       1       2             4   \n",
       "\n",
       "   num_striker  offensive_midfielder center_midfielder  \n",
       "0            1                     3                 0  \n",
       "1            2                     4                 0  \n",
       "2            3                     0                 3  \n",
       "3            1                     3                 0  \n",
       "4            3                     0                 3  \n",
       "\n",
       "[5 rows x 39 columns]"
      ]
     },
     "execution_count": 66,
     "metadata": {},
     "output_type": "execute_result"
    }
   ],
   "source": [
    "train_data.head()"
   ]
  },
  {
   "cell_type": "code",
   "execution_count": 67,
   "id": "a18c5305",
   "metadata": {
    "colab": {
     "base_uri": "https://localhost:8080/"
    },
    "executionInfo": {
     "elapsed": 38,
     "status": "ok",
     "timestamp": 1671250855208,
     "user": {
      "displayName": "Apurba Saha",
      "userId": "15169800888831502649"
     },
     "user_tz": 420
    },
    "id": "7220f02e",
    "outputId": "d235d94a-d628-4a60-8dce-93012947a257"
   },
   "outputs": [
    {
     "data": {
      "text/plain": [
       "array(['L', 'W', 'D'], dtype=object)"
      ]
     },
     "execution_count": 67,
     "metadata": {},
     "output_type": "execute_result"
    }
   ],
   "source": [
    "train_data[\"result\"].unique()"
   ]
  },
  {
   "cell_type": "markdown",
   "id": "5af1d167",
   "metadata": {
    "id": "253b057e"
   },
   "source": [
    "As the results are ordinal data (L < D < W), we can use ordinal encoding for the target variable"
   ]
  },
  {
   "cell_type": "code",
   "execution_count": 68,
   "id": "dd0da1b1",
   "metadata": {
    "executionInfo": {
     "elapsed": 30,
     "status": "ok",
     "timestamp": 1671250855208,
     "user": {
      "displayName": "Apurba Saha",
      "userId": "15169800888831502649"
     },
     "user_tz": 420
    },
    "id": "77d7d321"
   },
   "outputs": [],
   "source": [
    "result_map = {\"L\":0, \"D\":1, \"W\":2}\n",
    "train_data[\"target\"] = train_data[\"result\"].map(result_map)"
   ]
  },
  {
   "cell_type": "markdown",
   "id": "b7c12aad",
   "metadata": {
    "id": "058a6c4c"
   },
   "source": [
    "Finally, we are done with feature encoding. As we found during the exploratory data analysis, there are some missing values left in two columns: attendance, and dist. Let's deal with these missing values one by one."
   ]
  },
  {
   "cell_type": "code",
   "execution_count": 69,
   "id": "4ee2ed7f",
   "metadata": {
    "colab": {
     "base_uri": "https://localhost:8080/"
    },
    "executionInfo": {
     "elapsed": 31,
     "status": "ok",
     "timestamp": 1671250855209,
     "user": {
      "displayName": "Apurba Saha",
      "userId": "15169800888831502649"
     },
     "user_tz": 420
    },
    "id": "8e9b45e4",
    "outputId": "764745c5-aabb-4c05-919b-6b120a85cf5d"
   },
   "outputs": [
    {
     "data": {
      "text/plain": [
       "date                      0\n",
       "round                     0\n",
       "day                       0\n",
       "result                    0\n",
       "gf                        0\n",
       "ga                        0\n",
       "opponent                  0\n",
       "xg                        0\n",
       "xga                       0\n",
       "poss                      0\n",
       "attendance              414\n",
       "formation                 0\n",
       "sh                        0\n",
       "sot                       0\n",
       "dist                      1\n",
       "fk                        0\n",
       "pk                        0\n",
       "pkatt                     0\n",
       "season                    0\n",
       "team                      0\n",
       "hour                      0\n",
       "match_week                0\n",
       "day_sin                   0\n",
       "day_cos                   0\n",
       "venue_Home                0\n",
       "opponent_0                0\n",
       "opponent_1                0\n",
       "opponent_2                0\n",
       "opponent_3                0\n",
       "opponent_4                0\n",
       "team_0                    0\n",
       "team_1                    0\n",
       "team_2                    0\n",
       "team_3                    0\n",
       "team_4                    0\n",
       "num_defender              0\n",
       "num_striker               0\n",
       "offensive_midfielder      0\n",
       "center_midfielder         0\n",
       "target                    0\n",
       "dtype: int64"
      ]
     },
     "execution_count": 69,
     "metadata": {},
     "output_type": "execute_result"
    }
   ],
   "source": [
    "train_data.isnull().sum()"
   ]
  },
  {
   "cell_type": "markdown",
   "id": "6dbe1d9b",
   "metadata": {
    "id": "c9071820"
   },
   "source": [
    "As only one data is missing from the 'dist' column, it is probably missing completely at random. As the 'dist' column had some outliers, we can replace the missing value with the median value of the 'dist' column"
   ]
  },
  {
   "cell_type": "code",
   "execution_count": 70,
   "id": "6a272f2e",
   "metadata": {
    "executionInfo": {
     "elapsed": 26,
     "status": "ok",
     "timestamp": 1671250855210,
     "user": {
      "displayName": "Apurba Saha",
      "userId": "15169800888831502649"
     },
     "user_tz": 420
    },
    "id": "f92f932c"
   },
   "outputs": [],
   "source": [
    "median_dist = train_data[\"dist\"].median()"
   ]
  },
  {
   "cell_type": "code",
   "execution_count": 71,
   "id": "9966d41a",
   "metadata": {
    "colab": {
     "base_uri": "https://localhost:8080/"
    },
    "executionInfo": {
     "elapsed": 25,
     "status": "ok",
     "timestamp": 1671250855210,
     "user": {
      "displayName": "Apurba Saha",
      "userId": "15169800888831502649"
     },
     "user_tz": 420
    },
    "id": "23b5bed3",
    "outputId": "0941fcc7-ebe6-4204-cc88-76337bc73b24"
   },
   "outputs": [
    {
     "data": {
      "text/plain": [
       "17.7"
      ]
     },
     "execution_count": 71,
     "metadata": {},
     "output_type": "execute_result"
    }
   ],
   "source": [
    "median_dist"
   ]
  },
  {
   "cell_type": "code",
   "execution_count": 72,
   "id": "256e664e",
   "metadata": {
    "executionInfo": {
     "elapsed": 21,
     "status": "ok",
     "timestamp": 1671250855211,
     "user": {
      "displayName": "Apurba Saha",
      "userId": "15169800888831502649"
     },
     "user_tz": 420
    },
    "id": "ec927d6f"
   },
   "outputs": [],
   "source": [
    "train_data[\"dist\"].fillna(median_dist, inplace=True)"
   ]
  },
  {
   "cell_type": "code",
   "execution_count": 73,
   "id": "36ed06a7",
   "metadata": {
    "colab": {
     "base_uri": "https://localhost:8080/"
    },
    "executionInfo": {
     "elapsed": 21,
     "status": "ok",
     "timestamp": 1671250855212,
     "user": {
      "displayName": "Apurba Saha",
      "userId": "15169800888831502649"
     },
     "user_tz": 420
    },
    "id": "828d6f3a",
    "outputId": "588644b9-36a4-4843-ab10-0dd76ae2624a"
   },
   "outputs": [
    {
     "data": {
      "text/plain": [
       "0"
      ]
     },
     "execution_count": 73,
     "metadata": {},
     "output_type": "execute_result"
    }
   ],
   "source": [
    "train_data[\"dist\"].isnull().sum()"
   ]
  },
  {
   "cell_type": "markdown",
   "id": "ad7c2745",
   "metadata": {
    "id": "e67e3a23"
   },
   "source": [
    "Now let's focus on the 'attendance' column. The match attendance depends on a number of other factors like day, team, opponent, venue_type, etc. So, we can use MCIE method to impute the missing values for this column."
   ]
  },
  {
   "cell_type": "code",
   "execution_count": 74,
   "id": "1fd58e93",
   "metadata": {
    "executionInfo": {
     "elapsed": 183,
     "status": "ok",
     "timestamp": 1671250855377,
     "user": {
      "displayName": "Apurba Saha",
      "userId": "15169800888831502649"
     },
     "user_tz": 420
    },
    "id": "0e78dd00"
   },
   "outputs": [],
   "source": [
    "from sklearn.experimental import enable_iterative_imputer\n",
    "from sklearn.impute import IterativeImputer\n",
    "from sklearn.linear_model import HuberRegressor"
   ]
  },
  {
   "cell_type": "code",
   "execution_count": 75,
   "id": "10b6a68a",
   "metadata": {
    "colab": {
     "base_uri": "https://localhost:8080/"
    },
    "executionInfo": {
     "elapsed": 9,
     "status": "ok",
     "timestamp": 1671250855377,
     "user": {
      "displayName": "Apurba Saha",
      "userId": "15169800888831502649"
     },
     "user_tz": 420
    },
    "id": "a2082aff",
    "outputId": "ec0c7568-c4e4-4285-bb35-aed65aca7dfd"
   },
   "outputs": [
    {
     "data": {
      "text/plain": [
       "['gf',\n",
       " 'ga',\n",
       " 'xg',\n",
       " 'xga',\n",
       " 'poss',\n",
       " 'attendance',\n",
       " 'sh',\n",
       " 'sot',\n",
       " 'dist',\n",
       " 'fk',\n",
       " 'pk',\n",
       " 'pkatt',\n",
       " 'season',\n",
       " 'hour',\n",
       " 'match_week',\n",
       " 'day_sin',\n",
       " 'day_cos',\n",
       " 'venue_Home',\n",
       " 'opponent_0',\n",
       " 'opponent_1',\n",
       " 'opponent_2',\n",
       " 'opponent_3',\n",
       " 'opponent_4',\n",
       " 'team_0',\n",
       " 'team_1',\n",
       " 'team_2',\n",
       " 'team_3',\n",
       " 'team_4',\n",
       " 'num_defender',\n",
       " 'num_striker',\n",
       " 'offensive_midfielder',\n",
       " 'center_midfielder',\n",
       " 'target']"
      ]
     },
     "execution_count": 75,
     "metadata": {},
     "output_type": "execute_result"
    }
   ],
   "source": [
    "numerical_columns = train_data.select_dtypes(include=np.number).columns.tolist()\n",
    "numerical_columns"
   ]
  },
  {
   "cell_type": "code",
   "execution_count": 76,
   "id": "d4d916f1",
   "metadata": {
    "executionInfo": {
     "elapsed": 1913,
     "status": "ok",
     "timestamp": 1671250857287,
     "user": {
      "displayName": "Apurba Saha",
      "userId": "15169800888831502649"
     },
     "user_tz": 420
    },
    "id": "02f0282e"
   },
   "outputs": [],
   "source": [
    "estimator = HuberRegressor(max_iter=15000)\n",
    "imputer = IterativeImputer(estimator=estimator, random_state=2022, skip_complete=True)\n",
    "imputed_train_data = imputer.fit_transform(train_data[numerical_columns])"
   ]
  },
  {
   "cell_type": "code",
   "execution_count": 77,
   "id": "a2642ca2",
   "metadata": {
    "colab": {
     "base_uri": "https://localhost:8080/",
     "height": 386
    },
    "executionInfo": {
     "elapsed": 6,
     "status": "ok",
     "timestamp": 1671250857287,
     "user": {
      "displayName": "Apurba Saha",
      "userId": "15169800888831502649"
     },
     "user_tz": 420
    },
    "id": "43f0cd0c",
    "outputId": "33cdb3b7-a401-4f93-e2b7-18865c3d7592"
   },
   "outputs": [
    {
     "data": {
      "text/html": [
       "\n",
       "  <div id=\"df-8d011413-6d08-4f83-a1e6-c49b8f122bbb\">\n",
       "    <div class=\"colab-df-container\">\n",
       "      <div>\n",
       "<style scoped>\n",
       "    .dataframe tbody tr th:only-of-type {\n",
       "        vertical-align: middle;\n",
       "    }\n",
       "\n",
       "    .dataframe tbody tr th {\n",
       "        vertical-align: top;\n",
       "    }\n",
       "\n",
       "    .dataframe thead th {\n",
       "        text-align: right;\n",
       "    }\n",
       "</style>\n",
       "<table border=\"1\" class=\"dataframe\">\n",
       "  <thead>\n",
       "    <tr style=\"text-align: right;\">\n",
       "      <th></th>\n",
       "      <th>date</th>\n",
       "      <th>round</th>\n",
       "      <th>day</th>\n",
       "      <th>result</th>\n",
       "      <th>gf</th>\n",
       "      <th>ga</th>\n",
       "      <th>opponent</th>\n",
       "      <th>xg</th>\n",
       "      <th>xga</th>\n",
       "      <th>poss</th>\n",
       "      <th>...</th>\n",
       "      <th>team_0</th>\n",
       "      <th>team_1</th>\n",
       "      <th>team_2</th>\n",
       "      <th>team_3</th>\n",
       "      <th>team_4</th>\n",
       "      <th>num_defender</th>\n",
       "      <th>num_striker</th>\n",
       "      <th>offensive_midfielder</th>\n",
       "      <th>center_midfielder</th>\n",
       "      <th>target</th>\n",
       "    </tr>\n",
       "  </thead>\n",
       "  <tbody>\n",
       "    <tr>\n",
       "      <th>0</th>\n",
       "      <td>2020-09-27</td>\n",
       "      <td>Matchweek 3</td>\n",
       "      <td>Sun</td>\n",
       "      <td>L</td>\n",
       "      <td>2</td>\n",
       "      <td>5</td>\n",
       "      <td>Leicester City</td>\n",
       "      <td>0.9</td>\n",
       "      <td>2.9</td>\n",
       "      <td>72.0</td>\n",
       "      <td>...</td>\n",
       "      <td>3</td>\n",
       "      <td>1</td>\n",
       "      <td>1</td>\n",
       "      <td>0</td>\n",
       "      <td>1</td>\n",
       "      <td>4</td>\n",
       "      <td>1</td>\n",
       "      <td>3</td>\n",
       "      <td>0</td>\n",
       "      <td>0</td>\n",
       "    </tr>\n",
       "    <tr>\n",
       "      <th>1</th>\n",
       "      <td>2020-10-17</td>\n",
       "      <td>Matchweek 5</td>\n",
       "      <td>Sat</td>\n",
       "      <td>W</td>\n",
       "      <td>1</td>\n",
       "      <td>0</td>\n",
       "      <td>Arsenal</td>\n",
       "      <td>1.3</td>\n",
       "      <td>0.9</td>\n",
       "      <td>58.0</td>\n",
       "      <td>...</td>\n",
       "      <td>1</td>\n",
       "      <td>1</td>\n",
       "      <td>2</td>\n",
       "      <td>0</td>\n",
       "      <td>2</td>\n",
       "      <td>3</td>\n",
       "      <td>2</td>\n",
       "      <td>4</td>\n",
       "      <td>0</td>\n",
       "      <td>2</td>\n",
       "    </tr>\n",
       "    <tr>\n",
       "      <th>2</th>\n",
       "      <td>2020-10-24</td>\n",
       "      <td>Matchweek 6</td>\n",
       "      <td>Sat</td>\n",
       "      <td>D</td>\n",
       "      <td>1</td>\n",
       "      <td>1</td>\n",
       "      <td>West Ham</td>\n",
       "      <td>1.0</td>\n",
       "      <td>0.3</td>\n",
       "      <td>69.0</td>\n",
       "      <td>...</td>\n",
       "      <td>2</td>\n",
       "      <td>2</td>\n",
       "      <td>1</td>\n",
       "      <td>1</td>\n",
       "      <td>0</td>\n",
       "      <td>4</td>\n",
       "      <td>3</td>\n",
       "      <td>0</td>\n",
       "      <td>3</td>\n",
       "      <td>1</td>\n",
       "    </tr>\n",
       "    <tr>\n",
       "      <th>3</th>\n",
       "      <td>2020-11-08</td>\n",
       "      <td>Matchweek 8</td>\n",
       "      <td>Sun</td>\n",
       "      <td>D</td>\n",
       "      <td>1</td>\n",
       "      <td>1</td>\n",
       "      <td>Liverpool</td>\n",
       "      <td>1.4</td>\n",
       "      <td>1.2</td>\n",
       "      <td>54.0</td>\n",
       "      <td>...</td>\n",
       "      <td>4</td>\n",
       "      <td>1</td>\n",
       "      <td>1</td>\n",
       "      <td>0</td>\n",
       "      <td>0</td>\n",
       "      <td>4</td>\n",
       "      <td>1</td>\n",
       "      <td>3</td>\n",
       "      <td>0</td>\n",
       "      <td>1</td>\n",
       "    </tr>\n",
       "    <tr>\n",
       "      <th>4</th>\n",
       "      <td>2020-11-21</td>\n",
       "      <td>Matchweek 9</td>\n",
       "      <td>Sat</td>\n",
       "      <td>L</td>\n",
       "      <td>0</td>\n",
       "      <td>2</td>\n",
       "      <td>Tottenham</td>\n",
       "      <td>1.4</td>\n",
       "      <td>0.7</td>\n",
       "      <td>66.0</td>\n",
       "      <td>...</td>\n",
       "      <td>2</td>\n",
       "      <td>0</td>\n",
       "      <td>1</td>\n",
       "      <td>1</td>\n",
       "      <td>2</td>\n",
       "      <td>4</td>\n",
       "      <td>3</td>\n",
       "      <td>0</td>\n",
       "      <td>3</td>\n",
       "      <td>0</td>\n",
       "    </tr>\n",
       "  </tbody>\n",
       "</table>\n",
       "<p>5 rows × 40 columns</p>\n",
       "</div>\n",
       "      <button class=\"colab-df-convert\" onclick=\"convertToInteractive('df-8d011413-6d08-4f83-a1e6-c49b8f122bbb')\"\n",
       "              title=\"Convert this dataframe to an interactive table.\"\n",
       "              style=\"display:none;\">\n",
       "        \n",
       "  <svg xmlns=\"http://www.w3.org/2000/svg\" height=\"24px\"viewBox=\"0 0 24 24\"\n",
       "       width=\"24px\">\n",
       "    <path d=\"M0 0h24v24H0V0z\" fill=\"none\"/>\n",
       "    <path d=\"M18.56 5.44l.94 2.06.94-2.06 2.06-.94-2.06-.94-.94-2.06-.94 2.06-2.06.94zm-11 1L8.5 8.5l.94-2.06 2.06-.94-2.06-.94L8.5 2.5l-.94 2.06-2.06.94zm10 10l.94 2.06.94-2.06 2.06-.94-2.06-.94-.94-2.06-.94 2.06-2.06.94z\"/><path d=\"M17.41 7.96l-1.37-1.37c-.4-.4-.92-.59-1.43-.59-.52 0-1.04.2-1.43.59L10.3 9.45l-7.72 7.72c-.78.78-.78 2.05 0 2.83L4 21.41c.39.39.9.59 1.41.59.51 0 1.02-.2 1.41-.59l7.78-7.78 2.81-2.81c.8-.78.8-2.07 0-2.86zM5.41 20L4 18.59l7.72-7.72 1.47 1.35L5.41 20z\"/>\n",
       "  </svg>\n",
       "      </button>\n",
       "      \n",
       "  <style>\n",
       "    .colab-df-container {\n",
       "      display:flex;\n",
       "      flex-wrap:wrap;\n",
       "      gap: 12px;\n",
       "    }\n",
       "\n",
       "    .colab-df-convert {\n",
       "      background-color: #E8F0FE;\n",
       "      border: none;\n",
       "      border-radius: 50%;\n",
       "      cursor: pointer;\n",
       "      display: none;\n",
       "      fill: #1967D2;\n",
       "      height: 32px;\n",
       "      padding: 0 0 0 0;\n",
       "      width: 32px;\n",
       "    }\n",
       "\n",
       "    .colab-df-convert:hover {\n",
       "      background-color: #E2EBFA;\n",
       "      box-shadow: 0px 1px 2px rgba(60, 64, 67, 0.3), 0px 1px 3px 1px rgba(60, 64, 67, 0.15);\n",
       "      fill: #174EA6;\n",
       "    }\n",
       "\n",
       "    [theme=dark] .colab-df-convert {\n",
       "      background-color: #3B4455;\n",
       "      fill: #D2E3FC;\n",
       "    }\n",
       "\n",
       "    [theme=dark] .colab-df-convert:hover {\n",
       "      background-color: #434B5C;\n",
       "      box-shadow: 0px 1px 3px 1px rgba(0, 0, 0, 0.15);\n",
       "      filter: drop-shadow(0px 1px 2px rgba(0, 0, 0, 0.3));\n",
       "      fill: #FFFFFF;\n",
       "    }\n",
       "  </style>\n",
       "\n",
       "      <script>\n",
       "        const buttonEl =\n",
       "          document.querySelector('#df-8d011413-6d08-4f83-a1e6-c49b8f122bbb button.colab-df-convert');\n",
       "        buttonEl.style.display =\n",
       "          google.colab.kernel.accessAllowed ? 'block' : 'none';\n",
       "\n",
       "        async function convertToInteractive(key) {\n",
       "          const element = document.querySelector('#df-8d011413-6d08-4f83-a1e6-c49b8f122bbb');\n",
       "          const dataTable =\n",
       "            await google.colab.kernel.invokeFunction('convertToInteractive',\n",
       "                                                     [key], {});\n",
       "          if (!dataTable) return;\n",
       "\n",
       "          const docLinkHtml = 'Like what you see? Visit the ' +\n",
       "            '<a target=\"_blank\" href=https://colab.research.google.com/notebooks/data_table.ipynb>data table notebook</a>'\n",
       "            + ' to learn more about interactive tables.';\n",
       "          element.innerHTML = '';\n",
       "          dataTable['output_type'] = 'display_data';\n",
       "          await google.colab.output.renderOutput(dataTable, element);\n",
       "          const docLink = document.createElement('div');\n",
       "          docLink.innerHTML = docLinkHtml;\n",
       "          element.appendChild(docLink);\n",
       "        }\n",
       "      </script>\n",
       "    </div>\n",
       "  </div>\n",
       "  "
      ],
      "text/plain": [
       "        date        round  day result  gf  ga        opponent   xg  xga  poss  \\\n",
       "0 2020-09-27  Matchweek 3  Sun      L   2   5  Leicester City  0.9  2.9  72.0   \n",
       "1 2020-10-17  Matchweek 5  Sat      W   1   0         Arsenal  1.3  0.9  58.0   \n",
       "2 2020-10-24  Matchweek 6  Sat      D   1   1        West Ham  1.0  0.3  69.0   \n",
       "3 2020-11-08  Matchweek 8  Sun      D   1   1       Liverpool  1.4  1.2  54.0   \n",
       "4 2020-11-21  Matchweek 9  Sat      L   0   2       Tottenham  1.4  0.7  66.0   \n",
       "\n",
       "   ...  team_0 team_1  team_2  team_3  team_4  num_defender  num_striker  \\\n",
       "0  ...       3      1       1       0       1             4            1   \n",
       "1  ...       1      1       2       0       2             3            2   \n",
       "2  ...       2      2       1       1       0             4            3   \n",
       "3  ...       4      1       1       0       0             4            1   \n",
       "4  ...       2      0       1       1       2             4            3   \n",
       "\n",
       "   offensive_midfielder  center_midfielder target  \n",
       "0                     3                  0      0  \n",
       "1                     4                  0      2  \n",
       "2                     0                  3      1  \n",
       "3                     3                  0      1  \n",
       "4                     0                  3      0  \n",
       "\n",
       "[5 rows x 40 columns]"
      ]
     },
     "execution_count": 77,
     "metadata": {},
     "output_type": "execute_result"
    }
   ],
   "source": [
    "train_data['attendance'] = imputed_train_data[:, 5]\n",
    "train_data.head()"
   ]
  },
  {
   "cell_type": "code",
   "execution_count": 78,
   "id": "4d15139c",
   "metadata": {
    "colab": {
     "base_uri": "https://localhost:8080/",
     "height": 282
    },
    "executionInfo": {
     "elapsed": 409,
     "status": "ok",
     "timestamp": 1671250857691,
     "user": {
      "displayName": "Apurba Saha",
      "userId": "15169800888831502649"
     },
     "user_tz": 420
    },
    "id": "5e4c2484",
    "outputId": "7f22bda7-1e97-415b-ebd4-4031e1b56dde"
   },
   "outputs": [
    {
     "data": {
      "text/plain": [
       "<matplotlib.axes._subplots.AxesSubplot at 0x7f351d90fbe0>"
      ]
     },
     "execution_count": 78,
     "metadata": {},
     "output_type": "execute_result"
    },
    {
     "data": {
      "image/png": "[encoded data removed]",
      "text/plain": [
       "<Figure size 432x288 with 1 Axes>"
      ]
     },
     "metadata": {
      "needs_background": "light"
     },
     "output_type": "display_data"
    }
   ],
   "source": [
    "train_data[\"attendance\"].plot.hist(bins=30)"
   ]
  },
  {
   "cell_type": "code",
   "execution_count": 79,
   "id": "8932b97a",
   "metadata": {
    "colab": {
     "base_uri": "https://localhost:8080/"
    },
    "executionInfo": {
     "elapsed": 11,
     "status": "ok",
     "timestamp": 1671250857691,
     "user": {
      "displayName": "Apurba Saha",
      "userId": "15169800888831502649"
     },
     "user_tz": 420
    },
    "id": "b5c8140d",
    "outputId": "2a8b99df-19ad-4652-9ee6-ede4f0d605b7",
    "scrolled": true
   },
   "outputs": [
    {
     "name": "stdout",
     "output_type": "stream",
     "text": [
      "<class 'pandas.core.frame.DataFrame'>\n",
      "RangeIndex: 1456 entries, 0 to 1455\n",
      "Data columns (total 40 columns):\n",
      " #   Column                Non-Null Count  Dtype         \n",
      "---  ------                --------------  -----         \n",
      " 0   date                  1456 non-null   datetime64[ns]\n",
      " 1   round                 1456 non-null   object        \n",
      " 2   day                   1456 non-null   object        \n",
      " 3   result                1456 non-null   object        \n",
      " 4   gf                    1456 non-null   int64         \n",
      " 5   ga                    1456 non-null   int64         \n",
      " 6   opponent              1456 non-null   object        \n",
      " 7   xg                    1456 non-null   float64       \n",
      " 8   xga                   1456 non-null   float64       \n",
      " 9   poss                  1456 non-null   float64       \n",
      " 10  attendance            1456 non-null   float64       \n",
      " 11  formation             1456 non-null   object        \n",
      " 12  sh                    1456 non-null   float64       \n",
      " 13  sot                   1456 non-null   float64       \n",
      " 14  dist                  1456 non-null   float64       \n",
      " 15  fk                    1456 non-null   float64       \n",
      " 16  pk                    1456 non-null   float64       \n",
      " 17  pkatt                 1456 non-null   float64       \n",
      " 18  season                1456 non-null   int64         \n",
      " 19  team                  1456 non-null   object        \n",
      " 20  hour                  1456 non-null   int64         \n",
      " 21  match_week            1456 non-null   int64         \n",
      " 22  day_sin               1456 non-null   float64       \n",
      " 23  day_cos               1456 non-null   float64       \n",
      " 24  venue_Home            1456 non-null   uint8         \n",
      " 25  opponent_0            1456 non-null   int64         \n",
      " 26  opponent_1            1456 non-null   int64         \n",
      " 27  opponent_2            1456 non-null   int64         \n",
      " 28  opponent_3            1456 non-null   int64         \n",
      " 29  opponent_4            1456 non-null   int64         \n",
      " 30  team_0                1456 non-null   int64         \n",
      " 31  team_1                1456 non-null   int64         \n",
      " 32  team_2                1456 non-null   int64         \n",
      " 33  team_3                1456 non-null   int64         \n",
      " 34  team_4                1456 non-null   int64         \n",
      " 35  num_defender          1456 non-null   int64         \n",
      " 36  num_striker           1456 non-null   int64         \n",
      " 37  offensive_midfielder  1456 non-null   int64         \n",
      " 38  center_midfielder     1456 non-null   int64         \n",
      " 39  target                1456 non-null   int64         \n",
      "dtypes: datetime64[ns](1), float64(12), int64(20), object(6), uint8(1)\n",
      "memory usage: 445.2+ KB\n"
     ]
    }
   ],
   "source": [
    "train_data.info()"
   ]
  },
  {
   "cell_type": "markdown",
   "id": "6538ab50",
   "metadata": {
    "id": "3deab4b0"
   },
   "source": [
    "As we can notice, there are no missing values in the dataset. However, the dataset doesn't have any column capturing the past performance of a teamHowever, we haven't yet considered the historical performance of a team. It may have a significant influence on the winner prediction. We use the 'rolling average' method to capture the past performance of each time. For that purpose, we temporarily merge the training and test dataset."
   ]
  },
  {
   "cell_type": "code",
   "execution_count": 80,
   "id": "d6ddab56",
   "metadata": {
    "executionInfo": {
     "elapsed": 7,
     "status": "ok",
     "timestamp": 1671250857692,
     "user": {
      "displayName": "Apurba Saha",
      "userId": "15169800888831502649"
     },
     "user_tz": 420
    },
    "id": "a2753fcf"
   },
   "outputs": [],
   "source": [
    "def rolling_averages(group, cols, new_cols):\n",
    "    group = group.sort_values('date')\n",
    "    rolling_stats = group[cols].rolling(3, closed='left').mean()\n",
    "    group[new_cols] = rolling_stats\n",
    "    group = group.dropna(subset=new_cols)\n",
    "    return group"
   ]
  },
  {
   "cell_type": "code",
   "execution_count": 81,
   "id": "2a97de62",
   "metadata": {
    "executionInfo": {
     "elapsed": 237,
     "status": "ok",
     "timestamp": 1671250857922,
     "user": {
      "displayName": "Apurba Saha",
      "userId": "15169800888831502649"
     },
     "user_tz": 420
    },
    "id": "c89aa51a"
   },
   "outputs": [],
   "source": [
    "cols = [\"gf\", 'ga', 'sh', 'sot', 'dist', 'poss', 'fk', 'pk', 'pkatt']\n",
    "new_cols = [f\"{c}_rolling\" for c in cols]\n",
    "train_data = train_data.groupby(\"team\").apply(lambda x: rolling_averages(x, cols, new_cols))"
   ]
  },
  {
   "cell_type": "code",
   "execution_count": 82,
   "id": "e8ddc8f9",
   "metadata": {
    "executionInfo": {
     "elapsed": 21,
     "status": "ok",
     "timestamp": 1671250857923,
     "user": {
      "displayName": "Apurba Saha",
      "userId": "15169800888831502649"
     },
     "user_tz": 420
    },
    "id": "45af8c22"
   },
   "outputs": [],
   "source": [
    "train_data.index = train_data.index.droplevel()"
   ]
  },
  {
   "cell_type": "code",
   "execution_count": 83,
   "id": "5dbb152f",
   "metadata": {
    "executionInfo": {
     "elapsed": 20,
     "status": "ok",
     "timestamp": 1671250857923,
     "user": {
      "displayName": "Apurba Saha",
      "userId": "15169800888831502649"
     },
     "user_tz": 420
    },
    "id": "96065afc"
   },
   "outputs": [],
   "source": [
    "train_data.index = range(train_data.shape[0])"
   ]
  },
  {
   "cell_type": "code",
   "execution_count": 84,
   "id": "494cb3bf",
   "metadata": {
    "colab": {
     "base_uri": "https://localhost:8080/"
    },
    "executionInfo": {
     "elapsed": 21,
     "status": "ok",
     "timestamp": 1671250857924,
     "user": {
      "displayName": "Apurba Saha",
      "userId": "15169800888831502649"
     },
     "user_tz": 420
    },
    "id": "d7521b01",
    "outputId": "a3c81dba-c644-45ca-d7bc-8b70b8d6fee2",
    "scrolled": false
   },
   "outputs": [
    {
     "name": "stdout",
     "output_type": "stream",
     "text": [
      "<class 'pandas.core.frame.DataFrame'>\n",
      "RangeIndex: 1414 entries, 0 to 1413\n",
      "Data columns (total 49 columns):\n",
      " #   Column                Non-Null Count  Dtype         \n",
      "---  ------                --------------  -----         \n",
      " 0   date                  1414 non-null   datetime64[ns]\n",
      " 1   round                 1414 non-null   object        \n",
      " 2   day                   1414 non-null   object        \n",
      " 3   result                1414 non-null   object        \n",
      " 4   gf                    1414 non-null   int64         \n",
      " 5   ga                    1414 non-null   int64         \n",
      " 6   opponent              1414 non-null   object        \n",
      " 7   xg                    1414 non-null   float64       \n",
      " 8   xga                   1414 non-null   float64       \n",
      " 9   poss                  1414 non-null   float64       \n",
      " 10  attendance            1414 non-null   float64       \n",
      " 11  formation             1414 non-null   object        \n",
      " 12  sh                    1414 non-null   float64       \n",
      " 13  sot                   1414 non-null   float64       \n",
      " 14  dist                  1414 non-null   float64       \n",
      " 15  fk                    1414 non-null   float64       \n",
      " 16  pk                    1414 non-null   float64       \n",
      " 17  pkatt                 1414 non-null   float64       \n",
      " 18  season                1414 non-null   int64         \n",
      " 19  team                  1414 non-null   object        \n",
      " 20  hour                  1414 non-null   int64         \n",
      " 21  match_week            1414 non-null   int64         \n",
      " 22  day_sin               1414 non-null   float64       \n",
      " 23  day_cos               1414 non-null   float64       \n",
      " 24  venue_Home            1414 non-null   uint8         \n",
      " 25  opponent_0            1414 non-null   int64         \n",
      " 26  opponent_1            1414 non-null   int64         \n",
      " 27  opponent_2            1414 non-null   int64         \n",
      " 28  opponent_3            1414 non-null   int64         \n",
      " 29  opponent_4            1414 non-null   int64         \n",
      " 30  team_0                1414 non-null   int64         \n",
      " 31  team_1                1414 non-null   int64         \n",
      " 32  team_2                1414 non-null   int64         \n",
      " 33  team_3                1414 non-null   int64         \n",
      " 34  team_4                1414 non-null   int64         \n",
      " 35  num_defender          1414 non-null   int64         \n",
      " 36  num_striker           1414 non-null   int64         \n",
      " 37  offensive_midfielder  1414 non-null   int64         \n",
      " 38  center_midfielder     1414 non-null   int64         \n",
      " 39  target                1414 non-null   int64         \n",
      " 40  gf_rolling            1414 non-null   float64       \n",
      " 41  ga_rolling            1414 non-null   float64       \n",
      " 42  sh_rolling            1414 non-null   float64       \n",
      " 43  sot_rolling           1414 non-null   float64       \n",
      " 44  dist_rolling          1414 non-null   float64       \n",
      " 45  poss_rolling          1414 non-null   float64       \n",
      " 46  fk_rolling            1414 non-null   float64       \n",
      " 47  pk_rolling            1414 non-null   float64       \n",
      " 48  pkatt_rolling         1414 non-null   float64       \n",
      "dtypes: datetime64[ns](1), float64(21), int64(20), object(6), uint8(1)\n",
      "memory usage: 531.8+ KB\n"
     ]
    }
   ],
   "source": [
    "train_data.info()"
   ]
  },
  {
   "cell_type": "code",
   "execution_count": 85,
   "id": "6f72ed83",
   "metadata": {
    "colab": {
     "base_uri": "https://localhost:8080/",
     "height": 386
    },
    "executionInfo": {
     "elapsed": 19,
     "status": "ok",
     "timestamp": 1671250857924,
     "user": {
      "displayName": "Apurba Saha",
      "userId": "15169800888831502649"
     },
     "user_tz": 420
    },
    "id": "3a643624",
    "outputId": "6b82edd5-bb87-4da1-e63f-cce8c042e12d",
    "scrolled": true
   },
   "outputs": [
    {
     "data": {
      "text/html": [
       "\n",
       "  <div id=\"df-dce1eb1f-a43a-4f11-9a4c-298667fb1056\">\n",
       "    <div class=\"colab-df-container\">\n",
       "      <div>\n",
       "<style scoped>\n",
       "    .dataframe tbody tr th:only-of-type {\n",
       "        vertical-align: middle;\n",
       "    }\n",
       "\n",
       "    .dataframe tbody tr th {\n",
       "        vertical-align: top;\n",
       "    }\n",
       "\n",
       "    .dataframe thead th {\n",
       "        text-align: right;\n",
       "    }\n",
       "</style>\n",
       "<table border=\"1\" class=\"dataframe\">\n",
       "  <thead>\n",
       "    <tr style=\"text-align: right;\">\n",
       "      <th></th>\n",
       "      <th>date</th>\n",
       "      <th>round</th>\n",
       "      <th>day</th>\n",
       "      <th>result</th>\n",
       "      <th>gf</th>\n",
       "      <th>ga</th>\n",
       "      <th>opponent</th>\n",
       "      <th>xg</th>\n",
       "      <th>xga</th>\n",
       "      <th>poss</th>\n",
       "      <th>...</th>\n",
       "      <th>target</th>\n",
       "      <th>gf_rolling</th>\n",
       "      <th>ga_rolling</th>\n",
       "      <th>sh_rolling</th>\n",
       "      <th>sot_rolling</th>\n",
       "      <th>dist_rolling</th>\n",
       "      <th>poss_rolling</th>\n",
       "      <th>fk_rolling</th>\n",
       "      <th>pk_rolling</th>\n",
       "      <th>pkatt_rolling</th>\n",
       "    </tr>\n",
       "  </thead>\n",
       "  <tbody>\n",
       "    <tr>\n",
       "      <th>0</th>\n",
       "      <td>2017-10-01</td>\n",
       "      <td>Matchweek 7</td>\n",
       "      <td>Sun</td>\n",
       "      <td>W</td>\n",
       "      <td>2</td>\n",
       "      <td>0</td>\n",
       "      <td>Brighton</td>\n",
       "      <td>2.4</td>\n",
       "      <td>0.4</td>\n",
       "      <td>64.0</td>\n",
       "      <td>...</td>\n",
       "      <td>2</td>\n",
       "      <td>1.333333</td>\n",
       "      <td>2.333333</td>\n",
       "      <td>15.333333</td>\n",
       "      <td>4.000000</td>\n",
       "      <td>17.933333</td>\n",
       "      <td>56.333333</td>\n",
       "      <td>0.666667</td>\n",
       "      <td>0.0</td>\n",
       "      <td>0.0</td>\n",
       "    </tr>\n",
       "    <tr>\n",
       "      <th>1</th>\n",
       "      <td>2017-10-22</td>\n",
       "      <td>Matchweek 9</td>\n",
       "      <td>Sun</td>\n",
       "      <td>W</td>\n",
       "      <td>5</td>\n",
       "      <td>2</td>\n",
       "      <td>Everton</td>\n",
       "      <td>3.5</td>\n",
       "      <td>1.0</td>\n",
       "      <td>67.0</td>\n",
       "      <td>...</td>\n",
       "      <td>2</td>\n",
       "      <td>0.666667</td>\n",
       "      <td>1.333333</td>\n",
       "      <td>14.666667</td>\n",
       "      <td>3.333333</td>\n",
       "      <td>17.500000</td>\n",
       "      <td>55.000000</td>\n",
       "      <td>0.666667</td>\n",
       "      <td>0.0</td>\n",
       "      <td>0.0</td>\n",
       "    </tr>\n",
       "    <tr>\n",
       "      <th>2</th>\n",
       "      <td>2017-11-05</td>\n",
       "      <td>Matchweek 11</td>\n",
       "      <td>Sun</td>\n",
       "      <td>L</td>\n",
       "      <td>1</td>\n",
       "      <td>3</td>\n",
       "      <td>Manchester City</td>\n",
       "      <td>0.3</td>\n",
       "      <td>1.8</td>\n",
       "      <td>43.0</td>\n",
       "      <td>...</td>\n",
       "      <td>0</td>\n",
       "      <td>2.333333</td>\n",
       "      <td>0.666667</td>\n",
       "      <td>22.000000</td>\n",
       "      <td>8.000000</td>\n",
       "      <td>17.500000</td>\n",
       "      <td>60.000000</td>\n",
       "      <td>0.333333</td>\n",
       "      <td>0.0</td>\n",
       "      <td>0.0</td>\n",
       "    </tr>\n",
       "    <tr>\n",
       "      <th>3</th>\n",
       "      <td>2017-11-18</td>\n",
       "      <td>Matchweek 12</td>\n",
       "      <td>Sat</td>\n",
       "      <td>W</td>\n",
       "      <td>2</td>\n",
       "      <td>0</td>\n",
       "      <td>Tottenham</td>\n",
       "      <td>2.1</td>\n",
       "      <td>0.7</td>\n",
       "      <td>43.0</td>\n",
       "      <td>...</td>\n",
       "      <td>2</td>\n",
       "      <td>2.666667</td>\n",
       "      <td>1.666667</td>\n",
       "      <td>20.333333</td>\n",
       "      <td>8.333333</td>\n",
       "      <td>18.500000</td>\n",
       "      <td>58.000000</td>\n",
       "      <td>0.333333</td>\n",
       "      <td>0.0</td>\n",
       "      <td>0.0</td>\n",
       "    </tr>\n",
       "    <tr>\n",
       "      <th>4</th>\n",
       "      <td>2017-11-26</td>\n",
       "      <td>Matchweek 13</td>\n",
       "      <td>Sun</td>\n",
       "      <td>W</td>\n",
       "      <td>1</td>\n",
       "      <td>0</td>\n",
       "      <td>Burnley</td>\n",
       "      <td>1.8</td>\n",
       "      <td>0.4</td>\n",
       "      <td>64.0</td>\n",
       "      <td>...</td>\n",
       "      <td>2</td>\n",
       "      <td>2.666667</td>\n",
       "      <td>1.666667</td>\n",
       "      <td>16.666667</td>\n",
       "      <td>7.333333</td>\n",
       "      <td>17.833333</td>\n",
       "      <td>51.000000</td>\n",
       "      <td>0.333333</td>\n",
       "      <td>0.0</td>\n",
       "      <td>0.0</td>\n",
       "    </tr>\n",
       "  </tbody>\n",
       "</table>\n",
       "<p>5 rows × 49 columns</p>\n",
       "</div>\n",
       "      <button class=\"colab-df-convert\" onclick=\"convertToInteractive('df-dce1eb1f-a43a-4f11-9a4c-298667fb1056')\"\n",
       "              title=\"Convert this dataframe to an interactive table.\"\n",
       "              style=\"display:none;\">\n",
       "        \n",
       "  <svg xmlns=\"http://www.w3.org/2000/svg\" height=\"24px\"viewBox=\"0 0 24 24\"\n",
       "       width=\"24px\">\n",
       "    <path d=\"M0 0h24v24H0V0z\" fill=\"none\"/>\n",
       "    <path d=\"M18.56 5.44l.94 2.06.94-2.06 2.06-.94-2.06-.94-.94-2.06-.94 2.06-2.06.94zm-11 1L8.5 8.5l.94-2.06 2.06-.94-2.06-.94L8.5 2.5l-.94 2.06-2.06.94zm10 10l.94 2.06.94-2.06 2.06-.94-2.06-.94-.94-2.06-.94 2.06-2.06.94z\"/><path d=\"M17.41 7.96l-1.37-1.37c-.4-.4-.92-.59-1.43-.59-.52 0-1.04.2-1.43.59L10.3 9.45l-7.72 7.72c-.78.78-.78 2.05 0 2.83L4 21.41c.39.39.9.59 1.41.59.51 0 1.02-.2 1.41-.59l7.78-7.78 2.81-2.81c.8-.78.8-2.07 0-2.86zM5.41 20L4 18.59l7.72-7.72 1.47 1.35L5.41 20z\"/>\n",
       "  </svg>\n",
       "      </button>\n",
       "      \n",
       "  <style>\n",
       "    .colab-df-container {\n",
       "      display:flex;\n",
       "      flex-wrap:wrap;\n",
       "      gap: 12px;\n",
       "    }\n",
       "\n",
       "    .colab-df-convert {\n",
       "      background-color: #E8F0FE;\n",
       "      border: none;\n",
       "      border-radius: 50%;\n",
       "      cursor: pointer;\n",
       "      display: none;\n",
       "      fill: #1967D2;\n",
       "      height: 32px;\n",
       "      padding: 0 0 0 0;\n",
       "      width: 32px;\n",
       "    }\n",
       "\n",
       "    .colab-df-convert:hover {\n",
       "      background-color: #E2EBFA;\n",
       "      box-shadow: 0px 1px 2px rgba(60, 64, 67, 0.3), 0px 1px 3px 1px rgba(60, 64, 67, 0.15);\n",
       "      fill: #174EA6;\n",
       "    }\n",
       "\n",
       "    [theme=dark] .colab-df-convert {\n",
       "      background-color: #3B4455;\n",
       "      fill: #D2E3FC;\n",
       "    }\n",
       "\n",
       "    [theme=dark] .colab-df-convert:hover {\n",
       "      background-color: #434B5C;\n",
       "      box-shadow: 0px 1px 3px 1px rgba(0, 0, 0, 0.15);\n",
       "      filter: drop-shadow(0px 1px 2px rgba(0, 0, 0, 0.3));\n",
       "      fill: #FFFFFF;\n",
       "    }\n",
       "  </style>\n",
       "\n",
       "      <script>\n",
       "        const buttonEl =\n",
       "          document.querySelector('#df-dce1eb1f-a43a-4f11-9a4c-298667fb1056 button.colab-df-convert');\n",
       "        buttonEl.style.display =\n",
       "          google.colab.kernel.accessAllowed ? 'block' : 'none';\n",
       "\n",
       "        async function convertToInteractive(key) {\n",
       "          const element = document.querySelector('#df-dce1eb1f-a43a-4f11-9a4c-298667fb1056');\n",
       "          const dataTable =\n",
       "            await google.colab.kernel.invokeFunction('convertToInteractive',\n",
       "                                                     [key], {});\n",
       "          if (!dataTable) return;\n",
       "\n",
       "          const docLinkHtml = 'Like what you see? Visit the ' +\n",
       "            '<a target=\"_blank\" href=https://colab.research.google.com/notebooks/data_table.ipynb>data table notebook</a>'\n",
       "            + ' to learn more about interactive tables.';\n",
       "          element.innerHTML = '';\n",
       "          dataTable['output_type'] = 'display_data';\n",
       "          await google.colab.output.renderOutput(dataTable, element);\n",
       "          const docLink = document.createElement('div');\n",
       "          docLink.innerHTML = docLinkHtml;\n",
       "          element.appendChild(docLink);\n",
       "        }\n",
       "      </script>\n",
       "    </div>\n",
       "  </div>\n",
       "  "
      ],
      "text/plain": [
       "        date         round  day result  gf  ga         opponent   xg  xga  \\\n",
       "0 2017-10-01   Matchweek 7  Sun      W   2   0         Brighton  2.4  0.4   \n",
       "1 2017-10-22   Matchweek 9  Sun      W   5   2          Everton  3.5  1.0   \n",
       "2 2017-11-05  Matchweek 11  Sun      L   1   3  Manchester City  0.3  1.8   \n",
       "3 2017-11-18  Matchweek 12  Sat      W   2   0        Tottenham  2.1  0.7   \n",
       "4 2017-11-26  Matchweek 13  Sun      W   1   0          Burnley  1.8  0.4   \n",
       "\n",
       "   poss  ...  target gf_rolling  ga_rolling  sh_rolling  sot_rolling  \\\n",
       "0  64.0  ...       2   1.333333    2.333333   15.333333     4.000000   \n",
       "1  67.0  ...       2   0.666667    1.333333   14.666667     3.333333   \n",
       "2  43.0  ...       0   2.333333    0.666667   22.000000     8.000000   \n",
       "3  43.0  ...       2   2.666667    1.666667   20.333333     8.333333   \n",
       "4  64.0  ...       2   2.666667    1.666667   16.666667     7.333333   \n",
       "\n",
       "   dist_rolling  poss_rolling  fk_rolling  pk_rolling pkatt_rolling  \n",
       "0     17.933333     56.333333    0.666667         0.0           0.0  \n",
       "1     17.500000     55.000000    0.666667         0.0           0.0  \n",
       "2     17.500000     60.000000    0.333333         0.0           0.0  \n",
       "3     18.500000     58.000000    0.333333         0.0           0.0  \n",
       "4     17.833333     51.000000    0.333333         0.0           0.0  \n",
       "\n",
       "[5 rows x 49 columns]"
      ]
     },
     "execution_count": 85,
     "metadata": {},
     "output_type": "execute_result"
    }
   ],
   "source": [
    "train_data.head()"
   ]
  },
  {
   "cell_type": "code",
   "execution_count": 86,
   "id": "6d229246",
   "metadata": {
    "colab": {
     "base_uri": "https://localhost:8080/",
     "height": 386
    },
    "executionInfo": {
     "elapsed": 20,
     "status": "ok",
     "timestamp": 1671250857925,
     "user": {
      "displayName": "Apurba Saha",
      "userId": "15169800888831502649"
     },
     "user_tz": 420
    },
    "id": "c9bab659",
    "outputId": "115e4a7f-5c66-497c-e306-47672b93917d",
    "scrolled": true
   },
   "outputs": [
    {
     "data": {
      "text/html": [
       "\n",
       "  <div id=\"df-8ef99f82-719f-4e18-bae6-e81d999cfd4a\">\n",
       "    <div class=\"colab-df-container\">\n",
       "      <div>\n",
       "<style scoped>\n",
       "    .dataframe tbody tr th:only-of-type {\n",
       "        vertical-align: middle;\n",
       "    }\n",
       "\n",
       "    .dataframe tbody tr th {\n",
       "        vertical-align: top;\n",
       "    }\n",
       "\n",
       "    .dataframe thead th {\n",
       "        text-align: right;\n",
       "    }\n",
       "</style>\n",
       "<table border=\"1\" class=\"dataframe\">\n",
       "  <thead>\n",
       "    <tr style=\"text-align: right;\">\n",
       "      <th></th>\n",
       "      <th>date</th>\n",
       "      <th>round</th>\n",
       "      <th>day</th>\n",
       "      <th>result</th>\n",
       "      <th>gf</th>\n",
       "      <th>ga</th>\n",
       "      <th>opponent</th>\n",
       "      <th>xg</th>\n",
       "      <th>xga</th>\n",
       "      <th>poss</th>\n",
       "      <th>...</th>\n",
       "      <th>target</th>\n",
       "      <th>gf_rolling</th>\n",
       "      <th>ga_rolling</th>\n",
       "      <th>sh_rolling</th>\n",
       "      <th>sot_rolling</th>\n",
       "      <th>dist_rolling</th>\n",
       "      <th>poss_rolling</th>\n",
       "      <th>fk_rolling</th>\n",
       "      <th>pk_rolling</th>\n",
       "      <th>pkatt_rolling</th>\n",
       "    </tr>\n",
       "  </thead>\n",
       "  <tbody>\n",
       "    <tr>\n",
       "      <th>1409</th>\n",
       "      <td>2021-04-24</td>\n",
       "      <td>Matchweek 33</td>\n",
       "      <td>Sat</td>\n",
       "      <td>L</td>\n",
       "      <td>0</td>\n",
       "      <td>1</td>\n",
       "      <td>Chelsea</td>\n",
       "      <td>0.4</td>\n",
       "      <td>2.5</td>\n",
       "      <td>45.0</td>\n",
       "      <td>...</td>\n",
       "      <td>0</td>\n",
       "      <td>2.666667</td>\n",
       "      <td>2.666667</td>\n",
       "      <td>11.333333</td>\n",
       "      <td>4.666667</td>\n",
       "      <td>15.866667</td>\n",
       "      <td>47.000000</td>\n",
       "      <td>0.000000</td>\n",
       "      <td>0.333333</td>\n",
       "      <td>0.333333</td>\n",
       "    </tr>\n",
       "    <tr>\n",
       "      <th>1410</th>\n",
       "      <td>2021-05-03</td>\n",
       "      <td>Matchweek 34</td>\n",
       "      <td>Mon</td>\n",
       "      <td>W</td>\n",
       "      <td>2</td>\n",
       "      <td>1</td>\n",
       "      <td>Burnley</td>\n",
       "      <td>2.3</td>\n",
       "      <td>2.0</td>\n",
       "      <td>55.0</td>\n",
       "      <td>...</td>\n",
       "      <td>2</td>\n",
       "      <td>1.666667</td>\n",
       "      <td>2.000000</td>\n",
       "      <td>9.333333</td>\n",
       "      <td>3.666667</td>\n",
       "      <td>19.300000</td>\n",
       "      <td>49.333333</td>\n",
       "      <td>0.333333</td>\n",
       "      <td>0.333333</td>\n",
       "      <td>0.333333</td>\n",
       "    </tr>\n",
       "    <tr>\n",
       "      <th>1411</th>\n",
       "      <td>2021-05-09</td>\n",
       "      <td>Matchweek 35</td>\n",
       "      <td>Sun</td>\n",
       "      <td>L</td>\n",
       "      <td>0</td>\n",
       "      <td>1</td>\n",
       "      <td>Everton</td>\n",
       "      <td>1.3</td>\n",
       "      <td>1.5</td>\n",
       "      <td>68.0</td>\n",
       "      <td>...</td>\n",
       "      <td>0</td>\n",
       "      <td>1.333333</td>\n",
       "      <td>1.666667</td>\n",
       "      <td>15.333333</td>\n",
       "      <td>3.666667</td>\n",
       "      <td>19.800000</td>\n",
       "      <td>55.333333</td>\n",
       "      <td>0.666667</td>\n",
       "      <td>0.333333</td>\n",
       "      <td>0.333333</td>\n",
       "    </tr>\n",
       "    <tr>\n",
       "      <th>1412</th>\n",
       "      <td>2021-05-15</td>\n",
       "      <td>Matchweek 36</td>\n",
       "      <td>Sat</td>\n",
       "      <td>D</td>\n",
       "      <td>1</td>\n",
       "      <td>1</td>\n",
       "      <td>Brighton</td>\n",
       "      <td>1.7</td>\n",
       "      <td>0.8</td>\n",
       "      <td>49.0</td>\n",
       "      <td>...</td>\n",
       "      <td>1</td>\n",
       "      <td>0.666667</td>\n",
       "      <td>1.000000</td>\n",
       "      <td>14.000000</td>\n",
       "      <td>2.000000</td>\n",
       "      <td>18.633333</td>\n",
       "      <td>56.000000</td>\n",
       "      <td>0.666667</td>\n",
       "      <td>0.000000</td>\n",
       "      <td>0.000000</td>\n",
       "    </tr>\n",
       "    <tr>\n",
       "      <th>1413</th>\n",
       "      <td>2021-05-23</td>\n",
       "      <td>Matchweek 38</td>\n",
       "      <td>Sun</td>\n",
       "      <td>W</td>\n",
       "      <td>3</td>\n",
       "      <td>0</td>\n",
       "      <td>Southampton</td>\n",
       "      <td>1.3</td>\n",
       "      <td>1.5</td>\n",
       "      <td>38.0</td>\n",
       "      <td>...</td>\n",
       "      <td>2</td>\n",
       "      <td>1.000000</td>\n",
       "      <td>1.000000</td>\n",
       "      <td>16.000000</td>\n",
       "      <td>2.000000</td>\n",
       "      <td>17.100000</td>\n",
       "      <td>57.333333</td>\n",
       "      <td>0.333333</td>\n",
       "      <td>0.000000</td>\n",
       "      <td>0.000000</td>\n",
       "    </tr>\n",
       "  </tbody>\n",
       "</table>\n",
       "<p>5 rows × 49 columns</p>\n",
       "</div>\n",
       "      <button class=\"colab-df-convert\" onclick=\"convertToInteractive('df-8ef99f82-719f-4e18-bae6-e81d999cfd4a')\"\n",
       "              title=\"Convert this dataframe to an interactive table.\"\n",
       "              style=\"display:none;\">\n",
       "        \n",
       "  <svg xmlns=\"http://www.w3.org/2000/svg\" height=\"24px\"viewBox=\"0 0 24 24\"\n",
       "       width=\"24px\">\n",
       "    <path d=\"M0 0h24v24H0V0z\" fill=\"none\"/>\n",
       "    <path d=\"M18.56 5.44l.94 2.06.94-2.06 2.06-.94-2.06-.94-.94-2.06-.94 2.06-2.06.94zm-11 1L8.5 8.5l.94-2.06 2.06-.94-2.06-.94L8.5 2.5l-.94 2.06-2.06.94zm10 10l.94 2.06.94-2.06 2.06-.94-2.06-.94-.94-2.06-.94 2.06-2.06.94z\"/><path d=\"M17.41 7.96l-1.37-1.37c-.4-.4-.92-.59-1.43-.59-.52 0-1.04.2-1.43.59L10.3 9.45l-7.72 7.72c-.78.78-.78 2.05 0 2.83L4 21.41c.39.39.9.59 1.41.59.51 0 1.02-.2 1.41-.59l7.78-7.78 2.81-2.81c.8-.78.8-2.07 0-2.86zM5.41 20L4 18.59l7.72-7.72 1.47 1.35L5.41 20z\"/>\n",
       "  </svg>\n",
       "      </button>\n",
       "      \n",
       "  <style>\n",
       "    .colab-df-container {\n",
       "      display:flex;\n",
       "      flex-wrap:wrap;\n",
       "      gap: 12px;\n",
       "    }\n",
       "\n",
       "    .colab-df-convert {\n",
       "      background-color: #E8F0FE;\n",
       "      border: none;\n",
       "      border-radius: 50%;\n",
       "      cursor: pointer;\n",
       "      display: none;\n",
       "      fill: #1967D2;\n",
       "      height: 32px;\n",
       "      padding: 0 0 0 0;\n",
       "      width: 32px;\n",
       "    }\n",
       "\n",
       "    .colab-df-convert:hover {\n",
       "      background-color: #E2EBFA;\n",
       "      box-shadow: 0px 1px 2px rgba(60, 64, 67, 0.3), 0px 1px 3px 1px rgba(60, 64, 67, 0.15);\n",
       "      fill: #174EA6;\n",
       "    }\n",
       "\n",
       "    [theme=dark] .colab-df-convert {\n",
       "      background-color: #3B4455;\n",
       "      fill: #D2E3FC;\n",
       "    }\n",
       "\n",
       "    [theme=dark] .colab-df-convert:hover {\n",
       "      background-color: #434B5C;\n",
       "      box-shadow: 0px 1px 3px 1px rgba(0, 0, 0, 0.15);\n",
       "      filter: drop-shadow(0px 1px 2px rgba(0, 0, 0, 0.3));\n",
       "      fill: #FFFFFF;\n",
       "    }\n",
       "  </style>\n",
       "\n",
       "      <script>\n",
       "        const buttonEl =\n",
       "          document.querySelector('#df-8ef99f82-719f-4e18-bae6-e81d999cfd4a button.colab-df-convert');\n",
       "        buttonEl.style.display =\n",
       "          google.colab.kernel.accessAllowed ? 'block' : 'none';\n",
       "\n",
       "        async function convertToInteractive(key) {\n",
       "          const element = document.querySelector('#df-8ef99f82-719f-4e18-bae6-e81d999cfd4a');\n",
       "          const dataTable =\n",
       "            await google.colab.kernel.invokeFunction('convertToInteractive',\n",
       "                                                     [key], {});\n",
       "          if (!dataTable) return;\n",
       "\n",
       "          const docLinkHtml = 'Like what you see? Visit the ' +\n",
       "            '<a target=\"_blank\" href=https://colab.research.google.com/notebooks/data_table.ipynb>data table notebook</a>'\n",
       "            + ' to learn more about interactive tables.';\n",
       "          element.innerHTML = '';\n",
       "          dataTable['output_type'] = 'display_data';\n",
       "          await google.colab.output.renderOutput(dataTable, element);\n",
       "          const docLink = document.createElement('div');\n",
       "          docLink.innerHTML = docLinkHtml;\n",
       "          element.appendChild(docLink);\n",
       "        }\n",
       "      </script>\n",
       "    </div>\n",
       "  </div>\n",
       "  "
      ],
      "text/plain": [
       "           date         round  day result  gf  ga     opponent   xg  xga  \\\n",
       "1409 2021-04-24  Matchweek 33  Sat      L   0   1      Chelsea  0.4  2.5   \n",
       "1410 2021-05-03  Matchweek 34  Mon      W   2   1      Burnley  2.3  2.0   \n",
       "1411 2021-05-09  Matchweek 35  Sun      L   0   1      Everton  1.3  1.5   \n",
       "1412 2021-05-15  Matchweek 36  Sat      D   1   1     Brighton  1.7  0.8   \n",
       "1413 2021-05-23  Matchweek 38  Sun      W   3   0  Southampton  1.3  1.5   \n",
       "\n",
       "      poss  ...  target gf_rolling  ga_rolling  sh_rolling  sot_rolling  \\\n",
       "1409  45.0  ...       0   2.666667    2.666667   11.333333     4.666667   \n",
       "1410  55.0  ...       2   1.666667    2.000000    9.333333     3.666667   \n",
       "1411  68.0  ...       0   1.333333    1.666667   15.333333     3.666667   \n",
       "1412  49.0  ...       1   0.666667    1.000000   14.000000     2.000000   \n",
       "1413  38.0  ...       2   1.000000    1.000000   16.000000     2.000000   \n",
       "\n",
       "      dist_rolling  poss_rolling  fk_rolling  pk_rolling pkatt_rolling  \n",
       "1409     15.866667     47.000000    0.000000    0.333333      0.333333  \n",
       "1410     19.300000     49.333333    0.333333    0.333333      0.333333  \n",
       "1411     19.800000     55.333333    0.666667    0.333333      0.333333  \n",
       "1412     18.633333     56.000000    0.666667    0.000000      0.000000  \n",
       "1413     17.100000     57.333333    0.333333    0.000000      0.000000  \n",
       "\n",
       "[5 rows x 49 columns]"
      ]
     },
     "execution_count": 86,
     "metadata": {},
     "output_type": "execute_result"
    }
   ],
   "source": [
    "train_data.tail()"
   ]
  },
  {
   "cell_type": "markdown",
   "id": "4a014781",
   "metadata": {
    "id": "e6010f26"
   },
   "source": [
    "It is important to realize that we want to predict the result of current match based on the data of previous matches. For that purpose, we have just added some features that represent past performance. Now, we can delete all those data for current matches that may provide the machine learning model a hint about the winner"
   ]
  },
  {
   "cell_type": "code",
   "execution_count": 87,
   "id": "4ebcd0ef",
   "metadata": {
    "executionInfo": {
     "elapsed": 19,
     "status": "ok",
     "timestamp": 1671250857925,
     "user": {
      "displayName": "Apurba Saha",
      "userId": "15169800888831502649"
     },
     "user_tz": 420
    },
    "id": "2bbff70b"
   },
   "outputs": [],
   "source": [
    "train_data.drop([\"gf\", 'ga', 'sh', 'sot', 'dist', 'poss', 'fk', 'pk', 'pkatt'], axis=1, inplace=True)"
   ]
  },
  {
   "cell_type": "code",
   "execution_count": 88,
   "id": "09203907",
   "metadata": {
    "colab": {
     "base_uri": "https://localhost:8080/"
    },
    "executionInfo": {
     "elapsed": 20,
     "status": "ok",
     "timestamp": 1671250857926,
     "user": {
      "displayName": "Apurba Saha",
      "userId": "15169800888831502649"
     },
     "user_tz": 420
    },
    "id": "bd06c854",
    "outputId": "8008e3af-09b4-4459-cb91-87e684388084",
    "scrolled": true
   },
   "outputs": [
    {
     "name": "stdout",
     "output_type": "stream",
     "text": [
      "(1414, 40)\n",
      "(364, 22)\n"
     ]
    }
   ],
   "source": [
    "print(train_data.shape)\n",
    "print(test_data.shape)"
   ]
  },
  {
   "cell_type": "code",
   "execution_count": 89,
   "id": "aaa4b351",
   "metadata": {
    "executionInfo": {
     "elapsed": 16,
     "status": "ok",
     "timestamp": 1671250857926,
     "user": {
      "displayName": "Apurba Saha",
      "userId": "15169800888831502649"
     },
     "user_tz": 420
    },
    "id": "68f8ea7d"
   },
   "outputs": [],
   "source": [
    "drop_cols = categorical_columns + [\"season\"]\n",
    "drop_cols.remove(\"venue\")\n",
    "train_data.drop(drop_cols, axis=1, inplace=True)"
   ]
  },
  {
   "cell_type": "code",
   "execution_count": 90,
   "id": "d007dbe9",
   "metadata": {
    "colab": {
     "base_uri": "https://localhost:8080/"
    },
    "executionInfo": {
     "elapsed": 17,
     "status": "ok",
     "timestamp": 1671250857927,
     "user": {
      "displayName": "Apurba Saha",
      "userId": "15169800888831502649"
     },
     "user_tz": 420
    },
    "id": "1dec2050",
    "outputId": "b85e6aa7-519b-491b-8f70-7e4dd21260ed"
   },
   "outputs": [
    {
     "name": "stdout",
     "output_type": "stream",
     "text": [
      "(1414, 33)\n"
     ]
    }
   ],
   "source": [
    "print(train_data.shape)"
   ]
  },
  {
   "cell_type": "markdown",
   "id": "72a9cdd6",
   "metadata": {
    "id": "E5hy_LoMBakS"
   },
   "source": [
    "Now, we perform standardization to complete the feature engineering process. As outliers are present in the dataset, we apply robustscaling method"
   ]
  },
  {
   "cell_type": "code",
   "execution_count": 91,
   "id": "dc2e7b5d",
   "metadata": {
    "executionInfo": {
     "elapsed": 14,
     "status": "ok",
     "timestamp": 1671250857927,
     "user": {
      "displayName": "Apurba Saha",
      "userId": "15169800888831502649"
     },
     "user_tz": 420
    },
    "id": "JgKoSw-eCLQS"
   },
   "outputs": [],
   "source": [
    "X_train = train_data.drop(\"target\", axis=1)\n",
    "y_train = train_data[\"target\"]"
   ]
  },
  {
   "cell_type": "code",
   "execution_count": 92,
   "id": "95c26695",
   "metadata": {
    "executionInfo": {
     "elapsed": 263,
     "status": "ok",
     "timestamp": 1671250858176,
     "user": {
      "displayName": "Apurba Saha",
      "userId": "15169800888831502649"
     },
     "user_tz": 420
    },
    "id": "1F_L8B6vBhFX"
   },
   "outputs": [],
   "source": [
    "from sklearn.preprocessing import RobustScaler\n",
    "cols = X_train.columns.to_list()\n",
    "cols.remove(\"date\")\n",
    "index_labels = X_train['date']\n",
    "scaler = RobustScaler(unit_variance=True)\n",
    "X_train = pd.DataFrame(scaler.fit_transform(X_train.drop(\"date\", axis=1)), columns=cols, index=index_labels)"
   ]
  },
  {
   "cell_type": "code",
   "execution_count": 93,
   "id": "8d2acf59",
   "metadata": {
    "colab": {
     "base_uri": "https://localhost:8080/",
     "height": 418
    },
    "executionInfo": {
     "elapsed": 9,
     "status": "ok",
     "timestamp": 1671250858176,
     "user": {
      "displayName": "Apurba Saha",
      "userId": "15169800888831502649"
     },
     "user_tz": 420
    },
    "id": "1DTPa3EJCzrp",
    "outputId": "2aaba1a0-8e1d-4ed4-ced3-152b1b0a5c0f"
   },
   "outputs": [
    {
     "data": {
      "text/html": [
       "\n",
       "  <div id=\"df-662da5f4-64d7-4404-a4d5-a60ad2a26164\">\n",
       "    <div class=\"colab-df-container\">\n",
       "      <div>\n",
       "<style scoped>\n",
       "    .dataframe tbody tr th:only-of-type {\n",
       "        vertical-align: middle;\n",
       "    }\n",
       "\n",
       "    .dataframe tbody tr th {\n",
       "        vertical-align: top;\n",
       "    }\n",
       "\n",
       "    .dataframe thead th {\n",
       "        text-align: right;\n",
       "    }\n",
       "</style>\n",
       "<table border=\"1\" class=\"dataframe\">\n",
       "  <thead>\n",
       "    <tr style=\"text-align: right;\">\n",
       "      <th></th>\n",
       "      <th>xg</th>\n",
       "      <th>xga</th>\n",
       "      <th>attendance</th>\n",
       "      <th>hour</th>\n",
       "      <th>match_week</th>\n",
       "      <th>day_sin</th>\n",
       "      <th>day_cos</th>\n",
       "      <th>venue_Home</th>\n",
       "      <th>opponent_0</th>\n",
       "      <th>opponent_1</th>\n",
       "      <th>...</th>\n",
       "      <th>center_midfielder</th>\n",
       "      <th>gf_rolling</th>\n",
       "      <th>ga_rolling</th>\n",
       "      <th>sh_rolling</th>\n",
       "      <th>sot_rolling</th>\n",
       "      <th>dist_rolling</th>\n",
       "      <th>poss_rolling</th>\n",
       "      <th>fk_rolling</th>\n",
       "      <th>pk_rolling</th>\n",
       "      <th>pkatt_rolling</th>\n",
       "    </tr>\n",
       "    <tr>\n",
       "      <th>date</th>\n",
       "      <th></th>\n",
       "      <th></th>\n",
       "      <th></th>\n",
       "      <th></th>\n",
       "      <th></th>\n",
       "      <th></th>\n",
       "      <th></th>\n",
       "      <th></th>\n",
       "      <th></th>\n",
       "      <th></th>\n",
       "      <th></th>\n",
       "      <th></th>\n",
       "      <th></th>\n",
       "      <th></th>\n",
       "      <th></th>\n",
       "      <th></th>\n",
       "      <th></th>\n",
       "      <th></th>\n",
       "      <th></th>\n",
       "      <th></th>\n",
       "      <th></th>\n",
       "    </tr>\n",
       "  </thead>\n",
       "  <tbody>\n",
       "    <tr>\n",
       "      <th>2017-10-01</th>\n",
       "      <td>1.471614</td>\n",
       "      <td>-0.981076</td>\n",
       "      <td>1.067667</td>\n",
       "      <td>-1.348980</td>\n",
       "      <td>-0.974263</td>\n",
       "      <td>0.000000</td>\n",
       "      <td>1.34898</td>\n",
       "      <td>1.34898</td>\n",
       "      <td>-1.348980</td>\n",
       "      <td>1.34898</td>\n",
       "      <td>...</td>\n",
       "      <td>0.337245</td>\n",
       "      <td>0.000000</td>\n",
       "      <td>1.34898</td>\n",
       "      <td>0.856495</td>\n",
       "      <td>0.000000</td>\n",
       "      <td>0.141998</td>\n",
       "      <td>0.577104</td>\n",
       "      <td>0.67449</td>\n",
       "      <td>0.0</td>\n",
       "      <td>0.0</td>\n",
       "    </tr>\n",
       "    <tr>\n",
       "      <th>2017-10-22</th>\n",
       "      <td>2.820594</td>\n",
       "      <td>-0.245269</td>\n",
       "      <td>-0.214305</td>\n",
       "      <td>-1.011735</td>\n",
       "      <td>-0.824376</td>\n",
       "      <td>0.000000</td>\n",
       "      <td>1.34898</td>\n",
       "      <td>0.00000</td>\n",
       "      <td>-1.348980</td>\n",
       "      <td>1.34898</td>\n",
       "      <td>...</td>\n",
       "      <td>0.337245</td>\n",
       "      <td>-0.674490</td>\n",
       "      <td>0.00000</td>\n",
       "      <td>0.685196</td>\n",
       "      <td>-0.385423</td>\n",
       "      <td>-0.088749</td>\n",
       "      <td>0.461683</td>\n",
       "      <td>0.67449</td>\n",
       "      <td>0.0</td>\n",
       "      <td>0.0</td>\n",
       "    </tr>\n",
       "    <tr>\n",
       "      <th>2017-11-05</th>\n",
       "      <td>-1.103711</td>\n",
       "      <td>0.735807</td>\n",
       "      <td>0.744333</td>\n",
       "      <td>-0.674490</td>\n",
       "      <td>-0.674490</td>\n",
       "      <td>0.000000</td>\n",
       "      <td>1.34898</td>\n",
       "      <td>0.00000</td>\n",
       "      <td>1.348980</td>\n",
       "      <td>-1.34898</td>\n",
       "      <td>...</td>\n",
       "      <td>0.337245</td>\n",
       "      <td>1.011735</td>\n",
       "      <td>-0.89932</td>\n",
       "      <td>2.569485</td>\n",
       "      <td>2.312536</td>\n",
       "      <td>-0.088749</td>\n",
       "      <td>0.894510</td>\n",
       "      <td>0.00000</td>\n",
       "      <td>0.0</td>\n",
       "      <td>0.0</td>\n",
       "    </tr>\n",
       "    <tr>\n",
       "      <th>2017-11-18</th>\n",
       "      <td>1.103711</td>\n",
       "      <td>-0.613173</td>\n",
       "      <td>1.077319</td>\n",
       "      <td>-1.348980</td>\n",
       "      <td>-0.599546</td>\n",
       "      <td>-0.267182</td>\n",
       "      <td>0.00000</td>\n",
       "      <td>1.34898</td>\n",
       "      <td>-2.697959</td>\n",
       "      <td>0.00000</td>\n",
       "      <td>...</td>\n",
       "      <td>0.337245</td>\n",
       "      <td>1.348980</td>\n",
       "      <td>0.44966</td>\n",
       "      <td>2.141237</td>\n",
       "      <td>2.505248</td>\n",
       "      <td>0.443743</td>\n",
       "      <td>0.721379</td>\n",
       "      <td>0.00000</td>\n",
       "      <td>0.0</td>\n",
       "      <td>0.0</td>\n",
       "    </tr>\n",
       "    <tr>\n",
       "      <th>2017-11-26</th>\n",
       "      <td>0.735807</td>\n",
       "      <td>-0.981076</td>\n",
       "      <td>-1.323435</td>\n",
       "      <td>-0.674490</td>\n",
       "      <td>-0.524603</td>\n",
       "      <td>0.000000</td>\n",
       "      <td>1.34898</td>\n",
       "      <td>0.00000</td>\n",
       "      <td>-1.348980</td>\n",
       "      <td>1.34898</td>\n",
       "      <td>...</td>\n",
       "      <td>0.337245</td>\n",
       "      <td>1.348980</td>\n",
       "      <td>0.44966</td>\n",
       "      <td>1.199093</td>\n",
       "      <td>1.927114</td>\n",
       "      <td>0.088749</td>\n",
       "      <td>0.115421</td>\n",
       "      <td>0.00000</td>\n",
       "      <td>0.0</td>\n",
       "      <td>0.0</td>\n",
       "    </tr>\n",
       "  </tbody>\n",
       "</table>\n",
       "<p>5 rows × 31 columns</p>\n",
       "</div>\n",
       "      <button class=\"colab-df-convert\" onclick=\"convertToInteractive('df-662da5f4-64d7-4404-a4d5-a60ad2a26164')\"\n",
       "              title=\"Convert this dataframe to an interactive table.\"\n",
       "              style=\"display:none;\">\n",
       "        \n",
       "  <svg xmlns=\"http://www.w3.org/2000/svg\" height=\"24px\"viewBox=\"0 0 24 24\"\n",
       "       width=\"24px\">\n",
       "    <path d=\"M0 0h24v24H0V0z\" fill=\"none\"/>\n",
       "    <path d=\"M18.56 5.44l.94 2.06.94-2.06 2.06-.94-2.06-.94-.94-2.06-.94 2.06-2.06.94zm-11 1L8.5 8.5l.94-2.06 2.06-.94-2.06-.94L8.5 2.5l-.94 2.06-2.06.94zm10 10l.94 2.06.94-2.06 2.06-.94-2.06-.94-.94-2.06-.94 2.06-2.06.94z\"/><path d=\"M17.41 7.96l-1.37-1.37c-.4-.4-.92-.59-1.43-.59-.52 0-1.04.2-1.43.59L10.3 9.45l-7.72 7.72c-.78.78-.78 2.05 0 2.83L4 21.41c.39.39.9.59 1.41.59.51 0 1.02-.2 1.41-.59l7.78-7.78 2.81-2.81c.8-.78.8-2.07 0-2.86zM5.41 20L4 18.59l7.72-7.72 1.47 1.35L5.41 20z\"/>\n",
       "  </svg>\n",
       "      </button>\n",
       "      \n",
       "  <style>\n",
       "    .colab-df-container {\n",
       "      display:flex;\n",
       "      flex-wrap:wrap;\n",
       "      gap: 12px;\n",
       "    }\n",
       "\n",
       "    .colab-df-convert {\n",
       "      background-color: #E8F0FE;\n",
       "      border: none;\n",
       "      border-radius: 50%;\n",
       "      cursor: pointer;\n",
       "      display: none;\n",
       "      fill: #1967D2;\n",
       "      height: 32px;\n",
       "      padding: 0 0 0 0;\n",
       "      width: 32px;\n",
       "    }\n",
       "\n",
       "    .colab-df-convert:hover {\n",
       "      background-color: #E2EBFA;\n",
       "      box-shadow: 0px 1px 2px rgba(60, 64, 67, 0.3), 0px 1px 3px 1px rgba(60, 64, 67, 0.15);\n",
       "      fill: #174EA6;\n",
       "    }\n",
       "\n",
       "    [theme=dark] .colab-df-convert {\n",
       "      background-color: #3B4455;\n",
       "      fill: #D2E3FC;\n",
       "    }\n",
       "\n",
       "    [theme=dark] .colab-df-convert:hover {\n",
       "      background-color: #434B5C;\n",
       "      box-shadow: 0px 1px 3px 1px rgba(0, 0, 0, 0.15);\n",
       "      filter: drop-shadow(0px 1px 2px rgba(0, 0, 0, 0.3));\n",
       "      fill: #FFFFFF;\n",
       "    }\n",
       "  </style>\n",
       "\n",
       "      <script>\n",
       "        const buttonEl =\n",
       "          document.querySelector('#df-662da5f4-64d7-4404-a4d5-a60ad2a26164 button.colab-df-convert');\n",
       "        buttonEl.style.display =\n",
       "          google.colab.kernel.accessAllowed ? 'block' : 'none';\n",
       "\n",
       "        async function convertToInteractive(key) {\n",
       "          const element = document.querySelector('#df-662da5f4-64d7-4404-a4d5-a60ad2a26164');\n",
       "          const dataTable =\n",
       "            await google.colab.kernel.invokeFunction('convertToInteractive',\n",
       "                                                     [key], {});\n",
       "          if (!dataTable) return;\n",
       "\n",
       "          const docLinkHtml = 'Like what you see? Visit the ' +\n",
       "            '<a target=\"_blank\" href=https://colab.research.google.com/notebooks/data_table.ipynb>data table notebook</a>'\n",
       "            + ' to learn more about interactive tables.';\n",
       "          element.innerHTML = '';\n",
       "          dataTable['output_type'] = 'display_data';\n",
       "          await google.colab.output.renderOutput(dataTable, element);\n",
       "          const docLink = document.createElement('div');\n",
       "          docLink.innerHTML = docLinkHtml;\n",
       "          element.appendChild(docLink);\n",
       "        }\n",
       "      </script>\n",
       "    </div>\n",
       "  </div>\n",
       "  "
      ],
      "text/plain": [
       "                  xg       xga  attendance      hour  match_week   day_sin  \\\n",
       "date                                                                         \n",
       "2017-10-01  1.471614 -0.981076    1.067667 -1.348980   -0.974263  0.000000   \n",
       "2017-10-22  2.820594 -0.245269   -0.214305 -1.011735   -0.824376  0.000000   \n",
       "2017-11-05 -1.103711  0.735807    0.744333 -0.674490   -0.674490  0.000000   \n",
       "2017-11-18  1.103711 -0.613173    1.077319 -1.348980   -0.599546 -0.267182   \n",
       "2017-11-26  0.735807 -0.981076   -1.323435 -0.674490   -0.524603  0.000000   \n",
       "\n",
       "            day_cos  venue_Home  opponent_0  opponent_1  ...  \\\n",
       "date                                                     ...   \n",
       "2017-10-01  1.34898     1.34898   -1.348980     1.34898  ...   \n",
       "2017-10-22  1.34898     0.00000   -1.348980     1.34898  ...   \n",
       "2017-11-05  1.34898     0.00000    1.348980    -1.34898  ...   \n",
       "2017-11-18  0.00000     1.34898   -2.697959     0.00000  ...   \n",
       "2017-11-26  1.34898     0.00000   -1.348980     1.34898  ...   \n",
       "\n",
       "            center_midfielder  gf_rolling  ga_rolling  sh_rolling  \\\n",
       "date                                                                \n",
       "2017-10-01           0.337245    0.000000     1.34898    0.856495   \n",
       "2017-10-22           0.337245   -0.674490     0.00000    0.685196   \n",
       "2017-11-05           0.337245    1.011735    -0.89932    2.569485   \n",
       "2017-11-18           0.337245    1.348980     0.44966    2.141237   \n",
       "2017-11-26           0.337245    1.348980     0.44966    1.199093   \n",
       "\n",
       "            sot_rolling  dist_rolling  poss_rolling  fk_rolling  pk_rolling  \\\n",
       "date                                                                          \n",
       "2017-10-01     0.000000      0.141998      0.577104     0.67449         0.0   \n",
       "2017-10-22    -0.385423     -0.088749      0.461683     0.67449         0.0   \n",
       "2017-11-05     2.312536     -0.088749      0.894510     0.00000         0.0   \n",
       "2017-11-18     2.505248      0.443743      0.721379     0.00000         0.0   \n",
       "2017-11-26     1.927114      0.088749      0.115421     0.00000         0.0   \n",
       "\n",
       "            pkatt_rolling  \n",
       "date                       \n",
       "2017-10-01            0.0  \n",
       "2017-10-22            0.0  \n",
       "2017-11-05            0.0  \n",
       "2017-11-18            0.0  \n",
       "2017-11-26            0.0  \n",
       "\n",
       "[5 rows x 31 columns]"
      ]
     },
     "execution_count": 93,
     "metadata": {},
     "output_type": "execute_result"
    }
   ],
   "source": [
    "X_train.head()"
   ]
  },
  {
   "cell_type": "code",
   "execution_count": 94,
   "id": "09d65af8",
   "metadata": {
    "colab": {
     "base_uri": "https://localhost:8080/",
     "height": 394
    },
    "executionInfo": {
     "elapsed": 259,
     "status": "ok",
     "timestamp": 1671250858428,
     "user": {
      "displayName": "Apurba Saha",
      "userId": "15169800888831502649"
     },
     "user_tz": 420
    },
    "id": "GXo_BLZtC1OH",
    "outputId": "ed2fab4b-1511-4969-8ad6-fca158ff9a5f"
   },
   "outputs": [
    {
     "data": {
      "text/html": [
       "\n",
       "  <div id=\"df-40f002c9-50d0-4a98-8eff-5bf25fdc8dc4\">\n",
       "    <div class=\"colab-df-container\">\n",
       "      <div>\n",
       "<style scoped>\n",
       "    .dataframe tbody tr th:only-of-type {\n",
       "        vertical-align: middle;\n",
       "    }\n",
       "\n",
       "    .dataframe tbody tr th {\n",
       "        vertical-align: top;\n",
       "    }\n",
       "\n",
       "    .dataframe thead th {\n",
       "        text-align: right;\n",
       "    }\n",
       "</style>\n",
       "<table border=\"1\" class=\"dataframe\">\n",
       "  <thead>\n",
       "    <tr style=\"text-align: right;\">\n",
       "      <th></th>\n",
       "      <th>xg</th>\n",
       "      <th>xga</th>\n",
       "      <th>attendance</th>\n",
       "      <th>hour</th>\n",
       "      <th>match_week</th>\n",
       "      <th>day_sin</th>\n",
       "      <th>day_cos</th>\n",
       "      <th>venue_Home</th>\n",
       "      <th>opponent_0</th>\n",
       "      <th>opponent_1</th>\n",
       "      <th>...</th>\n",
       "      <th>center_midfielder</th>\n",
       "      <th>gf_rolling</th>\n",
       "      <th>ga_rolling</th>\n",
       "      <th>sh_rolling</th>\n",
       "      <th>sot_rolling</th>\n",
       "      <th>dist_rolling</th>\n",
       "      <th>poss_rolling</th>\n",
       "      <th>fk_rolling</th>\n",
       "      <th>pk_rolling</th>\n",
       "      <th>pkatt_rolling</th>\n",
       "    </tr>\n",
       "  </thead>\n",
       "  <tbody>\n",
       "    <tr>\n",
       "      <th>count</th>\n",
       "      <td>1414.000000</td>\n",
       "      <td>1414.000000</td>\n",
       "      <td>1414.000000</td>\n",
       "      <td>1414.000000</td>\n",
       "      <td>1414.000000</td>\n",
       "      <td>1414.000000</td>\n",
       "      <td>1414.000000</td>\n",
       "      <td>1414.000000</td>\n",
       "      <td>1414.000000</td>\n",
       "      <td>1414.000000</td>\n",
       "      <td>...</td>\n",
       "      <td>1414.000000</td>\n",
       "      <td>1414.000000</td>\n",
       "      <td>1414.000000</td>\n",
       "      <td>1414.000000</td>\n",
       "      <td>1414.000000</td>\n",
       "      <td>1414.000000</td>\n",
       "      <td>1414.000000</td>\n",
       "      <td>1414.000000</td>\n",
       "      <td>1414.000000</td>\n",
       "      <td>1414.000000</td>\n",
       "    </tr>\n",
       "    <tr>\n",
       "      <th>mean</th>\n",
       "      <td>0.141368</td>\n",
       "      <td>0.142495</td>\n",
       "      <td>0.062910</td>\n",
       "      <td>0.081330</td>\n",
       "      <td>-0.005618</td>\n",
       "      <td>0.394912</td>\n",
       "      <td>0.495031</td>\n",
       "      <td>0.673536</td>\n",
       "      <td>-0.592444</td>\n",
       "      <td>0.397825</td>\n",
       "      <td>...</td>\n",
       "      <td>-0.306955</td>\n",
       "      <td>0.062250</td>\n",
       "      <td>0.082681</td>\n",
       "      <td>0.047671</td>\n",
       "      <td>0.057241</td>\n",
       "      <td>0.038763</td>\n",
       "      <td>0.030875</td>\n",
       "      <td>0.279050</td>\n",
       "      <td>0.433124</td>\n",
       "      <td>0.551422</td>\n",
       "    </tr>\n",
       "    <tr>\n",
       "      <th>std</th>\n",
       "      <td>0.963921</td>\n",
       "      <td>0.965150</td>\n",
       "      <td>0.932177</td>\n",
       "      <td>0.863651</td>\n",
       "      <td>0.801858</td>\n",
       "      <td>0.961781</td>\n",
       "      <td>0.818042</td>\n",
       "      <td>0.674728</td>\n",
       "      <td>1.319672</td>\n",
       "      <td>1.210626</td>\n",
       "      <td>...</td>\n",
       "      <td>0.633861</td>\n",
       "      <td>0.795442</td>\n",
       "      <td>1.025703</td>\n",
       "      <td>0.963029</td>\n",
       "      <td>0.943689</td>\n",
       "      <td>1.045559</td>\n",
       "      <td>0.867709</td>\n",
       "      <td>0.830252</td>\n",
       "      <td>0.764844</td>\n",
       "      <td>0.870009</td>\n",
       "    </tr>\n",
       "    <tr>\n",
       "      <th>min</th>\n",
       "      <td>-1.471614</td>\n",
       "      <td>-1.471614</td>\n",
       "      <td>-2.575754</td>\n",
       "      <td>-1.348980</td>\n",
       "      <td>-1.423923</td>\n",
       "      <td>-0.267182</td>\n",
       "      <td>-1.081798</td>\n",
       "      <td>0.000000</td>\n",
       "      <td>-2.697959</td>\n",
       "      <td>-1.348980</td>\n",
       "      <td>...</td>\n",
       "      <td>-1.011735</td>\n",
       "      <td>-1.348980</td>\n",
       "      <td>-1.798639</td>\n",
       "      <td>-2.398186</td>\n",
       "      <td>-2.312536</td>\n",
       "      <td>-3.265950</td>\n",
       "      <td>-2.106428</td>\n",
       "      <td>-0.674490</td>\n",
       "      <td>0.000000</td>\n",
       "      <td>0.000000</td>\n",
       "    </tr>\n",
       "    <tr>\n",
       "      <th>25%</th>\n",
       "      <td>-0.613173</td>\n",
       "      <td>-0.613173</td>\n",
       "      <td>-0.666479</td>\n",
       "      <td>-0.337245</td>\n",
       "      <td>-0.674490</td>\n",
       "      <td>-0.267182</td>\n",
       "      <td>0.000000</td>\n",
       "      <td>0.000000</td>\n",
       "      <td>-1.348980</td>\n",
       "      <td>0.000000</td>\n",
       "      <td>...</td>\n",
       "      <td>-1.011735</td>\n",
       "      <td>-0.674490</td>\n",
       "      <td>-0.449660</td>\n",
       "      <td>-0.685196</td>\n",
       "      <td>-0.578134</td>\n",
       "      <td>-0.674490</td>\n",
       "      <td>-0.656455</td>\n",
       "      <td>-0.674490</td>\n",
       "      <td>0.000000</td>\n",
       "      <td>0.000000</td>\n",
       "    </tr>\n",
       "    <tr>\n",
       "      <th>50%</th>\n",
       "      <td>0.000000</td>\n",
       "      <td>0.000000</td>\n",
       "      <td>0.000000</td>\n",
       "      <td>0.000000</td>\n",
       "      <td>0.000000</td>\n",
       "      <td>0.000000</td>\n",
       "      <td>0.000000</td>\n",
       "      <td>0.000000</td>\n",
       "      <td>0.000000</td>\n",
       "      <td>0.000000</td>\n",
       "      <td>...</td>\n",
       "      <td>0.000000</td>\n",
       "      <td>0.000000</td>\n",
       "      <td>0.000000</td>\n",
       "      <td>0.000000</td>\n",
       "      <td>0.000000</td>\n",
       "      <td>0.000000</td>\n",
       "      <td>0.000000</td>\n",
       "      <td>0.000000</td>\n",
       "      <td>0.000000</td>\n",
       "      <td>0.000000</td>\n",
       "    </tr>\n",
       "    <tr>\n",
       "      <th>75%</th>\n",
       "      <td>0.735807</td>\n",
       "      <td>0.735807</td>\n",
       "      <td>0.682501</td>\n",
       "      <td>1.011735</td>\n",
       "      <td>0.674490</td>\n",
       "      <td>1.081798</td>\n",
       "      <td>1.348980</td>\n",
       "      <td>1.348980</td>\n",
       "      <td>0.000000</td>\n",
       "      <td>1.348980</td>\n",
       "      <td>...</td>\n",
       "      <td>0.337245</td>\n",
       "      <td>0.674490</td>\n",
       "      <td>0.899320</td>\n",
       "      <td>0.663784</td>\n",
       "      <td>0.770845</td>\n",
       "      <td>0.674490</td>\n",
       "      <td>0.692524</td>\n",
       "      <td>0.674490</td>\n",
       "      <td>1.348980</td>\n",
       "      <td>1.348980</td>\n",
       "    </tr>\n",
       "    <tr>\n",
       "      <th>max</th>\n",
       "      <td>4.292208</td>\n",
       "      <td>4.292208</td>\n",
       "      <td>2.581727</td>\n",
       "      <td>1.348980</td>\n",
       "      <td>1.348980</td>\n",
       "      <td>2.430777</td>\n",
       "      <td>1.949332</td>\n",
       "      <td>1.348980</td>\n",
       "      <td>4.046939</td>\n",
       "      <td>4.046939</td>\n",
       "      <td>...</td>\n",
       "      <td>0.674490</td>\n",
       "      <td>3.709694</td>\n",
       "      <td>4.946258</td>\n",
       "      <td>3.340330</td>\n",
       "      <td>3.083382</td>\n",
       "      <td>4.401933</td>\n",
       "      <td>2.135283</td>\n",
       "      <td>4.046939</td>\n",
       "      <td>4.046939</td>\n",
       "      <td>5.395918</td>\n",
       "    </tr>\n",
       "  </tbody>\n",
       "</table>\n",
       "<p>8 rows × 31 columns</p>\n",
       "</div>\n",
       "      <button class=\"colab-df-convert\" onclick=\"convertToInteractive('df-40f002c9-50d0-4a98-8eff-5bf25fdc8dc4')\"\n",
       "              title=\"Convert this dataframe to an interactive table.\"\n",
       "              style=\"display:none;\">\n",
       "        \n",
       "  <svg xmlns=\"http://www.w3.org/2000/svg\" height=\"24px\"viewBox=\"0 0 24 24\"\n",
       "       width=\"24px\">\n",
       "    <path d=\"M0 0h24v24H0V0z\" fill=\"none\"/>\n",
       "    <path d=\"M18.56 5.44l.94 2.06.94-2.06 2.06-.94-2.06-.94-.94-2.06-.94 2.06-2.06.94zm-11 1L8.5 8.5l.94-2.06 2.06-.94-2.06-.94L8.5 2.5l-.94 2.06-2.06.94zm10 10l.94 2.06.94-2.06 2.06-.94-2.06-.94-.94-2.06-.94 2.06-2.06.94z\"/><path d=\"M17.41 7.96l-1.37-1.37c-.4-.4-.92-.59-1.43-.59-.52 0-1.04.2-1.43.59L10.3 9.45l-7.72 7.72c-.78.78-.78 2.05 0 2.83L4 21.41c.39.39.9.59 1.41.59.51 0 1.02-.2 1.41-.59l7.78-7.78 2.81-2.81c.8-.78.8-2.07 0-2.86zM5.41 20L4 18.59l7.72-7.72 1.47 1.35L5.41 20z\"/>\n",
       "  </svg>\n",
       "      </button>\n",
       "      \n",
       "  <style>\n",
       "    .colab-df-container {\n",
       "      display:flex;\n",
       "      flex-wrap:wrap;\n",
       "      gap: 12px;\n",
       "    }\n",
       "\n",
       "    .colab-df-convert {\n",
       "      background-color: #E8F0FE;\n",
       "      border: none;\n",
       "      border-radius: 50%;\n",
       "      cursor: pointer;\n",
       "      display: none;\n",
       "      fill: #1967D2;\n",
       "      height: 32px;\n",
       "      padding: 0 0 0 0;\n",
       "      width: 32px;\n",
       "    }\n",
       "\n",
       "    .colab-df-convert:hover {\n",
       "      background-color: #E2EBFA;\n",
       "      box-shadow: 0px 1px 2px rgba(60, 64, 67, 0.3), 0px 1px 3px 1px rgba(60, 64, 67, 0.15);\n",
       "      fill: #174EA6;\n",
       "    }\n",
       "\n",
       "    [theme=dark] .colab-df-convert {\n",
       "      background-color: #3B4455;\n",
       "      fill: #D2E3FC;\n",
       "    }\n",
       "\n",
       "    [theme=dark] .colab-df-convert:hover {\n",
       "      background-color: #434B5C;\n",
       "      box-shadow: 0px 1px 3px 1px rgba(0, 0, 0, 0.15);\n",
       "      filter: drop-shadow(0px 1px 2px rgba(0, 0, 0, 0.3));\n",
       "      fill: #FFFFFF;\n",
       "    }\n",
       "  </style>\n",
       "\n",
       "      <script>\n",
       "        const buttonEl =\n",
       "          document.querySelector('#df-40f002c9-50d0-4a98-8eff-5bf25fdc8dc4 button.colab-df-convert');\n",
       "        buttonEl.style.display =\n",
       "          google.colab.kernel.accessAllowed ? 'block' : 'none';\n",
       "\n",
       "        async function convertToInteractive(key) {\n",
       "          const element = document.querySelector('#df-40f002c9-50d0-4a98-8eff-5bf25fdc8dc4');\n",
       "          const dataTable =\n",
       "            await google.colab.kernel.invokeFunction('convertToInteractive',\n",
       "                                                     [key], {});\n",
       "          if (!dataTable) return;\n",
       "\n",
       "          const docLinkHtml = 'Like what you see? Visit the ' +\n",
       "            '<a target=\"_blank\" href=https://colab.research.google.com/notebooks/data_table.ipynb>data table notebook</a>'\n",
       "            + ' to learn more about interactive tables.';\n",
       "          element.innerHTML = '';\n",
       "          dataTable['output_type'] = 'display_data';\n",
       "          await google.colab.output.renderOutput(dataTable, element);\n",
       "          const docLink = document.createElement('div');\n",
       "          docLink.innerHTML = docLinkHtml;\n",
       "          element.appendChild(docLink);\n",
       "        }\n",
       "      </script>\n",
       "    </div>\n",
       "  </div>\n",
       "  "
      ],
      "text/plain": [
       "                xg          xga   attendance         hour   match_week  \\\n",
       "count  1414.000000  1414.000000  1414.000000  1414.000000  1414.000000   \n",
       "mean      0.141368     0.142495     0.062910     0.081330    -0.005618   \n",
       "std       0.963921     0.965150     0.932177     0.863651     0.801858   \n",
       "min      -1.471614    -1.471614    -2.575754    -1.348980    -1.423923   \n",
       "25%      -0.613173    -0.613173    -0.666479    -0.337245    -0.674490   \n",
       "50%       0.000000     0.000000     0.000000     0.000000     0.000000   \n",
       "75%       0.735807     0.735807     0.682501     1.011735     0.674490   \n",
       "max       4.292208     4.292208     2.581727     1.348980     1.348980   \n",
       "\n",
       "           day_sin      day_cos   venue_Home   opponent_0   opponent_1  ...  \\\n",
       "count  1414.000000  1414.000000  1414.000000  1414.000000  1414.000000  ...   \n",
       "mean      0.394912     0.495031     0.673536    -0.592444     0.397825  ...   \n",
       "std       0.961781     0.818042     0.674728     1.319672     1.210626  ...   \n",
       "min      -0.267182    -1.081798     0.000000    -2.697959    -1.348980  ...   \n",
       "25%      -0.267182     0.000000     0.000000    -1.348980     0.000000  ...   \n",
       "50%       0.000000     0.000000     0.000000     0.000000     0.000000  ...   \n",
       "75%       1.081798     1.348980     1.348980     0.000000     1.348980  ...   \n",
       "max       2.430777     1.949332     1.348980     4.046939     4.046939  ...   \n",
       "\n",
       "       center_midfielder   gf_rolling   ga_rolling   sh_rolling  sot_rolling  \\\n",
       "count        1414.000000  1414.000000  1414.000000  1414.000000  1414.000000   \n",
       "mean           -0.306955     0.062250     0.082681     0.047671     0.057241   \n",
       "std             0.633861     0.795442     1.025703     0.963029     0.943689   \n",
       "min            -1.011735    -1.348980    -1.798639    -2.398186    -2.312536   \n",
       "25%            -1.011735    -0.674490    -0.449660    -0.685196    -0.578134   \n",
       "50%             0.000000     0.000000     0.000000     0.000000     0.000000   \n",
       "75%             0.337245     0.674490     0.899320     0.663784     0.770845   \n",
       "max             0.674490     3.709694     4.946258     3.340330     3.083382   \n",
       "\n",
       "       dist_rolling  poss_rolling   fk_rolling   pk_rolling  pkatt_rolling  \n",
       "count   1414.000000   1414.000000  1414.000000  1414.000000    1414.000000  \n",
       "mean       0.038763      0.030875     0.279050     0.433124       0.551422  \n",
       "std        1.045559      0.867709     0.830252     0.764844       0.870009  \n",
       "min       -3.265950     -2.106428    -0.674490     0.000000       0.000000  \n",
       "25%       -0.674490     -0.656455    -0.674490     0.000000       0.000000  \n",
       "50%        0.000000      0.000000     0.000000     0.000000       0.000000  \n",
       "75%        0.674490      0.692524     0.674490     1.348980       1.348980  \n",
       "max        4.401933      2.135283     4.046939     4.046939       5.395918  \n",
       "\n",
       "[8 rows x 31 columns]"
      ]
     },
     "execution_count": 94,
     "metadata": {},
     "output_type": "execute_result"
    }
   ],
   "source": [
    "X_train.describe()"
   ]
  },
  {
   "cell_type": "code",
   "execution_count": 95,
   "id": "1cc22692",
   "metadata": {
    "colab": {
     "base_uri": "https://localhost:8080/",
     "height": 1000
    },
    "executionInfo": {
     "elapsed": 761,
     "status": "ok",
     "timestamp": 1671250859184,
     "user": {
      "displayName": "Apurba Saha",
      "userId": "15169800888831502649"
     },
     "user_tz": 420
    },
    "id": "2c29b427",
    "outputId": "d2fb63e4-dabd-4b56-fe78-da0233a9410e"
   },
   "outputs": [
    {
     "data": {
      "text/plain": [
       "[Text(0, 0, 'xg'),\n",
       " Text(0, 0, 'xga'),\n",
       " Text(0, 0, 'attendance'),\n",
       " Text(0, 0, 'hour'),\n",
       " Text(0, 0, 'match_week'),\n",
       " Text(0, 0, 'day_sin'),\n",
       " Text(0, 0, 'day_cos'),\n",
       " Text(0, 0, 'venue_Home'),\n",
       " Text(0, 0, 'opponent_0'),\n",
       " Text(0, 0, 'opponent_1'),\n",
       " Text(0, 0, 'opponent_2'),\n",
       " Text(0, 0, 'opponent_3'),\n",
       " Text(0, 0, 'opponent_4'),\n",
       " Text(0, 0, 'team_0'),\n",
       " Text(0, 0, 'team_1'),\n",
       " Text(0, 0, 'team_2'),\n",
       " Text(0, 0, 'team_3'),\n",
       " Text(0, 0, 'team_4'),\n",
       " Text(0, 0, 'num_defender'),\n",
       " Text(0, 0, 'num_striker'),\n",
       " Text(0, 0, 'offensive_midfielder'),\n",
       " Text(0, 0, 'center_midfielder'),\n",
       " Text(0, 0, 'gf_rolling'),\n",
       " Text(0, 0, 'ga_rolling'),\n",
       " Text(0, 0, 'sh_rolling'),\n",
       " Text(0, 0, 'sot_rolling'),\n",
       " Text(0, 0, 'dist_rolling'),\n",
       " Text(0, 0, 'poss_rolling'),\n",
       " Text(0, 0, 'fk_rolling'),\n",
       " Text(0, 0, 'pk_rolling'),\n",
       " Text(0, 0, 'pkatt_rolling')]"
      ]
     },
     "execution_count": 95,
     "metadata": {},
     "output_type": "execute_result"
    },
    {
     "data": {
      "image/png": "[encoded data removed]",
      "text/plain": [
       "<Figure size 1080x720 with 1 Axes>"
      ]
     },
     "metadata": {
      "needs_background": "light"
     },
     "output_type": "display_data"
    }
   ],
   "source": [
    "ax = X_train.plot.box(figsize=(15, 10))\n",
    "ax.set_xticklabels(labels=cols, rotation=90)"
   ]
  },
  {
   "cell_type": "markdown",
   "id": "7ca0e491",
   "metadata": {
    "id": "7491f097"
   },
   "source": [
    "# Feature Selection"
   ]
  },
  {
   "cell_type": "code",
   "execution_count": 96,
   "id": "bec2fb25",
   "metadata": {
    "executionInfo": {
     "elapsed": 4,
     "status": "ok",
     "timestamp": 1671250859184,
     "user": {
      "displayName": "Apurba Saha",
      "userId": "15169800888831502649"
     },
     "user_tz": 420
    },
    "id": "38a22a9f"
   },
   "outputs": [],
   "source": [
    "corr = X_train.corr()"
   ]
  },
  {
   "cell_type": "code",
   "execution_count": 97,
   "id": "04b0af8a",
   "metadata": {
    "colab": {
     "base_uri": "https://localhost:8080/",
     "height": 378
    },
    "executionInfo": {
     "elapsed": 512,
     "status": "ok",
     "timestamp": 1671250859693,
     "user": {
      "displayName": "Apurba Saha",
      "userId": "15169800888831502649"
     },
     "user_tz": 420
    },
    "id": "3f3a0695",
    "outputId": "1081ed6a-9e9b-4f32-915e-27fa2b403759"
   },
   "outputs": [
    {
     "data": {
      "text/plain": [
       "<matplotlib.axes._subplots.AxesSubplot at 0x7f351d547bb0>"
      ]
     },
     "execution_count": 97,
     "metadata": {},
     "output_type": "execute_result"
    },
    {
     "data": {
      "image/png": "[encoded data removed]",
      "text/plain": [
       "<Figure size 432x288 with 2 Axes>"
      ]
     },
     "metadata": {
      "needs_background": "light"
     },
     "output_type": "display_data"
    }
   ],
   "source": [
    "mask = np.triu(np.ones_like(corr, dtype=bool))\n",
    "cmap = sns.diverging_palette(h_neg=10, h_pos=240, as_cmap=True)\n",
    "sns.heatmap(corr, mask=mask,\n",
    "            center=0, cmap=cmap, linewidths=1,\n",
    "            annot=False, fmt=\".2f\")"
   ]
  },
  {
   "cell_type": "code",
   "execution_count": 98,
   "id": "46a2991d",
   "metadata": {
    "colab": {
     "base_uri": "https://localhost:8080/"
    },
    "executionInfo": {
     "elapsed": 15,
     "status": "ok",
     "timestamp": 1671250859695,
     "user": {
      "displayName": "Apurba Saha",
      "userId": "15169800888831502649"
     },
     "user_tz": 420
    },
    "id": "b4de3265",
    "outputId": "f60bf777-db6f-4ab9-f486-58861f87961c"
   },
   "outputs": [
    {
     "name": "stdout",
     "output_type": "stream",
     "text": [
      "['opponent_0', 'opponent_1', 'opponent_2', 'opponent_3', 'opponent_4']\n"
     ]
    }
   ],
   "source": [
    "# Create positive correlation matrix\n",
    "corr_df = X_train.corr().abs()\n",
    "# Create and apply mask\n",
    "mask = np.triu(np.ones_like(corr_df, dtype=bool))\n",
    "tri_df = corr_df.mask(mask)\n",
    "to_drop = [c for c in tri_df.columns if any(tri_df[c] > 0.95)]\n",
    "print(to_drop)"
   ]
  },
  {
   "cell_type": "markdown",
   "id": "174348ed",
   "metadata": {
    "id": "a617fe5e"
   },
   "source": [
    "Before taking any action, let's double check if these columns have very high variance inflation factor"
   ]
  },
  {
   "cell_type": "code",
   "execution_count": 99,
   "id": "c8fe7ee6",
   "metadata": {
    "executionInfo": {
     "elapsed": 10,
     "status": "ok",
     "timestamp": 1671250859696,
     "user": {
      "displayName": "Apurba Saha",
      "userId": "15169800888831502649"
     },
     "user_tz": 420
    },
    "id": "b8130985"
   },
   "outputs": [],
   "source": [
    "from statsmodels.stats.outliers_influence import variance_inflation_factor"
   ]
  },
  {
   "cell_type": "code",
   "execution_count": 100,
   "id": "16f575c2",
   "metadata": {
    "executionInfo": {
     "elapsed": 9,
     "status": "ok",
     "timestamp": 1671250859696,
     "user": {
      "displayName": "Apurba Saha",
      "userId": "15169800888831502649"
     },
     "user_tz": 420
    },
    "id": "d669962f"
   },
   "outputs": [],
   "source": [
    "def find_vif(df):\n",
    "    vif_data = pd.DataFrame()\n",
    "    vif_data[\"feature\"] = df.columns\n",
    "    vif_data[\"VIF\"] = [variance_inflation_factor(df.values, i)\n",
    "                          for i in range(len(df.columns))]\n",
    "    return vif_data"
   ]
  },
  {
   "cell_type": "code",
   "execution_count": 101,
   "id": "9db9e2ca",
   "metadata": {
    "colab": {
     "base_uri": "https://localhost:8080/"
    },
    "executionInfo": {
     "elapsed": 264,
     "status": "ok",
     "timestamp": 1671250859951,
     "user": {
      "displayName": "Apurba Saha",
      "userId": "15169800888831502649"
     },
     "user_tz": 420
    },
    "id": "7bcf2f60",
    "outputId": "c61309ea-d1c2-47a1-93c3-bed6ddec88cf"
   },
   "outputs": [
    {
     "name": "stdout",
     "output_type": "stream",
     "text": [
      "                 feature       VIF\n",
      "0                     xg  1.367425\n",
      "1                    xga  1.179430\n",
      "2             attendance  1.099349\n",
      "3                   hour  1.641997\n",
      "4             match_week  1.132262\n",
      "5                day_sin  1.836828\n",
      "6                day_cos  1.308681\n",
      "7             venue_Home  1.683703\n",
      "8             opponent_0       inf\n",
      "9             opponent_1       inf\n",
      "10            opponent_2       inf\n",
      "11            opponent_3       inf\n",
      "12            opponent_4       inf\n",
      "13                team_0       inf\n",
      "14                team_1       inf\n",
      "15                team_2       inf\n",
      "16                team_3       inf\n",
      "17                team_4       inf\n",
      "18          num_defender  1.427096\n",
      "19           num_striker  3.185223\n",
      "20  offensive_midfielder  6.661029\n",
      "21     center_midfielder  4.563972\n",
      "22            gf_rolling  2.122998\n",
      "23            ga_rolling  1.179673\n",
      "24            sh_rolling  3.197413\n",
      "25           sot_rolling  3.560707\n",
      "26          dist_rolling  1.150289\n",
      "27          poss_rolling  2.408564\n",
      "28            fk_rolling  1.261109\n",
      "29            pk_rolling  7.046177\n",
      "30         pkatt_rolling  7.183374\n"
     ]
    },
    {
     "name": "stderr",
     "output_type": "stream",
     "text": [
      "/usr/local/lib/python3.8/dist-packages/statsmodels/stats/outliers_influence.py:193: RuntimeWarning: divide by zero encountered in double_scalars\n",
      "  vif = 1. / (1. - r_squared_i)\n"
     ]
    }
   ],
   "source": [
    "vif_xtrain = find_vif(X_train)\n",
    "print(vif_xtrain)"
   ]
  },
  {
   "cell_type": "code",
   "execution_count": 102,
   "id": "251133f5",
   "metadata": {
    "colab": {
     "base_uri": "https://localhost:8080/"
    },
    "executionInfo": {
     "elapsed": 255,
     "status": "ok",
     "timestamp": 1671250860204,
     "user": {
      "displayName": "Apurba Saha",
      "userId": "15169800888831502649"
     },
     "user_tz": 420
    },
    "id": "3d1298a5",
    "outputId": "c027ed9b-2226-40ef-f1fc-faab84f62cd7",
    "scrolled": false
   },
   "outputs": [
    {
     "name": "stdout",
     "output_type": "stream",
     "text": [
      "                 feature       VIF\n",
      "0                     xg  1.367425\n",
      "1                    xga  1.179430\n",
      "2             attendance  1.099349\n",
      "3                   hour  1.641997\n",
      "4             match_week  1.132262\n",
      "5                day_sin  1.836828\n",
      "6                day_cos  1.308681\n",
      "7             venue_Home  1.683703\n",
      "8                 team_0       inf\n",
      "9                 team_1       inf\n",
      "10                team_2       inf\n",
      "11                team_3       inf\n",
      "12                team_4       inf\n",
      "13          num_defender  1.427096\n",
      "14           num_striker  3.185223\n",
      "15  offensive_midfielder  6.661029\n",
      "16     center_midfielder  4.563972\n",
      "17            gf_rolling  2.122998\n",
      "18            ga_rolling  1.179673\n",
      "19            sh_rolling  3.197413\n",
      "20           sot_rolling  3.560707\n",
      "21          dist_rolling  1.150289\n",
      "22          poss_rolling  2.408564\n",
      "23            fk_rolling  1.261109\n",
      "24            pk_rolling  7.046177\n",
      "25         pkatt_rolling  7.183374\n"
     ]
    },
    {
     "name": "stderr",
     "output_type": "stream",
     "text": [
      "/usr/local/lib/python3.8/dist-packages/statsmodels/stats/outliers_influence.py:193: RuntimeWarning: divide by zero encountered in double_scalars\n",
      "  vif = 1. / (1. - r_squared_i)\n"
     ]
    }
   ],
   "source": [
    "X_train_reduced = X_train.drop(['opponent_0', 'opponent_1', 'opponent_2', 'opponent_3', 'opponent_4'], axis=1)\n",
    "vif_xtrain_reduced = find_vif(X_train_reduced)\n",
    "print(vif_xtrain_reduced)"
   ]
  },
  {
   "cell_type": "markdown",
   "id": "e7189ce4",
   "metadata": {
    "id": "84d2c510"
   },
   "source": [
    "Even after removing all feature encodings for the 'oponnent' column, the VIF is extremely high for the 'team' column. IT suggests that some part of the hash encoding for the 'team' column may be redundant. So, we try dropping 'team_0' from the columns"
   ]
  },
  {
   "cell_type": "code",
   "execution_count": 103,
   "id": "8d6e21e7",
   "metadata": {
    "colab": {
     "base_uri": "https://localhost:8080/"
    },
    "executionInfo": {
     "elapsed": 392,
     "status": "ok",
     "timestamp": 1671250860594,
     "user": {
      "displayName": "Apurba Saha",
      "userId": "15169800888831502649"
     },
     "user_tz": 420
    },
    "id": "5ce09d71",
    "outputId": "481ddb36-82cc-45c3-959c-45c6ef6dd87c",
    "scrolled": true
   },
   "outputs": [
    {
     "name": "stdout",
     "output_type": "stream",
     "text": [
      "                 feature       VIF\n",
      "0                     xg  1.367425\n",
      "1                    xga  1.179430\n",
      "2             attendance  1.099349\n",
      "3                   hour  1.641997\n",
      "4             match_week  1.132262\n",
      "5                day_sin  1.836828\n",
      "6                day_cos  1.308681\n",
      "7             venue_Home  1.683703\n",
      "8                 team_1  1.588378\n",
      "9                 team_2  1.951065\n",
      "10                team_3  2.296598\n",
      "11                team_4  1.638009\n",
      "12          num_defender  1.427096\n",
      "13           num_striker  3.185223\n",
      "14  offensive_midfielder  6.661029\n",
      "15     center_midfielder  4.563972\n",
      "16            gf_rolling  2.122998\n",
      "17            ga_rolling  1.179673\n",
      "18            sh_rolling  3.197413\n",
      "19           sot_rolling  3.560707\n",
      "20          dist_rolling  1.150289\n",
      "21          poss_rolling  2.408564\n",
      "22            fk_rolling  1.261109\n",
      "23            pk_rolling  7.046177\n",
      "24         pkatt_rolling  7.183374\n"
     ]
    }
   ],
   "source": [
    "X_train_reduced = X_train.drop(['opponent_0', 'opponent_1', 'opponent_2', 'opponent_3', 'opponent_4'] + [\"team_0\"], axis=1)\n",
    "vif_xtrain_reduced = find_vif(X_train_reduced)\n",
    "print(vif_xtrain_reduced)"
   ]
  },
  {
   "cell_type": "code",
   "execution_count": 104,
   "id": "25e1c4dd",
   "metadata": {
    "colab": {
     "base_uri": "https://localhost:8080/"
    },
    "executionInfo": {
     "elapsed": 10,
     "status": "ok",
     "timestamp": 1671250860594,
     "user": {
      "displayName": "Apurba Saha",
      "userId": "15169800888831502649"
     },
     "user_tz": 420
    },
    "id": "1915513d",
    "outputId": "b1bfd6e2-7aee-4223-c489-a244283d46e7"
   },
   "outputs": [
    {
     "data": {
      "text/plain": [
       "2.546853952159468"
      ]
     },
     "execution_count": 104,
     "metadata": {},
     "output_type": "execute_result"
    }
   ],
   "source": [
    "vif_xtrain_reduced[\"VIF\"].mean()"
   ]
  },
  {
   "cell_type": "markdown",
   "id": "f6280f80",
   "metadata": {
    "id": "de126800"
   },
   "source": [
    "Now, the VIF for each feature is less than 10. Moreover, the mean VIF is less than 6. So, we don't have any multi-collinear column in the dataset."
   ]
  },
  {
   "cell_type": "code",
   "execution_count": 105,
   "id": "2ef81af9",
   "metadata": {
    "executionInfo": {
     "elapsed": 5,
     "status": "ok",
     "timestamp": 1671250860595,
     "user": {
      "displayName": "Apurba Saha",
      "userId": "15169800888831502649"
     },
     "user_tz": 420
    },
    "id": "3e96c3f9"
   },
   "outputs": [],
   "source": [
    "X_train = X_train_reduced.copy()"
   ]
  },
  {
   "cell_type": "code",
   "execution_count": 106,
   "id": "53e059a4",
   "metadata": {
    "colab": {
     "base_uri": "https://localhost:8080/",
     "height": 418
    },
    "executionInfo": {
     "elapsed": 214,
     "status": "ok",
     "timestamp": 1671250860805,
     "user": {
      "displayName": "Apurba Saha",
      "userId": "15169800888831502649"
     },
     "user_tz": 420
    },
    "id": "1861b193",
    "outputId": "daf916ff-c7d5-4d4f-c0ee-48eedd8ba11e"
   },
   "outputs": [
    {
     "data": {
      "text/html": [
       "\n",
       "  <div id=\"df-6d9be3fb-cbd8-4871-b31e-6db86b5593ef\">\n",
       "    <div class=\"colab-df-container\">\n",
       "      <div>\n",
       "<style scoped>\n",
       "    .dataframe tbody tr th:only-of-type {\n",
       "        vertical-align: middle;\n",
       "    }\n",
       "\n",
       "    .dataframe tbody tr th {\n",
       "        vertical-align: top;\n",
       "    }\n",
       "\n",
       "    .dataframe thead th {\n",
       "        text-align: right;\n",
       "    }\n",
       "</style>\n",
       "<table border=\"1\" class=\"dataframe\">\n",
       "  <thead>\n",
       "    <tr style=\"text-align: right;\">\n",
       "      <th></th>\n",
       "      <th>xg</th>\n",
       "      <th>xga</th>\n",
       "      <th>attendance</th>\n",
       "      <th>hour</th>\n",
       "      <th>match_week</th>\n",
       "      <th>day_sin</th>\n",
       "      <th>day_cos</th>\n",
       "      <th>venue_Home</th>\n",
       "      <th>team_1</th>\n",
       "      <th>team_2</th>\n",
       "      <th>...</th>\n",
       "      <th>center_midfielder</th>\n",
       "      <th>gf_rolling</th>\n",
       "      <th>ga_rolling</th>\n",
       "      <th>sh_rolling</th>\n",
       "      <th>sot_rolling</th>\n",
       "      <th>dist_rolling</th>\n",
       "      <th>poss_rolling</th>\n",
       "      <th>fk_rolling</th>\n",
       "      <th>pk_rolling</th>\n",
       "      <th>pkatt_rolling</th>\n",
       "    </tr>\n",
       "    <tr>\n",
       "      <th>date</th>\n",
       "      <th></th>\n",
       "      <th></th>\n",
       "      <th></th>\n",
       "      <th></th>\n",
       "      <th></th>\n",
       "      <th></th>\n",
       "      <th></th>\n",
       "      <th></th>\n",
       "      <th></th>\n",
       "      <th></th>\n",
       "      <th></th>\n",
       "      <th></th>\n",
       "      <th></th>\n",
       "      <th></th>\n",
       "      <th></th>\n",
       "      <th></th>\n",
       "      <th></th>\n",
       "      <th></th>\n",
       "      <th></th>\n",
       "      <th></th>\n",
       "      <th></th>\n",
       "    </tr>\n",
       "  </thead>\n",
       "  <tbody>\n",
       "    <tr>\n",
       "      <th>2017-10-01</th>\n",
       "      <td>1.471614</td>\n",
       "      <td>-0.981076</td>\n",
       "      <td>1.067667</td>\n",
       "      <td>-1.348980</td>\n",
       "      <td>-0.974263</td>\n",
       "      <td>0.000000</td>\n",
       "      <td>1.34898</td>\n",
       "      <td>1.34898</td>\n",
       "      <td>1.34898</td>\n",
       "      <td>1.34898</td>\n",
       "      <td>...</td>\n",
       "      <td>0.337245</td>\n",
       "      <td>0.000000</td>\n",
       "      <td>1.34898</td>\n",
       "      <td>0.856495</td>\n",
       "      <td>0.000000</td>\n",
       "      <td>0.141998</td>\n",
       "      <td>0.577104</td>\n",
       "      <td>0.67449</td>\n",
       "      <td>0.0</td>\n",
       "      <td>0.0</td>\n",
       "    </tr>\n",
       "    <tr>\n",
       "      <th>2017-10-22</th>\n",
       "      <td>2.820594</td>\n",
       "      <td>-0.245269</td>\n",
       "      <td>-0.214305</td>\n",
       "      <td>-1.011735</td>\n",
       "      <td>-0.824376</td>\n",
       "      <td>0.000000</td>\n",
       "      <td>1.34898</td>\n",
       "      <td>0.00000</td>\n",
       "      <td>1.34898</td>\n",
       "      <td>0.00000</td>\n",
       "      <td>...</td>\n",
       "      <td>0.337245</td>\n",
       "      <td>-0.674490</td>\n",
       "      <td>0.00000</td>\n",
       "      <td>0.685196</td>\n",
       "      <td>-0.385423</td>\n",
       "      <td>-0.088749</td>\n",
       "      <td>0.461683</td>\n",
       "      <td>0.67449</td>\n",
       "      <td>0.0</td>\n",
       "      <td>0.0</td>\n",
       "    </tr>\n",
       "    <tr>\n",
       "      <th>2017-11-05</th>\n",
       "      <td>-1.103711</td>\n",
       "      <td>0.735807</td>\n",
       "      <td>0.744333</td>\n",
       "      <td>-0.674490</td>\n",
       "      <td>-0.674490</td>\n",
       "      <td>0.000000</td>\n",
       "      <td>1.34898</td>\n",
       "      <td>0.00000</td>\n",
       "      <td>-1.34898</td>\n",
       "      <td>1.34898</td>\n",
       "      <td>...</td>\n",
       "      <td>0.337245</td>\n",
       "      <td>1.011735</td>\n",
       "      <td>-0.89932</td>\n",
       "      <td>2.569485</td>\n",
       "      <td>2.312536</td>\n",
       "      <td>-0.088749</td>\n",
       "      <td>0.894510</td>\n",
       "      <td>0.00000</td>\n",
       "      <td>0.0</td>\n",
       "      <td>0.0</td>\n",
       "    </tr>\n",
       "    <tr>\n",
       "      <th>2017-11-18</th>\n",
       "      <td>1.103711</td>\n",
       "      <td>-0.613173</td>\n",
       "      <td>1.077319</td>\n",
       "      <td>-1.348980</td>\n",
       "      <td>-0.599546</td>\n",
       "      <td>-0.267182</td>\n",
       "      <td>0.00000</td>\n",
       "      <td>1.34898</td>\n",
       "      <td>0.00000</td>\n",
       "      <td>1.34898</td>\n",
       "      <td>...</td>\n",
       "      <td>0.337245</td>\n",
       "      <td>1.348980</td>\n",
       "      <td>0.44966</td>\n",
       "      <td>2.141237</td>\n",
       "      <td>2.505248</td>\n",
       "      <td>0.443743</td>\n",
       "      <td>0.721379</td>\n",
       "      <td>0.00000</td>\n",
       "      <td>0.0</td>\n",
       "      <td>0.0</td>\n",
       "    </tr>\n",
       "    <tr>\n",
       "      <th>2017-11-26</th>\n",
       "      <td>0.735807</td>\n",
       "      <td>-0.981076</td>\n",
       "      <td>-1.323435</td>\n",
       "      <td>-0.674490</td>\n",
       "      <td>-0.524603</td>\n",
       "      <td>0.000000</td>\n",
       "      <td>1.34898</td>\n",
       "      <td>0.00000</td>\n",
       "      <td>1.34898</td>\n",
       "      <td>0.00000</td>\n",
       "      <td>...</td>\n",
       "      <td>0.337245</td>\n",
       "      <td>1.348980</td>\n",
       "      <td>0.44966</td>\n",
       "      <td>1.199093</td>\n",
       "      <td>1.927114</td>\n",
       "      <td>0.088749</td>\n",
       "      <td>0.115421</td>\n",
       "      <td>0.00000</td>\n",
       "      <td>0.0</td>\n",
       "      <td>0.0</td>\n",
       "    </tr>\n",
       "  </tbody>\n",
       "</table>\n",
       "<p>5 rows × 25 columns</p>\n",
       "</div>\n",
       "      <button class=\"colab-df-convert\" onclick=\"convertToInteractive('df-6d9be3fb-cbd8-4871-b31e-6db86b5593ef')\"\n",
       "              title=\"Convert this dataframe to an interactive table.\"\n",
       "              style=\"display:none;\">\n",
       "        \n",
       "  <svg xmlns=\"http://www.w3.org/2000/svg\" height=\"24px\"viewBox=\"0 0 24 24\"\n",
       "       width=\"24px\">\n",
       "    <path d=\"M0 0h24v24H0V0z\" fill=\"none\"/>\n",
       "    <path d=\"M18.56 5.44l.94 2.06.94-2.06 2.06-.94-2.06-.94-.94-2.06-.94 2.06-2.06.94zm-11 1L8.5 8.5l.94-2.06 2.06-.94-2.06-.94L8.5 2.5l-.94 2.06-2.06.94zm10 10l.94 2.06.94-2.06 2.06-.94-2.06-.94-.94-2.06-.94 2.06-2.06.94z\"/><path d=\"M17.41 7.96l-1.37-1.37c-.4-.4-.92-.59-1.43-.59-.52 0-1.04.2-1.43.59L10.3 9.45l-7.72 7.72c-.78.78-.78 2.05 0 2.83L4 21.41c.39.39.9.59 1.41.59.51 0 1.02-.2 1.41-.59l7.78-7.78 2.81-2.81c.8-.78.8-2.07 0-2.86zM5.41 20L4 18.59l7.72-7.72 1.47 1.35L5.41 20z\"/>\n",
       "  </svg>\n",
       "      </button>\n",
       "      \n",
       "  <style>\n",
       "    .colab-df-container {\n",
       "      display:flex;\n",
       "      flex-wrap:wrap;\n",
       "      gap: 12px;\n",
       "    }\n",
       "\n",
       "    .colab-df-convert {\n",
       "      background-color: #E8F0FE;\n",
       "      border: none;\n",
       "      border-radius: 50%;\n",
       "      cursor: pointer;\n",
       "      display: none;\n",
       "      fill: #1967D2;\n",
       "      height: 32px;\n",
       "      padding: 0 0 0 0;\n",
       "      width: 32px;\n",
       "    }\n",
       "\n",
       "    .colab-df-convert:hover {\n",
       "      background-color: #E2EBFA;\n",
       "      box-shadow: 0px 1px 2px rgba(60, 64, 67, 0.3), 0px 1px 3px 1px rgba(60, 64, 67, 0.15);\n",
       "      fill: #174EA6;\n",
       "    }\n",
       "\n",
       "    [theme=dark] .colab-df-convert {\n",
       "      background-color: #3B4455;\n",
       "      fill: #D2E3FC;\n",
       "    }\n",
       "\n",
       "    [theme=dark] .colab-df-convert:hover {\n",
       "      background-color: #434B5C;\n",
       "      box-shadow: 0px 1px 3px 1px rgba(0, 0, 0, 0.15);\n",
       "      filter: drop-shadow(0px 1px 2px rgba(0, 0, 0, 0.3));\n",
       "      fill: #FFFFFF;\n",
       "    }\n",
       "  </style>\n",
       "\n",
       "      <script>\n",
       "        const buttonEl =\n",
       "          document.querySelector('#df-6d9be3fb-cbd8-4871-b31e-6db86b5593ef button.colab-df-convert');\n",
       "        buttonEl.style.display =\n",
       "          google.colab.kernel.accessAllowed ? 'block' : 'none';\n",
       "\n",
       "        async function convertToInteractive(key) {\n",
       "          const element = document.querySelector('#df-6d9be3fb-cbd8-4871-b31e-6db86b5593ef');\n",
       "          const dataTable =\n",
       "            await google.colab.kernel.invokeFunction('convertToInteractive',\n",
       "                                                     [key], {});\n",
       "          if (!dataTable) return;\n",
       "\n",
       "          const docLinkHtml = 'Like what you see? Visit the ' +\n",
       "            '<a target=\"_blank\" href=https://colab.research.google.com/notebooks/data_table.ipynb>data table notebook</a>'\n",
       "            + ' to learn more about interactive tables.';\n",
       "          element.innerHTML = '';\n",
       "          dataTable['output_type'] = 'display_data';\n",
       "          await google.colab.output.renderOutput(dataTable, element);\n",
       "          const docLink = document.createElement('div');\n",
       "          docLink.innerHTML = docLinkHtml;\n",
       "          element.appendChild(docLink);\n",
       "        }\n",
       "      </script>\n",
       "    </div>\n",
       "  </div>\n",
       "  "
      ],
      "text/plain": [
       "                  xg       xga  attendance      hour  match_week   day_sin  \\\n",
       "date                                                                         \n",
       "2017-10-01  1.471614 -0.981076    1.067667 -1.348980   -0.974263  0.000000   \n",
       "2017-10-22  2.820594 -0.245269   -0.214305 -1.011735   -0.824376  0.000000   \n",
       "2017-11-05 -1.103711  0.735807    0.744333 -0.674490   -0.674490  0.000000   \n",
       "2017-11-18  1.103711 -0.613173    1.077319 -1.348980   -0.599546 -0.267182   \n",
       "2017-11-26  0.735807 -0.981076   -1.323435 -0.674490   -0.524603  0.000000   \n",
       "\n",
       "            day_cos  venue_Home   team_1   team_2  ...  center_midfielder  \\\n",
       "date                                               ...                      \n",
       "2017-10-01  1.34898     1.34898  1.34898  1.34898  ...           0.337245   \n",
       "2017-10-22  1.34898     0.00000  1.34898  0.00000  ...           0.337245   \n",
       "2017-11-05  1.34898     0.00000 -1.34898  1.34898  ...           0.337245   \n",
       "2017-11-18  0.00000     1.34898  0.00000  1.34898  ...           0.337245   \n",
       "2017-11-26  1.34898     0.00000  1.34898  0.00000  ...           0.337245   \n",
       "\n",
       "            gf_rolling  ga_rolling  sh_rolling  sot_rolling  dist_rolling  \\\n",
       "date                                                                        \n",
       "2017-10-01    0.000000     1.34898    0.856495     0.000000      0.141998   \n",
       "2017-10-22   -0.674490     0.00000    0.685196    -0.385423     -0.088749   \n",
       "2017-11-05    1.011735    -0.89932    2.569485     2.312536     -0.088749   \n",
       "2017-11-18    1.348980     0.44966    2.141237     2.505248      0.443743   \n",
       "2017-11-26    1.348980     0.44966    1.199093     1.927114      0.088749   \n",
       "\n",
       "            poss_rolling  fk_rolling  pk_rolling  pkatt_rolling  \n",
       "date                                                             \n",
       "2017-10-01      0.577104     0.67449         0.0            0.0  \n",
       "2017-10-22      0.461683     0.67449         0.0            0.0  \n",
       "2017-11-05      0.894510     0.00000         0.0            0.0  \n",
       "2017-11-18      0.721379     0.00000         0.0            0.0  \n",
       "2017-11-26      0.115421     0.00000         0.0            0.0  \n",
       "\n",
       "[5 rows x 25 columns]"
      ]
     },
     "execution_count": 106,
     "metadata": {},
     "output_type": "execute_result"
    }
   ],
   "source": [
    "X_train.head()"
   ]
  },
  {
   "cell_type": "markdown",
   "id": "f2225263",
   "metadata": {
    "id": "46999597"
   },
   "source": [
    "Now, let's try other feature selection method to check if the number of features can be  further reduced"
   ]
  },
  {
   "cell_type": "code",
   "execution_count": 107,
   "id": "081a167b",
   "metadata": {
    "executionInfo": {
     "elapsed": 5,
     "status": "ok",
     "timestamp": 1671250860806,
     "user": {
      "displayName": "Apurba Saha",
      "userId": "15169800888831502649"
     },
     "user_tz": 420
    },
    "id": "3b32bdc1"
   },
   "outputs": [],
   "source": [
    "from sklearn.feature_selection import mutual_info_classif"
   ]
  },
  {
   "cell_type": "code",
   "execution_count": 108,
   "id": "372987b8",
   "metadata": {
    "colab": {
     "base_uri": "https://localhost:8080/"
    },
    "executionInfo": {
     "elapsed": 239,
     "status": "ok",
     "timestamp": 1671250861041,
     "user": {
      "displayName": "Apurba Saha",
      "userId": "15169800888831502649"
     },
     "user_tz": 420
    },
    "id": "2bb866dd",
    "outputId": "53666101-bfeb-40b0-eb9c-dea7d3232dd8"
   },
   "outputs": [
    {
     "name": "stdout",
     "output_type": "stream",
     "text": [
      "[9.85143324e-02 9.41025067e-02 7.46116039e-04 0.00000000e+00\n",
      " 0.00000000e+00 2.72880758e-02 0.00000000e+00 1.53765577e-03\n",
      " 1.73446657e-01 0.00000000e+00 0.00000000e+00 2.26306621e-02\n",
      " 3.23308455e-03 7.93408435e-03 1.38475805e-04 3.83061653e-02\n",
      " 6.49905140e-03 1.63290469e-02 9.45459925e-03 2.15715804e-02\n",
      " 1.65272167e-04 6.06740108e-03 0.00000000e+00 4.99437543e-03\n",
      " 6.45069413e-03]\n"
     ]
    }
   ],
   "source": [
    "mutual_info = mutual_info_classif(X_train, y_train)\n",
    "print(mutual_info)"
   ]
  },
  {
   "cell_type": "code",
   "execution_count": 109,
   "id": "25725b47",
   "metadata": {
    "colab": {
     "base_uri": "https://localhost:8080/"
    },
    "executionInfo": {
     "elapsed": 13,
     "status": "ok",
     "timestamp": 1671250861042,
     "user": {
      "displayName": "Apurba Saha",
      "userId": "15169800888831502649"
     },
     "user_tz": 420
    },
    "id": "2edd2416",
    "outputId": "678e94aa-59f4-476b-f49e-686a01ac2303",
    "scrolled": true
   },
   "outputs": [
    {
     "data": {
      "text/plain": [
       "team_1                  0.173447\n",
       "xg                      0.098514\n",
       "xga                     0.094103\n",
       "center_midfielder       0.038306\n",
       "day_sin                 0.027288\n",
       "team_4                  0.022631\n",
       "sot_rolling             0.021572\n",
       "ga_rolling              0.016329\n",
       "sh_rolling              0.009455\n",
       "num_striker             0.007934\n",
       "gf_rolling              0.006499\n",
       "pkatt_rolling           0.006451\n",
       "poss_rolling            0.006067\n",
       "pk_rolling              0.004994\n",
       "num_defender            0.003233\n",
       "venue_Home              0.001538\n",
       "attendance              0.000746\n",
       "dist_rolling            0.000165\n",
       "offensive_midfielder    0.000138\n",
       "team_3                  0.000000\n",
       "team_2                  0.000000\n",
       "day_cos                 0.000000\n",
       "match_week              0.000000\n",
       "hour                    0.000000\n",
       "fk_rolling              0.000000\n",
       "dtype: float64"
      ]
     },
     "execution_count": 109,
     "metadata": {},
     "output_type": "execute_result"
    }
   ],
   "source": [
    "mutual_info = pd.Series(mutual_info)\n",
    "mutual_info.index = X_train.columns\n",
    "mutual_info.sort_values(ascending=False)"
   ]
  },
  {
   "cell_type": "code",
   "execution_count": 110,
   "id": "51cef9c9",
   "metadata": {
    "colab": {
     "base_uri": "https://localhost:8080/"
    },
    "executionInfo": {
     "elapsed": 11,
     "status": "ok",
     "timestamp": 1671250861043,
     "user": {
      "displayName": "Apurba Saha",
      "userId": "15169800888831502649"
     },
     "user_tz": 420
    },
    "id": "f16a81db",
    "outputId": "d56a5116-bc78-4953-c885-34cd5332128f"
   },
   "outputs": [
    {
     "data": {
      "text/plain": [
       "array([ True,  True,  True, False, False,  True, False,  True,  True,\n",
       "       False, False,  True,  True,  True,  True,  True,  True,  True,\n",
       "        True,  True,  True,  True, False,  True,  True])"
      ]
     },
     "execution_count": 110,
     "metadata": {},
     "output_type": "execute_result"
    }
   ],
   "source": [
    "mask_MI = ~(X_train.columns.isin(mutual_info[mutual_info == 0].index))\n",
    "mask_MI"
   ]
  },
  {
   "cell_type": "code",
   "execution_count": 111,
   "id": "89b78c5d",
   "metadata": {
    "colab": {
     "base_uri": "https://localhost:8080/"
    },
    "executionInfo": {
     "elapsed": 8,
     "status": "ok",
     "timestamp": 1671250861043,
     "user": {
      "displayName": "Apurba Saha",
      "userId": "15169800888831502649"
     },
     "user_tz": 420
    },
    "id": "706b1619",
    "outputId": "c166cb42-128d-4390-8fb0-75d95b77f139"
   },
   "outputs": [
    {
     "data": {
      "text/plain": [
       "Index(['xg', 'xga', 'attendance', 'day_sin', 'venue_Home', 'team_1', 'team_4',\n",
       "       'num_defender', 'num_striker', 'offensive_midfielder',\n",
       "       'center_midfielder', 'gf_rolling', 'ga_rolling', 'sh_rolling',\n",
       "       'sot_rolling', 'dist_rolling', 'poss_rolling', 'pk_rolling',\n",
       "       'pkatt_rolling'],\n",
       "      dtype='object')"
      ]
     },
     "execution_count": 111,
     "metadata": {},
     "output_type": "execute_result"
    }
   ],
   "source": [
    "X_train.columns[mask_MI]"
   ]
  },
  {
   "cell_type": "markdown",
   "id": "a839cd72",
   "metadata": {
    "id": "147b6c2d"
   },
   "source": [
    "As it is clear, there are a few columns which provide zero gain in mutual information. These are the candidate columns that can be dropped. But before taking action, let'try other methods"
   ]
  },
  {
   "cell_type": "code",
   "execution_count": 112,
   "id": "370d62fc",
   "metadata": {
    "executionInfo": {
     "elapsed": 3012,
     "status": "ok",
     "timestamp": 1671250864050,
     "user": {
      "displayName": "Apurba Saha",
      "userId": "15169800888831502649"
     },
     "user_tz": 420
    },
    "id": "027d94af"
   },
   "outputs": [],
   "source": [
    "from sklearn.feature_selection import RFE\n",
    "from sklearn.ensemble import RandomForestClassifier\n",
    "rfe_rf = RFE(estimator=RandomForestClassifier(), n_features_to_select=20, verbose=0)\n",
    "rfe_rf.fit(X_train,y_train)\n",
    "rf_mask = rfe_rf.support_"
   ]
  },
  {
   "cell_type": "code",
   "execution_count": 113,
   "id": "2f8f302a",
   "metadata": {
    "colab": {
     "base_uri": "https://localhost:8080/"
    },
    "executionInfo": {
     "elapsed": 17,
     "status": "ok",
     "timestamp": 1671250864051,
     "user": {
      "displayName": "Apurba Saha",
      "userId": "15169800888831502649"
     },
     "user_tz": 420
    },
    "id": "7a7c2255",
    "outputId": "73b9e714-9548-4452-e3af-1694c3e63935"
   },
   "outputs": [
    {
     "data": {
      "text/plain": [
       "Index(['xg', 'xga', 'attendance', 'hour', 'match_week', 'day_sin', 'day_cos',\n",
       "       'team_1', 'team_2', 'team_3', 'team_4', 'num_striker',\n",
       "       'center_midfielder', 'gf_rolling', 'ga_rolling', 'sh_rolling',\n",
       "       'sot_rolling', 'dist_rolling', 'poss_rolling', 'fk_rolling'],\n",
       "      dtype='object')"
      ]
     },
     "execution_count": 113,
     "metadata": {},
     "output_type": "execute_result"
    }
   ],
   "source": [
    "X_train.columns[rf_mask]"
   ]
  },
  {
   "cell_type": "code",
   "execution_count": 114,
   "id": "d3e3fba9",
   "metadata": {
    "executionInfo": {
     "elapsed": 921,
     "status": "ok",
     "timestamp": 1671250864961,
     "user": {
      "displayName": "Apurba Saha",
      "userId": "15169800888831502649"
     },
     "user_tz": 420
    },
    "id": "bb4d94ae"
   },
   "outputs": [],
   "source": [
    "from sklearn.ensemble import GradientBoostingRegressor\n",
    "rfe_gb = RFE(estimator=GradientBoostingRegressor(), n_features_to_select=20, step=5)\n",
    "rfe_gb.fit(X_train, y_train)\n",
    "gb_mask = rfe_gb.support_"
   ]
  },
  {
   "cell_type": "code",
   "execution_count": 115,
   "id": "2a8667df",
   "metadata": {
    "colab": {
     "base_uri": "https://localhost:8080/"
    },
    "executionInfo": {
     "elapsed": 16,
     "status": "ok",
     "timestamp": 1671250864961,
     "user": {
      "displayName": "Apurba Saha",
      "userId": "15169800888831502649"
     },
     "user_tz": 420
    },
    "id": "6e819f09",
    "outputId": "727df309-afdd-4362-c7a7-45cbf2eab107"
   },
   "outputs": [
    {
     "data": {
      "text/plain": [
       "Index(['xg', 'xga', 'attendance', 'hour', 'match_week', 'day_sin',\n",
       "       'venue_Home', 'team_1', 'team_2', 'team_3', 'team_4', 'num_striker',\n",
       "       'center_midfielder', 'gf_rolling', 'ga_rolling', 'sh_rolling',\n",
       "       'sot_rolling', 'dist_rolling', 'poss_rolling', 'fk_rolling'],\n",
       "      dtype='object')"
      ]
     },
     "execution_count": 115,
     "metadata": {},
     "output_type": "execute_result"
    }
   ],
   "source": [
    "X_train.columns[gb_mask]"
   ]
  },
  {
   "cell_type": "code",
   "execution_count": 116,
   "id": "af0e68a6",
   "metadata": {
    "executionInfo": {
     "elapsed": 243,
     "status": "ok",
     "timestamp": 1671250865198,
     "user": {
      "displayName": "Apurba Saha",
      "userId": "15169800888831502649"
     },
     "user_tz": 420
    },
    "id": "39a524e8"
   },
   "outputs": [],
   "source": [
    "from sklearn.ensemble import ExtraTreesClassifier\n",
    "etc=ExtraTreesClassifier()\n",
    "etc.fit(X_train, y_train)\n",
    "ranked_features=pd.Series(etc.feature_importances_, index=X_train.columns)\n",
    "top_features = ranked_features.nlargest(20)\n",
    "etc_mask = X_train.columns.isin(top_features.index)"
   ]
  },
  {
   "cell_type": "code",
   "execution_count": 117,
   "id": "eb3b04d7",
   "metadata": {
    "colab": {
     "base_uri": "https://localhost:8080/"
    },
    "executionInfo": {
     "elapsed": 199,
     "status": "ok",
     "timestamp": 1671250865394,
     "user": {
      "displayName": "Apurba Saha",
      "userId": "15169800888831502649"
     },
     "user_tz": 420
    },
    "id": "a0175c67",
    "outputId": "3aa785f5-111d-4dc5-e2a3-0e2042aaf46d"
   },
   "outputs": [
    {
     "data": {
      "text/plain": [
       "Index(['xg', 'xga', 'attendance', 'hour', 'match_week', 'day_sin', 'day_cos',\n",
       "       'team_1', 'team_2', 'team_3', 'team_4', 'num_striker', 'gf_rolling',\n",
       "       'ga_rolling', 'sh_rolling', 'sot_rolling', 'dist_rolling',\n",
       "       'poss_rolling', 'fk_rolling', 'pkatt_rolling'],\n",
       "      dtype='object')"
      ]
     },
     "execution_count": 117,
     "metadata": {},
     "output_type": "execute_result"
    }
   ],
   "source": [
    "X_train.columns[etc_mask]"
   ]
  },
  {
   "cell_type": "code",
   "execution_count": 118,
   "id": "082a11f7",
   "metadata": {
    "executionInfo": {
     "elapsed": 20,
     "status": "ok",
     "timestamp": 1671250865395,
     "user": {
      "displayName": "Apurba Saha",
      "userId": "15169800888831502649"
     },
     "user_tz": 420
    },
    "id": "4ae16369"
   },
   "outputs": [],
   "source": [
    "votes = np.sum([mask_MI, rf_mask, gb_mask, etc_mask], axis=0)"
   ]
  },
  {
   "cell_type": "code",
   "execution_count": 119,
   "id": "7e0fe0a2",
   "metadata": {
    "executionInfo": {
     "elapsed": 20,
     "status": "ok",
     "timestamp": 1671250865395,
     "user": {
      "displayName": "Apurba Saha",
      "userId": "15169800888831502649"
     },
     "user_tz": 420
    },
    "id": "ddb5490f"
   },
   "outputs": [],
   "source": [
    "mask = votes >= 3"
   ]
  },
  {
   "cell_type": "code",
   "execution_count": 120,
   "id": "eb797e66",
   "metadata": {
    "executionInfo": {
     "elapsed": 19,
     "status": "ok",
     "timestamp": 1671250865395,
     "user": {
      "displayName": "Apurba Saha",
      "userId": "15169800888831502649"
     },
     "user_tz": 420
    },
    "id": "437237ee"
   },
   "outputs": [],
   "source": [
    "selected_col = X_train.columns[mask].to_list()"
   ]
  },
  {
   "cell_type": "code",
   "execution_count": 121,
   "id": "2a501008",
   "metadata": {
    "colab": {
     "base_uri": "https://localhost:8080/"
    },
    "executionInfo": {
     "elapsed": 19,
     "status": "ok",
     "timestamp": 1671250865395,
     "user": {
      "displayName": "Apurba Saha",
      "userId": "15169800888831502649"
     },
     "user_tz": 420
    },
    "id": "c798ca2b",
    "outputId": "efd2e89f-0fc5-4288-889d-2d2573ea7bd7",
    "scrolled": true
   },
   "outputs": [
    {
     "data": {
      "text/plain": [
       "['xg',\n",
       " 'xga',\n",
       " 'attendance',\n",
       " 'hour',\n",
       " 'match_week',\n",
       " 'day_sin',\n",
       " 'team_1',\n",
       " 'team_2',\n",
       " 'team_3',\n",
       " 'team_4',\n",
       " 'num_striker',\n",
       " 'center_midfielder',\n",
       " 'gf_rolling',\n",
       " 'ga_rolling',\n",
       " 'sh_rolling',\n",
       " 'sot_rolling',\n",
       " 'dist_rolling',\n",
       " 'poss_rolling',\n",
       " 'fk_rolling']"
      ]
     },
     "execution_count": 121,
     "metadata": {},
     "output_type": "execute_result"
    }
   ],
   "source": [
    "selected_col"
   ]
  },
  {
   "cell_type": "code",
   "execution_count": 122,
   "id": "d02cef2e",
   "metadata": {
    "colab": {
     "base_uri": "https://localhost:8080/"
    },
    "executionInfo": {
     "elapsed": 18,
     "status": "ok",
     "timestamp": 1671250865396,
     "user": {
      "displayName": "Apurba Saha",
      "userId": "15169800888831502649"
     },
     "user_tz": 420
    },
    "id": "5dc3cc88",
    "outputId": "40139080-cdd4-4484-8e8e-c1512df8d86f",
    "scrolled": true
   },
   "outputs": [
    {
     "data": {
      "text/plain": [
       "['xg',\n",
       " 'xga',\n",
       " 'attendance',\n",
       " 'hour',\n",
       " 'match_week',\n",
       " 'day_sin',\n",
       " 'team_1',\n",
       " 'team_2',\n",
       " 'team_3',\n",
       " 'team_4',\n",
       " 'num_striker',\n",
       " 'center_midfielder',\n",
       " 'gf_rolling',\n",
       " 'ga_rolling',\n",
       " 'sh_rolling',\n",
       " 'sot_rolling',\n",
       " 'dist_rolling',\n",
       " 'poss_rolling',\n",
       " 'fk_rolling',\n",
       " 'team_3']"
      ]
     },
     "execution_count": 122,
     "metadata": {},
     "output_type": "execute_result"
    }
   ],
   "source": [
    "selected_col.extend([\"team_3\"])\n",
    "selected_col"
   ]
  },
  {
   "cell_type": "code",
   "execution_count": 123,
   "id": "fdbecff0",
   "metadata": {
    "executionInfo": {
     "elapsed": 15,
     "status": "ok",
     "timestamp": 1671250865396,
     "user": {
      "displayName": "Apurba Saha",
      "userId": "15169800888831502649"
     },
     "user_tz": 420
    },
    "id": "7ed3a28b"
   },
   "outputs": [],
   "source": [
    "X_train = X_train[selected_col]"
   ]
  },
  {
   "cell_type": "code",
   "execution_count": 124,
   "id": "07e35969",
   "metadata": {
    "colab": {
     "base_uri": "https://localhost:8080/"
    },
    "executionInfo": {
     "elapsed": 15,
     "status": "ok",
     "timestamp": 1671250865396,
     "user": {
      "displayName": "Apurba Saha",
      "userId": "15169800888831502649"
     },
     "user_tz": 420
    },
    "id": "06c81420",
    "outputId": "784bbc66-67b0-4cef-96e5-a933ecb86347"
   },
   "outputs": [
    {
     "data": {
      "text/plain": [
       "(1414, 20)"
      ]
     },
     "execution_count": 124,
     "metadata": {},
     "output_type": "execute_result"
    }
   ],
   "source": [
    "X_train.shape"
   ]
  },
  {
   "cell_type": "markdown",
   "id": "c00d000a",
   "metadata": {
    "id": "G6NbHJpIDOCv"
   },
   "source": [
    "# Pipeline Creation"
   ]
  },
  {
   "cell_type": "markdown",
   "id": "fd849300",
   "metadata": {
    "id": "hk78vZVIixdQ"
   },
   "source": [
    "Now we have completed all the preprocessing steps on the training data. However, we need to apply all these same steps on the validation data and test. And we need to do so without data leakage. To automate the preprocessing step and prevent data leakge, we build a pipeline for machine learning model. For that purpose, we again start with the unprocessed data, which will be fed to the pipeline."
   ]
  },
  {
   "cell_type": "code",
   "execution_count": 125,
   "id": "407b1dd5",
   "metadata": {
    "colab": {
     "base_uri": "https://localhost:8080/"
    },
    "executionInfo": {
     "elapsed": 12,
     "status": "ok",
     "timestamp": 1671250865396,
     "user": {
      "displayName": "Apurba Saha",
      "userId": "15169800888831502649"
     },
     "user_tz": 420
    },
    "id": "vDKSiwcPjUIh",
    "outputId": "be4834c4-0cd6-4bc0-f6a2-157f5eb0be0a"
   },
   "outputs": [
    {
     "name": "stdout",
     "output_type": "stream",
     "text": [
      "(1456, 22)\n",
      "(364, 22)\n"
     ]
    }
   ],
   "source": [
    "match_df[\"dayofweek\"] = match_df[\"date\"].dt.dayofweek\n",
    "match_df.drop(\"day\", axis=1, inplace=True)\n",
    "train_data = match_df[match_df[\"season\"] != 2022]\n",
    "test_data = match_df[match_df[\"season\"] == 2022]\n",
    "train_data.reset_index(drop=True, inplace=True)\n",
    "test_data.reset_index(drop=True, inplace=True)\n",
    "print(train_data.shape)\n",
    "print(test_data.shape)"
   ]
  },
  {
   "cell_type": "code",
   "execution_count": 126,
   "id": "6ae10c7c",
   "metadata": {
    "executionInfo": {
     "elapsed": 10,
     "status": "ok",
     "timestamp": 1671250865397,
     "user": {
      "displayName": "Apurba Saha",
      "userId": "15169800888831502649"
     },
     "user_tz": 420
    },
    "id": "dj8CpY4kDS9P"
   },
   "outputs": [],
   "source": [
    "from sklearn.pipeline import Pipeline, FeatureUnion, clone, make_pipeline\n",
    "from sklearn.base import BaseEstimator, TransformerMixin\n",
    "from sklearn.impute import SimpleImputer, IterativeImputer\n",
    "from sklearn.compose import ColumnTransformer, make_column_selector"
   ]
  },
  {
   "cell_type": "code",
   "execution_count": 127,
   "id": "f46a9ab4",
   "metadata": {
    "executionInfo": {
     "elapsed": 213,
     "status": "ok",
     "timestamp": 1671250865600,
     "user": {
      "displayName": "Apurba Saha",
      "userId": "15169800888831502649"
     },
     "user_tz": 420
    },
    "id": "n0J5cds2ijkk"
   },
   "outputs": [],
   "source": [
    "class SelectColumnsTransfomer(BaseEstimator, TransformerMixin):\n",
    "    \"\"\" A DataFrame transformer that provides column selection\n",
    "    \n",
    "    Allows to select columns by name from pandas dataframes in scikit-learn\n",
    "    pipelines.\n",
    "    \n",
    "    Parameters\n",
    "    ----------\n",
    "    columns : list of str, names of the dataframe columns to select\n",
    "        Default: [] \n",
    "    \n",
    "    \"\"\"\n",
    "    def __init__(self, columns=[]):\n",
    "        self.columns = columns\n",
    "\n",
    "    def transform(self, X, **transform_params):\n",
    "        \"\"\" Selects columns of a DataFrame\n",
    "        \n",
    "        Parameters\n",
    "        ----------\n",
    "        X : pandas DataFrame\n",
    "            \n",
    "        Returns\n",
    "        ----------\n",
    "        \n",
    "        trans : pandas DataFrame\n",
    "            contains selected columns of X      \n",
    "        \"\"\"\n",
    "        trans = X[self.columns].copy() \n",
    "        return trans\n",
    "\n",
    "    def fit(self, X, y=None, **fit_params):\n",
    "        \"\"\" Do nothing function\n",
    "        \n",
    "        Parameters\n",
    "        ----------\n",
    "        X : pandas DataFrame\n",
    "        y : default None\n",
    "                \n",
    "        \n",
    "        Returns\n",
    "        ----------\n",
    "        self  \n",
    "        \"\"\"\n",
    "        return self\n",
    "    \n",
    "\n",
    "class DataFrameFunctionTransformer(BaseEstimator, TransformerMixin):\n",
    "    \"\"\" A DataFrame transformer providing imputation or function application\n",
    "    \n",
    "    Parameters\n",
    "    ----------\n",
    "    impute : Boolean, default False\n",
    "        \n",
    "    func : function that acts on an array of the form [n_elements, 1]\n",
    "    \n",
    "    \"\"\"\n",
    "    \n",
    "    def __init__(self, func):\n",
    "        self.func = func \n",
    "\n",
    "    def transform(self, X, **transformparams):\n",
    "        \"\"\" Transforms a DataFrame\n",
    "        \n",
    "        Parameters\n",
    "        ----------\n",
    "        X : DataFrame\n",
    "            \n",
    "        Returns\n",
    "        ----------\n",
    "        trans : pandas DataFrame\n",
    "            Transformation of X \n",
    "        \"\"\"\n",
    "        trans = pd.DataFrame(X).apply(self.func).copy()\n",
    "        return trans\n",
    "\n",
    "    def fit(self, X, y=None, **fitparams):\n",
    "        \"\"\" Fixes the values to impute or does nothing\n",
    "        \n",
    "        Parameters\n",
    "        ----------\n",
    "        X : pandas DataFrame\n",
    "        y : not used, API requirement\n",
    "                \n",
    "        Returns\n",
    "        ----------\n",
    "        self  \n",
    "        \"\"\"\n",
    "        return self\n",
    "    \n",
    "    \n",
    "class DataFrameFeatureUnion(BaseEstimator, TransformerMixin):\n",
    "    \"\"\" A DataFrame transformer that unites several DataFrame transformers\n",
    "    \n",
    "    Fit several DataFrame transformers and provides a concatenated\n",
    "    Data Frame\n",
    "    \n",
    "    Parameters\n",
    "    ----------\n",
    "    list_of_transformers : list of DataFrameTransformers\n",
    "        \n",
    "    \"\"\" \n",
    "    def __init__(self, list_of_transformers):\n",
    "        self.list_of_transformers = list_of_transformers\n",
    "        \n",
    "    def transform(self, X, **transformparamn):\n",
    "        \"\"\" Applies the fitted transformers on a DataFrame\n",
    "        \n",
    "        Parameters\n",
    "        ----------\n",
    "        X : pandas DataFrame\n",
    "        \n",
    "        Returns\n",
    "        ----------\n",
    "        concatted :  pandas DataFrame\n",
    "        \n",
    "        \"\"\"\n",
    "        \n",
    "        concatted = pd.concat([transformer.transform(X)\n",
    "                            for transformer in\n",
    "                            self.fitted_transformers_], axis=1).copy()\n",
    "        return concatted\n",
    "\n",
    "\n",
    "    def fit(self, X, y=None, **fitparams):\n",
    "        \"\"\" Fits several DataFrame Transformers\n",
    "        \n",
    "        Parameters\n",
    "        ----------\n",
    "        X : pandas DataFrame\n",
    "        y : not used, API requirement\n",
    "        \n",
    "        Returns\n",
    "        ----------\n",
    "        self : object\n",
    "        \"\"\"\n",
    "        \n",
    "        self.fitted_transformers_ = []\n",
    "        for transformer in self.list_of_transformers:\n",
    "            fitted_trans = clone(transformer).fit(X, y=None, **fitparams)\n",
    "            self.fitted_transformers_.append(fitted_trans)\n",
    "        return self\n",
    "    \n",
    "\n",
    "class ToDummiesTransformer(BaseEstimator, TransformerMixin):\n",
    "    \"\"\" A Dataframe transformer that provide dummy variable encoding\n",
    "    \"\"\"\n",
    "    def __init__(self):\n",
    "        self.drop_first = True\n",
    "    \n",
    "    def transform(self, X, **transformparams):\n",
    "        \"\"\" Returns a dummy variable encoded version of a DataFrame\n",
    "        \n",
    "        Parameters\n",
    "        ----------\n",
    "        X : pandas DataFrame\n",
    "        \n",
    "        Returns\n",
    "        ----------\n",
    "        trans : pandas DataFrame\n",
    "        \n",
    "        \"\"\"\n",
    "    \n",
    "        trans = pd.get_dummies(X, drop_first = self.drop_first).copy()\n",
    "        return trans\n",
    "\n",
    "    def fit(self, X, y=None, **fitparams):\n",
    "        \"\"\" Do nothing operation\n",
    "        \n",
    "        Returns\n",
    "        ----------\n",
    "        self : object\n",
    "        \"\"\"\n",
    "        return self"
   ]
  },
  {
   "cell_type": "code",
   "execution_count": 128,
   "id": "b97f5d41",
   "metadata": {
    "executionInfo": {
     "elapsed": 214,
     "status": "ok",
     "timestamp": 1671250865601,
     "user": {
      "displayName": "Apurba Saha",
      "userId": "15169800888831502649"
     },
     "user_tz": 420
    },
    "id": "vfm-UcZmJP4h"
   },
   "outputs": [],
   "source": [
    "class RoundTransformer(BaseEstimator, TransformerMixin):\n",
    "    \"\"\" A Dataframe transformer to extract match week from the 'round' column\n",
    "    \"\"\"\n",
    "    def fit(self, X, y=None, **fit_params):\n",
    "        return self\n",
    "\n",
    "    def transform(self, X, **transformparams):\n",
    "        X = X.squeeze() # convert to a series to perform string operations\n",
    "        match_week = X.str.split().str[1].astype(int)\n",
    "        return match_week.to_frame(name=\"match_week\").copy()"
   ]
  },
  {
   "cell_type": "code",
   "execution_count": 129,
   "id": "87016f3c",
   "metadata": {
    "executionInfo": {
     "elapsed": 17,
     "status": "ok",
     "timestamp": 1671250865601,
     "user": {
      "displayName": "Apurba Saha",
      "userId": "15169800888831502649"
     },
     "user_tz": 420
    },
    "id": "W4eMPWqalpfy"
   },
   "outputs": [],
   "source": [
    "class DayTransformer(BaseEstimator, TransformerMixin):\n",
    "    \"\"\" A Dataframe transformer for feature encoding the 'day' column\n",
    "    \"\"\"\n",
    "    def fit(self, X, y=None, **fit_params):\n",
    "        return self\n",
    "\n",
    "    def transform(self, X, **transformparams):\n",
    "        day_sin = np.sin(X * (2 * np.pi / 7))\n",
    "        day_cos = np.cos(X * (2 * np.pi / 7))\n",
    "        trans_day = np.concatenate((day_sin, day_cos), axis=1)\n",
    "        return pd.DataFrame(trans_day, columns=[\"day_sin\", \"day_cos\"]).copy()  "
   ]
  },
  {
   "cell_type": "code",
   "execution_count": 130,
   "id": "26d1a010",
   "metadata": {
    "executionInfo": {
     "elapsed": 16,
     "status": "ok",
     "timestamp": 1671250865601,
     "user": {
      "displayName": "Apurba Saha",
      "userId": "15169800888831502649"
     },
     "user_tz": 420
    },
    "id": "1q24PCIfnioK"
   },
   "outputs": [],
   "source": [
    "class FeatureHasher(BaseEstimator, TransformerMixin):\n",
    "    def __init__(self, hash_size, name_map=None):\n",
    "      self.name_map = name_map\n",
    "      self.hash_size = hash_size\n",
    "      self.encoder = HashingEncoder(n_components=self.hash_size, return_df=True)\n",
    "\n",
    "    def fit(self, X, y=None, **fit_params):\n",
    "        self.encoder.fit(X)\n",
    "        return self\n",
    "\n",
    "    def transform(self, X, **transformparams):\n",
    "        trans_x = self.encoder.transform(X)\n",
    "        if self.name_map:\n",
    "            trans_x.rename(self.name_map, axis=1, inplace=True)\n",
    "        return trans_x.copy()"
   ]
  },
  {
   "cell_type": "code",
   "execution_count": 131,
   "id": "c101680e",
   "metadata": {
    "executionInfo": {
     "elapsed": 17,
     "status": "ok",
     "timestamp": 1671250865602,
     "user": {
      "displayName": "Apurba Saha",
      "userId": "15169800888831502649"
     },
     "user_tz": 420
    },
    "id": "Im7JXaE8zx4s"
   },
   "outputs": [],
   "source": [
    "from category_encoders import OrdinalEncoder\n",
    "\n",
    "class TargetEncoder(BaseEstimator, TransformerMixin):\n",
    "    def __init__(self, col_name, mapping):\n",
    "      self.col_name = col_name\n",
    "      self.mapping = mapping\n",
    "      self.cols_mapping = [{\n",
    "          \"col\": self.col_name,\n",
    "          \"mapping\": self.mapping\n",
    "      }]\n",
    "      self.encoder = OrdinalEncoder(mapping=self.cols_mapping, return_df=True)\n",
    "\n",
    "    def fit(self, X, y=None, **fit_params):\n",
    "        self.encoder.fit(X)\n",
    "        return self\n",
    "\n",
    "    def transform(self, X, **transformparams):\n",
    "        return self.encoder.transform(X).copy()"
   ]
  },
  {
   "cell_type": "code",
   "execution_count": 132,
   "id": "1ac4bf8b",
   "metadata": {
    "executionInfo": {
     "elapsed": 17,
     "status": "ok",
     "timestamp": 1671250865602,
     "user": {
      "displayName": "Apurba Saha",
      "userId": "15169800888831502649"
     },
     "user_tz": 420
    },
    "id": "cZas6_3m4uoq"
   },
   "outputs": [],
   "source": [
    "class FormationTransformer(BaseEstimator, TransformerMixin):\n",
    "    def fit(self, X, y=None, **fit_params):\n",
    "        return self\n",
    "\n",
    "    def transform(self, X, **transformparams):\n",
    "        X = X.squeeze()\n",
    "        formation = X.str.replace(\"◆\", \"\")\n",
    "        num_defender = formation.str.split(pat=\"-\").str[0].astype(int)\n",
    "        num_striker = formation.str.split(pat=\"-\").str[-1].astype(int)\n",
    "        offensive_midfield_mapper = lambda x: x[4] if len(x) == 7 else 0\n",
    "        center_midfield_mapper = lambda x: x[2] if len(x) == 5 else 0\n",
    "        offensive_midfielder = formation.apply(offensive_midfield_mapper).astype(int)\n",
    "        center_midfielder = formation.apply(center_midfield_mapper).astype(int)\n",
    "        return pd.DataFrame(dict(num_defender=num_defender, num_striker=num_striker,\\\n",
    "                                 offensive_midfielder=offensive_midfielder,\\\n",
    "                                 center_midfielder=center_midfielder)).copy()"
   ]
  },
  {
   "cell_type": "code",
   "execution_count": 133,
   "id": "44ab880f",
   "metadata": {
    "executionInfo": {
     "elapsed": 16,
     "status": "ok",
     "timestamp": 1671250865602,
     "user": {
      "displayName": "Apurba Saha",
      "userId": "15169800888831502649"
     },
     "user_tz": 420
    },
    "id": "D7uejloCkmZj"
   },
   "outputs": [],
   "source": [
    "class RollingAverageComputer(BaseEstimator, TransformerMixin):\n",
    "    def __init__(self, columns, group_by, sort_by):\n",
    "        self.cols = columns\n",
    "        self.group_by = group_by\n",
    "        self.sort_by = sort_by\n",
    "\n",
    "    def fit(self, X, y=None, **fit_params):\n",
    "        return self\n",
    "    \n",
    "    def transform(self, X, **transformparams):\n",
    "        def rolling_averages(group, cols, new_cols, sort_by):\n",
    "            group = group.sort_values(sort_by)\n",
    "            rolling_stats = group[cols].rolling(3, closed='left').mean()\n",
    "            group[new_cols] = rolling_stats\n",
    "            group = group.dropna(subset=new_cols)\n",
    "            return group\n",
    "        new_cols = [f\"{c}_rolling\" for c in self.cols]\n",
    "        trans_X = X.groupby(self.group_by).apply(lambda x: rolling_averages(x, self.cols, new_cols, self.sort_by))\n",
    "        trans_X.index = trans_X.index.droplevel()\n",
    "        trans_X.index = range(trans_X.shape[0])\n",
    "        return trans_X.copy()"
   ]
  },
  {
   "cell_type": "code",
   "execution_count": 134,
   "id": "0ab16952",
   "metadata": {
    "executionInfo": {
     "elapsed": 16,
     "status": "ok",
     "timestamp": 1671250865602,
     "user": {
      "displayName": "Apurba Saha",
      "userId": "15169800888831502649"
     },
     "user_tz": 420
    },
    "id": "WlipaKUAof7p"
   },
   "outputs": [],
   "source": [
    "class FeatureSelector(BaseEstimator, TransformerMixin):\n",
    "    def __init__(self, select_columns):\n",
    "        self.to_select = select_columns\n",
    "\n",
    "    def fit(self, X, y=None, **fit_params):\n",
    "        return self\n",
    "\n",
    "    def transform(self, X, **transformparams):\n",
    "        trans_X = X[self.to_select]\n",
    "        return trans_X.copy()"
   ]
  },
  {
   "cell_type": "code",
   "execution_count": 135,
   "id": "a3366299",
   "metadata": {
    "executionInfo": {
     "elapsed": 17,
     "status": "ok",
     "timestamp": 1671250865603,
     "user": {
      "displayName": "Apurba Saha",
      "userId": "15169800888831502649"
     },
     "user_tz": 420
    },
    "id": "vgYI6NyNK0Z7"
   },
   "outputs": [],
   "source": [
    "from sklearn.preprocessing import RobustScaler\n",
    "\n",
    "class Standardizer(BaseEstimator, TransformerMixin):\n",
    "    def __init__(self, scaler):\n",
    "        self.scaler = scaler\n",
    "\n",
    "    def fit(self, X, y=None, **fit_params):\n",
    "        self.cols = X.columns\n",
    "        self.scaler.fit(X)\n",
    "        return self\n",
    "\n",
    "    def transform(self, X, **transformparams):\n",
    "        trans_X = pd.DataFrame(scaler.transform(X), columns=self.cols)\n",
    "        return trans_X.copy()\n",
    "    "
   ]
  },
  {
   "cell_type": "code",
   "execution_count": 136,
   "id": "29cd8751",
   "metadata": {
    "executionInfo": {
     "elapsed": 17,
     "status": "ok",
     "timestamp": 1671250865603,
     "user": {
      "displayName": "Apurba Saha",
      "userId": "15169800888831502649"
     },
     "user_tz": 420
    },
    "id": "EjTXldEEzvuJ"
   },
   "outputs": [],
   "source": [
    "class ImputeTransformer(BaseEstimator, TransformerMixin):\n",
    "    def __init__(self, imputer, columns):\n",
    "        self.imputer = imputer\n",
    "        self.cols = columns\n",
    "\n",
    "    def fit(self, X, y=None, **fit_params):\n",
    "        if not self.cols:\n",
    "            self.cols = X.select_dtypes(include=np.number).columns.tolist()\n",
    "        self.imputer.fit(X[self.cols])\n",
    "        self.other_cols = X.columns.drop(self.cols).to_list()\n",
    "        return self\n",
    "\n",
    "    def transform(self, X, **transformparams):\n",
    "        array = self.imputer.transform(X[self.cols])\n",
    "        trans_X = pd.DataFrame(array, columns=self.cols)\n",
    "        trans_X = pd.concat([trans_X, X[self.other_cols]], axis=1)\n",
    "        return trans_X.copy()"
   ]
  },
  {
   "cell_type": "code",
   "execution_count": 137,
   "id": "5ea71457",
   "metadata": {
    "executionInfo": {
     "elapsed": 16,
     "status": "ok",
     "timestamp": 1671250865603,
     "user": {
      "displayName": "Apurba Saha",
      "userId": "15169800888831502649"
     },
     "user_tz": 420
    },
    "id": "0K25H4DXsXf-"
   },
   "outputs": [],
   "source": [
    "numerical_cols = train_data.select_dtypes(include=np.number).columns.tolist()\n",
    "rolling_cols = [\"gf\", 'ga', 'sh', 'sot', 'dist', 'poss', 'fk', 'pk', 'pkatt']\n",
    "selected_features = ['xg', 'xga', 'attendance', 'hour',\\\n",
    "                    'match_week', 'day_sin',  'day_cos',\\\n",
    "                    'team_1', 'team_2', 'team_3', 'team_4',\\\n",
    "                    'num_striker', 'center_midfielder',\\\n",
    "                    'gf_rolling',  'ga_rolling', 'sh_rolling',\\\n",
    "                    'sot_rolling', 'dist_rolling', 'poss_rolling',\\\n",
    "                    'fk_rolling', 'result']\n",
    "\n",
    "preprocessor = Pipeline([\n",
    "    ('feature_encoding', DataFrameFeatureUnion([\n",
    "        Pipeline([\n",
    "            ('extract', SelectColumnsTransfomer(['round'])),\n",
    "            ('week_day', RoundTransformer()),\n",
    "        ]),\n",
    "        Pipeline([\n",
    "            ('extract', SelectColumnsTransfomer(['dayofweek'])),\n",
    "            ('week_day', DayTransformer())\n",
    "        ]),\n",
    "        Pipeline([\n",
    "            ('extract', SelectColumnsTransfomer(['venue'])),\n",
    "            ('one_hot', ToDummiesTransformer())\n",
    "        ]),\n",
    "        Pipeline([\n",
    "            ('extract', SelectColumnsTransfomer(['opponent'])),\n",
    "            ('hasher', FeatureHasher(5, {\"col_0\": \"opponent\"+\"_0\", \"col_1\": \\\n",
    "                                         \"opponent\"+\"_1\", \"col_2\": \"opponent\"+\"_2\", \\\n",
    "                                         \"col_3\": \"opponent\"+\"_3\", \"col_4\": \"opponent\"+\"_4\"}))\n",
    "        ]),\n",
    "        Pipeline([\n",
    "            ('extract', SelectColumnsTransfomer(['team'])),\n",
    "            ('hasher', FeatureHasher(5, {\"col_0\": 'team'+\"_0\", \"col_1\": \\\n",
    "                                         'team'+\"_1\", \"col_2\": 'team'+\"_2\", \\\n",
    "                                         \"col_3\": 'team'+\"_3\", \"col_4\": 'team'+\"_4\"}))\n",
    "        ]),\n",
    "        Pipeline([\n",
    "            ('extract', SelectColumnsTransfomer(['formation'])),\n",
    "            ('formation_transformer', FormationTransformer())\n",
    "        ]),\n",
    "        Pipeline([\n",
    "            ('extract', SelectColumnsTransfomer(['result'])),\n",
    "            ('formation_transformer', TargetEncoder(\"result\", dict([('L', 0), ('D', 1), ('W', 2)])))\n",
    "        ]),\n",
    "        Pipeline([\n",
    "            ('extract', SelectColumnsTransfomer([\"team\", \"date\"] + numerical_cols))\n",
    "        ])\n",
    "    ])),\n",
    "    ('imputation', Pipeline([\n",
    "        ('median_imputation', ImputeTransformer(SimpleImputer(strategy='median'), ['dist'])),\n",
    "        ('MICE', ImputeTransformer(IterativeImputer(estimator=HuberRegressor(max_iter=15000), \\\n",
    "                                  random_state=2022, skip_complete=True), None))\n",
    "    ])),\n",
    "    ('rolling_average', RollingAverageComputer(rolling_cols, 'team', 'date')),\n",
    "    ('feature_selection', FeatureSelector(select_columns = selected_features))\n",
    "])"
   ]
  },
  {
   "cell_type": "code",
   "execution_count": 138,
   "id": "e79162e5",
   "metadata": {
    "colab": {
     "base_uri": "https://localhost:8080/",
     "height": 299
    },
    "executionInfo": {
     "elapsed": 6145,
     "status": "ok",
     "timestamp": 1671250871732,
     "user": {
      "displayName": "Apurba Saha",
      "userId": "15169800888831502649"
     },
     "user_tz": 420
    },
    "id": "EtxHCaKsmiyP",
    "outputId": "3fcc3065-8f6a-413a-ac79-44c4e12f716d"
   },
   "outputs": [
    {
     "data": {
      "text/html": [
       "\n",
       "  <div id=\"df-c8f7316d-937f-4888-bf28-13d1235f1463\">\n",
       "    <div class=\"colab-df-container\">\n",
       "      <div>\n",
       "<style scoped>\n",
       "    .dataframe tbody tr th:only-of-type {\n",
       "        vertical-align: middle;\n",
       "    }\n",
       "\n",
       "    .dataframe tbody tr th {\n",
       "        vertical-align: top;\n",
       "    }\n",
       "\n",
       "    .dataframe thead th {\n",
       "        text-align: right;\n",
       "    }\n",
       "</style>\n",
       "<table border=\"1\" class=\"dataframe\">\n",
       "  <thead>\n",
       "    <tr style=\"text-align: right;\">\n",
       "      <th></th>\n",
       "      <th>xg</th>\n",
       "      <th>xga</th>\n",
       "      <th>attendance</th>\n",
       "      <th>hour</th>\n",
       "      <th>match_week</th>\n",
       "      <th>day_sin</th>\n",
       "      <th>day_cos</th>\n",
       "      <th>team_1</th>\n",
       "      <th>team_2</th>\n",
       "      <th>team_3</th>\n",
       "      <th>...</th>\n",
       "      <th>num_striker</th>\n",
       "      <th>center_midfielder</th>\n",
       "      <th>gf_rolling</th>\n",
       "      <th>ga_rolling</th>\n",
       "      <th>sh_rolling</th>\n",
       "      <th>sot_rolling</th>\n",
       "      <th>dist_rolling</th>\n",
       "      <th>poss_rolling</th>\n",
       "      <th>fk_rolling</th>\n",
       "      <th>result</th>\n",
       "    </tr>\n",
       "  </thead>\n",
       "  <tbody>\n",
       "    <tr>\n",
       "      <th>0</th>\n",
       "      <td>2.4</td>\n",
       "      <td>0.4</td>\n",
       "      <td>59378.0</td>\n",
       "      <td>12.0</td>\n",
       "      <td>7.0</td>\n",
       "      <td>-0.781831</td>\n",
       "      <td>0.623490</td>\n",
       "      <td>0.0</td>\n",
       "      <td>1.0</td>\n",
       "      <td>0.0</td>\n",
       "      <td>...</td>\n",
       "      <td>3.0</td>\n",
       "      <td>4.0</td>\n",
       "      <td>1.333333</td>\n",
       "      <td>2.333333</td>\n",
       "      <td>15.333333</td>\n",
       "      <td>4.000000</td>\n",
       "      <td>17.933333</td>\n",
       "      <td>56.333333</td>\n",
       "      <td>0.666667</td>\n",
       "      <td>2.0</td>\n",
       "    </tr>\n",
       "    <tr>\n",
       "      <th>1</th>\n",
       "      <td>3.5</td>\n",
       "      <td>1.0</td>\n",
       "      <td>39189.0</td>\n",
       "      <td>13.0</td>\n",
       "      <td>9.0</td>\n",
       "      <td>-0.781831</td>\n",
       "      <td>0.623490</td>\n",
       "      <td>0.0</td>\n",
       "      <td>1.0</td>\n",
       "      <td>0.0</td>\n",
       "      <td>...</td>\n",
       "      <td>3.0</td>\n",
       "      <td>4.0</td>\n",
       "      <td>0.666667</td>\n",
       "      <td>1.333333</td>\n",
       "      <td>14.666667</td>\n",
       "      <td>3.333333</td>\n",
       "      <td>17.500000</td>\n",
       "      <td>55.000000</td>\n",
       "      <td>0.666667</td>\n",
       "      <td>2.0</td>\n",
       "    </tr>\n",
       "    <tr>\n",
       "      <th>2</th>\n",
       "      <td>0.3</td>\n",
       "      <td>1.8</td>\n",
       "      <td>54286.0</td>\n",
       "      <td>14.0</td>\n",
       "      <td>11.0</td>\n",
       "      <td>-0.781831</td>\n",
       "      <td>0.623490</td>\n",
       "      <td>0.0</td>\n",
       "      <td>1.0</td>\n",
       "      <td>0.0</td>\n",
       "      <td>...</td>\n",
       "      <td>3.0</td>\n",
       "      <td>4.0</td>\n",
       "      <td>2.333333</td>\n",
       "      <td>0.666667</td>\n",
       "      <td>22.000000</td>\n",
       "      <td>8.000000</td>\n",
       "      <td>17.500000</td>\n",
       "      <td>60.000000</td>\n",
       "      <td>0.333333</td>\n",
       "      <td>0.0</td>\n",
       "    </tr>\n",
       "    <tr>\n",
       "      <th>3</th>\n",
       "      <td>2.1</td>\n",
       "      <td>0.7</td>\n",
       "      <td>59530.0</td>\n",
       "      <td>12.0</td>\n",
       "      <td>12.0</td>\n",
       "      <td>-0.974928</td>\n",
       "      <td>-0.222521</td>\n",
       "      <td>0.0</td>\n",
       "      <td>1.0</td>\n",
       "      <td>0.0</td>\n",
       "      <td>...</td>\n",
       "      <td>3.0</td>\n",
       "      <td>4.0</td>\n",
       "      <td>2.666667</td>\n",
       "      <td>1.666667</td>\n",
       "      <td>20.333333</td>\n",
       "      <td>8.333333</td>\n",
       "      <td>18.500000</td>\n",
       "      <td>58.000000</td>\n",
       "      <td>0.333333</td>\n",
       "      <td>2.0</td>\n",
       "    </tr>\n",
       "    <tr>\n",
       "      <th>4</th>\n",
       "      <td>1.8</td>\n",
       "      <td>0.4</td>\n",
       "      <td>21722.0</td>\n",
       "      <td>14.0</td>\n",
       "      <td>13.0</td>\n",
       "      <td>-0.781831</td>\n",
       "      <td>0.623490</td>\n",
       "      <td>0.0</td>\n",
       "      <td>1.0</td>\n",
       "      <td>0.0</td>\n",
       "      <td>...</td>\n",
       "      <td>3.0</td>\n",
       "      <td>4.0</td>\n",
       "      <td>2.666667</td>\n",
       "      <td>1.666667</td>\n",
       "      <td>16.666667</td>\n",
       "      <td>7.333333</td>\n",
       "      <td>17.833333</td>\n",
       "      <td>51.000000</td>\n",
       "      <td>0.333333</td>\n",
       "      <td>2.0</td>\n",
       "    </tr>\n",
       "  </tbody>\n",
       "</table>\n",
       "<p>5 rows × 21 columns</p>\n",
       "</div>\n",
       "      <button class=\"colab-df-convert\" onclick=\"convertToInteractive('df-c8f7316d-937f-4888-bf28-13d1235f1463')\"\n",
       "              title=\"Convert this dataframe to an interactive table.\"\n",
       "              style=\"display:none;\">\n",
       "        \n",
       "  <svg xmlns=\"http://www.w3.org/2000/svg\" height=\"24px\"viewBox=\"0 0 24 24\"\n",
       "       width=\"24px\">\n",
       "    <path d=\"M0 0h24v24H0V0z\" fill=\"none\"/>\n",
       "    <path d=\"M18.56 5.44l.94 2.06.94-2.06 2.06-.94-2.06-.94-.94-2.06-.94 2.06-2.06.94zm-11 1L8.5 8.5l.94-2.06 2.06-.94-2.06-.94L8.5 2.5l-.94 2.06-2.06.94zm10 10l.94 2.06.94-2.06 2.06-.94-2.06-.94-.94-2.06-.94 2.06-2.06.94z\"/><path d=\"M17.41 7.96l-1.37-1.37c-.4-.4-.92-.59-1.43-.59-.52 0-1.04.2-1.43.59L10.3 9.45l-7.72 7.72c-.78.78-.78 2.05 0 2.83L4 21.41c.39.39.9.59 1.41.59.51 0 1.02-.2 1.41-.59l7.78-7.78 2.81-2.81c.8-.78.8-2.07 0-2.86zM5.41 20L4 18.59l7.72-7.72 1.47 1.35L5.41 20z\"/>\n",
       "  </svg>\n",
       "      </button>\n",
       "      \n",
       "  <style>\n",
       "    .colab-df-container {\n",
       "      display:flex;\n",
       "      flex-wrap:wrap;\n",
       "      gap: 12px;\n",
       "    }\n",
       "\n",
       "    .colab-df-convert {\n",
       "      background-color: #E8F0FE;\n",
       "      border: none;\n",
       "      border-radius: 50%;\n",
       "      cursor: pointer;\n",
       "      display: none;\n",
       "      fill: #1967D2;\n",
       "      height: 32px;\n",
       "      padding: 0 0 0 0;\n",
       "      width: 32px;\n",
       "    }\n",
       "\n",
       "    .colab-df-convert:hover {\n",
       "      background-color: #E2EBFA;\n",
       "      box-shadow: 0px 1px 2px rgba(60, 64, 67, 0.3), 0px 1px 3px 1px rgba(60, 64, 67, 0.15);\n",
       "      fill: #174EA6;\n",
       "    }\n",
       "\n",
       "    [theme=dark] .colab-df-convert {\n",
       "      background-color: #3B4455;\n",
       "      fill: #D2E3FC;\n",
       "    }\n",
       "\n",
       "    [theme=dark] .colab-df-convert:hover {\n",
       "      background-color: #434B5C;\n",
       "      box-shadow: 0px 1px 3px 1px rgba(0, 0, 0, 0.15);\n",
       "      filter: drop-shadow(0px 1px 2px rgba(0, 0, 0, 0.3));\n",
       "      fill: #FFFFFF;\n",
       "    }\n",
       "  </style>\n",
       "\n",
       "      <script>\n",
       "        const buttonEl =\n",
       "          document.querySelector('#df-c8f7316d-937f-4888-bf28-13d1235f1463 button.colab-df-convert');\n",
       "        buttonEl.style.display =\n",
       "          google.colab.kernel.accessAllowed ? 'block' : 'none';\n",
       "\n",
       "        async function convertToInteractive(key) {\n",
       "          const element = document.querySelector('#df-c8f7316d-937f-4888-bf28-13d1235f1463');\n",
       "          const dataTable =\n",
       "            await google.colab.kernel.invokeFunction('convertToInteractive',\n",
       "                                                     [key], {});\n",
       "          if (!dataTable) return;\n",
       "\n",
       "          const docLinkHtml = 'Like what you see? Visit the ' +\n",
       "            '<a target=\"_blank\" href=https://colab.research.google.com/notebooks/data_table.ipynb>data table notebook</a>'\n",
       "            + ' to learn more about interactive tables.';\n",
       "          element.innerHTML = '';\n",
       "          dataTable['output_type'] = 'display_data';\n",
       "          await google.colab.output.renderOutput(dataTable, element);\n",
       "          const docLink = document.createElement('div');\n",
       "          docLink.innerHTML = docLinkHtml;\n",
       "          element.appendChild(docLink);\n",
       "        }\n",
       "      </script>\n",
       "    </div>\n",
       "  </div>\n",
       "  "
      ],
      "text/plain": [
       "    xg  xga  attendance  hour  match_week   day_sin   day_cos  team_1  team_2  \\\n",
       "0  2.4  0.4     59378.0  12.0         7.0 -0.781831  0.623490     0.0     1.0   \n",
       "1  3.5  1.0     39189.0  13.0         9.0 -0.781831  0.623490     0.0     1.0   \n",
       "2  0.3  1.8     54286.0  14.0        11.0 -0.781831  0.623490     0.0     1.0   \n",
       "3  2.1  0.7     59530.0  12.0        12.0 -0.974928 -0.222521     0.0     1.0   \n",
       "4  1.8  0.4     21722.0  14.0        13.0 -0.781831  0.623490     0.0     1.0   \n",
       "\n",
       "   team_3  ...  num_striker  center_midfielder  gf_rolling  ga_rolling  \\\n",
       "0     0.0  ...          3.0                4.0    1.333333    2.333333   \n",
       "1     0.0  ...          3.0                4.0    0.666667    1.333333   \n",
       "2     0.0  ...          3.0                4.0    2.333333    0.666667   \n",
       "3     0.0  ...          3.0                4.0    2.666667    1.666667   \n",
       "4     0.0  ...          3.0                4.0    2.666667    1.666667   \n",
       "\n",
       "   sh_rolling  sot_rolling  dist_rolling  poss_rolling  fk_rolling  result  \n",
       "0   15.333333     4.000000     17.933333     56.333333    0.666667     2.0  \n",
       "1   14.666667     3.333333     17.500000     55.000000    0.666667     2.0  \n",
       "2   22.000000     8.000000     17.500000     60.000000    0.333333     0.0  \n",
       "3   20.333333     8.333333     18.500000     58.000000    0.333333     2.0  \n",
       "4   16.666667     7.333333     17.833333     51.000000    0.333333     2.0  \n",
       "\n",
       "[5 rows x 21 columns]"
      ]
     },
     "execution_count": 138,
     "metadata": {},
     "output_type": "execute_result"
    }
   ],
   "source": [
    "processed_train_data = preprocessor.fit_transform(train_data)\n",
    "processed_test_data = preprocessor.transform(test_data)\n",
    "processed_train_data.head()"
   ]
  },
  {
   "cell_type": "code",
   "execution_count": 139,
   "id": "b5f2b9f9",
   "metadata": {
    "colab": {
     "base_uri": "https://localhost:8080/",
     "height": 299
    },
    "executionInfo": {
     "elapsed": 18,
     "status": "ok",
     "timestamp": 1671250871733,
     "user": {
      "displayName": "Apurba Saha",
      "userId": "15169800888831502649"
     },
     "user_tz": 420
    },
    "id": "EqhsAe4B__Jn",
    "outputId": "8ec2f20e-c173-4bca-ac07-435993cb6d9b"
   },
   "outputs": [
    {
     "data": {
      "text/html": [
       "\n",
       "  <div id=\"df-1992373d-47ac-45f6-8173-cd6f87b6ddb8\">\n",
       "    <div class=\"colab-df-container\">\n",
       "      <div>\n",
       "<style scoped>\n",
       "    .dataframe tbody tr th:only-of-type {\n",
       "        vertical-align: middle;\n",
       "    }\n",
       "\n",
       "    .dataframe tbody tr th {\n",
       "        vertical-align: top;\n",
       "    }\n",
       "\n",
       "    .dataframe thead th {\n",
       "        text-align: right;\n",
       "    }\n",
       "</style>\n",
       "<table border=\"1\" class=\"dataframe\">\n",
       "  <thead>\n",
       "    <tr style=\"text-align: right;\">\n",
       "      <th></th>\n",
       "      <th>xg</th>\n",
       "      <th>xga</th>\n",
       "      <th>attendance</th>\n",
       "      <th>hour</th>\n",
       "      <th>match_week</th>\n",
       "      <th>day_sin</th>\n",
       "      <th>day_cos</th>\n",
       "      <th>team_1</th>\n",
       "      <th>team_2</th>\n",
       "      <th>team_3</th>\n",
       "      <th>...</th>\n",
       "      <th>num_striker</th>\n",
       "      <th>center_midfielder</th>\n",
       "      <th>gf_rolling</th>\n",
       "      <th>ga_rolling</th>\n",
       "      <th>sh_rolling</th>\n",
       "      <th>sot_rolling</th>\n",
       "      <th>dist_rolling</th>\n",
       "      <th>poss_rolling</th>\n",
       "      <th>fk_rolling</th>\n",
       "      <th>result</th>\n",
       "    </tr>\n",
       "  </thead>\n",
       "  <tbody>\n",
       "    <tr>\n",
       "      <th>0</th>\n",
       "      <td>1.1</td>\n",
       "      <td>1.0</td>\n",
       "      <td>59919.0</td>\n",
       "      <td>16.0</td>\n",
       "      <td>6.0</td>\n",
       "      <td>-0.781831</td>\n",
       "      <td>0.623490</td>\n",
       "      <td>0.0</td>\n",
       "      <td>1.0</td>\n",
       "      <td>0.0</td>\n",
       "      <td>...</td>\n",
       "      <td>1.0</td>\n",
       "      <td>0.0</td>\n",
       "      <td>0.333333</td>\n",
       "      <td>2.333333</td>\n",
       "      <td>6.666667</td>\n",
       "      <td>2.000000</td>\n",
       "      <td>15.400000</td>\n",
       "      <td>36.333333</td>\n",
       "      <td>0.333333</td>\n",
       "      <td>2.0</td>\n",
       "    </tr>\n",
       "    <tr>\n",
       "      <th>1</th>\n",
       "      <td>0.6</td>\n",
       "      <td>1.6</td>\n",
       "      <td>31266.0</td>\n",
       "      <td>17.0</td>\n",
       "      <td>7.0</td>\n",
       "      <td>-0.974928</td>\n",
       "      <td>-0.222521</td>\n",
       "      <td>0.0</td>\n",
       "      <td>1.0</td>\n",
       "      <td>0.0</td>\n",
       "      <td>...</td>\n",
       "      <td>1.0</td>\n",
       "      <td>0.0</td>\n",
       "      <td>1.333333</td>\n",
       "      <td>2.000000</td>\n",
       "      <td>8.666667</td>\n",
       "      <td>3.333333</td>\n",
       "      <td>15.066667</td>\n",
       "      <td>40.000000</td>\n",
       "      <td>0.333333</td>\n",
       "      <td>1.0</td>\n",
       "    </tr>\n",
       "    <tr>\n",
       "      <th>2</th>\n",
       "      <td>1.9</td>\n",
       "      <td>0.9</td>\n",
       "      <td>59475.0</td>\n",
       "      <td>20.0</td>\n",
       "      <td>8.0</td>\n",
       "      <td>0.000000</td>\n",
       "      <td>1.000000</td>\n",
       "      <td>0.0</td>\n",
       "      <td>1.0</td>\n",
       "      <td>0.0</td>\n",
       "      <td>...</td>\n",
       "      <td>1.0</td>\n",
       "      <td>0.0</td>\n",
       "      <td>1.333333</td>\n",
       "      <td>0.333333</td>\n",
       "      <td>11.000000</td>\n",
       "      <td>4.000000</td>\n",
       "      <td>19.833333</td>\n",
       "      <td>47.333333</td>\n",
       "      <td>0.666667</td>\n",
       "      <td>1.0</td>\n",
       "    </tr>\n",
       "    <tr>\n",
       "      <th>3</th>\n",
       "      <td>0.9</td>\n",
       "      <td>1.4</td>\n",
       "      <td>32209.0</td>\n",
       "      <td>12.0</td>\n",
       "      <td>10.0</td>\n",
       "      <td>-0.974928</td>\n",
       "      <td>-0.222521</td>\n",
       "      <td>0.0</td>\n",
       "      <td>1.0</td>\n",
       "      <td>0.0</td>\n",
       "      <td>...</td>\n",
       "      <td>1.0</td>\n",
       "      <td>0.0</td>\n",
       "      <td>1.666667</td>\n",
       "      <td>1.000000</td>\n",
       "      <td>12.333333</td>\n",
       "      <td>5.000000</td>\n",
       "      <td>18.800000</td>\n",
       "      <td>47.333333</td>\n",
       "      <td>0.666667</td>\n",
       "      <td>2.0</td>\n",
       "    </tr>\n",
       "    <tr>\n",
       "      <th>4</th>\n",
       "      <td>0.6</td>\n",
       "      <td>3.8</td>\n",
       "      <td>53092.0</td>\n",
       "      <td>17.0</td>\n",
       "      <td>12.0</td>\n",
       "      <td>-0.974928</td>\n",
       "      <td>-0.222521</td>\n",
       "      <td>0.0</td>\n",
       "      <td>1.0</td>\n",
       "      <td>0.0</td>\n",
       "      <td>...</td>\n",
       "      <td>1.0</td>\n",
       "      <td>0.0</td>\n",
       "      <td>1.333333</td>\n",
       "      <td>0.666667</td>\n",
       "      <td>11.333333</td>\n",
       "      <td>4.333333</td>\n",
       "      <td>18.466667</td>\n",
       "      <td>44.000000</td>\n",
       "      <td>0.666667</td>\n",
       "      <td>0.0</td>\n",
       "    </tr>\n",
       "  </tbody>\n",
       "</table>\n",
       "<p>5 rows × 21 columns</p>\n",
       "</div>\n",
       "      <button class=\"colab-df-convert\" onclick=\"convertToInteractive('df-1992373d-47ac-45f6-8173-cd6f87b6ddb8')\"\n",
       "              title=\"Convert this dataframe to an interactive table.\"\n",
       "              style=\"display:none;\">\n",
       "        \n",
       "  <svg xmlns=\"http://www.w3.org/2000/svg\" height=\"24px\"viewBox=\"0 0 24 24\"\n",
       "       width=\"24px\">\n",
       "    <path d=\"M0 0h24v24H0V0z\" fill=\"none\"/>\n",
       "    <path d=\"M18.56 5.44l.94 2.06.94-2.06 2.06-.94-2.06-.94-.94-2.06-.94 2.06-2.06.94zm-11 1L8.5 8.5l.94-2.06 2.06-.94-2.06-.94L8.5 2.5l-.94 2.06-2.06.94zm10 10l.94 2.06.94-2.06 2.06-.94-2.06-.94-.94-2.06-.94 2.06-2.06.94z\"/><path d=\"M17.41 7.96l-1.37-1.37c-.4-.4-.92-.59-1.43-.59-.52 0-1.04.2-1.43.59L10.3 9.45l-7.72 7.72c-.78.78-.78 2.05 0 2.83L4 21.41c.39.39.9.59 1.41.59.51 0 1.02-.2 1.41-.59l7.78-7.78 2.81-2.81c.8-.78.8-2.07 0-2.86zM5.41 20L4 18.59l7.72-7.72 1.47 1.35L5.41 20z\"/>\n",
       "  </svg>\n",
       "      </button>\n",
       "      \n",
       "  <style>\n",
       "    .colab-df-container {\n",
       "      display:flex;\n",
       "      flex-wrap:wrap;\n",
       "      gap: 12px;\n",
       "    }\n",
       "\n",
       "    .colab-df-convert {\n",
       "      background-color: #E8F0FE;\n",
       "      border: none;\n",
       "      border-radius: 50%;\n",
       "      cursor: pointer;\n",
       "      display: none;\n",
       "      fill: #1967D2;\n",
       "      height: 32px;\n",
       "      padding: 0 0 0 0;\n",
       "      width: 32px;\n",
       "    }\n",
       "\n",
       "    .colab-df-convert:hover {\n",
       "      background-color: #E2EBFA;\n",
       "      box-shadow: 0px 1px 2px rgba(60, 64, 67, 0.3), 0px 1px 3px 1px rgba(60, 64, 67, 0.15);\n",
       "      fill: #174EA6;\n",
       "    }\n",
       "\n",
       "    [theme=dark] .colab-df-convert {\n",
       "      background-color: #3B4455;\n",
       "      fill: #D2E3FC;\n",
       "    }\n",
       "\n",
       "    [theme=dark] .colab-df-convert:hover {\n",
       "      background-color: #434B5C;\n",
       "      box-shadow: 0px 1px 3px 1px rgba(0, 0, 0, 0.15);\n",
       "      filter: drop-shadow(0px 1px 2px rgba(0, 0, 0, 0.3));\n",
       "      fill: #FFFFFF;\n",
       "    }\n",
       "  </style>\n",
       "\n",
       "      <script>\n",
       "        const buttonEl =\n",
       "          document.querySelector('#df-1992373d-47ac-45f6-8173-cd6f87b6ddb8 button.colab-df-convert');\n",
       "        buttonEl.style.display =\n",
       "          google.colab.kernel.accessAllowed ? 'block' : 'none';\n",
       "\n",
       "        async function convertToInteractive(key) {\n",
       "          const element = document.querySelector('#df-1992373d-47ac-45f6-8173-cd6f87b6ddb8');\n",
       "          const dataTable =\n",
       "            await google.colab.kernel.invokeFunction('convertToInteractive',\n",
       "                                                     [key], {});\n",
       "          if (!dataTable) return;\n",
       "\n",
       "          const docLinkHtml = 'Like what you see? Visit the ' +\n",
       "            '<a target=\"_blank\" href=https://colab.research.google.com/notebooks/data_table.ipynb>data table notebook</a>'\n",
       "            + ' to learn more about interactive tables.';\n",
       "          element.innerHTML = '';\n",
       "          dataTable['output_type'] = 'display_data';\n",
       "          await google.colab.output.renderOutput(dataTable, element);\n",
       "          const docLink = document.createElement('div');\n",
       "          docLink.innerHTML = docLinkHtml;\n",
       "          element.appendChild(docLink);\n",
       "        }\n",
       "      </script>\n",
       "    </div>\n",
       "  </div>\n",
       "  "
      ],
      "text/plain": [
       "    xg  xga  attendance  hour  match_week   day_sin   day_cos  team_1  team_2  \\\n",
       "0  1.1  1.0     59919.0  16.0         6.0 -0.781831  0.623490     0.0     1.0   \n",
       "1  0.6  1.6     31266.0  17.0         7.0 -0.974928 -0.222521     0.0     1.0   \n",
       "2  1.9  0.9     59475.0  20.0         8.0  0.000000  1.000000     0.0     1.0   \n",
       "3  0.9  1.4     32209.0  12.0        10.0 -0.974928 -0.222521     0.0     1.0   \n",
       "4  0.6  3.8     53092.0  17.0        12.0 -0.974928 -0.222521     0.0     1.0   \n",
       "\n",
       "   team_3  ...  num_striker  center_midfielder  gf_rolling  ga_rolling  \\\n",
       "0     0.0  ...          1.0                0.0    0.333333    2.333333   \n",
       "1     0.0  ...          1.0                0.0    1.333333    2.000000   \n",
       "2     0.0  ...          1.0                0.0    1.333333    0.333333   \n",
       "3     0.0  ...          1.0                0.0    1.666667    1.000000   \n",
       "4     0.0  ...          1.0                0.0    1.333333    0.666667   \n",
       "\n",
       "   sh_rolling  sot_rolling  dist_rolling  poss_rolling  fk_rolling  result  \n",
       "0    6.666667     2.000000     15.400000     36.333333    0.333333     2.0  \n",
       "1    8.666667     3.333333     15.066667     40.000000    0.333333     1.0  \n",
       "2   11.000000     4.000000     19.833333     47.333333    0.666667     1.0  \n",
       "3   12.333333     5.000000     18.800000     47.333333    0.666667     2.0  \n",
       "4   11.333333     4.333333     18.466667     44.000000    0.666667     0.0  \n",
       "\n",
       "[5 rows x 21 columns]"
      ]
     },
     "execution_count": 139,
     "metadata": {},
     "output_type": "execute_result"
    }
   ],
   "source": [
    "processed_test_data.head()"
   ]
  },
  {
   "cell_type": "code",
   "execution_count": 140,
   "id": "6586f711",
   "metadata": {
    "colab": {
     "base_uri": "https://localhost:8080/"
    },
    "executionInfo": {
     "elapsed": 16,
     "status": "ok",
     "timestamp": 1671250871733,
     "user": {
      "displayName": "Apurba Saha",
      "userId": "15169800888831502649"
     },
     "user_tz": 420
    },
    "id": "iwHU0ychNRSc",
    "outputId": "c95bff06-b93a-411e-f916-e8bb659fd91d"
   },
   "outputs": [
    {
     "data": {
      "text/plain": [
       "(1414, 21)"
      ]
     },
     "execution_count": 140,
     "metadata": {},
     "output_type": "execute_result"
    }
   ],
   "source": [
    "processed_train_data.shape"
   ]
  },
  {
   "cell_type": "code",
   "execution_count": 141,
   "id": "d23c005c",
   "metadata": {
    "colab": {
     "base_uri": "https://localhost:8080/"
    },
    "executionInfo": {
     "elapsed": 12,
     "status": "ok",
     "timestamp": 1671250871734,
     "user": {
      "displayName": "Apurba Saha",
      "userId": "15169800888831502649"
     },
     "user_tz": 420
    },
    "id": "pC8KFeOKNXzX",
    "outputId": "6d934dd0-55ed-4aaf-fd1d-ce87ebb232e7"
   },
   "outputs": [
    {
     "data": {
      "text/plain": [
       "(322, 21)"
      ]
     },
     "execution_count": 141,
     "metadata": {},
     "output_type": "execute_result"
    }
   ],
   "source": [
    "processed_test_data.shape"
   ]
  },
  {
   "cell_type": "code",
   "execution_count": 142,
   "id": "e3599fdf",
   "metadata": {
    "executionInfo": {
     "elapsed": 9,
     "status": "ok",
     "timestamp": 1671250871734,
     "user": {
      "displayName": "Apurba Saha",
      "userId": "15169800888831502649"
     },
     "user_tz": 420
    },
    "id": "ClC--hOTrcV6"
   },
   "outputs": [],
   "source": [
    "X_train = processed_train_data.drop(\"result\", axis=1)\n",
    "y_train = processed_train_data[\"result\"]\n",
    "X_test = processed_test_data.drop(\"result\", axis=1)\n",
    "y_test = processed_test_data[\"result\"]"
   ]
  },
  {
   "cell_type": "markdown",
   "id": "2c7571db",
   "metadata": {
    "id": "f6053384"
   },
   "source": [
    "# Baseline Model"
   ]
  },
  {
   "cell_type": "code",
   "execution_count": 143,
   "id": "04c75fd0",
   "metadata": {
    "executionInfo": {
     "elapsed": 8,
     "status": "ok",
     "timestamp": 1671250871734,
     "user": {
      "displayName": "Apurba Saha",
      "userId": "15169800888831502649"
     },
     "user_tz": 420
    },
    "id": "8c7b7014"
   },
   "outputs": [],
   "source": [
    "from sklearn.svm import SVC,LinearSVC,NuSVC\n",
    "from sklearn.neighbors import KNeighborsClassifier\n",
    "from sklearn.tree import DecisionTreeClassifier\n",
    "from sklearn.ensemble import RandomForestClassifier,AdaBoostClassifier,GradientBoostingClassifier\n",
    "from sklearn.naive_bayes import GaussianNB,BernoulliNB"
   ]
  },
  {
   "cell_type": "code",
   "execution_count": 144,
   "id": "98059ea9",
   "metadata": {
    "executionInfo": {
     "elapsed": 248,
     "status": "ok",
     "timestamp": 1671250871974,
     "user": {
      "displayName": "Apurba Saha",
      "userId": "15169800888831502649"
     },
     "user_tz": 420
    },
    "id": "022983d6"
   },
   "outputs": [],
   "source": [
    "# Evaluation & CV Libraries\n",
    "from sklearn.metrics import precision_score,accuracy_score, recall_score, f1_score, confusion_matrix\n",
    "from sklearn.model_selection import RandomizedSearchCV,GridSearchCV,RepeatedStratifiedKFold"
   ]
  },
  {
   "cell_type": "code",
   "execution_count": 145,
   "id": "5006fde1",
   "metadata": {
    "executionInfo": {
     "elapsed": 2729,
     "status": "ok",
     "timestamp": 1671250874692,
     "user": {
      "displayName": "Apurba Saha",
      "userId": "15169800888831502649"
     },
     "user_tz": 420
    },
    "id": "12a2d7c5"
   },
   "outputs": [],
   "source": [
    "models =[(\"SVC\", SVC()),('KNN',KNeighborsClassifier(n_neighbors=10)),\n",
    "         (\"DTC\", DecisionTreeClassifier()),(\"GNB\", GaussianNB()),\n",
    "        (\"NuSVC\", NuSVC()),(\"BNB\", BernoulliNB()),\n",
    "         ('RF',RandomForestClassifier()),('ADA',AdaBoostClassifier()),\n",
    "        ('XGB',GradientBoostingClassifier())]\n",
    "\n",
    "results = []\n",
    "names = []\n",
    "finalResults = []\n",
    "\n",
    "for name, classifier in models:\n",
    "    model = Pipeline([\n",
    "        ('standardizer', RobustScaler(unit_variance=True)),\n",
    "        (name, classifier)\n",
    "    ])\n",
    "    model.fit(X_train, y_train)\n",
    "    model_results = model.predict(X_test)\n",
    "    score = precision_score(y_test, model_results, average='micro')\n",
    "    results.append(score)\n",
    "    names.append(name)\n",
    "    finalResults.append((name,score))\n",
    "    \n",
    "finalResults.sort(key=lambda k:k[1],reverse=True)"
   ]
  },
  {
   "cell_type": "code",
   "execution_count": 146,
   "id": "49484810",
   "metadata": {
    "colab": {
     "base_uri": "https://localhost:8080/"
    },
    "executionInfo": {
     "elapsed": 8,
     "status": "ok",
     "timestamp": 1671250874693,
     "user": {
      "displayName": "Apurba Saha",
      "userId": "15169800888831502649"
     },
     "user_tz": 420
    },
    "id": "yYVrdL4ROGMk",
    "outputId": "c566f2f1-90a0-425c-f83f-6e4769ac31db"
   },
   "outputs": [
    {
     "data": {
      "text/plain": [
       "[('RF', 0.562111801242236),\n",
       " ('XGB', 0.5527950310559007),\n",
       " ('SVC', 0.5496894409937888),\n",
       " ('ADA', 0.5403726708074534),\n",
       " ('BNB', 0.531055900621118),\n",
       " ('NuSVC', 0.515527950310559),\n",
       " ('KNN', 0.5124223602484472),\n",
       " ('GNB', 0.5031055900621118),\n",
       " ('DTC', 0.4409937888198758)]"
      ]
     },
     "execution_count": 146,
     "metadata": {},
     "output_type": "execute_result"
    }
   ],
   "source": [
    "finalResults"
   ]
  },
  {
   "cell_type": "markdown",
   "id": "4d6ea417",
   "metadata": {
    "id": "7594e823"
   },
   "source": [
    "Based on the performance of these baseline models, we select the top three ML algorithms and try improve their performance through hyperparameter optimization."
   ]
  },
  {
   "cell_type": "markdown",
   "id": "17be7e38",
   "metadata": {
    "id": "30eef99f"
   },
   "source": [
    "# Hyperparameter tuning"
   ]
  },
  {
   "cell_type": "markdown",
   "id": "46e6be5a",
   "metadata": {
    "id": "8decfa58"
   },
   "source": [
    "Let's first define the hyperparameter space for each algorithm."
   ]
  },
  {
   "cell_type": "code",
   "execution_count": 147,
   "id": "d23b6e70",
   "metadata": {
    "executionInfo": {
     "elapsed": 220,
     "status": "ok",
     "timestamp": 1671250985089,
     "user": {
      "displayName": "Apurba Saha",
      "userId": "15169800888831502649"
     },
     "user_tz": 420
    },
    "id": "b84c67c4"
   },
   "outputs": [],
   "source": [
    "np.random.seed(2022)\n",
    "\n",
    "model_params = {\n",
    "    'RF':\n",
    "    {\n",
    "        'model':RandomForestClassifier,\n",
    "        'params':\n",
    "        {\n",
    "            'max_depth': [10, 20, 30, 40, 50, 60, 70, 80, 90, 100, None],\n",
    "            'max_features': ['log2', 'sqrt', None],\n",
    "            'min_samples_leaf': [1, 2, 4],\n",
    "            'min_samples_split': [2, 5, 10, 20, 30, 40, 50, 60],\n",
    "            'n_estimators': [100, 200, 400, 600, 800, 1000, 1200, 1400]\n",
    "        }\n",
    "    },\n",
    "    'SVC':\n",
    "    {\n",
    "        'model':SVC,\n",
    "        'params':\n",
    "        {\n",
    "            'kernel': ['linear', 'rbf'],\n",
    "            'gamma': [0.01, 0.1, 1, 10, 100],\n",
    "            'C': [0.001, 0.01, 0.1, 1, 10, 100]\n",
    "        }\n",
    "    },\n",
    "    'ADA':\n",
    "    {\n",
    "        'model':AdaBoostClassifier,\n",
    "        'params':\n",
    "        {\n",
    "            'learning_rate': 10**(-4 * np.random.rand(20)),\n",
    "            'n_estimators': [10, 50, 100, 200, 350, 500],\n",
    "            'algorithm': ['SAMME', 'SAMME.R']\n",
    "        }\n",
    "    },\n",
    "    'XGB':\n",
    "    {\n",
    "        'model':GradientBoostingClassifier,\n",
    "        'params':\n",
    "        {\n",
    "            'learning_rate': 10**(-3 * np.random.rand(25)),\n",
    "            'n_estimators': [10, 50, 100, 200, 400, 600, 800, 1000],\n",
    "            'max_depth':np.random.randint(3, 10, 5),\n",
    "            'subsample':np.random.uniform(0.6, 1.0, 20)\n",
    "        }\n",
    "    }\n",
    "}"
   ]
  },
  {
   "cell_type": "markdown",
   "id": "e2819840",
   "metadata": {
    "id": "644f1bee"
   },
   "source": [
    "It is important to remember that we are dealing with time-series data. Here the chronological performance of each team matters. So, we need to be careful when performing cross-validation for hyperparameter tuning. We could have used the TimeSeriesSplit function provided by sklearn. But it doesn't allow us to define the number of records that we want to include in the training and validation set. We have found the following code from https://medium.com/eatpredlove/time-series-cross-validation-a-walk-forward-approach-in-python-8534dd1db51a very useful for our purpose."
   ]
  },
  {
   "cell_type": "code",
   "execution_count": 148,
   "id": "fba405cd",
   "metadata": {
    "executionInfo": {
     "elapsed": 7,
     "status": "ok",
     "timestamp": 1671250985268,
     "user": {
      "displayName": "Apurba Saha",
      "userId": "15169800888831502649"
     },
     "user_tz": 420
    },
    "id": "f337d224"
   },
   "outputs": [],
   "source": [
    "import numpy as np\n",
    "\n",
    "class expanding_window(object):\n",
    "    '''\t\n",
    "    Parameters \n",
    "    ----------\n",
    "    \n",
    "    Note that if you define a horizon that is too far, then subsequently the split will ignore horizon length \n",
    "    such that there is validation data left. This similar to Prof Rob hyndman's TsCv \n",
    "    \n",
    "    \n",
    "    initial: int\n",
    "        initial train length \n",
    "    horizon: int \n",
    "        forecast horizon (forecast length). Default = 1\n",
    "    period: int \n",
    "        length of train data to add each iteration \n",
    "    '''\n",
    "    \n",
    "\n",
    "    def __init__(self,initial= 1,horizon = 1,period = 1):\n",
    "        self.initial = initial\n",
    "        self.horizon = horizon \n",
    "        self.period = period \n",
    "\n",
    "\n",
    "    def split(self,data):\n",
    "        '''\n",
    "        Parameters \n",
    "        ----------\n",
    "        \n",
    "        Data: Training data \n",
    "        \n",
    "        Returns \n",
    "        -------\n",
    "        train_index ,test_index: \n",
    "            index for train and valid set similar to sklearn model selection\n",
    "        '''\n",
    "        self.data = data\n",
    "        self.counter = 0 # for us to iterate and track later \n",
    "\n",
    "\n",
    "        data_length = data.shape[0] # rows \n",
    "        data_index = list(np.arange(data_length))\n",
    "         \n",
    "        output_train = []\n",
    "        output_test = []\n",
    "        # append initial \n",
    "        output_train.append(list(np.arange(self.initial)))\n",
    "        progress = [x for x in data_index if x not in list(np.arange(self.initial)) ] # indexes left to append to train \n",
    "        output_test.append([x for x in data_index if x not in output_train[self.counter]][:self.horizon] )\n",
    "        # clip initial indexes from progress since that is what we are left \n",
    "         \n",
    "        while len(progress) != 0:\n",
    "            temp = progress[:self.period]\n",
    "            to_add = output_train[self.counter] + temp\n",
    "            # update the train index \n",
    "            output_train.append(to_add)\n",
    "            # increment counter \n",
    "            self.counter +=1 \n",
    "            # then we update the test index \n",
    "            \n",
    "            to_add_test = [x for x in data_index if x not in output_train[self.counter] ][:self.horizon]\n",
    "            output_test.append(to_add_test)\n",
    "\n",
    "            # update progress \n",
    "            progress = [x for x in data_index if x not in output_train[self.counter]]\n",
    "            \n",
    "        # clip the last element of output_train and output_test\n",
    "        output_train = output_train[:-1]\n",
    "        output_test = output_test[:-1]\n",
    "        \n",
    "        # mimic sklearn output \n",
    "        index_output = [(train,test) for train,test in zip(output_train,output_test)]\n",
    "        \n",
    "        return index_output"
   ]
  },
  {
   "cell_type": "code",
   "execution_count": 149,
   "id": "58283d93",
   "metadata": {
    "colab": {
     "base_uri": "https://localhost:8080/"
    },
    "executionInfo": {
     "elapsed": 5743150,
     "status": "ok",
     "timestamp": 1671261308851,
     "user": {
      "displayName": "Apurba Saha",
      "userId": "15169800888831502649"
     },
     "user_tz": 420
    },
    "id": "925ea41f",
    "outputId": "9b974aac-2292-4979-8efa-3056fe0896d8"
   },
   "outputs": [
    {
     "metadata": {
      "tags": null
     },
     "name": "stdout",
     "output_type": "stream",
     "text": [
      "Starting parameter tuning for RF\n"
     ]
    },
    {
     "metadata": {
      "tags": null
     },
     "name": "stderr",
     "output_type": "stream",
     "text": [
      "  2%|▏         | 1/50 [00:52<42:42, 52.29s/it]"
     ]
    },
    {
     "metadata": {
      "tags": null
     },
     "name": "stdout",
     "output_type": "stream",
     "text": [
      "{'n_estimators': 1000, 'min_samples_split': 60, 'min_samples_leaf': 4, 'max_features': 'sqrt', 'max_depth': 90}: 0.5711498252307985\n",
      "Best score improved from -inf to 0.5711498252307985\n"
     ]
    },
    {
     "metadata": {
      "tags": null
     },
     "name": "stderr",
     "output_type": "stream",
     "text": [
      "\r",
      "  4%|▍         | 2/50 [01:41<40:19, 50.41s/it]"
     ]
    },
    {
     "metadata": {
      "tags": null
     },
     "name": "stdout",
     "output_type": "stream",
     "text": [
      "{'n_estimators': 800, 'min_samples_split': 20, 'min_samples_leaf': 2, 'max_features': 'log2', 'max_depth': 30}: 0.5700143943142459\n"
     ]
    },
    {
     "metadata": {
      "tags": null
     },
     "name": "stderr",
     "output_type": "stream",
     "text": [
      "\r",
      "  6%|▌         | 3/50 [02:34<40:29, 51.69s/it]"
     ]
    },
    {
     "metadata": {
      "tags": null
     },
     "name": "stdout",
     "output_type": "stream",
     "text": [
      "{'n_estimators': 1000, 'min_samples_split': 40, 'min_samples_leaf': 4, 'max_features': 'log2', 'max_depth': 10}: 0.5791461578558822\n",
      "Best score improved from 0.5711498252307985 to 0.5791461578558822\n"
     ]
    },
    {
     "metadata": {
      "tags": null
     },
     "name": "stderr",
     "output_type": "stream",
     "text": [
      "\r",
      "  8%|▊         | 4/50 [03:06<33:40, 43.93s/it]"
     ]
    },
    {
     "metadata": {
      "tags": null
     },
     "name": "stdout",
     "output_type": "stream",
     "text": [
      "{'n_estimators': 100, 'min_samples_split': 50, 'min_samples_leaf': 2, 'max_features': 'log2', 'max_depth': 90}: 0.5700799956076172\n"
     ]
    },
    {
     "metadata": {
      "tags": null
     },
     "name": "stderr",
     "output_type": "stream",
     "text": [
      "\r",
      " 10%|█         | 5/50 [03:40<30:15, 40.35s/it]"
     ]
    },
    {
     "metadata": {
      "tags": null
     },
     "name": "stdout",
     "output_type": "stream",
     "text": [
      "{'n_estimators': 200, 'min_samples_split': 50, 'min_samples_leaf': 1, 'max_features': 'log2', 'max_depth': None}: 0.567580306514221\n"
     ]
    },
    {
     "metadata": {
      "tags": null
     },
     "name": "stderr",
     "output_type": "stream",
     "text": [
      "\r",
      " 12%|█▏        | 6/50 [05:11<42:15, 57.62s/it]"
     ]
    },
    {
     "metadata": {
      "tags": null
     },
     "name": "stdout",
     "output_type": "stream",
     "text": [
      "{'n_estimators': 1400, 'min_samples_split': 50, 'min_samples_leaf': 1, 'max_features': None, 'max_depth': 90}: 0.5686928560277513\n"
     ]
    },
    {
     "metadata": {
      "tags": null
     },
     "name": "stderr",
     "output_type": "stream",
     "text": [
      "\r",
      " 14%|█▍        | 7/50 [05:52<37:25, 52.23s/it]"
     ]
    },
    {
     "metadata": {
      "tags": null
     },
     "name": "stdout",
     "output_type": "stream",
     "text": [
      "{'n_estimators': 400, 'min_samples_split': 10, 'min_samples_leaf': 4, 'max_features': 'sqrt', 'max_depth': 40}: 0.5744412082227519\n"
     ]
    },
    {
     "metadata": {
      "tags": null
     },
     "name": "stderr",
     "output_type": "stream",
     "text": [
      "\r",
      " 16%|█▌        | 8/50 [06:28<32:47, 46.84s/it]"
     ]
    },
    {
     "metadata": {
      "tags": null
     },
     "name": "stdout",
     "output_type": "stream",
     "text": [
      "{'n_estimators': 100, 'min_samples_split': 20, 'min_samples_leaf': 1, 'max_features': 'log2', 'max_depth': 10}: 0.56632623496072\n"
     ]
    },
    {
     "metadata": {
      "tags": null
     },
     "name": "stderr",
     "output_type": "stream",
     "text": [
      "\r",
      " 18%|█▊        | 9/50 [07:00<28:52, 42.26s/it]"
     ]
    },
    {
     "metadata": {
      "tags": null
     },
     "name": "stdout",
     "output_type": "stream",
     "text": [
      "{'n_estimators': 100, 'min_samples_split': 10, 'min_samples_leaf': 1, 'max_features': 'sqrt', 'max_depth': 80}: 0.5472938953819123\n"
     ]
    },
    {
     "metadata": {
      "tags": null
     },
     "name": "stderr",
     "output_type": "stream",
     "text": [
      "\r",
      " 20%|██        | 10/50 [07:39<27:26, 41.15s/it]"
     ]
    },
    {
     "metadata": {
      "tags": null
     },
     "name": "stdout",
     "output_type": "stream",
     "text": [
      "{'n_estimators': 200, 'min_samples_split': 30, 'min_samples_leaf': 4, 'max_features': None, 'max_depth': 50}: 0.5620845957023446\n"
     ]
    },
    {
     "metadata": {
      "tags": null
     },
     "name": "stderr",
     "output_type": "stream",
     "text": [
      "\r",
      " 22%|██▏       | 11/50 [08:22<27:10, 41.81s/it]"
     ]
    },
    {
     "metadata": {
      "tags": null
     },
     "name": "stdout",
     "output_type": "stream",
     "text": [
      "{'n_estimators': 600, 'min_samples_split': 20, 'min_samples_leaf': 4, 'max_features': 'log2', 'max_depth': None}: 0.5732510577439559\n"
     ]
    },
    {
     "metadata": {
      "tags": null
     },
     "name": "stderr",
     "output_type": "stream",
     "text": [
      "\r",
      " 24%|██▍       | 12/50 [09:10<27:37, 43.63s/it]"
     ]
    },
    {
     "metadata": {
      "tags": null
     },
     "name": "stdout",
     "output_type": "stream",
     "text": [
      "{'n_estimators': 600, 'min_samples_split': 5, 'min_samples_leaf': 1, 'max_features': 'log2', 'max_depth': 10}: 0.5643837500363829\n"
     ]
    },
    {
     "metadata": {
      "tags": null
     },
     "name": "stderr",
     "output_type": "stream",
     "text": [
      "\r",
      " 26%|██▌       | 13/50 [10:12<30:21, 49.24s/it]"
     ]
    },
    {
     "metadata": {
      "tags": null
     },
     "name": "stdout",
     "output_type": "stream",
     "text": [
      "{'n_estimators': 600, 'min_samples_split': 10, 'min_samples_leaf': 2, 'max_features': None, 'max_depth': 40}: 0.5575783153889509\n"
     ]
    },
    {
     "metadata": {
      "tags": null
     },
     "name": "stderr",
     "output_type": "stream",
     "text": [
      "\r",
      " 28%|██▊       | 14/50 [11:07<30:39, 51.09s/it]"
     ]
    },
    {
     "metadata": {
      "tags": null
     },
     "name": "stdout",
     "output_type": "stream",
     "text": [
      "{'n_estimators': 1200, 'min_samples_split': 60, 'min_samples_leaf': 2, 'max_features': 'sqrt', 'max_depth': 60}: 0.5755903190298655\n"
     ]
    },
    {
     "metadata": {
      "tags": null
     },
     "name": "stderr",
     "output_type": "stream",
     "text": [
      "\r",
      " 30%|███       | 15/50 [12:06<31:05, 53.31s/it]"
     ]
    },
    {
     "metadata": {
      "tags": null
     },
     "name": "stdout",
     "output_type": "stream",
     "text": [
      "{'n_estimators': 1200, 'min_samples_split': 20, 'min_samples_leaf': 4, 'max_features': 'sqrt', 'max_depth': 90}: 0.5756577857628591\n"
     ]
    },
    {
     "metadata": {
      "tags": null
     },
     "name": "stderr",
     "output_type": "stream",
     "text": [
      "\r",
      " 32%|███▏      | 16/50 [12:40<26:55, 47.51s/it]"
     ]
    },
    {
     "metadata": {
      "tags": null
     },
     "name": "stdout",
     "output_type": "stream",
     "text": [
      "{'n_estimators': 100, 'min_samples_split': 40, 'min_samples_leaf': 2, 'max_features': None, 'max_depth': 90}: 0.5584502231912513\n"
     ]
    },
    {
     "metadata": {
      "tags": null
     },
     "name": "stderr",
     "output_type": "stream",
     "text": [
      "\r",
      " 34%|███▍      | 17/50 [13:42<28:35, 51.99s/it]"
     ]
    },
    {
     "metadata": {
      "tags": null
     },
     "name": "stdout",
     "output_type": "stream",
     "text": [
      "{'n_estimators': 600, 'min_samples_split': 5, 'min_samples_leaf': 4, 'max_features': None, 'max_depth': 80}: 0.559864722552239\n"
     ]
    },
    {
     "metadata": {
      "tags": null
     },
     "name": "stderr",
     "output_type": "stream",
     "text": [
      "\r",
      " 36%|███▌      | 18/50 [14:18<25:07, 47.11s/it]"
     ]
    },
    {
     "metadata": {
      "tags": null
     },
     "name": "stdout",
     "output_type": "stream",
     "text": [
      "{'n_estimators': 100, 'min_samples_split': 50, 'min_samples_leaf': 1, 'max_features': 'log2', 'max_depth': 10}: 0.5641183614825086\n"
     ]
    },
    {
     "metadata": {
      "tags": null
     },
     "name": "stderr",
     "output_type": "stream",
     "text": [
      "\r",
      " 38%|███▊      | 19/50 [15:03<23:58, 46.40s/it]"
     ]
    },
    {
     "metadata": {
      "tags": null
     },
     "name": "stdout",
     "output_type": "stream",
     "text": [
      "{'n_estimators': 600, 'min_samples_split': 10, 'min_samples_leaf': 4, 'max_features': 'log2', 'max_depth': 10}: 0.5723673354907165\n"
     ]
    },
    {
     "metadata": {
      "tags": null
     },
     "name": "stderr",
     "output_type": "stream",
     "text": [
      "\r",
      " 40%|████      | 20/50 [16:28<29:07, 58.26s/it]"
     ]
    },
    {
     "metadata": {
      "tags": null
     },
     "name": "stdout",
     "output_type": "stream",
     "text": [
      "{'n_estimators': 1200, 'min_samples_split': 30, 'min_samples_leaf': 4, 'max_features': None, 'max_depth': None}: 0.5574990342050186\n"
     ]
    },
    {
     "metadata": {
      "tags": null
     },
     "name": "stderr",
     "output_type": "stream",
     "text": [
      "\r",
      " 42%|████▏     | 21/50 [17:25<27:50, 57.59s/it]"
     ]
    },
    {
     "metadata": {
      "tags": null
     },
     "name": "stdout",
     "output_type": "stream",
     "text": [
      "{'n_estimators': 1000, 'min_samples_split': 20, 'min_samples_leaf': 1, 'max_features': 'log2', 'max_depth': 60}: 0.5688907778486321\n"
     ]
    },
    {
     "metadata": {
      "tags": null
     },
     "name": "stderr",
     "output_type": "stream",
     "text": [
      "\r",
      " 44%|████▍     | 22/50 [18:01<23:51, 51.12s/it]"
     ]
    },
    {
     "metadata": {
      "tags": null
     },
     "name": "stdout",
     "output_type": "stream",
     "text": [
      "{'n_estimators': 100, 'min_samples_split': 10, 'min_samples_leaf': 1, 'max_features': 'log2', 'max_depth': 50}: 0.5690632053280131\n"
     ]
    },
    {
     "metadata": {
      "tags": null
     },
     "name": "stderr",
     "output_type": "stream",
     "text": [
      "\r",
      " 46%|████▌     | 23/50 [18:40<21:22, 47.52s/it]"
     ]
    },
    {
     "metadata": {
      "tags": null
     },
     "name": "stdout",
     "output_type": "stream",
     "text": [
      "{'n_estimators': 400, 'min_samples_split': 60, 'min_samples_leaf': 2, 'max_features': 'log2', 'max_depth': 70}: 0.5711635051213594\n"
     ]
    },
    {
     "metadata": {
      "tags": null
     },
     "name": "stderr",
     "output_type": "stream",
     "text": [
      "\r",
      " 48%|████▊     | 24/50 [19:23<20:03, 46.29s/it]"
     ]
    },
    {
     "metadata": {
      "tags": null
     },
     "name": "stdout",
     "output_type": "stream",
     "text": [
      "{'n_estimators': 400, 'min_samples_split': 20, 'min_samples_leaf': 2, 'max_features': 'log2', 'max_depth': 70}: 0.5724602965652096\n"
     ]
    },
    {
     "metadata": {
      "tags": null
     },
     "name": "stderr",
     "output_type": "stream",
     "text": [
      "\r",
      " 50%|█████     | 25/50 [20:14<19:50, 47.64s/it]"
     ]
    },
    {
     "metadata": {
      "tags": null
     },
     "name": "stdout",
     "output_type": "stream",
     "text": [
      "{'n_estimators': 600, 'min_samples_split': 5, 'min_samples_leaf': 4, 'max_features': 'sqrt', 'max_depth': 60}: 0.5658657161303637\n"
     ]
    },
    {
     "metadata": {
      "tags": null
     },
     "name": "stderr",
     "output_type": "stream",
     "text": [
      "\r",
      " 52%|█████▏    | 26/50 [21:16<20:51, 52.13s/it]"
     ]
    },
    {
     "metadata": {
      "tags": null
     },
     "name": "stdout",
     "output_type": "stream",
     "text": [
      "{'n_estimators': 1200, 'min_samples_split': 20, 'min_samples_leaf': 4, 'max_features': 'sqrt', 'max_depth': None}: 0.5710585443749718\n"
     ]
    },
    {
     "metadata": {
      "tags": null
     },
     "name": "stderr",
     "output_type": "stream",
     "text": [
      "\r",
      " 54%|█████▍    | 27/50 [22:03<19:21, 50.51s/it]"
     ]
    },
    {
     "metadata": {
      "tags": null
     },
     "name": "stdout",
     "output_type": "stream",
     "text": [
      "{'n_estimators': 200, 'min_samples_split': 30, 'min_samples_leaf': 1, 'max_features': None, 'max_depth': 40}: 0.5588333196622627\n"
     ]
    },
    {
     "metadata": {
      "tags": null
     },
     "name": "stderr",
     "output_type": "stream",
     "text": [
      "\r",
      " 56%|█████▌    | 28/50 [22:49<18:01, 49.17s/it]"
     ]
    },
    {
     "metadata": {
      "tags": null
     },
     "name": "stdout",
     "output_type": "stream",
     "text": [
      "{'n_estimators': 400, 'min_samples_split': 2, 'min_samples_leaf': 2, 'max_features': 'log2', 'max_depth': 60}: 0.554537893561455\n"
     ]
    },
    {
     "metadata": {
      "tags": null
     },
     "name": "stderr",
     "output_type": "stream",
     "text": [
      "\r",
      " 58%|█████▊    | 29/50 [23:24<15:42, 44.86s/it]"
     ]
    },
    {
     "metadata": {
      "tags": null
     },
     "name": "stdout",
     "output_type": "stream",
     "text": [
      "{'n_estimators': 100, 'min_samples_split': 10, 'min_samples_leaf': 1, 'max_features': 'log2', 'max_depth': 80}: 0.5579349847986517\n"
     ]
    },
    {
     "metadata": {
      "tags": null
     },
     "name": "stderr",
     "output_type": "stream",
     "text": [
      "\r",
      " 60%|██████    | 30/50 [24:42<18:18, 54.91s/it]"
     ]
    },
    {
     "metadata": {
      "tags": null
     },
     "name": "stdout",
     "output_type": "stream",
     "text": [
      "{'n_estimators': 1000, 'min_samples_split': 50, 'min_samples_leaf': 2, 'max_features': None, 'max_depth': 10}: 0.5561109619053416\n"
     ]
    },
    {
     "metadata": {
      "tags": null
     },
     "name": "stderr",
     "output_type": "stream",
     "text": [
      "\r",
      " 62%|██████▏   | 31/50 [25:56<19:06, 60.37s/it]"
     ]
    },
    {
     "metadata": {
      "tags": null
     },
     "name": "stdout",
     "output_type": "stream",
     "text": [
      "{'n_estimators': 1400, 'min_samples_split': 10, 'min_samples_leaf': 1, 'max_features': 'log2', 'max_depth': None}: 0.563590375919159\n"
     ]
    },
    {
     "metadata": {
      "tags": null
     },
     "name": "stderr",
     "output_type": "stream",
     "text": [
      "\r",
      " 64%|██████▍   | 32/50 [26:54<17:53, 59.65s/it]"
     ]
    },
    {
     "metadata": {
      "tags": null
     },
     "name": "stdout",
     "output_type": "stream",
     "text": [
      "{'n_estimators': 1000, 'min_samples_split': 30, 'min_samples_leaf': 2, 'max_features': 'sqrt', 'max_depth': 40}: 0.5767932166794116\n"
     ]
    },
    {
     "metadata": {
      "tags": null
     },
     "name": "stderr",
     "output_type": "stream",
     "text": [
      "\r",
      " 66%|██████▌   | 33/50 [27:36<15:28, 54.61s/it]"
     ]
    },
    {
     "metadata": {
      "tags": null
     },
     "name": "stdout",
     "output_type": "stream",
     "text": [
      "{'n_estimators': 200, 'min_samples_split': 10, 'min_samples_leaf': 2, 'max_features': 'sqrt', 'max_depth': 60}: 0.5688898451288212\n"
     ]
    },
    {
     "metadata": {
      "tags": null
     },
     "name": "stderr",
     "output_type": "stream",
     "text": [
      "\r",
      " 68%|██████▊   | 34/50 [28:54<16:22, 61.43s/it]"
     ]
    },
    {
     "metadata": {
      "tags": null
     },
     "name": "stdout",
     "output_type": "stream",
     "text": [
      "{'n_estimators': 1400, 'min_samples_split': 10, 'min_samples_leaf': 1, 'max_features': 'log2', 'max_depth': 60}: 0.5780482209527237\n"
     ]
    },
    {
     "metadata": {
      "tags": null
     },
     "name": "stderr",
     "output_type": "stream",
     "text": [
      "\r",
      " 70%|███████   | 35/50 [29:54<15:15, 61.04s/it]"
     ]
    },
    {
     "metadata": {
      "tags": null
     },
     "name": "stdout",
     "output_type": "stream",
     "text": [
      "{'n_estimators': 1000, 'min_samples_split': 30, 'min_samples_leaf': 2, 'max_features': 'sqrt', 'max_depth': 30}: 0.5757106398854805\n"
     ]
    },
    {
     "metadata": {
      "tags": null
     },
     "name": "stderr",
     "output_type": "stream",
     "text": [
      "\r",
      " 72%|███████▏  | 36/50 [30:34<12:46, 54.75s/it]"
     ]
    },
    {
     "metadata": {
      "tags": null
     },
     "name": "stdout",
     "output_type": "stream",
     "text": [
      "{'n_estimators': 100, 'min_samples_split': 60, 'min_samples_leaf': 2, 'max_features': 'sqrt', 'max_depth': None}: 0.5734225525035258\n"
     ]
    },
    {
     "metadata": {
      "tags": null
     },
     "name": "stderr",
     "output_type": "stream",
     "text": [
      "\r",
      " 74%|███████▍  | 37/50 [31:18<11:08, 51.43s/it]"
     ]
    },
    {
     "metadata": {
      "tags": null
     },
     "name": "stdout",
     "output_type": "stream",
     "text": [
      "{'n_estimators': 400, 'min_samples_split': 60, 'min_samples_leaf': 4, 'max_features': 'sqrt', 'max_depth': 10}: 0.5711771850119203\n"
     ]
    },
    {
     "metadata": {
      "tags": null
     },
     "name": "stderr",
     "output_type": "stream",
     "text": [
      "\r",
      " 76%|███████▌  | 38/50 [32:05<10:03, 50.29s/it]"
     ]
    },
    {
     "metadata": {
      "tags": null
     },
     "name": "stdout",
     "output_type": "stream",
     "text": [
      "{'n_estimators': 400, 'min_samples_split': 60, 'min_samples_leaf': 1, 'max_features': 'sqrt', 'max_depth': 30}: 0.5700398886557456\n"
     ]
    },
    {
     "metadata": {
      "tags": null
     },
     "name": "stderr",
     "output_type": "stream",
     "text": [
      "\r",
      " 78%|███████▊  | 39/50 [32:58<09:21, 51.07s/it]"
     ]
    },
    {
     "metadata": {
      "tags": null
     },
     "name": "stdout",
     "output_type": "stream",
     "text": [
      "{'n_estimators': 600, 'min_samples_split': 10, 'min_samples_leaf': 1, 'max_features': 'sqrt', 'max_depth': 10}: 0.570924543628796\n"
     ]
    },
    {
     "metadata": {
      "tags": null
     },
     "name": "stderr",
     "output_type": "stream",
     "text": [
      "\r",
      " 80%|████████  | 40/50 [33:58<08:56, 53.64s/it]"
     ]
    },
    {
     "metadata": {
      "tags": null
     },
     "name": "stdout",
     "output_type": "stream",
     "text": [
      "{'n_estimators': 800, 'min_samples_split': 5, 'min_samples_leaf': 4, 'max_features': 'sqrt', 'max_depth': 40}: 0.5645689246865137\n"
     ]
    },
    {
     "metadata": {
      "tags": null
     },
     "name": "stderr",
     "output_type": "stream",
     "text": [
      "\r",
      " 82%|████████▏ | 41/50 [34:59<08:23, 55.96s/it]"
     ]
    },
    {
     "metadata": {
      "tags": null
     },
     "name": "stdout",
     "output_type": "stream",
     "text": [
      "{'n_estimators': 1000, 'min_samples_split': 40, 'min_samples_leaf': 2, 'max_features': 'sqrt', 'max_depth': 10}: 0.5768068965699725\n"
     ]
    },
    {
     "metadata": {
      "tags": null
     },
     "name": "stderr",
     "output_type": "stream",
     "text": [
      "\r",
      " 84%|████████▍ | 42/50 [35:42<06:57, 52.16s/it]"
     ]
    },
    {
     "metadata": {
      "tags": null
     },
     "name": "stdout",
     "output_type": "stream",
     "text": [
      "{'n_estimators': 200, 'min_samples_split': 50, 'min_samples_leaf': 2, 'max_features': None, 'max_depth': 50}: 0.5539175158165466\n"
     ]
    },
    {
     "metadata": {
      "tags": null
     },
     "name": "stderr",
     "output_type": "stream",
     "text": [
      "\r",
      " 86%|████████▌ | 43/50 [36:26<05:47, 49.58s/it]"
     ]
    },
    {
     "metadata": {
      "tags": null
     },
     "name": "stdout",
     "output_type": "stream",
     "text": [
      "{'n_estimators': 400, 'min_samples_split': 20, 'min_samples_leaf': 2, 'max_features': 'log2', 'max_depth': 10}: 0.5698419668348649\n"
     ]
    },
    {
     "metadata": {
      "tags": null
     },
     "name": "stderr",
     "output_type": "stream",
     "text": [
      "\r",
      " 88%|████████▊ | 44/50 [37:25<05:14, 52.44s/it]"
     ]
    },
    {
     "metadata": {
      "tags": null
     },
     "name": "stdout",
     "output_type": "stream",
     "text": [
      "{'n_estimators': 800, 'min_samples_split': 5, 'min_samples_leaf': 1, 'max_features': 'log2', 'max_depth': 100}: 0.5587813982594523\n"
     ]
    },
    {
     "metadata": {
      "tags": null
     },
     "name": "stderr",
     "output_type": "stream",
     "text": [
      "\r",
      " 90%|█████████ | 45/50 [38:31<04:42, 56.40s/it]"
     ]
    },
    {
     "metadata": {
      "tags": null
     },
     "name": "stdout",
     "output_type": "stream",
     "text": [
      "{'n_estimators': 1200, 'min_samples_split': 5, 'min_samples_leaf': 4, 'max_features': 'sqrt', 'max_depth': 20}: 0.5678466277879061\n"
     ]
    },
    {
     "metadata": {
      "tags": null
     },
     "name": "stderr",
     "output_type": "stream",
     "text": [
      "\r",
      " 92%|█████████▏| 46/50 [39:05<03:18, 49.64s/it]"
     ]
    },
    {
     "metadata": {
      "tags": null
     },
     "name": "stdout",
     "output_type": "stream",
     "text": [
      "{'n_estimators': 100, 'min_samples_split': 30, 'min_samples_leaf': 1, 'max_features': 'log2', 'max_depth': 100}: 0.555132413137987\n"
     ]
    },
    {
     "metadata": {
      "tags": null
     },
     "name": "stderr",
     "output_type": "stream",
     "text": [
      "\r",
      " 94%|█████████▍| 47/50 [40:04<02:37, 52.50s/it]"
     ]
    },
    {
     "metadata": {
      "tags": null
     },
     "name": "stdout",
     "output_type": "stream",
     "text": [
      "{'n_estimators': 1000, 'min_samples_split': 5, 'min_samples_leaf': 2, 'max_features': 'sqrt', 'max_depth': 10}: 0.5611334067161118\n"
     ]
    },
    {
     "metadata": {
      "tags": null
     },
     "name": "stderr",
     "output_type": "stream",
     "text": [
      "\r",
      " 96%|█████████▌| 48/50 [41:41<02:11, 65.98s/it]"
     ]
    },
    {
     "metadata": {
      "tags": null
     },
     "name": "stdout",
     "output_type": "stream",
     "text": [
      "{'n_estimators': 1000, 'min_samples_split': 5, 'min_samples_leaf': 1, 'max_features': None, 'max_depth': 80}: 0.5435956017961139\n"
     ]
    },
    {
     "metadata": {
      "tags": null
     },
     "name": "stderr",
     "output_type": "stream",
     "text": [
      "\r",
      " 98%|█████████▊| 49/50 [42:34<01:02, 62.12s/it]"
     ]
    },
    {
     "metadata": {
      "tags": null
     },
     "name": "stdout",
     "output_type": "stream",
     "text": [
      "{'n_estimators': 800, 'min_samples_split': 50, 'min_samples_leaf': 1, 'max_features': 'sqrt', 'max_depth': 60}: 0.574612702982322\n"
     ]
    },
    {
     "metadata": {
      "tags": null
     },
     "name": "stderr",
     "output_type": "stream",
     "text": [
      "100%|██████████| 50/50 [43:52<00:00, 52.65s/it]\n"
     ]
    },
    {
     "metadata": {
      "tags": null
     },
     "name": "stdout",
     "output_type": "stream",
     "text": [
      "{'n_estimators': 1000, 'min_samples_split': 50, 'min_samples_leaf': 2, 'max_features': None, 'max_depth': 20}: 0.5560972820147807\n",
      "\n",
      "\n",
      "Starting parameter tuning for SVC\n"
     ]
    },
    {
     "metadata": {
      "tags": null
     },
     "name": "stderr",
     "output_type": "stream",
     "text": [
      "  2%|▏         | 1/50 [00:38<31:02, 38.01s/it]"
     ]
    },
    {
     "metadata": {
      "tags": null
     },
     "name": "stdout",
     "output_type": "stream",
     "text": [
      "{'kernel': 'rbf', 'gamma': 0.01, 'C': 0.001}: 0.361496968991366\n",
      "Best score improved from -inf to 0.361496968991366\n"
     ]
    },
    {
     "metadata": {
      "tags": null
     },
     "name": "stderr",
     "output_type": "stream",
     "text": [
      "\r",
      "  4%|▍         | 2/50 [01:14<29:30, 36.89s/it]"
     ]
    },
    {
     "metadata": {
      "tags": null
     },
     "name": "stdout",
     "output_type": "stream",
     "text": [
      "{'kernel': 'rbf', 'gamma': 0.01, 'C': 1}: 0.5688744850195938\n",
      "Best score improved from 0.361496968991366 to 0.5688744850195938\n"
     ]
    },
    {
     "metadata": {
      "tags": null
     },
     "name": "stderr",
     "output_type": "stream",
     "text": [
      "\r",
      "  6%|▌         | 3/50 [01:48<27:57, 35.69s/it]"
     ]
    },
    {
     "metadata": {
      "tags": null
     },
     "name": "stdout",
     "output_type": "stream",
     "text": [
      "{'kernel': 'linear', 'gamma': 0.1, 'C': 1}: 0.5676989471511694\n"
     ]
    },
    {
     "metadata": {
      "tags": null
     },
     "name": "stderr",
     "output_type": "stream",
     "text": [
      "\r",
      "  8%|▊         | 4/50 [02:22<26:59, 35.22s/it]"
     ]
    },
    {
     "metadata": {
      "tags": null
     },
     "name": "stdout",
     "output_type": "stream",
     "text": [
      "{'kernel': 'rbf', 'gamma': 0.1, 'C': 0.001}: 0.361496968991366\n"
     ]
    },
    {
     "metadata": {
      "tags": null
     },
     "name": "stderr",
     "output_type": "stream",
     "text": [
      "\r",
      " 10%|█         | 5/50 [02:56<25:52, 34.51s/it]"
     ]
    },
    {
     "metadata": {
      "tags": null
     },
     "name": "stdout",
     "output_type": "stream",
     "text": [
      "{'kernel': 'rbf', 'gamma': 100, 'C': 0.001}: 0.361496968991366\n"
     ]
    },
    {
     "metadata": {
      "tags": null
     },
     "name": "stderr",
     "output_type": "stream",
     "text": [
      "\r",
      " 12%|█▏        | 6/50 [03:30<25:21, 34.58s/it]"
     ]
    },
    {
     "metadata": {
      "tags": null
     },
     "name": "stdout",
     "output_type": "stream",
     "text": [
      "{'kernel': 'linear', 'gamma': 10, 'C': 0.001}: 0.5198892246386206\n"
     ]
    },
    {
     "metadata": {
      "tags": null
     },
     "name": "stderr",
     "output_type": "stream",
     "text": [
      "\r",
      " 14%|█▍        | 7/50 [04:05<24:41, 34.45s/it]"
     ]
    },
    {
     "metadata": {
      "tags": null
     },
     "name": "stdout",
     "output_type": "stream",
     "text": [
      "{'kernel': 'rbf', 'gamma': 100, 'C': 1}: 0.361496968991366\n"
     ]
    },
    {
     "metadata": {
      "tags": null
     },
     "name": "stderr",
     "output_type": "stream",
     "text": [
      "\r",
      " 16%|█▌        | 8/50 [04:38<23:54, 34.16s/it]"
     ]
    },
    {
     "metadata": {
      "tags": null
     },
     "name": "stdout",
     "output_type": "stream",
     "text": [
      "{'kernel': 'linear', 'gamma': 1, 'C': 1}: 0.5676989471511694\n"
     ]
    },
    {
     "metadata": {
      "tags": null
     },
     "name": "stderr",
     "output_type": "stream",
     "text": [
      "\r",
      " 18%|█▊        | 9/50 [05:14<23:48, 34.84s/it]"
     ]
    },
    {
     "metadata": {
      "tags": null
     },
     "name": "stdout",
     "output_type": "stream",
     "text": [
      "{'kernel': 'rbf', 'gamma': 10, 'C': 0.001}: 0.361496968991366\n"
     ]
    },
    {
     "metadata": {
      "tags": null
     },
     "name": "stderr",
     "output_type": "stream",
     "text": [
      "\r",
      " 20%|██        | 10/50 [05:52<23:45, 35.63s/it]"
     ]
    },
    {
     "metadata": {
      "tags": null
     },
     "name": "stdout",
     "output_type": "stream",
     "text": [
      "{'kernel': 'rbf', 'gamma': 10, 'C': 1}: 0.361496968991366\n"
     ]
    },
    {
     "metadata": {
      "tags": null
     },
     "name": "stderr",
     "output_type": "stream",
     "text": [
      "\r",
      " 22%|██▏       | 11/50 [06:27<22:58, 35.35s/it]"
     ]
    },
    {
     "metadata": {
      "tags": null
     },
     "name": "stdout",
     "output_type": "stream",
     "text": [
      "{'kernel': 'rbf', 'gamma': 1, 'C': 0.1}: 0.361496968991366\n"
     ]
    },
    {
     "metadata": {
      "tags": null
     },
     "name": "stderr",
     "output_type": "stream",
     "text": [
      "\r",
      " 24%|██▍       | 12/50 [07:00<21:57, 34.66s/it]"
     ]
    },
    {
     "metadata": {
      "tags": null
     },
     "name": "stdout",
     "output_type": "stream",
     "text": [
      "{'kernel': 'linear', 'gamma': 0.01, 'C': 0.01}: 0.5676843345407976\n"
     ]
    },
    {
     "metadata": {
      "tags": null
     },
     "name": "stderr",
     "output_type": "stream",
     "text": [
      "\r",
      " 26%|██▌       | 13/50 [07:32<20:55, 33.93s/it]"
     ]
    },
    {
     "metadata": {
      "tags": null
     },
     "name": "stdout",
     "output_type": "stream",
     "text": [
      "{'kernel': 'linear', 'gamma': 1, 'C': 0.001}: 0.5198892246386206\n"
     ]
    },
    {
     "metadata": {
      "tags": null
     },
     "name": "stderr",
     "output_type": "stream",
     "text": [
      "\r",
      " 28%|██▊       | 14/50 [08:05<20:16, 33.79s/it]"
     ]
    },
    {
     "metadata": {
      "tags": null
     },
     "name": "stdout",
     "output_type": "stream",
     "text": [
      "{'kernel': 'rbf', 'gamma': 0.01, 'C': 100}: 0.4990890701114236\n"
     ]
    },
    {
     "metadata": {
      "tags": null
     },
     "name": "stderr",
     "output_type": "stream",
     "text": [
      "\r",
      " 30%|███       | 15/50 [08:38<19:26, 33.33s/it]"
     ]
    },
    {
     "metadata": {
      "tags": null
     },
     "name": "stdout",
     "output_type": "stream",
     "text": [
      "{'kernel': 'linear', 'gamma': 0.01, 'C': 0.001}: 0.5198892246386206\n"
     ]
    },
    {
     "metadata": {
      "tags": null
     },
     "name": "stderr",
     "output_type": "stream",
     "text": [
      "\r",
      " 32%|███▏      | 16/50 [09:10<18:44, 33.08s/it]"
     ]
    },
    {
     "metadata": {
      "tags": null
     },
     "name": "stdout",
     "output_type": "stream",
     "text": [
      "{'kernel': 'rbf', 'gamma': 0.1, 'C': 10}: 0.4497739973592784\n"
     ]
    },
    {
     "metadata": {
      "tags": null
     },
     "name": "stderr",
     "output_type": "stream",
     "text": [
      "\r",
      " 34%|███▍      | 17/50 [09:44<18:20, 33.34s/it]"
     ]
    },
    {
     "metadata": {
      "tags": null
     },
     "name": "stdout",
     "output_type": "stream",
     "text": [
      "{'kernel': 'linear', 'gamma': 0.1, 'C': 0.1}: 0.564236069399646\n"
     ]
    },
    {
     "metadata": {
      "tags": null
     },
     "name": "stderr",
     "output_type": "stream",
     "text": [
      "\r",
      " 36%|███▌      | 18/50 [10:20<18:11, 34.12s/it]"
     ]
    },
    {
     "metadata": {
      "tags": null
     },
     "name": "stdout",
     "output_type": "stream",
     "text": [
      "{'kernel': 'rbf', 'gamma': 1, 'C': 1}: 0.3671002534881075\n"
     ]
    },
    {
     "metadata": {
      "tags": null
     },
     "name": "stderr",
     "output_type": "stream",
     "text": [
      "\r",
      " 38%|███▊      | 19/50 [10:52<17:21, 33.58s/it]"
     ]
    },
    {
     "metadata": {
      "tags": null
     },
     "name": "stdout",
     "output_type": "stream",
     "text": [
      "{'kernel': 'rbf', 'gamma': 0.1, 'C': 0.01}: 0.361496968991366\n"
     ]
    },
    {
     "metadata": {
      "tags": null
     },
     "name": "stderr",
     "output_type": "stream",
     "text": [
      "\r",
      " 40%|████      | 20/50 [11:24<16:30, 33.03s/it]"
     ]
    },
    {
     "metadata": {
      "tags": null
     },
     "name": "stdout",
     "output_type": "stream",
     "text": [
      "{'kernel': 'linear', 'gamma': 0.1, 'C': 0.01}: 0.5676843345407976\n"
     ]
    },
    {
     "metadata": {
      "tags": null
     },
     "name": "stderr",
     "output_type": "stream",
     "text": [
      "\r",
      " 42%|████▏     | 21/50 [11:57<15:55, 32.95s/it]"
     ]
    },
    {
     "metadata": {
      "tags": null
     },
     "name": "stdout",
     "output_type": "stream",
     "text": [
      "{'kernel': 'rbf', 'gamma': 1, 'C': 100}: 0.36920148600126473\n"
     ]
    },
    {
     "metadata": {
      "tags": null
     },
     "name": "stderr",
     "output_type": "stream",
     "text": [
      "\r",
      " 44%|████▍     | 22/50 [13:03<20:04, 43.01s/it]"
     ]
    },
    {
     "metadata": {
      "tags": null
     },
     "name": "stdout",
     "output_type": "stream",
     "text": [
      "{'kernel': 'linear', 'gamma': 0.1, 'C': 100}: 0.5663382346326143\n"
     ]
    },
    {
     "metadata": {
      "tags": null
     },
     "name": "stderr",
     "output_type": "stream",
     "text": [
      "\r",
      " 46%|████▌     | 23/50 [13:35<17:51, 39.70s/it]"
     ]
    },
    {
     "metadata": {
      "tags": null
     },
     "name": "stdout",
     "output_type": "stream",
     "text": [
      "{'kernel': 'linear', 'gamma': 0.01, 'C': 0.1}: 0.564236069399646\n"
     ]
    },
    {
     "metadata": {
      "tags": null
     },
     "name": "stderr",
     "output_type": "stream",
     "text": [
      "\r",
      " 48%|████▊     | 24/50 [14:09<16:25, 37.90s/it]"
     ]
    },
    {
     "metadata": {
      "tags": null
     },
     "name": "stdout",
     "output_type": "stream",
     "text": [
      "{'kernel': 'rbf', 'gamma': 10, 'C': 10}: 0.361496968991366\n"
     ]
    },
    {
     "metadata": {
      "tags": null
     },
     "name": "stderr",
     "output_type": "stream",
     "text": [
      "\r",
      " 50%|█████     | 25/50 [15:18<19:44, 47.37s/it]"
     ]
    },
    {
     "metadata": {
      "tags": null
     },
     "name": "stdout",
     "output_type": "stream",
     "text": [
      "{'kernel': 'linear', 'gamma': 1, 'C': 100}: 0.5663382346326143\n"
     ]
    },
    {
     "metadata": {
      "tags": null
     },
     "name": "stderr",
     "output_type": "stream",
     "text": [
      "\r",
      " 52%|█████▏    | 26/50 [15:56<17:44, 44.34s/it]"
     ]
    },
    {
     "metadata": {
      "tags": null
     },
     "name": "stdout",
     "output_type": "stream",
     "text": [
      "{'kernel': 'rbf', 'gamma': 100, 'C': 100}: 0.361496968991366\n"
     ]
    },
    {
     "metadata": {
      "tags": null
     },
     "name": "stderr",
     "output_type": "stream",
     "text": [
      "\r",
      " 54%|█████▍    | 27/50 [16:30<15:47, 41.21s/it]"
     ]
    },
    {
     "metadata": {
      "tags": null
     },
     "name": "stdout",
     "output_type": "stream",
     "text": [
      "{'kernel': 'rbf', 'gamma': 10, 'C': 0.01}: 0.361496968991366\n"
     ]
    },
    {
     "metadata": {
      "tags": null
     },
     "name": "stderr",
     "output_type": "stream",
     "text": [
      "\r",
      " 56%|█████▌    | 28/50 [17:05<14:28, 39.49s/it]"
     ]
    },
    {
     "metadata": {
      "tags": null
     },
     "name": "stdout",
     "output_type": "stream",
     "text": [
      "{'kernel': 'rbf', 'gamma': 1, 'C': 0.001}: 0.361496968991366\n"
     ]
    },
    {
     "metadata": {
      "tags": null
     },
     "name": "stderr",
     "output_type": "stream",
     "text": [
      "\r",
      " 58%|█████▊    | 29/50 [17:40<13:17, 37.99s/it]"
     ]
    },
    {
     "metadata": {
      "tags": null
     },
     "name": "stdout",
     "output_type": "stream",
     "text": [
      "{'kernel': 'rbf', 'gamma': 0.1, 'C': 0.1}: 0.5212772969382976\n"
     ]
    },
    {
     "metadata": {
      "tags": null
     },
     "name": "stderr",
     "output_type": "stream",
     "text": [
      "\r",
      " 60%|██████    | 30/50 [18:14<12:20, 37.01s/it]"
     ]
    },
    {
     "metadata": {
      "tags": null
     },
     "name": "stdout",
     "output_type": "stream",
     "text": [
      "{'kernel': 'rbf', 'gamma': 1, 'C': 0.01}: 0.361496968991366\n"
     ]
    },
    {
     "metadata": {
      "tags": null
     },
     "name": "stderr",
     "output_type": "stream",
     "text": [
      "\r",
      " 62%|██████▏   | 31/50 [18:48<11:24, 36.03s/it]"
     ]
    },
    {
     "metadata": {
      "tags": null
     },
     "name": "stdout",
     "output_type": "stream",
     "text": [
      "{'kernel': 'rbf', 'gamma': 0.01, 'C': 0.1}: 0.5363270419948826\n"
     ]
    },
    {
     "metadata": {
      "tags": null
     },
     "name": "stderr",
     "output_type": "stream",
     "text": [
      "\r",
      " 64%|██████▍   | 32/50 [19:21<10:30, 35.04s/it]"
     ]
    },
    {
     "metadata": {
      "tags": null
     },
     "name": "stdout",
     "output_type": "stream",
     "text": [
      "{'kernel': 'linear', 'gamma': 10, 'C': 1}: 0.5676989471511694\n"
     ]
    },
    {
     "metadata": {
      "tags": null
     },
     "name": "stderr",
     "output_type": "stream",
     "text": [
      "\r",
      " 66%|██████▌   | 33/50 [19:54<09:45, 34.47s/it]"
     ]
    },
    {
     "metadata": {
      "tags": null
     },
     "name": "stdout",
     "output_type": "stream",
     "text": [
      "{'kernel': 'linear', 'gamma': 0.1, 'C': 0.001}: 0.5198892246386206\n"
     ]
    },
    {
     "metadata": {
      "tags": null
     },
     "name": "stderr",
     "output_type": "stream",
     "text": [
      "\r",
      " 68%|██████▊   | 34/50 [20:35<09:42, 36.38s/it]"
     ]
    },
    {
     "metadata": {
      "tags": null
     },
     "name": "stdout",
     "output_type": "stream",
     "text": [
      "{'kernel': 'linear', 'gamma': 1, 'C': 10}: 0.5674873454397279\n"
     ]
    },
    {
     "metadata": {
      "tags": null
     },
     "name": "stderr",
     "output_type": "stream",
     "text": [
      "\r",
      " 70%|███████   | 35/50 [21:13<09:12, 36.80s/it]"
     ]
    },
    {
     "metadata": {
      "tags": null
     },
     "name": "stdout",
     "output_type": "stream",
     "text": [
      "{'kernel': 'linear', 'gamma': 0.1, 'C': 10}: 0.5674873454397279\n"
     ]
    },
    {
     "metadata": {
      "tags": null
     },
     "name": "stderr",
     "output_type": "stream",
     "text": [
      "\r",
      " 72%|███████▏  | 36/50 [21:46<08:20, 35.76s/it]"
     ]
    },
    {
     "metadata": {
      "tags": null
     },
     "name": "stdout",
     "output_type": "stream",
     "text": [
      "{'kernel': 'linear', 'gamma': 10, 'C': 0.1}: 0.564236069399646\n"
     ]
    },
    {
     "metadata": {
      "tags": null
     },
     "name": "stderr",
     "output_type": "stream",
     "text": [
      "\r",
      " 74%|███████▍  | 37/50 [22:57<10:04, 46.53s/it]"
     ]
    },
    {
     "metadata": {
      "tags": null
     },
     "name": "stdout",
     "output_type": "stream",
     "text": [
      "{'kernel': 'linear', 'gamma': 0.01, 'C': 100}: 0.5663382346326143\n"
     ]
    },
    {
     "metadata": {
      "tags": null
     },
     "name": "stderr",
     "output_type": "stream",
     "text": [
      "\r",
      " 76%|███████▌  | 38/50 [23:33<08:38, 43.21s/it]"
     ]
    },
    {
     "metadata": {
      "tags": null
     },
     "name": "stdout",
     "output_type": "stream",
     "text": [
      "{'kernel': 'rbf', 'gamma': 100, 'C': 0.1}: 0.361496968991366\n"
     ]
    },
    {
     "metadata": {
      "tags": null
     },
     "name": "stderr",
     "output_type": "stream",
     "text": [
      "\r",
      " 78%|███████▊  | 39/50 [24:08<07:28, 40.79s/it]"
     ]
    },
    {
     "metadata": {
      "tags": null
     },
     "name": "stdout",
     "output_type": "stream",
     "text": [
      "{'kernel': 'linear', 'gamma': 1, 'C': 0.01}: 0.5676843345407976\n"
     ]
    },
    {
     "metadata": {
      "tags": null
     },
     "name": "stderr",
     "output_type": "stream",
     "text": [
      "\r",
      " 80%|████████  | 40/50 [24:42<06:28, 38.83s/it]"
     ]
    },
    {
     "metadata": {
      "tags": null
     },
     "name": "stdout",
     "output_type": "stream",
     "text": [
      "{'kernel': 'linear', 'gamma': 100, 'C': 0.001}: 0.5198892246386206\n"
     ]
    },
    {
     "metadata": {
      "tags": null
     },
     "name": "stderr",
     "output_type": "stream",
     "text": [
      "\r",
      " 82%|████████▏ | 41/50 [25:19<05:43, 38.18s/it]"
     ]
    },
    {
     "metadata": {
      "tags": null
     },
     "name": "stdout",
     "output_type": "stream",
     "text": [
      "{'kernel': 'linear', 'gamma': 100, 'C': 1}: 0.5676989471511694\n"
     ]
    },
    {
     "metadata": {
      "tags": null
     },
     "name": "stderr",
     "output_type": "stream",
     "text": [
      "\r",
      " 84%|████████▍ | 42/50 [26:34<06:34, 49.28s/it]"
     ]
    },
    {
     "metadata": {
      "tags": null
     },
     "name": "stdout",
     "output_type": "stream",
     "text": [
      "{'kernel': 'linear', 'gamma': 100, 'C': 100}: 0.5663382346326143\n"
     ]
    },
    {
     "metadata": {
      "tags": null
     },
     "name": "stderr",
     "output_type": "stream",
     "text": [
      "\r",
      " 86%|████████▌ | 43/50 [27:23<05:44, 49.21s/it]"
     ]
    },
    {
     "metadata": {
      "tags": null
     },
     "name": "stdout",
     "output_type": "stream",
     "text": [
      "{'kernel': 'linear', 'gamma': 10, 'C': 10}: 0.5674873454397279\n"
     ]
    },
    {
     "metadata": {
      "tags": null
     },
     "name": "stderr",
     "output_type": "stream",
     "text": [
      "\r",
      " 88%|████████▊ | 44/50 [28:10<04:50, 48.36s/it]"
     ]
    },
    {
     "metadata": {
      "tags": null
     },
     "name": "stdout",
     "output_type": "stream",
     "text": [
      "{'kernel': 'linear', 'gamma': 0.01, 'C': 10}: 0.5674873454397279\n"
     ]
    },
    {
     "metadata": {
      "tags": null
     },
     "name": "stderr",
     "output_type": "stream",
     "text": [
      "\r",
      " 90%|█████████ | 45/50 [28:53<03:54, 47.00s/it]"
     ]
    },
    {
     "metadata": {
      "tags": null
     },
     "name": "stdout",
     "output_type": "stream",
     "text": [
      "{'kernel': 'linear', 'gamma': 0.01, 'C': 1}: 0.5676989471511694\n"
     ]
    },
    {
     "metadata": {
      "tags": null
     },
     "name": "stderr",
     "output_type": "stream",
     "text": [
      "\r",
      " 92%|█████████▏| 46/50 [29:38<03:05, 46.26s/it]"
     ]
    },
    {
     "metadata": {
      "tags": null
     },
     "name": "stdout",
     "output_type": "stream",
     "text": [
      "{'kernel': 'rbf', 'gamma': 100, 'C': 0.01}: 0.361496968991366\n"
     ]
    },
    {
     "metadata": {
      "tags": null
     },
     "name": "stderr",
     "output_type": "stream",
     "text": [
      "\r",
      " 94%|█████████▍| 47/50 [30:28<02:21, 47.32s/it]"
     ]
    },
    {
     "metadata": {
      "tags": null
     },
     "name": "stdout",
     "output_type": "stream",
     "text": [
      "{'kernel': 'rbf', 'gamma': 0.01, 'C': 0.01}: 0.361496968991366\n"
     ]
    },
    {
     "metadata": {
      "tags": null
     },
     "name": "stderr",
     "output_type": "stream",
     "text": [
      "\r",
      " 96%|█████████▌| 48/50 [31:13<01:33, 46.65s/it]"
     ]
    },
    {
     "metadata": {
      "tags": null
     },
     "name": "stdout",
     "output_type": "stream",
     "text": [
      "{'kernel': 'rbf', 'gamma': 10, 'C': 0.1}: 0.361496968991366\n"
     ]
    },
    {
     "metadata": {
      "tags": null
     },
     "name": "stderr",
     "output_type": "stream",
     "text": [
      "\r",
      " 98%|█████████▊| 49/50 [31:44<00:42, 42.04s/it]"
     ]
    },
    {
     "metadata": {
      "tags": null
     },
     "name": "stdout",
     "output_type": "stream",
     "text": [
      "{'kernel': 'rbf', 'gamma': 0.1, 'C': 1}: 0.5628105030865749\n"
     ]
    },
    {
     "metadata": {
      "tags": null
     },
     "name": "stderr",
     "output_type": "stream",
     "text": [
      "100%|██████████| 50/50 [32:15<00:00, 38.71s/it]\n"
     ]
    },
    {
     "metadata": {
      "tags": null
     },
     "name": "stdout",
     "output_type": "stream",
     "text": [
      "{'kernel': 'rbf', 'gamma': 0.01, 'C': 10}: 0.5540097293921843\n",
      "\n",
      "\n",
      "Starting parameter tuning for ADA\n"
     ]
    },
    {
     "name": "stderr",
     "output_type": "stream",
     "text": [
      "  2%|▏         | 1/50 [00:36<30:12, 37.00s/it]"
     ]
    },
    {
     "name": "stdout",
     "output_type": "stream",
     "text": [
      "{'n_estimators': 350, 'learning_rate': 0.0002566676263138247, 'algorithm': 'SAMME.R'}: 0.5267574624199912\n",
      "Best score improved from -inf to 0.5267574624199912\n"
     ]
    },
    {
     "name": "stderr",
     "output_type": "stream",
     "text": [
      "\r",
      "  4%|▍         | 2/50 [01:10<27:57, 34.94s/it]"
     ]
    },
    {
     "name": "stdout",
     "output_type": "stream",
     "text": [
      "{'n_estimators': 200, 'learning_rate': 0.0004631073393465007, 'algorithm': 'SAMME.R'}: 0.5267574624199912\n"
     ]
    },
    {
     "name": "stderr",
     "output_type": "stream",
     "text": [
      "\r",
      "  6%|▌         | 3/50 [01:40<25:39, 32.76s/it]"
     ]
    },
    {
     "name": "stdout",
     "output_type": "stream",
     "text": [
      "{'n_estimators': 100, 'learning_rate': 0.41140322275580926, 'algorithm': 'SAMME.R'}: 0.540212944563368\n",
      "Best score improved from 0.5267574624199912 to 0.540212944563368\n"
     ]
    },
    {
     "name": "stderr",
     "output_type": "stream",
     "text": [
      "\r",
      "  8%|▊         | 4/50 [02:10<24:15, 31.64s/it]"
     ]
    },
    {
     "name": "stdout",
     "output_type": "stream",
     "text": [
      "{'n_estimators': 100, 'learning_rate': 0.0002583137408526859, 'algorithm': 'SAMME.R'}: 0.5255809918317559\n"
     ]
    },
    {
     "name": "stderr",
     "output_type": "stream",
     "text": [
      "\r",
      " 10%|█         | 5/50 [02:42<23:44, 31.65s/it]"
     ]
    },
    {
     "name": "stdout",
     "output_type": "stream",
     "text": [
      "{'n_estimators': 200, 'learning_rate': 0.0013045486609227748, 'algorithm': 'SAMME'}: 0.5303772223207128\n"
     ]
    },
    {
     "name": "stderr",
     "output_type": "stream",
     "text": [
      "\r",
      " 12%|█▏        | 6/50 [03:11<22:42, 30.97s/it]"
     ]
    },
    {
     "name": "stdout",
     "output_type": "stream",
     "text": [
      "{'n_estimators': 50, 'learning_rate': 0.35193725330487063, 'algorithm': 'SAMME.R'}: 0.5682422928237464\n",
      "Best score improved from 0.540212944563368 to 0.5682422928237464\n"
     ]
    },
    {
     "name": "stderr",
     "output_type": "stream",
     "text": [
      "\r",
      " 14%|█▍        | 7/50 [03:51<24:18, 33.92s/it]"
     ]
    },
    {
     "name": "stdout",
     "output_type": "stream",
     "text": [
      "{'n_estimators': 350, 'learning_rate': 0.41140322275580926, 'algorithm': 'SAMME.R'}: 0.5159321310729321\n"
     ]
    },
    {
     "name": "stderr",
     "output_type": "stream",
     "text": [
      "\r",
      " 16%|█▌        | 8/50 [04:21<22:46, 32.55s/it]"
     ]
    },
    {
     "name": "stdout",
     "output_type": "stream",
     "text": [
      "{'n_estimators': 100, 'learning_rate': 0.0004631073393465007, 'algorithm': 'SAMME'}: 0.527708651406224\n"
     ]
    },
    {
     "name": "stderr",
     "output_type": "stream",
     "text": [
      "\r",
      " 18%|█▊        | 9/50 [04:50<21:25, 31.35s/it]"
     ]
    },
    {
     "name": "stdout",
     "output_type": "stream",
     "text": [
      "{'n_estimators': 50, 'learning_rate': 0.002571530721027458, 'algorithm': 'SAMME.R'}: 0.521075644238173\n"
     ]
    },
    {
     "name": "stderr",
     "output_type": "stream",
     "text": [
      "\r",
      " 20%|██        | 10/50 [05:18<20:17, 30.45s/it]"
     ]
    },
    {
     "name": "stdout",
     "output_type": "stream",
     "text": [
      "{'n_estimators': 50, 'learning_rate': 0.41140322275580926, 'algorithm': 'SAMME.R'}: 0.5749682610662906\n",
      "Best score improved from 0.5682422928237464 to 0.5749682610662906\n"
     ]
    },
    {
     "name": "stderr",
     "output_type": "stream",
     "text": [
      "\r",
      " 22%|██▏       | 11/50 [05:45<19:09, 29.49s/it]"
     ]
    },
    {
     "name": "stdout",
     "output_type": "stream",
     "text": [
      "{'n_estimators': 10, 'learning_rate': 0.00012299329779415905, 'algorithm': 'SAMME'}: 0.527708651406224\n"
     ]
    },
    {
     "name": "stderr",
     "output_type": "stream",
     "text": [
      "\r",
      " 24%|██▍       | 12/50 [06:15<18:37, 29.40s/it]"
     ]
    },
    {
     "name": "stdout",
     "output_type": "stream",
     "text": [
      "{'n_estimators': 50, 'learning_rate': 0.0002583137408526859, 'algorithm': 'SAMME.R'}: 0.5255809918317559\n"
     ]
    },
    {
     "name": "stderr",
     "output_type": "stream",
     "text": [
      "\r",
      " 26%|██▌       | 13/50 [06:49<18:58, 30.77s/it]"
     ]
    },
    {
     "name": "stdout",
     "output_type": "stream",
     "text": [
      "{'n_estimators': 200, 'learning_rate': 0.04384924314248015, 'algorithm': 'SAMME.R'}: 0.5684392819248162\n"
     ]
    },
    {
     "name": "stderr",
     "output_type": "stream",
     "text": [
      "\r",
      " 28%|██▊       | 14/50 [07:20<18:38, 31.06s/it]"
     ]
    },
    {
     "name": "stdout",
     "output_type": "stream",
     "text": [
      "{'n_estimators': 50, 'learning_rate': 0.0004894718551298529, 'algorithm': 'SAMME.R'}: 0.5255809918317559\n"
     ]
    },
    {
     "name": "stderr",
     "output_type": "stream",
     "text": [
      "\r",
      " 30%|███       | 15/50 [07:57<19:06, 32.76s/it]"
     ]
    },
    {
     "name": "stdout",
     "output_type": "stream",
     "text": [
      "{'n_estimators': 350, 'learning_rate': 0.0033287616164786207, 'algorithm': 'SAMME.R'}: 0.5591761305754815\n"
     ]
    },
    {
     "name": "stderr",
     "output_type": "stream",
     "text": [
      "\r",
      " 32%|███▏      | 16/50 [08:30<18:39, 32.93s/it]"
     ]
    },
    {
     "name": "stdout",
     "output_type": "stream",
     "text": [
      "{'n_estimators': 200, 'learning_rate': 0.01048695683585267, 'algorithm': 'SAMME.R'}: 0.5661820999822718\n"
     ]
    },
    {
     "name": "stderr",
     "output_type": "stream",
     "text": [
      "\r",
      " 34%|███▍      | 17/50 [09:00<17:33, 31.92s/it]"
     ]
    },
    {
     "name": "stdout",
     "output_type": "stream",
     "text": [
      "{'n_estimators': 100, 'learning_rate': 0.6311083515408057, 'algorithm': 'SAMME'}: 0.5662851952890373\n"
     ]
    },
    {
     "name": "stderr",
     "output_type": "stream",
     "text": [
      "\r",
      " 36%|███▌      | 18/50 [09:35<17:35, 32.98s/it]"
     ]
    },
    {
     "name": "stdout",
     "output_type": "stream",
     "text": [
      "{'n_estimators': 350, 'learning_rate': 0.6311083515408057, 'algorithm': 'SAMME'}: 0.5613823238350262\n"
     ]
    },
    {
     "name": "stderr",
     "output_type": "stream",
     "text": [
      "\r",
      " 38%|███▊      | 19/50 [10:08<16:57, 32.82s/it]"
     ]
    },
    {
     "name": "stdout",
     "output_type": "stream",
     "text": [
      "{'n_estimators': 200, 'learning_rate': 0.9174143833298315, 'algorithm': 'SAMME'}: 0.5556476515305866\n"
     ]
    },
    {
     "name": "stderr",
     "output_type": "stream",
     "text": [
      "\r",
      " 40%|████      | 20/50 [10:41<16:29, 33.00s/it]"
     ]
    },
    {
     "name": "stdout",
     "output_type": "stream",
     "text": [
      "{'n_estimators': 100, 'learning_rate': 0.011273213372422462, 'algorithm': 'SAMME.R'}: 0.5591761305754815\n"
     ]
    },
    {
     "name": "stderr",
     "output_type": "stream",
     "text": [
      "\r",
      " 42%|████▏     | 21/50 [11:09<15:14, 31.53s/it]"
     ]
    },
    {
     "name": "stdout",
     "output_type": "stream",
     "text": [
      "{'n_estimators': 10, 'learning_rate': 0.0033287616164786207, 'algorithm': 'SAMME.R'}: 0.5255809918317559\n"
     ]
    },
    {
     "name": "stderr",
     "output_type": "stream",
     "text": [
      "\r",
      " 44%|████▍     | 22/50 [11:38<14:21, 30.75s/it]"
     ]
    },
    {
     "name": "stdout",
     "output_type": "stream",
     "text": [
      "{'n_estimators': 50, 'learning_rate': 0.0004631073393465007, 'algorithm': 'SAMME.R'}: 0.5255809918317559\n"
     ]
    },
    {
     "name": "stderr",
     "output_type": "stream",
     "text": [
      "\r",
      " 46%|████▌     | 23/50 [12:09<13:47, 30.65s/it]"
     ]
    },
    {
     "name": "stdout",
     "output_type": "stream",
     "text": [
      "{'n_estimators': 100, 'learning_rate': 0.0018128823595036272, 'algorithm': 'SAMME.R'}: 0.5222247550452865\n"
     ]
    },
    {
     "name": "stderr",
     "output_type": "stream",
     "text": [
      "\r",
      " 48%|████▊     | 24/50 [12:40<13:19, 30.76s/it]"
     ]
    },
    {
     "name": "stdout",
     "output_type": "stream",
     "text": [
      "{'n_estimators': 100, 'learning_rate': 0.002571530721027458, 'algorithm': 'SAMME.R'}: 0.5269681314116219\n"
     ]
    },
    {
     "name": "stderr",
     "output_type": "stream",
     "text": [
      "\r",
      " 50%|█████     | 25/50 [13:18<13:46, 33.06s/it]"
     ]
    },
    {
     "name": "stdout",
     "output_type": "stream",
     "text": [
      "{'n_estimators': 350, 'learning_rate': 0.9174143833298315, 'algorithm': 'SAMME.R'}: 0.49350792613388295\n"
     ]
    },
    {
     "name": "stderr",
     "output_type": "stream",
     "text": [
      "\r",
      " 52%|█████▏    | 26/50 [14:01<14:27, 36.16s/it]"
     ]
    },
    {
     "name": "stdout",
     "output_type": "stream",
     "text": [
      "{'n_estimators': 500, 'learning_rate': 0.011273213372422462, 'algorithm': 'SAMME.R'}: 0.5765268954057264\n",
      "Best score improved from 0.5749682610662906 to 0.5765268954057264\n"
     ]
    },
    {
     "name": "stderr",
     "output_type": "stream",
     "text": [
      "\r",
      " 54%|█████▍    | 27/50 [14:32<13:12, 34.47s/it]"
     ]
    },
    {
     "name": "stdout",
     "output_type": "stream",
     "text": [
      "{'n_estimators': 50, 'learning_rate': 0.033714929197471814, 'algorithm': 'SAMME.R'}: 0.5603672137740887\n"
     ]
    },
    {
     "name": "stderr",
     "output_type": "stream",
     "text": [
      "\r",
      " 56%|█████▌    | 28/50 [15:05<12:31, 34.15s/it]"
     ]
    },
    {
     "name": "stdout",
     "output_type": "stream",
     "text": [
      "{'n_estimators': 200, 'learning_rate': 0.033714929197471814, 'algorithm': 'SAMME.R'}: 0.5765670023575981\n",
      "Best score improved from 0.5765268954057264 to 0.5765670023575981\n"
     ]
    },
    {
     "name": "stderr",
     "output_type": "stream",
     "text": [
      "\r",
      " 58%|█████▊    | 29/50 [15:37<11:38, 33.26s/it]"
     ]
    },
    {
     "name": "stdout",
     "output_type": "stream",
     "text": [
      "{'n_estimators': 100, 'learning_rate': 0.010087156447247654, 'algorithm': 'SAMME.R'}: 0.5579595530353746\n"
     ]
    },
    {
     "name": "stderr",
     "output_type": "stream",
     "text": [
      "\r",
      " 60%|██████    | 30/50 [16:10<11:08, 33.44s/it]"
     ]
    },
    {
     "name": "stdout",
     "output_type": "stream",
     "text": [
      "{'n_estimators': 200, 'learning_rate': 0.0033287616164786207, 'algorithm': 'SAMME.R'}: 0.55317345677869\n"
     ]
    },
    {
     "name": "stderr",
     "output_type": "stream",
     "text": [
      "\r",
      " 62%|██████▏   | 31/50 [16:39<10:09, 32.08s/it]"
     ]
    },
    {
     "name": "stdout",
     "output_type": "stream",
     "text": [
      "{'n_estimators': 10, 'learning_rate': 0.0013045486609227748, 'algorithm': 'SAMME'}: 0.527708651406224\n"
     ]
    },
    {
     "name": "stderr",
     "output_type": "stream",
     "text": [
      "\r",
      " 64%|██████▍   | 32/50 [17:09<09:24, 31.34s/it]"
     ]
    },
    {
     "name": "stdout",
     "output_type": "stream",
     "text": [
      "{'n_estimators': 50, 'learning_rate': 0.00014853289894720248, 'algorithm': 'SAMME'}: 0.527708651406224\n"
     ]
    },
    {
     "name": "stderr",
     "output_type": "stream",
     "text": [
      "\r",
      " 66%|██████▌   | 33/50 [17:41<08:54, 31.46s/it]"
     ]
    },
    {
     "name": "stdout",
     "output_type": "stream",
     "text": [
      "{'n_estimators': 50, 'learning_rate': 0.0002583137408526859, 'algorithm': 'SAMME'}: 0.527708651406224\n"
     ]
    },
    {
     "name": "stderr",
     "output_type": "stream",
     "text": [
      "\r",
      " 68%|██████▊   | 34/50 [18:21<09:05, 34.09s/it]"
     ]
    },
    {
     "name": "stdout",
     "output_type": "stream",
     "text": [
      "{'n_estimators': 500, 'learning_rate': 0.002571530721027458, 'algorithm': 'SAMME'}: 0.5658202046956158\n"
     ]
    },
    {
     "name": "stderr",
     "output_type": "stream",
     "text": [
      "\r",
      " 70%|███████   | 35/50 [18:54<08:25, 33.67s/it]"
     ]
    },
    {
     "name": "stdout",
     "output_type": "stream",
     "text": [
      "{'n_estimators': 200, 'learning_rate': 0.41140322275580926, 'algorithm': 'SAMME'}: 0.5672236371045202\n"
     ]
    },
    {
     "name": "stderr",
     "output_type": "stream",
     "text": [
      "\r",
      " 72%|███████▏  | 36/50 [19:24<07:38, 32.77s/it]"
     ]
    },
    {
     "name": "stdout",
     "output_type": "stream",
     "text": [
      "{'n_estimators': 100, 'learning_rate': 0.35193725330487063, 'algorithm': 'SAMME.R'}: 0.5599942515353495\n"
     ]
    },
    {
     "name": "stderr",
     "output_type": "stream",
     "text": [
      "\r",
      " 74%|███████▍  | 37/50 [19:55<06:57, 32.08s/it]"
     ]
    },
    {
     "name": "stdout",
     "output_type": "stream",
     "text": [
      "{'n_estimators': 100, 'learning_rate': 0.01048695683585267, 'algorithm': 'SAMME.R'}: 0.5579595530353746\n"
     ]
    },
    {
     "name": "stderr",
     "output_type": "stream",
     "text": [
      "\r",
      " 76%|███████▌  | 38/50 [20:24<06:16, 31.34s/it]"
     ]
    },
    {
     "name": "stdout",
     "output_type": "stream",
     "text": [
      "{'n_estimators': 50, 'learning_rate': 0.002571530721027458, 'algorithm': 'SAMME'}: 0.527708651406224\n"
     ]
    },
    {
     "name": "stderr",
     "output_type": "stream",
     "text": [
      "\r",
      " 78%|███████▊  | 39/50 [20:55<05:41, 31.01s/it]"
     ]
    },
    {
     "name": "stdout",
     "output_type": "stream",
     "text": [
      "{'n_estimators': 100, 'learning_rate': 0.011273213372422462, 'algorithm': 'SAMME'}: 0.5646838410592523\n"
     ]
    },
    {
     "name": "stderr",
     "output_type": "stream",
     "text": [
      "\r",
      " 80%|████████  | 40/50 [21:31<05:26, 32.66s/it]"
     ]
    },
    {
     "name": "stdout",
     "output_type": "stream",
     "text": [
      "{'n_estimators': 200, 'learning_rate': 0.0004894718551298529, 'algorithm': 'SAMME.R'}: 0.521075644238173\n"
     ]
    },
    {
     "name": "stderr",
     "output_type": "stream",
     "text": [
      "\r",
      " 82%|████████▏ | 41/50 [22:12<05:16, 35.18s/it]"
     ]
    },
    {
     "name": "stdout",
     "output_type": "stream",
     "text": [
      "{'n_estimators': 500, 'learning_rate': 0.033714929197471814, 'algorithm': 'SAMME.R'}: 0.5557005056532083\n"
     ]
    },
    {
     "name": "stderr",
     "output_type": "stream",
     "text": [
      "\r",
      " 84%|████████▍ | 42/50 [22:49<04:46, 35.81s/it]"
     ]
    },
    {
     "name": "stdout",
     "output_type": "stream",
     "text": [
      "{'n_estimators': 350, 'learning_rate': 0.00012299329779415905, 'algorithm': 'SAMME.R'}: 0.5255809918317559\n"
     ]
    },
    {
     "name": "stderr",
     "output_type": "stream",
     "text": [
      "\r",
      " 86%|████████▌ | 43/50 [23:31<04:22, 37.43s/it]"
     ]
    },
    {
     "name": "stdout",
     "output_type": "stream",
     "text": [
      "{'n_estimators': 500, 'learning_rate': 0.6311083515408057, 'algorithm': 'SAMME.R'}: 0.495369264434666\n"
     ]
    },
    {
     "name": "stderr",
     "output_type": "stream",
     "text": [
      "\r",
      " 88%|████████▊ | 44/50 [24:06<03:41, 36.84s/it]"
     ]
    },
    {
     "name": "stdout",
     "output_type": "stream",
     "text": [
      "{'n_estimators': 350, 'learning_rate': 0.010087156447247654, 'algorithm': 'SAMME'}: 0.5651351517621127\n"
     ]
    },
    {
     "name": "stderr",
     "output_type": "stream",
     "text": [
      "\r",
      " 90%|█████████ | 45/50 [24:47<03:10, 38.15s/it]"
     ]
    },
    {
     "name": "stdout",
     "output_type": "stream",
     "text": [
      "{'n_estimators': 500, 'learning_rate': 0.0013045486609227748, 'algorithm': 'SAMME'}: 0.5520252786913874\n"
     ]
    },
    {
     "name": "stderr",
     "output_type": "stream",
     "text": [
      "\r",
      " 92%|█████████▏| 46/50 [25:18<02:23, 35.81s/it]"
     ]
    },
    {
     "name": "stdout",
     "output_type": "stream",
     "text": [
      "{'n_estimators': 10, 'learning_rate': 0.011273213372422462, 'algorithm': 'SAMME.R'}: 0.521075644238173\n"
     ]
    },
    {
     "name": "stderr",
     "output_type": "stream",
     "text": [
      "\r",
      " 94%|█████████▍| 47/50 [25:46<01:40, 33.49s/it]"
     ]
    },
    {
     "name": "stdout",
     "output_type": "stream",
     "text": [
      "{'n_estimators': 10, 'learning_rate': 0.0002566676263138247, 'algorithm': 'SAMME'}: 0.527708651406224\n"
     ]
    },
    {
     "name": "stderr",
     "output_type": "stream",
     "text": [
      "\r",
      " 96%|█████████▌| 48/50 [26:18<01:06, 33.25s/it]"
     ]
    },
    {
     "name": "stdout",
     "output_type": "stream",
     "text": [
      "{'n_estimators': 200, 'learning_rate': 0.0004631073393465007, 'algorithm': 'SAMME'}: 0.527708651406224\n"
     ]
    },
    {
     "name": "stderr",
     "output_type": "stream",
     "text": [
      "\r",
      " 98%|█████████▊| 49/50 [26:48<00:32, 32.26s/it]"
     ]
    },
    {
     "name": "stdout",
     "output_type": "stream",
     "text": [
      "{'n_estimators': 100, 'learning_rate': 0.0002566676263138247, 'algorithm': 'SAMME'}: 0.527708651406224\n"
     ]
    },
    {
     "name": "stderr",
     "output_type": "stream",
     "text": [
      "100%|██████████| 50/50 [27:27<00:00, 32.94s/it]\n"
     ]
    },
    {
     "name": "stdout",
     "output_type": "stream",
     "text": [
      "{'n_estimators': 350, 'learning_rate': 0.0013045486609227748, 'algorithm': 'SAMME.R'}: 0.5370921236111735\n",
      "\n",
      "\n",
      "Starting parameter tuning for XGB\n"
     ]
    },
    {
     "name": "stderr",
     "output_type": "stream",
     "text": [
      "  2%|▏         | 1/50 [01:57<1:35:44, 117.23s/it]"
     ]
    },
    {
     "name": "stdout",
     "output_type": "stream",
     "text": [
      "{'subsample': 0.9632314809178825, 'n_estimators': 800, 'max_depth': 4, 'learning_rate': 0.13258719344064257}: 0.512143482736084\n",
      "Best score improved from -inf to 0.512143482736084\n"
     ]
    },
    {
     "name": "stderr",
     "output_type": "stream",
     "text": [
      "\r",
      "  4%|▍         | 2/50 [02:46<1:01:52, 77.35s/it] "
     ]
    },
    {
     "name": "stdout",
     "output_type": "stream",
     "text": [
      "{'subsample': 0.9680757820272262, 'n_estimators': 200, 'max_depth': 8, 'learning_rate': 0.5699577726079624}: 0.5333282221169696\n",
      "Best score improved from 0.512143482736084 to 0.5333282221169696\n"
     ]
    },
    {
     "name": "stderr",
     "output_type": "stream",
     "text": [
      "\r",
      "  6%|▌         | 3/50 [04:09<1:02:38, 79.98s/it]"
     ]
    },
    {
     "name": "stdout",
     "output_type": "stream",
     "text": [
      "{'subsample': 0.8954075750658848, 'n_estimators': 400, 'max_depth': 5, 'learning_rate': 0.02684032016696159}: 0.5368295266016981\n",
      "Best score improved from 0.5333282221169696 to 0.5368295266016981\n"
     ]
    },
    {
     "name": "stderr",
     "output_type": "stream",
     "text": [
      "\r",
      "  8%|▊         | 4/50 [05:16<57:25, 74.91s/it]  "
     ]
    },
    {
     "name": "stdout",
     "output_type": "stream",
     "text": [
      "{'subsample': 0.7124569894027368, 'n_estimators': 400, 'max_depth': 4, 'learning_rate': 0.0018049786945696254}: 0.5482613771971835\n",
      "Best score improved from 0.5368295266016981 to 0.5482613771971835\n"
     ]
    },
    {
     "name": "stderr",
     "output_type": "stream",
     "text": [
      "\r",
      " 10%|█         | 5/50 [08:02<1:20:49, 107.78s/it]"
     ]
    },
    {
     "name": "stdout",
     "output_type": "stream",
     "text": [
      "{'subsample': 0.9632314809178825, 'n_estimators': 1000, 'max_depth': 5, 'learning_rate': 0.06815088175164626}: 0.5137669708700358\n"
     ]
    },
    {
     "name": "stderr",
     "output_type": "stream",
     "text": [
      "\r",
      " 12%|█▏        | 6/50 [10:05<1:22:40, 112.74s/it]"
     ]
    },
    {
     "name": "stdout",
     "output_type": "stream",
     "text": [
      "{'subsample': 0.7033756830063296, 'n_estimators': 1000, 'max_depth': 4, 'learning_rate': 0.12704978870153852}: 0.5303678355872959\n"
     ]
    },
    {
     "name": "stderr",
     "output_type": "stream",
     "text": [
      "\r",
      " 14%|█▍        | 7/50 [11:07<1:08:54, 96.15s/it] "
     ]
    },
    {
     "name": "stdout",
     "output_type": "stream",
     "text": [
      "{'subsample': 0.614948794269934, 'n_estimators': 400, 'max_depth': 4, 'learning_rate': 0.5699577726079624}: 0.4984737859427879\n"
     ]
    },
    {
     "name": "stderr",
     "output_type": "stream",
     "text": [
      "\r",
      " 16%|█▌        | 8/50 [13:01<1:11:14, 101.77s/it]"
     ]
    },
    {
     "name": "stdout",
     "output_type": "stream",
     "text": [
      "{'subsample': 0.9905700183070416, 'n_estimators': 600, 'max_depth': 5, 'learning_rate': 0.07621013454002182}: 0.5158835634924206\n"
     ]
    },
    {
     "name": "stderr",
     "output_type": "stream",
     "text": [
      "\r",
      " 18%|█▊        | 9/50 [13:31<54:14, 79.38s/it]   "
     ]
    },
    {
     "name": "stdout",
     "output_type": "stream",
     "text": [
      "{'subsample': 0.6304517747887591, 'n_estimators': 10, 'max_depth': 5, 'learning_rate': 0.0810754044404809}: 0.5468723721776957\n"
     ]
    },
    {
     "name": "stderr",
     "output_type": "stream",
     "text": [
      "\r",
      " 20%|██        | 10/50 [14:22<47:04, 70.60s/it]"
     ]
    },
    {
     "name": "stdout",
     "output_type": "stream",
     "text": [
      "{'subsample': 0.9607398473685813, 'n_estimators': 200, 'max_depth': 4, 'learning_rate': 0.033824740502579095}: 0.5406252596400892\n"
     ]
    },
    {
     "name": "stderr",
     "output_type": "stream",
     "text": [
      "\r",
      " 22%|██▏       | 11/50 [16:22<55:50, 85.92s/it]"
     ]
    },
    {
     "name": "stdout",
     "output_type": "stream",
     "text": [
      "{'subsample': 0.6419845479822909, 'n_estimators': 800, 'max_depth': 5, 'learning_rate': 0.002550894270850008}: 0.5481939104641901\n"
     ]
    },
    {
     "name": "stderr",
     "output_type": "stream",
     "text": [
      "\r",
      " 24%|██▍       | 12/50 [17:57<56:07, 88.62s/it]"
     ]
    },
    {
     "name": "stdout",
     "output_type": "stream",
     "text": [
      "{'subsample': 0.618698066272185, 'n_estimators': 600, 'max_depth': 5, 'learning_rate': 0.08440189413042316}: 0.5184454934418551\n"
     ]
    },
    {
     "name": "stderr",
     "output_type": "stream",
     "text": [
      "\r",
      " 26%|██▌       | 13/50 [18:42<46:32, 75.48s/it]"
     ]
    },
    {
     "name": "stdout",
     "output_type": "stream",
     "text": [
      "{'subsample': 0.614948794269934, 'n_estimators': 100, 'max_depth': 6, 'learning_rate': 0.005853038263058632}: 0.5427109468230638\n"
     ]
    },
    {
     "name": "stderr",
     "output_type": "stream",
     "text": [
      "\r",
      " 28%|██▊       | 14/50 [19:12<36:57, 61.59s/it]"
     ]
    },
    {
     "name": "stdout",
     "output_type": "stream",
     "text": [
      "{'subsample': 0.6304517747887591, 'n_estimators': 10, 'max_depth': 4, 'learning_rate': 0.020229388086296835}: 0.5389588663948328\n"
     ]
    },
    {
     "name": "stderr",
     "output_type": "stream",
     "text": [
      "\r",
      " 30%|███       | 15/50 [20:37<39:59, 68.55s/it]"
     ]
    },
    {
     "name": "stdout",
     "output_type": "stream",
     "text": [
      "{'subsample': 0.6666043034111473, 'n_estimators': 400, 'max_depth': 6, 'learning_rate': 0.033824740502579095}: 0.5289270877709188\n"
     ]
    },
    {
     "name": "stderr",
     "output_type": "stream",
     "text": [
      "\r",
      " 32%|███▏      | 16/50 [21:37<37:26, 66.07s/it]"
     ]
    },
    {
     "name": "stdout",
     "output_type": "stream",
     "text": [
      "{'subsample': 0.8781386465483189, 'n_estimators': 600, 'max_depth': 6, 'learning_rate': 0.7700871364368529}: 0.5132260595300151\n"
     ]
    },
    {
     "name": "stderr",
     "output_type": "stream",
     "text": [
      "\r",
      " 34%|███▍      | 17/50 [22:15<31:42, 57.65s/it]"
     ]
    },
    {
     "name": "stdout",
     "output_type": "stream",
     "text": [
      "{'subsample': 0.6233721378220499, 'n_estimators': 100, 'max_depth': 4, 'learning_rate': 0.8790403625996874}: 0.43932088075210285\n"
     ]
    },
    {
     "name": "stderr",
     "output_type": "stream",
     "text": [
      "\r",
      " 36%|███▌      | 18/50 [23:05<29:30, 55.31s/it]"
     ]
    },
    {
     "name": "stdout",
     "output_type": "stream",
     "text": [
      "{'subsample': 0.6233721378220499, 'n_estimators': 100, 'max_depth': 8, 'learning_rate': 0.004141817329684559}: 0.5461063578415938\n"
     ]
    },
    {
     "name": "stderr",
     "output_type": "stream",
     "text": [
      "\r",
      " 38%|███▊      | 19/50 [23:46<26:23, 51.10s/it]"
     ]
    },
    {
     "name": "stdout",
     "output_type": "stream",
     "text": [
      "{'subsample': 0.8984529939118093, 'n_estimators': 50, 'max_depth': 8, 'learning_rate': 0.06815088175164626}: 0.5300250246740772\n"
     ]
    },
    {
     "name": "stderr",
     "output_type": "stream",
     "text": [
      "\r",
      " 40%|████      | 20/50 [25:07<29:56, 59.89s/it]"
     ]
    },
    {
     "name": "stdout",
     "output_type": "stream",
     "text": [
      "{'subsample': 0.9905700183070416, 'n_estimators': 200, 'max_depth': 8, 'learning_rate': 0.12704978870153852}: 0.5314505909871483\n"
     ]
    },
    {
     "name": "stderr",
     "output_type": "stream",
     "text": [
      "\r",
      " 42%|████▏     | 21/50 [25:48<26:16, 54.37s/it]"
     ]
    },
    {
     "name": "stdout",
     "output_type": "stream",
     "text": [
      "{'subsample': 0.614948794269934, 'n_estimators': 100, 'max_depth': 6, 'learning_rate': 0.02684032016696159}: 0.5560597880013864\n",
      "Best score improved from 0.5482613771971835 to 0.5560597880013864\n"
     ]
    },
    {
     "name": "stderr",
     "output_type": "stream",
     "text": [
      "\r",
      " 44%|████▍     | 22/50 [26:20<22:10, 47.52s/it]"
     ]
    },
    {
     "name": "stdout",
     "output_type": "stream",
     "text": [
      "{'subsample': 0.9680757820272262, 'n_estimators': 10, 'max_depth': 4, 'learning_rate': 0.033824740502579095}: 0.5471514406221306\n"
     ]
    },
    {
     "name": "stderr",
     "output_type": "stream",
     "text": [
      "\r",
      " 46%|████▌     | 23/50 [27:01<20:30, 45.59s/it]"
     ]
    },
    {
     "name": "stdout",
     "output_type": "stream",
     "text": [
      "{'subsample': 0.7959361211849242, 'n_estimators': 100, 'max_depth': 5, 'learning_rate': 0.7700871364368529}: 0.49027013814837267\n"
     ]
    },
    {
     "name": "stderr",
     "output_type": "stream",
     "text": [
      "\r",
      " 48%|████▊     | 24/50 [27:59<21:26, 49.49s/it]"
     ]
    },
    {
     "name": "stdout",
     "output_type": "stream",
     "text": [
      "{'subsample': 0.9905700183070416, 'n_estimators': 400, 'max_depth': 6, 'learning_rate': 0.5699577726079624}: 0.5058688251964003\n"
     ]
    },
    {
     "name": "stderr",
     "output_type": "stream",
     "text": [
      "\r",
      " 50%|█████     | 25/50 [29:23<24:52, 59.69s/it]"
     ]
    },
    {
     "name": "stdout",
     "output_type": "stream",
     "text": [
      "{'subsample': 0.9607398473685813, 'n_estimators': 400, 'max_depth': 5, 'learning_rate': 0.230900275766295}: 0.5208267271192585\n"
     ]
    },
    {
     "name": "stderr",
     "output_type": "stream",
     "text": [
      "\r",
      " 52%|█████▏    | 26/50 [32:06<36:17, 90.73s/it]"
     ]
    },
    {
     "name": "stdout",
     "output_type": "stream",
     "text": [
      "{'subsample': 0.9504211163253288, 'n_estimators': 1000, 'max_depth': 5, 'learning_rate': 0.08947714369255426}: 0.5125128993165348\n"
     ]
    },
    {
     "name": "stderr",
     "output_type": "stream",
     "text": [
      "\r",
      " 54%|█████▍    | 27/50 [32:48<29:10, 76.13s/it]"
     ]
    },
    {
     "name": "stdout",
     "output_type": "stream",
     "text": [
      "{'subsample': 0.6971076613790066, 'n_estimators': 100, 'max_depth': 5, 'learning_rate': 0.005853038263058632}: 0.5483927650048818\n"
     ]
    },
    {
     "name": "stderr",
     "output_type": "stream",
     "text": [
      "\r",
      " 56%|█████▌    | 28/50 [33:17<22:43, 61.99s/it]"
     ]
    },
    {
     "name": "stdout",
     "output_type": "stream",
     "text": [
      "{'subsample': 0.8781386465483189, 'n_estimators': 10, 'max_depth': 5, 'learning_rate': 0.00118106586876449}: 0.3636246285658341\n"
     ]
    },
    {
     "name": "stderr",
     "output_type": "stream",
     "text": [
      "\r",
      " 58%|█████▊    | 29/50 [33:47<18:20, 52.42s/it]"
     ]
    },
    {
     "name": "stdout",
     "output_type": "stream",
     "text": [
      "{'subsample': 0.6666043034111473, 'n_estimators': 10, 'max_depth': 8, 'learning_rate': 0.020229388086296835}: 0.5281974561224787\n"
     ]
    },
    {
     "name": "stderr",
     "output_type": "stream",
     "text": [
      "\r",
      " 60%|██████    | 30/50 [35:19<21:23, 64.19s/it]"
     ]
    },
    {
     "name": "stdout",
     "output_type": "stream",
     "text": [
      "{'subsample': 0.6666043034111473, 'n_estimators': 600, 'max_depth': 8, 'learning_rate': 0.7700871364368529}: 0.4839994694742636\n"
     ]
    },
    {
     "name": "stderr",
     "output_type": "stream",
     "text": [
      "\r",
      " 62%|██████▏   | 31/50 [37:37<27:22, 86.45s/it]"
     ]
    },
    {
     "name": "stdout",
     "output_type": "stream",
     "text": [
      "{'subsample': 0.9607398473685813, 'n_estimators': 800, 'max_depth': 5, 'learning_rate': 0.020229388086296835}: 0.5264828657386215\n"
     ]
    },
    {
     "name": "stderr",
     "output_type": "stream",
     "text": [
      "\r",
      " 64%|██████▍   | 32/50 [40:06<31:33, 105.20s/it]"
     ]
    },
    {
     "name": "stdout",
     "output_type": "stream",
     "text": [
      "{'subsample': 0.614948794269934, 'n_estimators': 600, 'max_depth': 8, 'learning_rate': 0.005703062636041717}: 0.5379121033956293\n"
     ]
    },
    {
     "name": "stderr",
     "output_type": "stream",
     "text": [
      "\r",
      " 66%|██████▌   | 33/50 [42:03<30:49, 108.82s/it]"
     ]
    },
    {
     "name": "stdout",
     "output_type": "stream",
     "text": [
      "{'subsample': 0.8984529939118093, 'n_estimators': 600, 'max_depth': 6, 'learning_rate': 0.13258719344064257}: 0.5275015214578478\n"
     ]
    },
    {
     "name": "stderr",
     "output_type": "stream",
     "text": [
      "\r",
      " 68%|██████▊   | 34/50 [45:14<35:35, 133.48s/it]"
     ]
    },
    {
     "name": "stdout",
     "output_type": "stream",
     "text": [
      "{'subsample': 0.614948794269934, 'n_estimators': 800, 'max_depth': 8, 'learning_rate': 0.005703062636041717}: 0.5311988823238349\n"
     ]
    },
    {
     "name": "stderr",
     "output_type": "stream",
     "text": [
      "\r",
      " 70%|███████   | 35/50 [47:17<32:35, 130.37s/it]"
     ]
    },
    {
     "name": "stdout",
     "output_type": "stream",
     "text": [
      "{'subsample': 0.7124569894027368, 'n_estimators': 1000, 'max_depth': 4, 'learning_rate': 0.020229388086296835}: 0.5309634664895603\n"
     ]
    },
    {
     "name": "stderr",
     "output_type": "stream",
     "text": [
      "\r",
      " 72%|███████▏  | 36/50 [49:10<29:09, 124.94s/it]"
     ]
    },
    {
     "name": "stdout",
     "output_type": "stream",
     "text": [
      "{'subsample': 0.6419845479822909, 'n_estimators': 600, 'max_depth': 6, 'learning_rate': 0.004141817329684559}: 0.5517617489621011\n"
     ]
    },
    {
     "name": "stderr",
     "output_type": "stream",
     "text": [
      "\r",
      " 74%|███████▍  | 37/50 [49:45<21:13, 97.97s/it] "
     ]
    },
    {
     "name": "stdout",
     "output_type": "stream",
     "text": [
      "{'subsample': 0.8781386465483189, 'n_estimators': 50, 'max_depth': 5, 'learning_rate': 0.005703062636041717}: 0.5458308350554473\n"
     ]
    },
    {
     "name": "stderr",
     "output_type": "stream",
     "text": [
      "\r",
      " 76%|███████▌  | 38/50 [51:23<19:35, 97.96s/it]"
     ]
    },
    {
     "name": "stdout",
     "output_type": "stream",
     "text": [
      "{'subsample': 0.682857925902227, 'n_estimators': 600, 'max_depth': 5, 'learning_rate': 0.037536855386975675}: 0.5356275616719631\n"
     ]
    },
    {
     "name": "stderr",
     "output_type": "stream",
     "text": [
      "\r",
      " 78%|███████▊  | 39/50 [52:49<17:18, 94.42s/it]"
     ]
    },
    {
     "name": "stdout",
     "output_type": "stream",
     "text": [
      "{'subsample': 0.6666043034111473, 'n_estimators': 400, 'max_depth': 6, 'learning_rate': 0.00118106586876449}: 0.5402914716334106\n"
     ]
    },
    {
     "name": "stderr",
     "output_type": "stream",
     "text": [
      "\r",
      " 80%|████████  | 40/50 [55:00<17:34, 105.49s/it]"
     ]
    },
    {
     "name": "stdout",
     "output_type": "stream",
     "text": [
      "{'subsample': 0.6304517747887591, 'n_estimators': 1000, 'max_depth': 5, 'learning_rate': 0.13258719344064257}: 0.5296957150454983\n"
     ]
    },
    {
     "name": "stderr",
     "output_type": "stream",
     "text": [
      "\r",
      " 82%|████████▏ | 41/50 [56:26<14:56, 99.58s/it] "
     ]
    },
    {
     "name": "stdout",
     "output_type": "stream",
     "text": [
      "{'subsample': 0.618698066272185, 'n_estimators': 400, 'max_depth': 6, 'learning_rate': 0.002550894270850008}: 0.5461063578415938\n"
     ]
    },
    {
     "name": "stderr",
     "output_type": "stream",
     "text": [
      "\r",
      " 84%|████████▍ | 42/50 [57:24<11:38, 87.26s/it]"
     ]
    },
    {
     "name": "stdout",
     "output_type": "stream",
     "text": [
      "{'subsample': 0.9680757820272262, 'n_estimators': 600, 'max_depth': 6, 'learning_rate': 0.7458423280793531}: 0.5119747795209127\n"
     ]
    },
    {
     "name": "stderr",
     "output_type": "stream",
     "text": [
      "\r",
      " 86%|████████▌ | 43/50 [58:38<09:41, 83.08s/it]"
     ]
    },
    {
     "name": "stdout",
     "output_type": "stream",
     "text": [
      "{'subsample': 0.614948794269934, 'n_estimators': 400, 'max_depth': 5, 'learning_rate': 0.08440189413042316}: 0.5130146364244947\n"
     ]
    },
    {
     "name": "stderr",
     "output_type": "stream",
     "text": [
      "\r",
      " 88%|████████▊ | 44/50 [1:00:34<09:18, 93.09s/it]"
     ]
    },
    {
     "name": "stdout",
     "output_type": "stream",
     "text": [
      "{'subsample': 0.6304517747887591, 'n_estimators': 800, 'max_depth': 5, 'learning_rate': 0.02684032016696159}: 0.5468742376173176\n"
     ]
    },
    {
     "name": "stderr",
     "output_type": "stream",
     "text": [
      "\r",
      " 90%|█████████ | 45/50 [1:01:24<06:39, 79.99s/it]"
     ]
    },
    {
     "name": "stdout",
     "output_type": "stream",
     "text": [
      "{'subsample': 0.7959361211849242, 'n_estimators': 200, 'max_depth': 4, 'learning_rate': 0.08947714369255426}: 0.535759696978517\n"
     ]
    },
    {
     "name": "stderr",
     "output_type": "stream",
     "text": [
      "\r",
      " 92%|█████████▏| 46/50 [1:02:19<04:50, 72.66s/it]"
     ]
    },
    {
     "name": "stdout",
     "output_type": "stream",
     "text": [
      "{'subsample': 0.6233721378220499, 'n_estimators': 200, 'max_depth': 6, 'learning_rate': 0.0810754044404809}: 0.5534277783804809\n"
     ]
    },
    {
     "name": "stderr",
     "output_type": "stream",
     "text": [
      "\r",
      " 94%|█████████▍| 47/50 [1:04:15<04:17, 85.73s/it]"
     ]
    },
    {
     "name": "stdout",
     "output_type": "stream",
     "text": [
      "{'subsample': 0.8984529939118093, 'n_estimators': 800, 'max_depth': 4, 'learning_rate': 0.004141817329684559}: 0.5610293786895353\n",
      "Best score improved from 0.5560597880013864 to 0.5610293786895353\n"
     ]
    },
    {
     "name": "stderr",
     "output_type": "stream",
     "text": [
      "\r",
      " 96%|█████████▌| 48/50 [1:05:51<02:57, 88.60s/it]"
     ]
    },
    {
     "name": "stdout",
     "output_type": "stream",
     "text": [
      "{'subsample': 0.6419845479822909, 'n_estimators': 600, 'max_depth': 5, 'learning_rate': 0.033824740502579095}: 0.5253592492730077\n"
     ]
    },
    {
     "name": "stderr",
     "output_type": "stream",
     "text": [
      "\r",
      " 98%|█████████▊| 49/50 [1:07:48<01:37, 97.17s/it]"
     ]
    },
    {
     "name": "stdout",
     "output_type": "stream",
     "text": [
      "{'subsample': 0.614948794269934, 'n_estimators': 800, 'max_depth': 5, 'learning_rate': 0.037536855386975675}: 0.5403716855371539\n"
     ]
    },
    {
     "name": "stderr",
     "output_type": "stream",
     "text": [
      "100%|██████████| 50/50 [1:08:27<00:00, 82.15s/it]"
     ]
    },
    {
     "name": "stdout",
     "output_type": "stream",
     "text": [
      "{'subsample': 0.9680757820272262, 'n_estimators': 100, 'max_depth': 4, 'learning_rate': 0.230900275766295}: 0.514031426704099\n",
      "\n",
      "\n"
     ]
    },
    {
     "name": "stderr",
     "output_type": "stream",
     "text": [
      "\n"
     ]
    }
   ],
   "source": [
    "from tqdm import tqdm\n",
    "from sklearn.model_selection import ParameterSampler\n",
    "\n",
    "tscv = expanding_window(500, 100, 100)\n",
    "index_output = tscv.split(train_data)\n",
    "best_param = {}\n",
    "best_score = {}\n",
    "\n",
    "for model_name, params in model_params.items():\n",
    "    print(f\"Starting parameter tuning for {model_name}\")\n",
    "    initializer = params['model']\n",
    "    param_distribution = params['params']\n",
    "    total_eval = 50\n",
    "    param_configs = ParameterSampler(param_distribution, total_eval, random_state=2022)\n",
    "    # training_scores = []\n",
    "    # validation_scores = []\n",
    "    best_so_far = -np.inf\n",
    "\n",
    "    for param in tqdm(param_configs):\n",
    "        train_score_fold = []\n",
    "        dev_score_fold = []\n",
    "        for train_index, val_index in index_output:\n",
    "            training_data = train_data.iloc[train_index, :]\n",
    "            validation_data = train_data.iloc[val_index, :]\n",
    "            validation_data = validation_data.reset_index(drop=True)\n",
    "\n",
    "            processed_training_data = preprocessor.fit_transform(training_data)\n",
    "            processed_validation_data = preprocessor.transform(validation_data)\n",
    "\n",
    "            X_train, y_train = processed_training_data.drop(\"result\", axis=1), processed_training_data[\"result\"]\n",
    "            X_val, y_val = processed_validation_data.drop(\"result\", axis=1), processed_validation_data[\"result\"]\n",
    "\n",
    "            model = Pipeline([\n",
    "                ('standardization', RobustScaler(unit_variance=True)),\n",
    "                (model_name, initializer(**param))\n",
    "            ])\n",
    "\n",
    "            model.fit(X_train, y_train)\n",
    "            val_pred = model.predict(X_val)\n",
    "            train_pred = model.predict(X_train)\n",
    "            dev_score = precision_score(y_val, val_pred, average='micro')\n",
    "            train_score = precision_score(y_train, train_pred, average='micro')\n",
    "            train_score_fold.append(train_score)\n",
    "            dev_score_fold.append(dev_score)\n",
    "        \n",
    "        mean_train_score = np.mean(train_score_fold)\n",
    "        mean_dev_score = np.mean(dev_score_fold)\n",
    "        print(f\"{param}: {mean_dev_score}\")\n",
    "        # training_scores.append(mean_train_score)\n",
    "        # validation_scores.append(mean_dev_score)\n",
    "\n",
    "        if mean_dev_score > best_so_far:\n",
    "            print(f\"Best score improved from {best_so_far} to {mean_dev_score}\")\n",
    "            best_score[model_name] = mean_dev_score\n",
    "            best_param[model_name] = param\n",
    "            best_so_far = mean_dev_score\n",
    "    \n",
    "    print(\"\\n\")\n",
    "    "
   ]
  },
  {
   "cell_type": "code",
   "execution_count": 150,
   "id": "e21ef6e7",
   "metadata": {
    "colab": {
     "base_uri": "https://localhost:8080/"
    },
    "executionInfo": {
     "elapsed": 15,
     "status": "ok",
     "timestamp": 1671261308855,
     "user": {
      "displayName": "Apurba Saha",
      "userId": "15169800888831502649"
     },
     "user_tz": 420
    },
    "id": "dd41a6e8",
    "outputId": "978edcd6-f8eb-4d22-a651-ab6e65e00537"
   },
   "outputs": [
    {
     "data": {
      "text/plain": [
       "{'RF': {'n_estimators': 1000,\n",
       "  'min_samples_split': 40,\n",
       "  'min_samples_leaf': 4,\n",
       "  'max_features': 'log2',\n",
       "  'max_depth': 10},\n",
       " 'SVC': {'kernel': 'rbf', 'gamma': 0.01, 'C': 1},\n",
       " 'ADA': {'n_estimators': 200,\n",
       "  'learning_rate': 0.033714929197471814,\n",
       "  'algorithm': 'SAMME.R'},\n",
       " 'XGB': {'subsample': 0.8984529939118093,\n",
       "  'n_estimators': 800,\n",
       "  'max_depth': 4,\n",
       "  'learning_rate': 0.004141817329684559}}"
      ]
     },
     "execution_count": 150,
     "metadata": {},
     "output_type": "execute_result"
    }
   ],
   "source": [
    "best_param"
   ]
  },
  {
   "cell_type": "code",
   "execution_count": 151,
   "id": "52d51f4b",
   "metadata": {
    "colab": {
     "base_uri": "https://localhost:8080/"
    },
    "executionInfo": {
     "elapsed": 9,
     "status": "ok",
     "timestamp": 1671261308856,
     "user": {
      "displayName": "Apurba Saha",
      "userId": "15169800888831502649"
     },
     "user_tz": 420
    },
    "id": "aff5cd5f",
    "outputId": "fc81ba3b-f9eb-4182-bd46-29c104051524"
   },
   "outputs": [
    {
     "data": {
      "text/plain": [
       "{'RF': 0.5791461578558822,\n",
       " 'SVC': 0.5688744850195938,\n",
       " 'ADA': 0.5765670023575981,\n",
       " 'XGB': 0.5610293786895353}"
      ]
     },
     "execution_count": 151,
     "metadata": {},
     "output_type": "execute_result"
    }
   ],
   "source": [
    "best_score"
   ]
  },
  {
   "cell_type": "markdown",
   "id": "7fd1b727",
   "metadata": {
    "id": "t_sQHOy88b2z"
   },
   "source": [
    "As we can observe, Random Forest performs the best on the validation dataset after hyperparameter tuning. Let's build the final model using Random Forest algorithm with these hypertuned parameter values and evaluate the model on the test data after preprocessing"
   ]
  },
  {
   "cell_type": "code",
   "execution_count": 152,
   "id": "08f6be32",
   "metadata": {
    "executionInfo": {
     "elapsed": 3656,
     "status": "ok",
     "timestamp": 1671261312507,
     "user": {
      "displayName": "Apurba Saha",
      "userId": "15169800888831502649"
     },
     "user_tz": 420
    },
    "id": "r2DaZ2hejXbl"
   },
   "outputs": [],
   "source": [
    "processed_train_data = preprocessor.fit_transform(train_data)\n",
    "processed_test_data = preprocessor.transform(test_data)\n",
    "X_train = processed_train_data.drop(\"result\", axis=1)\n",
    "y_train = processed_train_data[\"result\"]\n",
    "X_test = processed_test_data.drop(\"result\", axis=1)\n",
    "y_test = processed_test_data[\"result\"]"
   ]
  },
  {
   "cell_type": "code",
   "execution_count": 153,
   "id": "50bb4364",
   "metadata": {
    "colab": {
     "base_uri": "https://localhost:8080/",
     "height": 270
    },
    "executionInfo": {
     "elapsed": 5,
     "status": "ok",
     "timestamp": 1671261312513,
     "user": {
      "displayName": "Apurba Saha",
      "userId": "15169800888831502649"
     },
     "user_tz": 420
    },
    "id": "2LRjrBBqkZOQ",
    "outputId": "20660d73-37bb-4bce-f30e-fe817db5d944"
   },
   "outputs": [
    {
     "data": {
      "text/html": [
       "\n",
       "  <div id=\"df-a2f7217f-9293-4c83-86c8-f27dc5baf72e\">\n",
       "    <div class=\"colab-df-container\">\n",
       "      <div>\n",
       "<style scoped>\n",
       "    .dataframe tbody tr th:only-of-type {\n",
       "        vertical-align: middle;\n",
       "    }\n",
       "\n",
       "    .dataframe tbody tr th {\n",
       "        vertical-align: top;\n",
       "    }\n",
       "\n",
       "    .dataframe thead th {\n",
       "        text-align: right;\n",
       "    }\n",
       "</style>\n",
       "<table border=\"1\" class=\"dataframe\">\n",
       "  <thead>\n",
       "    <tr style=\"text-align: right;\">\n",
       "      <th></th>\n",
       "      <th>xg</th>\n",
       "      <th>xga</th>\n",
       "      <th>attendance</th>\n",
       "      <th>hour</th>\n",
       "      <th>match_week</th>\n",
       "      <th>day_sin</th>\n",
       "      <th>day_cos</th>\n",
       "      <th>team_1</th>\n",
       "      <th>team_2</th>\n",
       "      <th>team_3</th>\n",
       "      <th>team_4</th>\n",
       "      <th>num_striker</th>\n",
       "      <th>center_midfielder</th>\n",
       "      <th>gf_rolling</th>\n",
       "      <th>ga_rolling</th>\n",
       "      <th>sh_rolling</th>\n",
       "      <th>sot_rolling</th>\n",
       "      <th>dist_rolling</th>\n",
       "      <th>poss_rolling</th>\n",
       "      <th>fk_rolling</th>\n",
       "    </tr>\n",
       "  </thead>\n",
       "  <tbody>\n",
       "    <tr>\n",
       "      <th>0</th>\n",
       "      <td>2.4</td>\n",
       "      <td>0.4</td>\n",
       "      <td>59378.0</td>\n",
       "      <td>12.0</td>\n",
       "      <td>7.0</td>\n",
       "      <td>-0.781831</td>\n",
       "      <td>0.623490</td>\n",
       "      <td>0.0</td>\n",
       "      <td>1.0</td>\n",
       "      <td>0.0</td>\n",
       "      <td>0.0</td>\n",
       "      <td>3.0</td>\n",
       "      <td>4.0</td>\n",
       "      <td>1.333333</td>\n",
       "      <td>2.333333</td>\n",
       "      <td>15.333333</td>\n",
       "      <td>4.000000</td>\n",
       "      <td>17.933333</td>\n",
       "      <td>56.333333</td>\n",
       "      <td>0.666667</td>\n",
       "    </tr>\n",
       "    <tr>\n",
       "      <th>1</th>\n",
       "      <td>3.5</td>\n",
       "      <td>1.0</td>\n",
       "      <td>39189.0</td>\n",
       "      <td>13.0</td>\n",
       "      <td>9.0</td>\n",
       "      <td>-0.781831</td>\n",
       "      <td>0.623490</td>\n",
       "      <td>0.0</td>\n",
       "      <td>1.0</td>\n",
       "      <td>0.0</td>\n",
       "      <td>0.0</td>\n",
       "      <td>3.0</td>\n",
       "      <td>4.0</td>\n",
       "      <td>0.666667</td>\n",
       "      <td>1.333333</td>\n",
       "      <td>14.666667</td>\n",
       "      <td>3.333333</td>\n",
       "      <td>17.500000</td>\n",
       "      <td>55.000000</td>\n",
       "      <td>0.666667</td>\n",
       "    </tr>\n",
       "    <tr>\n",
       "      <th>2</th>\n",
       "      <td>0.3</td>\n",
       "      <td>1.8</td>\n",
       "      <td>54286.0</td>\n",
       "      <td>14.0</td>\n",
       "      <td>11.0</td>\n",
       "      <td>-0.781831</td>\n",
       "      <td>0.623490</td>\n",
       "      <td>0.0</td>\n",
       "      <td>1.0</td>\n",
       "      <td>0.0</td>\n",
       "      <td>0.0</td>\n",
       "      <td>3.0</td>\n",
       "      <td>4.0</td>\n",
       "      <td>2.333333</td>\n",
       "      <td>0.666667</td>\n",
       "      <td>22.000000</td>\n",
       "      <td>8.000000</td>\n",
       "      <td>17.500000</td>\n",
       "      <td>60.000000</td>\n",
       "      <td>0.333333</td>\n",
       "    </tr>\n",
       "    <tr>\n",
       "      <th>3</th>\n",
       "      <td>2.1</td>\n",
       "      <td>0.7</td>\n",
       "      <td>59530.0</td>\n",
       "      <td>12.0</td>\n",
       "      <td>12.0</td>\n",
       "      <td>-0.974928</td>\n",
       "      <td>-0.222521</td>\n",
       "      <td>0.0</td>\n",
       "      <td>1.0</td>\n",
       "      <td>0.0</td>\n",
       "      <td>0.0</td>\n",
       "      <td>3.0</td>\n",
       "      <td>4.0</td>\n",
       "      <td>2.666667</td>\n",
       "      <td>1.666667</td>\n",
       "      <td>20.333333</td>\n",
       "      <td>8.333333</td>\n",
       "      <td>18.500000</td>\n",
       "      <td>58.000000</td>\n",
       "      <td>0.333333</td>\n",
       "    </tr>\n",
       "    <tr>\n",
       "      <th>4</th>\n",
       "      <td>1.8</td>\n",
       "      <td>0.4</td>\n",
       "      <td>21722.0</td>\n",
       "      <td>14.0</td>\n",
       "      <td>13.0</td>\n",
       "      <td>-0.781831</td>\n",
       "      <td>0.623490</td>\n",
       "      <td>0.0</td>\n",
       "      <td>1.0</td>\n",
       "      <td>0.0</td>\n",
       "      <td>0.0</td>\n",
       "      <td>3.0</td>\n",
       "      <td>4.0</td>\n",
       "      <td>2.666667</td>\n",
       "      <td>1.666667</td>\n",
       "      <td>16.666667</td>\n",
       "      <td>7.333333</td>\n",
       "      <td>17.833333</td>\n",
       "      <td>51.000000</td>\n",
       "      <td>0.333333</td>\n",
       "    </tr>\n",
       "  </tbody>\n",
       "</table>\n",
       "</div>\n",
       "      <button class=\"colab-df-convert\" onclick=\"convertToInteractive('df-a2f7217f-9293-4c83-86c8-f27dc5baf72e')\"\n",
       "              title=\"Convert this dataframe to an interactive table.\"\n",
       "              style=\"display:none;\">\n",
       "        \n",
       "  <svg xmlns=\"http://www.w3.org/2000/svg\" height=\"24px\"viewBox=\"0 0 24 24\"\n",
       "       width=\"24px\">\n",
       "    <path d=\"M0 0h24v24H0V0z\" fill=\"none\"/>\n",
       "    <path d=\"M18.56 5.44l.94 2.06.94-2.06 2.06-.94-2.06-.94-.94-2.06-.94 2.06-2.06.94zm-11 1L8.5 8.5l.94-2.06 2.06-.94-2.06-.94L8.5 2.5l-.94 2.06-2.06.94zm10 10l.94 2.06.94-2.06 2.06-.94-2.06-.94-.94-2.06-.94 2.06-2.06.94z\"/><path d=\"M17.41 7.96l-1.37-1.37c-.4-.4-.92-.59-1.43-.59-.52 0-1.04.2-1.43.59L10.3 9.45l-7.72 7.72c-.78.78-.78 2.05 0 2.83L4 21.41c.39.39.9.59 1.41.59.51 0 1.02-.2 1.41-.59l7.78-7.78 2.81-2.81c.8-.78.8-2.07 0-2.86zM5.41 20L4 18.59l7.72-7.72 1.47 1.35L5.41 20z\"/>\n",
       "  </svg>\n",
       "      </button>\n",
       "      \n",
       "  <style>\n",
       "    .colab-df-container {\n",
       "      display:flex;\n",
       "      flex-wrap:wrap;\n",
       "      gap: 12px;\n",
       "    }\n",
       "\n",
       "    .colab-df-convert {\n",
       "      background-color: #E8F0FE;\n",
       "      border: none;\n",
       "      border-radius: 50%;\n",
       "      cursor: pointer;\n",
       "      display: none;\n",
       "      fill: #1967D2;\n",
       "      height: 32px;\n",
       "      padding: 0 0 0 0;\n",
       "      width: 32px;\n",
       "    }\n",
       "\n",
       "    .colab-df-convert:hover {\n",
       "      background-color: #E2EBFA;\n",
       "      box-shadow: 0px 1px 2px rgba(60, 64, 67, 0.3), 0px 1px 3px 1px rgba(60, 64, 67, 0.15);\n",
       "      fill: #174EA6;\n",
       "    }\n",
       "\n",
       "    [theme=dark] .colab-df-convert {\n",
       "      background-color: #3B4455;\n",
       "      fill: #D2E3FC;\n",
       "    }\n",
       "\n",
       "    [theme=dark] .colab-df-convert:hover {\n",
       "      background-color: #434B5C;\n",
       "      box-shadow: 0px 1px 3px 1px rgba(0, 0, 0, 0.15);\n",
       "      filter: drop-shadow(0px 1px 2px rgba(0, 0, 0, 0.3));\n",
       "      fill: #FFFFFF;\n",
       "    }\n",
       "  </style>\n",
       "\n",
       "      <script>\n",
       "        const buttonEl =\n",
       "          document.querySelector('#df-a2f7217f-9293-4c83-86c8-f27dc5baf72e button.colab-df-convert');\n",
       "        buttonEl.style.display =\n",
       "          google.colab.kernel.accessAllowed ? 'block' : 'none';\n",
       "\n",
       "        async function convertToInteractive(key) {\n",
       "          const element = document.querySelector('#df-a2f7217f-9293-4c83-86c8-f27dc5baf72e');\n",
       "          const dataTable =\n",
       "            await google.colab.kernel.invokeFunction('convertToInteractive',\n",
       "                                                     [key], {});\n",
       "          if (!dataTable) return;\n",
       "\n",
       "          const docLinkHtml = 'Like what you see? Visit the ' +\n",
       "            '<a target=\"_blank\" href=https://colab.research.google.com/notebooks/data_table.ipynb>data table notebook</a>'\n",
       "            + ' to learn more about interactive tables.';\n",
       "          element.innerHTML = '';\n",
       "          dataTable['output_type'] = 'display_data';\n",
       "          await google.colab.output.renderOutput(dataTable, element);\n",
       "          const docLink = document.createElement('div');\n",
       "          docLink.innerHTML = docLinkHtml;\n",
       "          element.appendChild(docLink);\n",
       "        }\n",
       "      </script>\n",
       "    </div>\n",
       "  </div>\n",
       "  "
      ],
      "text/plain": [
       "    xg  xga  attendance  hour  match_week   day_sin   day_cos  team_1  team_2  \\\n",
       "0  2.4  0.4     59378.0  12.0         7.0 -0.781831  0.623490     0.0     1.0   \n",
       "1  3.5  1.0     39189.0  13.0         9.0 -0.781831  0.623490     0.0     1.0   \n",
       "2  0.3  1.8     54286.0  14.0        11.0 -0.781831  0.623490     0.0     1.0   \n",
       "3  2.1  0.7     59530.0  12.0        12.0 -0.974928 -0.222521     0.0     1.0   \n",
       "4  1.8  0.4     21722.0  14.0        13.0 -0.781831  0.623490     0.0     1.0   \n",
       "\n",
       "   team_3  team_4  num_striker  center_midfielder  gf_rolling  ga_rolling  \\\n",
       "0     0.0     0.0          3.0                4.0    1.333333    2.333333   \n",
       "1     0.0     0.0          3.0                4.0    0.666667    1.333333   \n",
       "2     0.0     0.0          3.0                4.0    2.333333    0.666667   \n",
       "3     0.0     0.0          3.0                4.0    2.666667    1.666667   \n",
       "4     0.0     0.0          3.0                4.0    2.666667    1.666667   \n",
       "\n",
       "   sh_rolling  sot_rolling  dist_rolling  poss_rolling  fk_rolling  \n",
       "0   15.333333     4.000000     17.933333     56.333333    0.666667  \n",
       "1   14.666667     3.333333     17.500000     55.000000    0.666667  \n",
       "2   22.000000     8.000000     17.500000     60.000000    0.333333  \n",
       "3   20.333333     8.333333     18.500000     58.000000    0.333333  \n",
       "4   16.666667     7.333333     17.833333     51.000000    0.333333  "
      ]
     },
     "execution_count": 153,
     "metadata": {},
     "output_type": "execute_result"
    }
   ],
   "source": [
    "X_train.head()"
   ]
  },
  {
   "cell_type": "code",
   "execution_count": 154,
   "id": "9807f432",
   "metadata": {
    "colab": {
     "base_uri": "https://localhost:8080/"
    },
    "executionInfo": {
     "elapsed": 2450,
     "status": "ok",
     "timestamp": 1671261314959,
     "user": {
      "displayName": "Apurba Saha",
      "userId": "15169800888831502649"
     },
     "user_tz": 420
    },
    "id": "odA89I6giL_X",
    "outputId": "06d08fa8-c46b-4bd8-ae38-6679fb2b856f"
   },
   "outputs": [
    {
     "name": "stdout",
     "output_type": "stream",
     "text": [
      "Precision score: 0.546583850931677\n"
     ]
    }
   ],
   "source": [
    "classifier = RandomForestClassifier(**best_param[\"RF\"])\n",
    "best_model = Pipeline([\n",
    "                ('standardizer', RobustScaler(unit_variance=True)),\n",
    "                ('RF', classifier)\n",
    "            ])\n",
    "best_model.fit(X_train, y_train)\n",
    "best_model_results = best_model.predict(X_test)\n",
    "score = precision_score(y_test, best_model_results, average='micro')\n",
    "print(f\"Precision score: {score}\")"
   ]
  },
  {
   "cell_type": "code",
   "execution_count": 156,
   "id": "bea17c8f",
   "metadata": {
    "colab": {
     "base_uri": "https://localhost:8080/"
    },
    "executionInfo": {
     "elapsed": 275,
     "status": "ok",
     "timestamp": 1671261381615,
     "user": {
      "displayName": "Apurba Saha",
      "userId": "15169800888831502649"
     },
     "user_tz": 420
    },
    "id": "z8hU6aK-8Caa",
    "outputId": "8d9a7c7e-4d85-4a01-ece5-567ea8af784e"
   },
   "outputs": [
    {
     "name": "stdout",
     "output_type": "stream",
     "text": [
      "Accuracy score: 0.546583850931677\n"
     ]
    }
   ],
   "source": [
    "accuracy = accuracy_score(y_test, best_model_results)\n",
    "print(f\"Accuracy score: {score}\")"
   ]
  },
  {
   "cell_type": "markdown",
   "id": "c74dbe59",
   "metadata": {
    "id": "_QS5v9Ei9QnK"
   },
   "source": [
    "## Conclusions"
   ]
  },
  {
   "cell_type": "markdown",
   "id": "982c093d",
   "metadata": {
    "id": "F4M4q3jb9UVU"
   },
   "source": [
    "Our best performing results seem to be on par with related work that had used multiple seasons’ data, such as [this one](https://cs229.stanford.edu/proj2014/Ben). We exceed their best performing model, which managed to have an accuracy of 0.52. Data extraction, cleaning, dealing with missing data, and feature engineering took a lot of our time and was definitely the most challenging and cumbersome aspect of the project. Using Random forest, we were able to get a precision score of 0.55. As observed from the precision score, it is very difficult to predict the winner of a EPL match. There are other factors like player transfers, managerial changes before a season’s beginning, player morale etc that play a role but not accounted for by us.\n"
   ]
  }
 ],
 "metadata": {
  "colab": {
   "machine_shape": "hm",
   "provenance": []
  },
  "gpuClass": "standard",
  "kernelspec": {
   "display_name": "Python 3",
   "language": "python",
   "name": "python3"
  },
  "language_info": {
   "codemirror_mode": {
    "name": "ipython",
    "version": 3
   },
   "file_extension": ".py",
   "mimetype": "text/x-python",
   "name": "python",
   "nbconvert_exporter": "python",
   "pygments_lexer": "ipython3",
   "version": "3.8.11"
  }
 },
 "nbformat": 4,
 "nbformat_minor": 5
}
